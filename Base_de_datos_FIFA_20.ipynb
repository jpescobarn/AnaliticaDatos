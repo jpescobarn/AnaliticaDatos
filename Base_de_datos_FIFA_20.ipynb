{
  "nbformat": 4,
  "nbformat_minor": 0,
  "metadata": {
    "colab": {
      "name": "Base de datos FIFA_20.ipynb",
      "provenance": [],
      "collapsed_sections": [],
      "toc_visible": true,
      "include_colab_link": true
    },
    "kernelspec": {
      "name": "python3",
      "display_name": "Python 3"
    }
  },
  "cells": [
    {
      "cell_type": "markdown",
      "metadata": {
        "id": "view-in-github",
        "colab_type": "text"
      },
      "source": [
        "<a href=\"https://colab.research.google.com/github/jpescobarn/AnaliticaDatos/blob/master/Base_de_datos_FIFA_20.ipynb\" target=\"_parent\"><img src=\"https://colab.research.google.com/assets/colab-badge.svg\" alt=\"Open In Colab\"/></a>"
      ]
    },
    {
      "cell_type": "markdown",
      "metadata": {
        "id": "b8ZCiFisj3Je"
      },
      "source": [
        "#Base de Datos FIFA 20\n",
        "## Juan Pablo Escobar Naranjo "
      ]
    },
    {
      "cell_type": "code",
      "metadata": {
        "id": "s3s-uGYRxt7E",
        "outputId": "afa8badc-a401-485e-a22d-869ef31292fc",
        "colab": {
          "base_uri": "https://localhost:8080/",
          "height": 496
        }
      },
      "source": [
        "#cargar datos desde drive acceso libre\n",
        "FILEID = \"1fnbnmY6u7SP7pxUruQh7dfS_bhjKqkDj\"\n",
        "!wget --load-cookies /tmp/cookies.txt \"https://docs.google.com/uc?export=download&confirm=$(wget --quiet --save-cookies /tmp/cookies.txt --keep-session-cookies --no-check-certificate 'https://docs.google.com/uc?export=download&id='$FILEID -O- | sed -rn 's/.*confirm=([0-9A-Za-z_]+).*/\\1\\n/p')&id=\"$FILEID -O codigos.zip && rm -rf /tmp/cookies.txt\n",
        "!unzip codigos.zip\n",
        "!dir"
      ],
      "execution_count": null,
      "outputs": [
        {
          "output_type": "stream",
          "text": [
            "--2020-10-23 15:56:08--  https://docs.google.com/uc?export=download&confirm=&id=1fnbnmY6u7SP7pxUruQh7dfS_bhjKqkDj\n",
            "Resolving docs.google.com (docs.google.com)... 173.194.69.100, 173.194.69.113, 173.194.69.138, ...\n",
            "Connecting to docs.google.com (docs.google.com)|173.194.69.100|:443... connected.\n",
            "HTTP request sent, awaiting response... 302 Moved Temporarily\n",
            "Location: https://doc-04-6k-docs.googleusercontent.com/docs/securesc/qjm29jta5h8jkrssgtkoncpm2cn9od50/vj1i9p19ni61i00agd5f06cto7n3h0ho/1603468500000/00689712531917028238/15638162993638795346Z/1fnbnmY6u7SP7pxUruQh7dfS_bhjKqkDj?e=download [following]\n",
            "--2020-10-23 15:56:08--  https://doc-04-6k-docs.googleusercontent.com/docs/securesc/qjm29jta5h8jkrssgtkoncpm2cn9od50/vj1i9p19ni61i00agd5f06cto7n3h0ho/1603468500000/00689712531917028238/15638162993638795346Z/1fnbnmY6u7SP7pxUruQh7dfS_bhjKqkDj?e=download\n",
            "Resolving doc-04-6k-docs.googleusercontent.com (doc-04-6k-docs.googleusercontent.com)... 108.177.127.132, 2a00:1450:4013:c07::84\n",
            "Connecting to doc-04-6k-docs.googleusercontent.com (doc-04-6k-docs.googleusercontent.com)|108.177.127.132|:443... connected.\n",
            "HTTP request sent, awaiting response... 302 Found\n",
            "Location: https://docs.google.com/nonceSigner?nonce=jruqn9vm6pp4m&continue=https://doc-04-6k-docs.googleusercontent.com/docs/securesc/qjm29jta5h8jkrssgtkoncpm2cn9od50/vj1i9p19ni61i00agd5f06cto7n3h0ho/1603468500000/00689712531917028238/15638162993638795346Z/1fnbnmY6u7SP7pxUruQh7dfS_bhjKqkDj?e%3Ddownload&hash=ivr0ed7uqtg65biavb5j98cks2knffts [following]\n",
            "--2020-10-23 15:56:08--  https://docs.google.com/nonceSigner?nonce=jruqn9vm6pp4m&continue=https://doc-04-6k-docs.googleusercontent.com/docs/securesc/qjm29jta5h8jkrssgtkoncpm2cn9od50/vj1i9p19ni61i00agd5f06cto7n3h0ho/1603468500000/00689712531917028238/15638162993638795346Z/1fnbnmY6u7SP7pxUruQh7dfS_bhjKqkDj?e%3Ddownload&hash=ivr0ed7uqtg65biavb5j98cks2knffts\n",
            "Connecting to docs.google.com (docs.google.com)|173.194.69.100|:443... connected.\n",
            "HTTP request sent, awaiting response... 302 Found\n",
            "Location: https://doc-04-6k-docs.googleusercontent.com/docs/securesc/qjm29jta5h8jkrssgtkoncpm2cn9od50/vj1i9p19ni61i00agd5f06cto7n3h0ho/1603468500000/00689712531917028238/15638162993638795346Z/1fnbnmY6u7SP7pxUruQh7dfS_bhjKqkDj?e=download&nonce=jruqn9vm6pp4m&user=15638162993638795346Z&hash=rhc83a94o9do7toso79k93c8ucv53fif [following]\n",
            "--2020-10-23 15:56:09--  https://doc-04-6k-docs.googleusercontent.com/docs/securesc/qjm29jta5h8jkrssgtkoncpm2cn9od50/vj1i9p19ni61i00agd5f06cto7n3h0ho/1603468500000/00689712531917028238/15638162993638795346Z/1fnbnmY6u7SP7pxUruQh7dfS_bhjKqkDj?e=download&nonce=jruqn9vm6pp4m&user=15638162993638795346Z&hash=rhc83a94o9do7toso79k93c8ucv53fif\n",
            "Connecting to doc-04-6k-docs.googleusercontent.com (doc-04-6k-docs.googleusercontent.com)|108.177.127.132|:443... connected.\n",
            "HTTP request sent, awaiting response... 200 OK\n",
            "Length: 682202 (666K) [application/x-zip-compressed]\n",
            "Saving to: ‘codigos.zip’\n",
            "\n",
            "codigos.zip         100%[===================>] 666.21K  --.-KB/s    in 0.007s  \n",
            "\n",
            "2020-10-23 15:56:09 (86.8 MB/s) - ‘codigos.zip’ saved [682202/682202]\n",
            "\n",
            "Archive:  codigos.zip\n",
            "  inflating: FIFA_20.csv             \n",
            "codigos.zip  FIFA_20.csv  sample_data\n"
          ],
          "name": "stdout"
        }
      ]
    },
    {
      "cell_type": "code",
      "metadata": {
        "id": "GHwfYB-XyfMf",
        "outputId": "d7dd9701-64ea-4d69-83af-e8f8eef324c0",
        "colab": {
          "base_uri": "https://localhost:8080/",
          "height": 292
        }
      },
      "source": [
        "#Paso 1: Lectura\n",
        "import pandas as pd\n",
        "import numpy as np\n",
        "import matplotlib.pyplot as plt\n",
        "import warnings\n",
        "warnings.filterwarnings(\"ignore\")\n",
        "\n",
        "#from funciones_fifa import dummy_fifa, pre_exploratorio, save_fig, code_euro\n",
        "\n",
        "from sklearn.impute import SimpleImputer \n",
        "from sklearn.model_selection import train_test_split, GridSearchCV,cross_val_score, cross_val_predict\n",
        "from sklearn.metrics import mean_absolute_error\n",
        "from sklearn.pipeline import Pipeline\n",
        "\n",
        "\n",
        "\n",
        "import pandas as pd\n",
        "%matplotlib inline\n",
        "csv_path = 'FIFA_20.csv'\n",
        "Xdata = pd.read_csv(csv_path)\n",
        "\n",
        "col_drop = ['jersey_number', 'name']\n",
        "Xdata.drop(columns = col_drop, inplace = True)\n",
        "\n",
        "\n",
        "Xdata.head()"
      ],
      "execution_count": null,
      "outputs": [
        {
          "output_type": "execute_result",
          "data": {
            "text/html": [
              "<div>\n",
              "<style scoped>\n",
              "    .dataframe tbody tr th:only-of-type {\n",
              "        vertical-align: middle;\n",
              "    }\n",
              "\n",
              "    .dataframe tbody tr th {\n",
              "        vertical-align: top;\n",
              "    }\n",
              "\n",
              "    .dataframe thead th {\n",
              "        text-align: right;\n",
              "    }\n",
              "</style>\n",
              "<table border=\"1\" class=\"dataframe\">\n",
              "  <thead>\n",
              "    <tr style=\"text-align: right;\">\n",
              "      <th></th>\n",
              "      <th>overall</th>\n",
              "      <th>nationality</th>\n",
              "      <th>club</th>\n",
              "      <th>position</th>\n",
              "      <th>preferred_foot</th>\n",
              "      <th>work_rate</th>\n",
              "      <th>wage_eur</th>\n",
              "      <th>international_reputation</th>\n",
              "      <th>weak_foot</th>\n",
              "      <th>skill_moves</th>\n",
              "      <th>age</th>\n",
              "      <th>height_cm</th>\n",
              "      <th>weight_kg</th>\n",
              "      <th>pace</th>\n",
              "      <th>shooting</th>\n",
              "      <th>passing</th>\n",
              "      <th>dribbling</th>\n",
              "      <th>defending</th>\n",
              "      <th>physic</th>\n",
              "      <th>finishing</th>\n",
              "      <th>fk_accuracy</th>\n",
              "      <th>acceleration</th>\n",
              "      <th>agility</th>\n",
              "      <th>stamina</th>\n",
              "      <th>penalties</th>\n",
              "      <th>composure</th>\n",
              "      <th>standing_tackle</th>\n",
              "      <th>sliding_tackle</th>\n",
              "    </tr>\n",
              "  </thead>\n",
              "  <tbody>\n",
              "    <tr>\n",
              "      <th>0</th>\n",
              "      <td>94</td>\n",
              "      <td>Argentina</td>\n",
              "      <td>FC Barcelona</td>\n",
              "      <td>Midfielder</td>\n",
              "      <td>Left</td>\n",
              "      <td>Medium</td>\n",
              "      <td>565000</td>\n",
              "      <td>5</td>\n",
              "      <td>4</td>\n",
              "      <td>4</td>\n",
              "      <td>32</td>\n",
              "      <td>170</td>\n",
              "      <td>72</td>\n",
              "      <td>87</td>\n",
              "      <td>92</td>\n",
              "      <td>92</td>\n",
              "      <td>96</td>\n",
              "      <td>39</td>\n",
              "      <td>66</td>\n",
              "      <td>95</td>\n",
              "      <td>94</td>\n",
              "      <td>91</td>\n",
              "      <td>93</td>\n",
              "      <td>75</td>\n",
              "      <td>75</td>\n",
              "      <td>96</td>\n",
              "      <td>37</td>\n",
              "      <td>26</td>\n",
              "    </tr>\n",
              "    <tr>\n",
              "      <th>1</th>\n",
              "      <td>93</td>\n",
              "      <td>Portugal</td>\n",
              "      <td>Juventus</td>\n",
              "      <td>Midfielder</td>\n",
              "      <td>Right</td>\n",
              "      <td>High</td>\n",
              "      <td>405000</td>\n",
              "      <td>5</td>\n",
              "      <td>4</td>\n",
              "      <td>5</td>\n",
              "      <td>34</td>\n",
              "      <td>187</td>\n",
              "      <td>83</td>\n",
              "      <td>90</td>\n",
              "      <td>93</td>\n",
              "      <td>82</td>\n",
              "      <td>89</td>\n",
              "      <td>35</td>\n",
              "      <td>78</td>\n",
              "      <td>94</td>\n",
              "      <td>76</td>\n",
              "      <td>89</td>\n",
              "      <td>87</td>\n",
              "      <td>85</td>\n",
              "      <td>85</td>\n",
              "      <td>95</td>\n",
              "      <td>32</td>\n",
              "      <td>24</td>\n",
              "    </tr>\n",
              "    <tr>\n",
              "      <th>2</th>\n",
              "      <td>92</td>\n",
              "      <td>Brazil</td>\n",
              "      <td>Paris Saint-Germain</td>\n",
              "      <td>Midfielder</td>\n",
              "      <td>Right</td>\n",
              "      <td>High</td>\n",
              "      <td>290000</td>\n",
              "      <td>5</td>\n",
              "      <td>5</td>\n",
              "      <td>5</td>\n",
              "      <td>27</td>\n",
              "      <td>175</td>\n",
              "      <td>68</td>\n",
              "      <td>91</td>\n",
              "      <td>85</td>\n",
              "      <td>87</td>\n",
              "      <td>95</td>\n",
              "      <td>32</td>\n",
              "      <td>58</td>\n",
              "      <td>87</td>\n",
              "      <td>87</td>\n",
              "      <td>94</td>\n",
              "      <td>96</td>\n",
              "      <td>81</td>\n",
              "      <td>90</td>\n",
              "      <td>94</td>\n",
              "      <td>26</td>\n",
              "      <td>29</td>\n",
              "    </tr>\n",
              "    <tr>\n",
              "      <th>3</th>\n",
              "      <td>91</td>\n",
              "      <td>Belgium</td>\n",
              "      <td>Real Madrid</td>\n",
              "      <td>Midfielder</td>\n",
              "      <td>Right</td>\n",
              "      <td>High</td>\n",
              "      <td>470000</td>\n",
              "      <td>4</td>\n",
              "      <td>4</td>\n",
              "      <td>4</td>\n",
              "      <td>28</td>\n",
              "      <td>175</td>\n",
              "      <td>74</td>\n",
              "      <td>91</td>\n",
              "      <td>83</td>\n",
              "      <td>86</td>\n",
              "      <td>94</td>\n",
              "      <td>35</td>\n",
              "      <td>66</td>\n",
              "      <td>84</td>\n",
              "      <td>79</td>\n",
              "      <td>94</td>\n",
              "      <td>95</td>\n",
              "      <td>84</td>\n",
              "      <td>88</td>\n",
              "      <td>91</td>\n",
              "      <td>27</td>\n",
              "      <td>22</td>\n",
              "    </tr>\n",
              "    <tr>\n",
              "      <th>4</th>\n",
              "      <td>91</td>\n",
              "      <td>Belgium</td>\n",
              "      <td>Manchester City</td>\n",
              "      <td>Midfielder</td>\n",
              "      <td>Right</td>\n",
              "      <td>High</td>\n",
              "      <td>370000</td>\n",
              "      <td>4</td>\n",
              "      <td>5</td>\n",
              "      <td>4</td>\n",
              "      <td>28</td>\n",
              "      <td>181</td>\n",
              "      <td>70</td>\n",
              "      <td>76</td>\n",
              "      <td>86</td>\n",
              "      <td>92</td>\n",
              "      <td>86</td>\n",
              "      <td>61</td>\n",
              "      <td>78</td>\n",
              "      <td>82</td>\n",
              "      <td>83</td>\n",
              "      <td>77</td>\n",
              "      <td>78</td>\n",
              "      <td>89</td>\n",
              "      <td>79</td>\n",
              "      <td>91</td>\n",
              "      <td>58</td>\n",
              "      <td>51</td>\n",
              "    </tr>\n",
              "  </tbody>\n",
              "</table>\n",
              "</div>"
            ],
            "text/plain": [
              "   overall nationality  ... standing_tackle sliding_tackle\n",
              "0       94   Argentina  ...              37             26\n",
              "1       93    Portugal  ...              32             24\n",
              "2       92      Brazil  ...              26             29\n",
              "3       91     Belgium  ...              27             22\n",
              "4       91     Belgium  ...              58             51\n",
              "\n",
              "[5 rows x 28 columns]"
            ]
          },
          "metadata": {
            "tags": []
          },
          "execution_count": 3
        }
      ]
    },
    {
      "cell_type": "code",
      "metadata": {
        "id": "zX80W_EmTkZ7",
        "outputId": "a4e92a1b-2c27-4676-d8d3-23a01c600665",
        "colab": {
          "base_uri": "https://localhost:8080/",
          "height": 612
        }
      },
      "source": [
        "Xdata.info()"
      ],
      "execution_count": null,
      "outputs": [
        {
          "output_type": "stream",
          "text": [
            "<class 'pandas.core.frame.DataFrame'>\n",
            "RangeIndex: 16042 entries, 0 to 16041\n",
            "Data columns (total 28 columns):\n",
            " #   Column                    Non-Null Count  Dtype \n",
            "---  ------                    --------------  ----- \n",
            " 0   overall                   16042 non-null  int64 \n",
            " 1   nationality               16042 non-null  object\n",
            " 2   club                      16042 non-null  object\n",
            " 3   position                  16042 non-null  object\n",
            " 4   preferred_foot            16042 non-null  object\n",
            " 5   work_rate                 16042 non-null  object\n",
            " 6   wage_eur                  16042 non-null  int64 \n",
            " 7   international_reputation  16042 non-null  int64 \n",
            " 8   weak_foot                 16042 non-null  int64 \n",
            " 9   skill_moves               16042 non-null  int64 \n",
            " 10  age                       16042 non-null  int64 \n",
            " 11  height_cm                 16042 non-null  int64 \n",
            " 12  weight_kg                 16042 non-null  int64 \n",
            " 13  pace                      16042 non-null  int64 \n",
            " 14  shooting                  16042 non-null  int64 \n",
            " 15  passing                   16042 non-null  int64 \n",
            " 16  dribbling                 16042 non-null  int64 \n",
            " 17  defending                 16042 non-null  int64 \n",
            " 18  physic                    16042 non-null  int64 \n",
            " 19  finishing                 16042 non-null  int64 \n",
            " 20  fk_accuracy               16042 non-null  int64 \n",
            " 21  acceleration              16042 non-null  int64 \n",
            " 22  agility                   16042 non-null  int64 \n",
            " 23  stamina                   16042 non-null  int64 \n",
            " 24  penalties                 16042 non-null  int64 \n",
            " 25  composure                 16042 non-null  int64 \n",
            " 26  standing_tackle           16042 non-null  int64 \n",
            " 27  sliding_tackle            16042 non-null  int64 \n",
            "dtypes: int64(23), object(5)\n",
            "memory usage: 3.4+ MB\n"
          ],
          "name": "stdout"
        }
      ]
    },
    {
      "cell_type": "code",
      "metadata": {
        "id": "ipvEw9i0WdDB"
      },
      "source": [
        "#Paso 2: Particion entrenamiento y validacion\n",
        "# Tamaño Xtrain 70%, Tamaño Xtest 30%\n",
        "import warnings\n",
        "warnings.filterwarnings(\"ignore\")\n",
        "\n",
        "from sklearn.model_selection import train_test_split\n",
        "Xtrain, Xtest = train_test_split(Xdata,test_size=0.3)\n",
        "col_sal = \"overall\"  #Salida condición del jugador en general\n",
        "ytrain = Xtrain[col_sal]\n",
        "ytest = Xtest[col_sal]\n",
        "Xtrain.drop(columns=col_sal,inplace=True)\n",
        "Xtest.drop(columns=col_sal,inplace=True)\n"
      ],
      "execution_count": null,
      "outputs": []
    },
    {
      "cell_type": "code",
      "metadata": {
        "id": "Im5L4tP3Xl9P",
        "outputId": "0ef7213e-3ed3-470c-978d-db7657f88d71",
        "colab": {
          "base_uri": "https://localhost:8080/",
          "height": 34
        }
      },
      "source": [
        "from sklearn.impute import SimpleImputer\n",
        "imputer = SimpleImputer(strategy=\"most_frequent\")   #Completa con la moda, en los espacios vacíos\n",
        "ytrain = imputer.fit_transform(pd.DataFrame(ytrain)) #Ajústese y transformese en el conjunto de entrenamiento \n",
        "ytrain = ytrain.reshape(-1)    #Vector Columna \n",
        "#Los ajustes sólo se hacen en el conjunto de entrenamiento (fit)\n",
        "\n",
        "ytest = imputer.transform(pd.DataFrame(ytest))\n",
        "ytest = ytest.reshape(-1)\n",
        "\n",
        "print(ytrain.shape, ytest.shape)"
      ],
      "execution_count": null,
      "outputs": [
        {
          "output_type": "stream",
          "text": [
            "(11229,) (4813,)\n"
          ],
          "name": "stdout"
        }
      ]
    },
    {
      "cell_type": "code",
      "metadata": {
        "id": "Q3kBg50SeX-Y",
        "outputId": "b4b4abec-afab-477e-fe03-63cb62b68929",
        "colab": {
          "base_uri": "https://localhost:8080/",
          "height": 513
        }
      },
      "source": [
        "plt.hist(ytrain,bins = 100)\n",
        "plt.show()\n",
        "\n",
        "plt.boxplot(ytrain)\n",
        "plt.show()"
      ],
      "execution_count": null,
      "outputs": [
        {
          "output_type": "display_data",
          "data": {
            "image/png": "[encoded data removed]",
            "text/plain": [
              "<Figure size 432x288 with 1 Axes>"
            ]
          },
          "metadata": {
            "tags": [],
            "needs_background": "light"
          }
        },
        {
          "output_type": "display_data",
          "data": {
            "image/png": "[encoded data removed]",
            "text/plain": [
              "<Figure size 432x288 with 1 Axes>"
            ]
          },
          "metadata": {
            "tags": [],
            "needs_background": "light"
          }
        }
      ]
    },
    {
      "cell_type": "code",
      "metadata": {
        "id": "dBbIhyBxgc7N"
      },
      "source": [
        "#definir columnas tipo string  para codificar moneda, estadistica fifa y categoricas\n",
        "col_euro = ['wage_eur'];\n",
        "col_stats = ['international_reputation','weak_foot','skill_moves','age','height_cm','weight_kg','pace','shooting','passing',\n",
        "             'dribbling','defending','physic','finishing','fk_accuracy','acceleration','agility','stamina',\n",
        "             'penalties','composure','standing_tackle','sliding_tackle'];\n",
        "\n",
        "cat = ['nationality','club','position','preferred_foot',\n",
        "        'work_rate']\n",
        "items = [] \n",
        "for i in cat:\n",
        "    items += [list(Xdata[i].value_counts().index)]\n",
        "cat_usr = dict(zip(cat, items))"
      ],
      "execution_count": null,
      "outputs": []
    },
    {
      "cell_type": "code",
      "metadata": {
        "id": "XOYEU828mBx9",
        "outputId": "0873b65d-8c8d-47ad-bc33-8e0c2f4cdf02",
        "colab": {
          "base_uri": "https://localhost:8080/",
          "height": 915
        }
      },
      "source": [
        "a = Xtrain.columns[np.sum(Xtrain.isna())> 0]\n",
        "Xtrain.isna() #El Xtrain no contiene espacios vacíos \n",
        "print(np.sum(Xtrain.isna()))\n",
        "Xtrain.isna() "
      ],
      "execution_count": null,
      "outputs": [
        {
          "output_type": "stream",
          "text": [
            "nationality                 0\n",
            "club                        0\n",
            "position                    0\n",
            "preferred_foot              0\n",
            "work_rate                   0\n",
            "wage_eur                    0\n",
            "international_reputation    0\n",
            "weak_foot                   0\n",
            "skill_moves                 0\n",
            "age                         0\n",
            "height_cm                   0\n",
            "weight_kg                   0\n",
            "pace                        0\n",
            "shooting                    0\n",
            "passing                     0\n",
            "dribbling                   0\n",
            "defending                   0\n",
            "physic                      0\n",
            "finishing                   0\n",
            "fk_accuracy                 0\n",
            "acceleration                0\n",
            "agility                     0\n",
            "stamina                     0\n",
            "penalties                   0\n",
            "composure                   0\n",
            "standing_tackle             0\n",
            "sliding_tackle              0\n",
            "dtype: int64\n"
          ],
          "name": "stdout"
        },
        {
          "output_type": "execute_result",
          "data": {
            "text/html": [
              "<div>\n",
              "<style scoped>\n",
              "    .dataframe tbody tr th:only-of-type {\n",
              "        vertical-align: middle;\n",
              "    }\n",
              "\n",
              "    .dataframe tbody tr th {\n",
              "        vertical-align: top;\n",
              "    }\n",
              "\n",
              "    .dataframe thead th {\n",
              "        text-align: right;\n",
              "    }\n",
              "</style>\n",
              "<table border=\"1\" class=\"dataframe\">\n",
              "  <thead>\n",
              "    <tr style=\"text-align: right;\">\n",
              "      <th></th>\n",
              "      <th>nationality</th>\n",
              "      <th>club</th>\n",
              "      <th>position</th>\n",
              "      <th>preferred_foot</th>\n",
              "      <th>work_rate</th>\n",
              "      <th>wage_eur</th>\n",
              "      <th>international_reputation</th>\n",
              "      <th>weak_foot</th>\n",
              "      <th>skill_moves</th>\n",
              "      <th>age</th>\n",
              "      <th>height_cm</th>\n",
              "      <th>weight_kg</th>\n",
              "      <th>pace</th>\n",
              "      <th>shooting</th>\n",
              "      <th>passing</th>\n",
              "      <th>dribbling</th>\n",
              "      <th>defending</th>\n",
              "      <th>physic</th>\n",
              "      <th>finishing</th>\n",
              "      <th>fk_accuracy</th>\n",
              "      <th>acceleration</th>\n",
              "      <th>agility</th>\n",
              "      <th>stamina</th>\n",
              "      <th>penalties</th>\n",
              "      <th>composure</th>\n",
              "      <th>standing_tackle</th>\n",
              "      <th>sliding_tackle</th>\n",
              "    </tr>\n",
              "  </thead>\n",
              "  <tbody>\n",
              "    <tr>\n",
              "      <th>2689</th>\n",
              "      <td>False</td>\n",
              "      <td>False</td>\n",
              "      <td>False</td>\n",
              "      <td>False</td>\n",
              "      <td>False</td>\n",
              "      <td>False</td>\n",
              "      <td>False</td>\n",
              "      <td>False</td>\n",
              "      <td>False</td>\n",
              "      <td>False</td>\n",
              "      <td>False</td>\n",
              "      <td>False</td>\n",
              "      <td>False</td>\n",
              "      <td>False</td>\n",
              "      <td>False</td>\n",
              "      <td>False</td>\n",
              "      <td>False</td>\n",
              "      <td>False</td>\n",
              "      <td>False</td>\n",
              "      <td>False</td>\n",
              "      <td>False</td>\n",
              "      <td>False</td>\n",
              "      <td>False</td>\n",
              "      <td>False</td>\n",
              "      <td>False</td>\n",
              "      <td>False</td>\n",
              "      <td>False</td>\n",
              "    </tr>\n",
              "    <tr>\n",
              "      <th>12553</th>\n",
              "      <td>False</td>\n",
              "      <td>False</td>\n",
              "      <td>False</td>\n",
              "      <td>False</td>\n",
              "      <td>False</td>\n",
              "      <td>False</td>\n",
              "      <td>False</td>\n",
              "      <td>False</td>\n",
              "      <td>False</td>\n",
              "      <td>False</td>\n",
              "      <td>False</td>\n",
              "      <td>False</td>\n",
              "      <td>False</td>\n",
              "      <td>False</td>\n",
              "      <td>False</td>\n",
              "      <td>False</td>\n",
              "      <td>False</td>\n",
              "      <td>False</td>\n",
              "      <td>False</td>\n",
              "      <td>False</td>\n",
              "      <td>False</td>\n",
              "      <td>False</td>\n",
              "      <td>False</td>\n",
              "      <td>False</td>\n",
              "      <td>False</td>\n",
              "      <td>False</td>\n",
              "      <td>False</td>\n",
              "    </tr>\n",
              "    <tr>\n",
              "      <th>13059</th>\n",
              "      <td>False</td>\n",
              "      <td>False</td>\n",
              "      <td>False</td>\n",
              "      <td>False</td>\n",
              "      <td>False</td>\n",
              "      <td>False</td>\n",
              "      <td>False</td>\n",
              "      <td>False</td>\n",
              "      <td>False</td>\n",
              "      <td>False</td>\n",
              "      <td>False</td>\n",
              "      <td>False</td>\n",
              "      <td>False</td>\n",
              "      <td>False</td>\n",
              "      <td>False</td>\n",
              "      <td>False</td>\n",
              "      <td>False</td>\n",
              "      <td>False</td>\n",
              "      <td>False</td>\n",
              "      <td>False</td>\n",
              "      <td>False</td>\n",
              "      <td>False</td>\n",
              "      <td>False</td>\n",
              "      <td>False</td>\n",
              "      <td>False</td>\n",
              "      <td>False</td>\n",
              "      <td>False</td>\n",
              "    </tr>\n",
              "    <tr>\n",
              "      <th>14527</th>\n",
              "      <td>False</td>\n",
              "      <td>False</td>\n",
              "      <td>False</td>\n",
              "      <td>False</td>\n",
              "      <td>False</td>\n",
              "      <td>False</td>\n",
              "      <td>False</td>\n",
              "      <td>False</td>\n",
              "      <td>False</td>\n",
              "      <td>False</td>\n",
              "      <td>False</td>\n",
              "      <td>False</td>\n",
              "      <td>False</td>\n",
              "      <td>False</td>\n",
              "      <td>False</td>\n",
              "      <td>False</td>\n",
              "      <td>False</td>\n",
              "      <td>False</td>\n",
              "      <td>False</td>\n",
              "      <td>False</td>\n",
              "      <td>False</td>\n",
              "      <td>False</td>\n",
              "      <td>False</td>\n",
              "      <td>False</td>\n",
              "      <td>False</td>\n",
              "      <td>False</td>\n",
              "      <td>False</td>\n",
              "    </tr>\n",
              "    <tr>\n",
              "      <th>12755</th>\n",
              "      <td>False</td>\n",
              "      <td>False</td>\n",
              "      <td>False</td>\n",
              "      <td>False</td>\n",
              "      <td>False</td>\n",
              "      <td>False</td>\n",
              "      <td>False</td>\n",
              "      <td>False</td>\n",
              "      <td>False</td>\n",
              "      <td>False</td>\n",
              "      <td>False</td>\n",
              "      <td>False</td>\n",
              "      <td>False</td>\n",
              "      <td>False</td>\n",
              "      <td>False</td>\n",
              "      <td>False</td>\n",
              "      <td>False</td>\n",
              "      <td>False</td>\n",
              "      <td>False</td>\n",
              "      <td>False</td>\n",
              "      <td>False</td>\n",
              "      <td>False</td>\n",
              "      <td>False</td>\n",
              "      <td>False</td>\n",
              "      <td>False</td>\n",
              "      <td>False</td>\n",
              "      <td>False</td>\n",
              "    </tr>\n",
              "    <tr>\n",
              "      <th>...</th>\n",
              "      <td>...</td>\n",
              "      <td>...</td>\n",
              "      <td>...</td>\n",
              "      <td>...</td>\n",
              "      <td>...</td>\n",
              "      <td>...</td>\n",
              "      <td>...</td>\n",
              "      <td>...</td>\n",
              "      <td>...</td>\n",
              "      <td>...</td>\n",
              "      <td>...</td>\n",
              "      <td>...</td>\n",
              "      <td>...</td>\n",
              "      <td>...</td>\n",
              "      <td>...</td>\n",
              "      <td>...</td>\n",
              "      <td>...</td>\n",
              "      <td>...</td>\n",
              "      <td>...</td>\n",
              "      <td>...</td>\n",
              "      <td>...</td>\n",
              "      <td>...</td>\n",
              "      <td>...</td>\n",
              "      <td>...</td>\n",
              "      <td>...</td>\n",
              "      <td>...</td>\n",
              "      <td>...</td>\n",
              "    </tr>\n",
              "    <tr>\n",
              "      <th>8800</th>\n",
              "      <td>False</td>\n",
              "      <td>False</td>\n",
              "      <td>False</td>\n",
              "      <td>False</td>\n",
              "      <td>False</td>\n",
              "      <td>False</td>\n",
              "      <td>False</td>\n",
              "      <td>False</td>\n",
              "      <td>False</td>\n",
              "      <td>False</td>\n",
              "      <td>False</td>\n",
              "      <td>False</td>\n",
              "      <td>False</td>\n",
              "      <td>False</td>\n",
              "      <td>False</td>\n",
              "      <td>False</td>\n",
              "      <td>False</td>\n",
              "      <td>False</td>\n",
              "      <td>False</td>\n",
              "      <td>False</td>\n",
              "      <td>False</td>\n",
              "      <td>False</td>\n",
              "      <td>False</td>\n",
              "      <td>False</td>\n",
              "      <td>False</td>\n",
              "      <td>False</td>\n",
              "      <td>False</td>\n",
              "    </tr>\n",
              "    <tr>\n",
              "      <th>8413</th>\n",
              "      <td>False</td>\n",
              "      <td>False</td>\n",
              "      <td>False</td>\n",
              "      <td>False</td>\n",
              "      <td>False</td>\n",
              "      <td>False</td>\n",
              "      <td>False</td>\n",
              "      <td>False</td>\n",
              "      <td>False</td>\n",
              "      <td>False</td>\n",
              "      <td>False</td>\n",
              "      <td>False</td>\n",
              "      <td>False</td>\n",
              "      <td>False</td>\n",
              "      <td>False</td>\n",
              "      <td>False</td>\n",
              "      <td>False</td>\n",
              "      <td>False</td>\n",
              "      <td>False</td>\n",
              "      <td>False</td>\n",
              "      <td>False</td>\n",
              "      <td>False</td>\n",
              "      <td>False</td>\n",
              "      <td>False</td>\n",
              "      <td>False</td>\n",
              "      <td>False</td>\n",
              "      <td>False</td>\n",
              "    </tr>\n",
              "    <tr>\n",
              "      <th>2690</th>\n",
              "      <td>False</td>\n",
              "      <td>False</td>\n",
              "      <td>False</td>\n",
              "      <td>False</td>\n",
              "      <td>False</td>\n",
              "      <td>False</td>\n",
              "      <td>False</td>\n",
              "      <td>False</td>\n",
              "      <td>False</td>\n",
              "      <td>False</td>\n",
              "      <td>False</td>\n",
              "      <td>False</td>\n",
              "      <td>False</td>\n",
              "      <td>False</td>\n",
              "      <td>False</td>\n",
              "      <td>False</td>\n",
              "      <td>False</td>\n",
              "      <td>False</td>\n",
              "      <td>False</td>\n",
              "      <td>False</td>\n",
              "      <td>False</td>\n",
              "      <td>False</td>\n",
              "      <td>False</td>\n",
              "      <td>False</td>\n",
              "      <td>False</td>\n",
              "      <td>False</td>\n",
              "      <td>False</td>\n",
              "    </tr>\n",
              "    <tr>\n",
              "      <th>2355</th>\n",
              "      <td>False</td>\n",
              "      <td>False</td>\n",
              "      <td>False</td>\n",
              "      <td>False</td>\n",
              "      <td>False</td>\n",
              "      <td>False</td>\n",
              "      <td>False</td>\n",
              "      <td>False</td>\n",
              "      <td>False</td>\n",
              "      <td>False</td>\n",
              "      <td>False</td>\n",
              "      <td>False</td>\n",
              "      <td>False</td>\n",
              "      <td>False</td>\n",
              "      <td>False</td>\n",
              "      <td>False</td>\n",
              "      <td>False</td>\n",
              "      <td>False</td>\n",
              "      <td>False</td>\n",
              "      <td>False</td>\n",
              "      <td>False</td>\n",
              "      <td>False</td>\n",
              "      <td>False</td>\n",
              "      <td>False</td>\n",
              "      <td>False</td>\n",
              "      <td>False</td>\n",
              "      <td>False</td>\n",
              "    </tr>\n",
              "    <tr>\n",
              "      <th>5117</th>\n",
              "      <td>False</td>\n",
              "      <td>False</td>\n",
              "      <td>False</td>\n",
              "      <td>False</td>\n",
              "      <td>False</td>\n",
              "      <td>False</td>\n",
              "      <td>False</td>\n",
              "      <td>False</td>\n",
              "      <td>False</td>\n",
              "      <td>False</td>\n",
              "      <td>False</td>\n",
              "      <td>False</td>\n",
              "      <td>False</td>\n",
              "      <td>False</td>\n",
              "      <td>False</td>\n",
              "      <td>False</td>\n",
              "      <td>False</td>\n",
              "      <td>False</td>\n",
              "      <td>False</td>\n",
              "      <td>False</td>\n",
              "      <td>False</td>\n",
              "      <td>False</td>\n",
              "      <td>False</td>\n",
              "      <td>False</td>\n",
              "      <td>False</td>\n",
              "      <td>False</td>\n",
              "      <td>False</td>\n",
              "    </tr>\n",
              "  </tbody>\n",
              "</table>\n",
              "<p>11229 rows × 27 columns</p>\n",
              "</div>"
            ],
            "text/plain": [
              "       nationality   club  position  ...  composure  standing_tackle  sliding_tackle\n",
              "2689         False  False     False  ...      False            False           False\n",
              "12553        False  False     False  ...      False            False           False\n",
              "13059        False  False     False  ...      False            False           False\n",
              "14527        False  False     False  ...      False            False           False\n",
              "12755        False  False     False  ...      False            False           False\n",
              "...            ...    ...       ...  ...        ...              ...             ...\n",
              "8800         False  False     False  ...      False            False           False\n",
              "8413         False  False     False  ...      False            False           False\n",
              "2690         False  False     False  ...      False            False           False\n",
              "2355         False  False     False  ...      False            False           False\n",
              "5117         False  False     False  ...      False            False           False\n",
              "\n",
              "[11229 rows x 27 columns]"
            ]
          },
          "metadata": {
            "tags": []
          },
          "execution_count": 9
        }
      ]
    },
    {
      "cell_type": "markdown",
      "metadata": {
        "id": "msPsqCXPjzZB"
      },
      "source": [
        "##Crear Clase de Preproceso"
      ]
    },
    {
      "cell_type": "code",
      "metadata": {
        "id": "vYM__ZPDkBQ5"
      },
      "source": [
        "#%% dummy transformer\n",
        "from sklearn.base import BaseEstimator, TransformerMixin\n",
        "from sklearn.impute import SimpleImputer \n",
        "from sklearn.preprocessing import OrdinalEncoder,OneHotEncoder\n",
        "\n",
        "\n",
        "class dummy_fifa20(BaseEstimator,TransformerMixin):\n",
        "    #inicializacion de clase y varaibles\n",
        "    def __init__(self, col_euro,col_stats, cat_usr): #constructor clase\n",
        "        self.col_euro = col_euro #lista atributos tipo moneda\n",
        "        self.col_stats = col_stats #lista atributos tipo estadistica\n",
        "        self.cat_usr = cat_usr #lista de atributos categoricos\n",
        "\n",
        "    def fit(self, X, *_):\n",
        "       Xi = X.copy()\n",
        "       cat = [] #codificar variables categoricas con ordinal encoder\n",
        "       for i in self.cat_usr.keys():\n",
        "            cat = cat + [[*self.cat_usr.get(i)]]\n",
        "       self.col_cat_usr = OrdinalEncoder(categories=cat)\n",
        "       #self.col_cat_usr = OnehotEncoder(categories=cat, sparse=false)\n",
        "       Xi[[*self.cat_usr.keys()]] =self.col_cat_usr.fit_transform(Xi[[*self.cat_usr.keys()]])\n",
        "\n",
        "       return self \n",
        "      \n",
        "    def transform(self, X, *_):#funcion transformador -> Datos nuevos\n",
        "        Xi = X.copy()\n",
        "\n",
        "        Xi[[*self.cat_usr.keys()]] =self.col_cat_usr.transform(Xi[[*self.cat_usr.keys()]])\n",
        "        #Xi[self.col_cat]= self.cod.transform(Xi[self.col_cat])\n",
        "        return Xi\n",
        "    \n",
        "    def fit_transform(self,X,*_):\n",
        "        self.fit(X)\n",
        "        return self.transform(X)\n",
        "\n",
        "        "
      ],
      "execution_count": null,
      "outputs": []
    },
    {
      "cell_type": "code",
      "metadata": {
        "id": "tSd9ZMtYbODD"
      },
      "source": [
        "dummy = dummy_fifa20(col_euro=col_euro,col_stats=col_stats,cat_usr = cat_usr)\n",
        "Xtrain_pre = dummy.fit_transform(Xtrain) #Dumy para entrenamiento "
      ],
      "execution_count": null,
      "outputs": []
    },
    {
      "cell_type": "code",
      "metadata": {
        "id": "XBw8sO9djkil",
        "outputId": "85dd11a4-d66b-4d4e-c27c-85dede25cb42",
        "colab": {
          "base_uri": "https://localhost:8080/",
          "height": 595
        }
      },
      "source": [
        "Xtrain_pre.info()"
      ],
      "execution_count": null,
      "outputs": [
        {
          "output_type": "stream",
          "text": [
            "<class 'pandas.core.frame.DataFrame'>\n",
            "Int64Index: 11229 entries, 2689 to 5117\n",
            "Data columns (total 27 columns):\n",
            " #   Column                    Non-Null Count  Dtype  \n",
            "---  ------                    --------------  -----  \n",
            " 0   nationality               11229 non-null  float64\n",
            " 1   club                      11229 non-null  float64\n",
            " 2   position                  11229 non-null  float64\n",
            " 3   preferred_foot            11229 non-null  float64\n",
            " 4   work_rate                 11229 non-null  float64\n",
            " 5   wage_eur                  11229 non-null  int64  \n",
            " 6   international_reputation  11229 non-null  int64  \n",
            " 7   weak_foot                 11229 non-null  int64  \n",
            " 8   skill_moves               11229 non-null  int64  \n",
            " 9   age                       11229 non-null  int64  \n",
            " 10  height_cm                 11229 non-null  int64  \n",
            " 11  weight_kg                 11229 non-null  int64  \n",
            " 12  pace                      11229 non-null  int64  \n",
            " 13  shooting                  11229 non-null  int64  \n",
            " 14  passing                   11229 non-null  int64  \n",
            " 15  dribbling                 11229 non-null  int64  \n",
            " 16  defending                 11229 non-null  int64  \n",
            " 17  physic                    11229 non-null  int64  \n",
            " 18  finishing                 11229 non-null  int64  \n",
            " 19  fk_accuracy               11229 non-null  int64  \n",
            " 20  acceleration              11229 non-null  int64  \n",
            " 21  agility                   11229 non-null  int64  \n",
            " 22  stamina                   11229 non-null  int64  \n",
            " 23  penalties                 11229 non-null  int64  \n",
            " 24  composure                 11229 non-null  int64  \n",
            " 25  standing_tackle           11229 non-null  int64  \n",
            " 26  sliding_tackle            11229 non-null  int64  \n",
            "dtypes: float64(5), int64(22)\n",
            "memory usage: 2.4 MB\n"
          ],
          "name": "stdout"
        }
      ]
    },
    {
      "cell_type": "code",
      "metadata": {
        "id": "49y6lagvKtpX"
      },
      "source": [
        "Xtest_pre=dummy.transform(Xtest)  #Dummy para datos de test\n",
        "                                  # A datos nuevos no se les hace fit, para que no haga el ajuste\n",
        "                                  # Se transforma o se hace predicción (.transform)"
      ],
      "execution_count": null,
      "outputs": []
    },
    {
      "cell_type": "code",
      "metadata": {
        "id": "jjyCLRNDKzPU",
        "outputId": "2bbcf754-fdae-4847-9ccc-9e09bdc7a383",
        "colab": {
          "base_uri": "https://localhost:8080/",
          "height": 595
        }
      },
      "source": [
        "Xtest_pre.info()"
      ],
      "execution_count": null,
      "outputs": [
        {
          "output_type": "stream",
          "text": [
            "<class 'pandas.core.frame.DataFrame'>\n",
            "Int64Index: 4813 entries, 5745 to 3490\n",
            "Data columns (total 27 columns):\n",
            " #   Column                    Non-Null Count  Dtype  \n",
            "---  ------                    --------------  -----  \n",
            " 0   nationality               4813 non-null   float64\n",
            " 1   club                      4813 non-null   float64\n",
            " 2   position                  4813 non-null   float64\n",
            " 3   preferred_foot            4813 non-null   float64\n",
            " 4   work_rate                 4813 non-null   float64\n",
            " 5   wage_eur                  4813 non-null   int64  \n",
            " 6   international_reputation  4813 non-null   int64  \n",
            " 7   weak_foot                 4813 non-null   int64  \n",
            " 8   skill_moves               4813 non-null   int64  \n",
            " 9   age                       4813 non-null   int64  \n",
            " 10  height_cm                 4813 non-null   int64  \n",
            " 11  weight_kg                 4813 non-null   int64  \n",
            " 12  pace                      4813 non-null   int64  \n",
            " 13  shooting                  4813 non-null   int64  \n",
            " 14  passing                   4813 non-null   int64  \n",
            " 15  dribbling                 4813 non-null   int64  \n",
            " 16  defending                 4813 non-null   int64  \n",
            " 17  physic                    4813 non-null   int64  \n",
            " 18  finishing                 4813 non-null   int64  \n",
            " 19  fk_accuracy               4813 non-null   int64  \n",
            " 20  acceleration              4813 non-null   int64  \n",
            " 21  agility                   4813 non-null   int64  \n",
            " 22  stamina                   4813 non-null   int64  \n",
            " 23  penalties                 4813 non-null   int64  \n",
            " 24  composure                 4813 non-null   int64  \n",
            " 25  standing_tackle           4813 non-null   int64  \n",
            " 26  sliding_tackle            4813 non-null   int64  \n",
            "dtypes: float64(5), int64(22)\n",
            "memory usage: 1.0 MB\n"
          ],
          "name": "stdout"
        }
      ]
    },
    {
      "cell_type": "code",
      "metadata": {
        "id": "u6xDtwkqKO6M",
        "outputId": "7931a0e9-d666-44b6-ee9d-27d89f9cc4e2",
        "colab": {
          "base_uri": "https://localhost:8080/",
          "height": 627
        }
      },
      "source": [
        "corr_matrix = Xtrain_pre.corr() #Correlación del Xtrain preprocesado \n",
        "corr_matrix.style.background_gradient(cmap='coolwarm')"
      ],
      "execution_count": null,
      "outputs": [
        {
          "output_type": "execute_result",
          "data": {
            "text/html": [
              "<style  type=\"text/css\" >\n",
              "#T_45a8ec8a_1548_11eb_ae7b_0242ac1c0002row0_col0,#T_45a8ec8a_1548_11eb_ae7b_0242ac1c0002row1_col1,#T_45a8ec8a_1548_11eb_ae7b_0242ac1c0002row2_col2,#T_45a8ec8a_1548_11eb_ae7b_0242ac1c0002row3_col3,#T_45a8ec8a_1548_11eb_ae7b_0242ac1c0002row4_col4,#T_45a8ec8a_1548_11eb_ae7b_0242ac1c0002row5_col5,#T_45a8ec8a_1548_11eb_ae7b_0242ac1c0002row6_col6,#T_45a8ec8a_1548_11eb_ae7b_0242ac1c0002row7_col7,#T_45a8ec8a_1548_11eb_ae7b_0242ac1c0002row8_col8,#T_45a8ec8a_1548_11eb_ae7b_0242ac1c0002row9_col9,#T_45a8ec8a_1548_11eb_ae7b_0242ac1c0002row10_col10,#T_45a8ec8a_1548_11eb_ae7b_0242ac1c0002row11_col11,#T_45a8ec8a_1548_11eb_ae7b_0242ac1c0002row12_col12,#T_45a8ec8a_1548_11eb_ae7b_0242ac1c0002row13_col13,#T_45a8ec8a_1548_11eb_ae7b_0242ac1c0002row14_col14,#T_45a8ec8a_1548_11eb_ae7b_0242ac1c0002row15_col15,#T_45a8ec8a_1548_11eb_ae7b_0242ac1c0002row16_col16,#T_45a8ec8a_1548_11eb_ae7b_0242ac1c0002row17_col17,#T_45a8ec8a_1548_11eb_ae7b_0242ac1c0002row18_col18,#T_45a8ec8a_1548_11eb_ae7b_0242ac1c0002row19_col19,#T_45a8ec8a_1548_11eb_ae7b_0242ac1c0002row20_col20,#T_45a8ec8a_1548_11eb_ae7b_0242ac1c0002row21_col21,#T_45a8ec8a_1548_11eb_ae7b_0242ac1c0002row22_col22,#T_45a8ec8a_1548_11eb_ae7b_0242ac1c0002row23_col23,#T_45a8ec8a_1548_11eb_ae7b_0242ac1c0002row24_col24,#T_45a8ec8a_1548_11eb_ae7b_0242ac1c0002row25_col25,#T_45a8ec8a_1548_11eb_ae7b_0242ac1c0002row26_col26{\n",
              "            background-color:  #b40426;\n",
              "            color:  #f1f1f1;\n",
              "        }#T_45a8ec8a_1548_11eb_ae7b_0242ac1c0002row0_col1,#T_45a8ec8a_1548_11eb_ae7b_0242ac1c0002row1_col25,#T_45a8ec8a_1548_11eb_ae7b_0242ac1c0002row3_col14,#T_45a8ec8a_1548_11eb_ae7b_0242ac1c0002row11_col5{\n",
              "            background-color:  #9bbcff;\n",
              "            color:  #000000;\n",
              "        }#T_45a8ec8a_1548_11eb_ae7b_0242ac1c0002row0_col2,#T_45a8ec8a_1548_11eb_ae7b_0242ac1c0002row11_col14,#T_45a8ec8a_1548_11eb_ae7b_0242ac1c0002row11_col19,#T_45a8ec8a_1548_11eb_ae7b_0242ac1c0002row13_col3,#T_45a8ec8a_1548_11eb_ae7b_0242ac1c0002row14_col1,#T_45a8ec8a_1548_11eb_ae7b_0242ac1c0002row16_col12,#T_45a8ec8a_1548_11eb_ae7b_0242ac1c0002row18_col4,#T_45a8ec8a_1548_11eb_ae7b_0242ac1c0002row23_col4{\n",
              "            background-color:  #5470de;\n",
              "            color:  #000000;\n",
              "        }#T_45a8ec8a_1548_11eb_ae7b_0242ac1c0002row0_col3,#T_45a8ec8a_1548_11eb_ae7b_0242ac1c0002row9_col3,#T_45a8ec8a_1548_11eb_ae7b_0242ac1c0002row13_col4,#T_45a8ec8a_1548_11eb_ae7b_0242ac1c0002row20_col4{\n",
              "            background-color:  #5875e1;\n",
              "            color:  #000000;\n",
              "        }#T_45a8ec8a_1548_11eb_ae7b_0242ac1c0002row0_col4,#T_45a8ec8a_1548_11eb_ae7b_0242ac1c0002row4_col0,#T_45a8ec8a_1548_11eb_ae7b_0242ac1c0002row11_col8,#T_45a8ec8a_1548_11eb_ae7b_0242ac1c0002row12_col2,#T_45a8ec8a_1548_11eb_ae7b_0242ac1c0002row13_col26,#T_45a8ec8a_1548_11eb_ae7b_0242ac1c0002row15_col2,#T_45a8ec8a_1548_11eb_ae7b_0242ac1c0002row18_col0{\n",
              "            background-color:  #4e68d8;\n",
              "            color:  #000000;\n",
              "        }#T_45a8ec8a_1548_11eb_ae7b_0242ac1c0002row0_col5,#T_45a8ec8a_1548_11eb_ae7b_0242ac1c0002row7_col17,#T_45a8ec8a_1548_11eb_ae7b_0242ac1c0002row10_col6,#T_45a8ec8a_1548_11eb_ae7b_0242ac1c0002row17_col21{\n",
              "            background-color:  #80a3fa;\n",
              "            color:  #000000;\n",
              "        }#T_45a8ec8a_1548_11eb_ae7b_0242ac1c0002row0_col6,#T_45a8ec8a_1548_11eb_ae7b_0242ac1c0002row2_col22,#T_45a8ec8a_1548_11eb_ae7b_0242ac1c0002row26_col1,#T_45a8ec8a_1548_11eb_ae7b_0242ac1c0002row26_col3{\n",
              "            background-color:  #7093f3;\n",
              "            color:  #000000;\n",
              "        }#T_45a8ec8a_1548_11eb_ae7b_0242ac1c0002row0_col7,#T_45a8ec8a_1548_11eb_ae7b_0242ac1c0002row4_col7,#T_45a8ec8a_1548_11eb_ae7b_0242ac1c0002row9_col4,#T_45a8ec8a_1548_11eb_ae7b_0242ac1c0002row15_col11,#T_45a8ec8a_1548_11eb_ae7b_0242ac1c0002row26_col20{\n",
              "            background-color:  #6485ec;\n",
              "            color:  #000000;\n",
              "        }#T_45a8ec8a_1548_11eb_ae7b_0242ac1c0002row0_col8,#T_45a8ec8a_1548_11eb_ae7b_0242ac1c0002row4_col9,#T_45a8ec8a_1548_11eb_ae7b_0242ac1c0002row5_col7,#T_45a8ec8a_1548_11eb_ae7b_0242ac1c0002row5_col22,#T_45a8ec8a_1548_11eb_ae7b_0242ac1c0002row10_col2,#T_45a8ec8a_1548_11eb_ae7b_0242ac1c0002row11_col6,#T_45a8ec8a_1548_11eb_ae7b_0242ac1c0002row12_col7,#T_45a8ec8a_1548_11eb_ae7b_0242ac1c0002row21_col6{\n",
              "            background-color:  #8fb1fe;\n",
              "            color:  #000000;\n",
              "        }#T_45a8ec8a_1548_11eb_ae7b_0242ac1c0002row0_col9,#T_45a8ec8a_1548_11eb_ae7b_0242ac1c0002row2_col19,#T_45a8ec8a_1548_11eb_ae7b_0242ac1c0002row12_col26{\n",
              "            background-color:  #7597f6;\n",
              "            color:  #000000;\n",
              "        }#T_45a8ec8a_1548_11eb_ae7b_0242ac1c0002row0_col10,#T_45a8ec8a_1548_11eb_ae7b_0242ac1c0002row5_col10,#T_45a8ec8a_1548_11eb_ae7b_0242ac1c0002row5_col11,#T_45a8ec8a_1548_11eb_ae7b_0242ac1c0002row6_col9,#T_45a8ec8a_1548_11eb_ae7b_0242ac1c0002row18_col7,#T_45a8ec8a_1548_11eb_ae7b_0242ac1c0002row22_col19{\n",
              "            background-color:  #bed2f6;\n",
              "            color:  #000000;\n",
              "        }#T_45a8ec8a_1548_11eb_ae7b_0242ac1c0002row0_col11,#T_45a8ec8a_1548_11eb_ae7b_0242ac1c0002row2_col16,#T_45a8ec8a_1548_11eb_ae7b_0242ac1c0002row4_col26,#T_45a8ec8a_1548_11eb_ae7b_0242ac1c0002row22_col23{\n",
              "            background-color:  #b6cefa;\n",
              "            color:  #000000;\n",
              "        }#T_45a8ec8a_1548_11eb_ae7b_0242ac1c0002row0_col12,#T_45a8ec8a_1548_11eb_ae7b_0242ac1c0002row0_col26,#T_45a8ec8a_1548_11eb_ae7b_0242ac1c0002row2_col9,#T_45a8ec8a_1548_11eb_ae7b_0242ac1c0002row2_col23,#T_45a8ec8a_1548_11eb_ae7b_0242ac1c0002row3_col10,#T_45a8ec8a_1548_11eb_ae7b_0242ac1c0002row6_col17,#T_45a8ec8a_1548_11eb_ae7b_0242ac1c0002row6_col20{\n",
              "            background-color:  #adc9fd;\n",
              "            color:  #000000;\n",
              "        }#T_45a8ec8a_1548_11eb_ae7b_0242ac1c0002row0_col13,#T_45a8ec8a_1548_11eb_ae7b_0242ac1c0002row2_col13,#T_45a8ec8a_1548_11eb_ae7b_0242ac1c0002row11_col9,#T_45a8ec8a_1548_11eb_ae7b_0242ac1c0002row16_col14,#T_45a8ec8a_1548_11eb_ae7b_0242ac1c0002row21_col5,#T_45a8ec8a_1548_11eb_ae7b_0242ac1c0002row24_col7{\n",
              "            background-color:  #aec9fc;\n",
              "            color:  #000000;\n",
              "        }#T_45a8ec8a_1548_11eb_ae7b_0242ac1c0002row0_col14,#T_45a8ec8a_1548_11eb_ae7b_0242ac1c0002row1_col13,#T_45a8ec8a_1548_11eb_ae7b_0242ac1c0002row15_col25,#T_45a8ec8a_1548_11eb_ae7b_0242ac1c0002row19_col11{\n",
              "            background-color:  #85a8fc;\n",
              "            color:  #000000;\n",
              "        }#T_45a8ec8a_1548_11eb_ae7b_0242ac1c0002row0_col15,#T_45a8ec8a_1548_11eb_ae7b_0242ac1c0002row0_col23,#T_45a8ec8a_1548_11eb_ae7b_0242ac1c0002row1_col26,#T_45a8ec8a_1548_11eb_ae7b_0242ac1c0002row2_col21,#T_45a8ec8a_1548_11eb_ae7b_0242ac1c0002row19_col25,#T_45a8ec8a_1548_11eb_ae7b_0242ac1c0002row20_col5,#T_45a8ec8a_1548_11eb_ae7b_0242ac1c0002row26_col9{\n",
              "            background-color:  #a3c2fe;\n",
              "            color:  #000000;\n",
              "        }#T_45a8ec8a_1548_11eb_ae7b_0242ac1c0002row0_col16,#T_45a8ec8a_1548_11eb_ae7b_0242ac1c0002row12_col5,#T_45a8ec8a_1548_11eb_ae7b_0242ac1c0002row17_col6,#T_45a8ec8a_1548_11eb_ae7b_0242ac1c0002row17_col13,#T_45a8ec8a_1548_11eb_ae7b_0242ac1c0002row26_col22{\n",
              "            background-color:  #a6c4fe;\n",
              "            color:  #000000;\n",
              "        }#T_45a8ec8a_1548_11eb_ae7b_0242ac1c0002row0_col17,#T_45a8ec8a_1548_11eb_ae7b_0242ac1c0002row4_col19,#T_45a8ec8a_1548_11eb_ae7b_0242ac1c0002row12_col24,#T_45a8ec8a_1548_11eb_ae7b_0242ac1c0002row26_col6{\n",
              "            background-color:  #8badfd;\n",
              "            color:  #000000;\n",
              "        }#T_45a8ec8a_1548_11eb_ae7b_0242ac1c0002row0_col18,#T_45a8ec8a_1548_11eb_ae7b_0242ac1c0002row2_col18,#T_45a8ec8a_1548_11eb_ae7b_0242ac1c0002row5_col12,#T_45a8ec8a_1548_11eb_ae7b_0242ac1c0002row7_col24,#T_45a8ec8a_1548_11eb_ae7b_0242ac1c0002row16_col9{\n",
              "            background-color:  #bbd1f8;\n",
              "            color:  #000000;\n",
              "        }#T_45a8ec8a_1548_11eb_ae7b_0242ac1c0002row0_col19,#T_45a8ec8a_1548_11eb_ae7b_0242ac1c0002row9_col7,#T_45a8ec8a_1548_11eb_ae7b_0242ac1c0002row10_col9,#T_45a8ec8a_1548_11eb_ae7b_0242ac1c0002row14_col11,#T_45a8ec8a_1548_11eb_ae7b_0242ac1c0002row17_col19{\n",
              "            background-color:  #81a4fb;\n",
              "            color:  #000000;\n",
              "        }#T_45a8ec8a_1548_11eb_ae7b_0242ac1c0002row0_col20,#T_45a8ec8a_1548_11eb_ae7b_0242ac1c0002row4_col16,#T_45a8ec8a_1548_11eb_ae7b_0242ac1c0002row4_col25,#T_45a8ec8a_1548_11eb_ae7b_0242ac1c0002row9_col21,#T_45a8ec8a_1548_11eb_ae7b_0242ac1c0002row16_col24,#T_45a8ec8a_1548_11eb_ae7b_0242ac1c0002row22_col11,#T_45a8ec8a_1548_11eb_ae7b_0242ac1c0002row24_col12{\n",
              "            background-color:  #b3cdfb;\n",
              "            color:  #000000;\n",
              "        }#T_45a8ec8a_1548_11eb_ae7b_0242ac1c0002row0_col21,#T_45a8ec8a_1548_11eb_ae7b_0242ac1c0002row4_col10,#T_45a8ec8a_1548_11eb_ae7b_0242ac1c0002row12_col19,#T_45a8ec8a_1548_11eb_ae7b_0242ac1c0002row16_col22,#T_45a8ec8a_1548_11eb_ae7b_0242ac1c0002row22_col8,#T_45a8ec8a_1548_11eb_ae7b_0242ac1c0002row23_col9,#T_45a8ec8a_1548_11eb_ae7b_0242ac1c0002row24_col10,#T_45a8ec8a_1548_11eb_ae7b_0242ac1c0002row24_col20{\n",
              "            background-color:  #bad0f8;\n",
              "            color:  #000000;\n",
              "        }#T_45a8ec8a_1548_11eb_ae7b_0242ac1c0002row0_col22,#T_45a8ec8a_1548_11eb_ae7b_0242ac1c0002row1_col7,#T_45a8ec8a_1548_11eb_ae7b_0242ac1c0002row8_col0,#T_45a8ec8a_1548_11eb_ae7b_0242ac1c0002row11_col7,#T_45a8ec8a_1548_11eb_ae7b_0242ac1c0002row13_col0,#T_45a8ec8a_1548_11eb_ae7b_0242ac1c0002row13_col25,#T_45a8ec8a_1548_11eb_ae7b_0242ac1c0002row19_col4,#T_45a8ec8a_1548_11eb_ae7b_0242ac1c0002row20_col10,#T_45a8ec8a_1548_11eb_ae7b_0242ac1c0002row24_col1{\n",
              "            background-color:  #4f69d9;\n",
              "            color:  #000000;\n",
              "        }#T_45a8ec8a_1548_11eb_ae7b_0242ac1c0002row0_col24,#T_45a8ec8a_1548_11eb_ae7b_0242ac1c0002row2_col14,#T_45a8ec8a_1548_11eb_ae7b_0242ac1c0002row8_col10,#T_45a8ec8a_1548_11eb_ae7b_0242ac1c0002row9_col20,#T_45a8ec8a_1548_11eb_ae7b_0242ac1c0002row10_col23,#T_45a8ec8a_1548_11eb_ae7b_0242ac1c0002row12_col1,#T_45a8ec8a_1548_11eb_ae7b_0242ac1c0002row20_col1,#T_45a8ec8a_1548_11eb_ae7b_0242ac1c0002row23_col17{\n",
              "            background-color:  #799cf8;\n",
              "            color:  #000000;\n",
              "        }#T_45a8ec8a_1548_11eb_ae7b_0242ac1c0002row0_col25{\n",
              "            background-color:  #aac7fd;\n",
              "            color:  #000000;\n",
              "        }#T_45a8ec8a_1548_11eb_ae7b_0242ac1c0002row1_col0,#T_45a8ec8a_1548_11eb_ae7b_0242ac1c0002row5_col3{\n",
              "            background-color:  #5b7ae5;\n",
              "            color:  #000000;\n",
              "        }#T_45a8ec8a_1548_11eb_ae7b_0242ac1c0002row1_col2,#T_45a8ec8a_1548_11eb_ae7b_0242ac1c0002row2_col7,#T_45a8ec8a_1548_11eb_ae7b_0242ac1c0002row12_col16{\n",
              "            background-color:  #6384eb;\n",
              "            color:  #000000;\n",
              "        }#T_45a8ec8a_1548_11eb_ae7b_0242ac1c0002row1_col3,#T_45a8ec8a_1548_11eb_ae7b_0242ac1c0002row1_col8,#T_45a8ec8a_1548_11eb_ae7b_0242ac1c0002row3_col2,#T_45a8ec8a_1548_11eb_ae7b_0242ac1c0002row4_col3,#T_45a8ec8a_1548_11eb_ae7b_0242ac1c0002row6_col3,#T_45a8ec8a_1548_11eb_ae7b_0242ac1c0002row7_col2,#T_45a8ec8a_1548_11eb_ae7b_0242ac1c0002row12_col4,#T_45a8ec8a_1548_11eb_ae7b_0242ac1c0002row12_col10,#T_45a8ec8a_1548_11eb_ae7b_0242ac1c0002row23_col16,#T_45a8ec8a_1548_11eb_ae7b_0242ac1c0002row24_col3{\n",
              "            background-color:  #5977e3;\n",
              "            color:  #000000;\n",
              "        }#T_45a8ec8a_1548_11eb_ae7b_0242ac1c0002row1_col4,#T_45a8ec8a_1548_11eb_ae7b_0242ac1c0002row1_col5,#T_45a8ec8a_1548_11eb_ae7b_0242ac1c0002row1_col6,#T_45a8ec8a_1548_11eb_ae7b_0242ac1c0002row1_col22,#T_45a8ec8a_1548_11eb_ae7b_0242ac1c0002row1_col24,#T_45a8ec8a_1548_11eb_ae7b_0242ac1c0002row5_col1,#T_45a8ec8a_1548_11eb_ae7b_0242ac1c0002row7_col3,#T_45a8ec8a_1548_11eb_ae7b_0242ac1c0002row10_col8,#T_45a8ec8a_1548_11eb_ae7b_0242ac1c0002row10_col12,#T_45a8ec8a_1548_11eb_ae7b_0242ac1c0002row10_col14,#T_45a8ec8a_1548_11eb_ae7b_0242ac1c0002row10_col15,#T_45a8ec8a_1548_11eb_ae7b_0242ac1c0002row10_col19,#T_45a8ec8a_1548_11eb_ae7b_0242ac1c0002row10_col20,#T_45a8ec8a_1548_11eb_ae7b_0242ac1c0002row10_col21,#T_45a8ec8a_1548_11eb_ae7b_0242ac1c0002row12_col9,#T_45a8ec8a_1548_11eb_ae7b_0242ac1c0002row16_col0,#T_45a8ec8a_1548_11eb_ae7b_0242ac1c0002row18_col16,#T_45a8ec8a_1548_11eb_ae7b_0242ac1c0002row18_col25,#T_45a8ec8a_1548_11eb_ae7b_0242ac1c0002row18_col26,#T_45a8ec8a_1548_11eb_ae7b_0242ac1c0002row20_col9,#T_45a8ec8a_1548_11eb_ae7b_0242ac1c0002row21_col2,#T_45a8ec8a_1548_11eb_ae7b_0242ac1c0002row21_col10,#T_45a8ec8a_1548_11eb_ae7b_0242ac1c0002row21_col11,#T_45a8ec8a_1548_11eb_ae7b_0242ac1c0002row21_col17,#T_45a8ec8a_1548_11eb_ae7b_0242ac1c0002row26_col0,#T_45a8ec8a_1548_11eb_ae7b_0242ac1c0002row26_col7,#T_45a8ec8a_1548_11eb_ae7b_0242ac1c0002row26_col13,#T_45a8ec8a_1548_11eb_ae7b_0242ac1c0002row26_col18,#T_45a8ec8a_1548_11eb_ae7b_0242ac1c0002row26_col23{\n",
              "            background-color:  #3b4cc0;\n",
              "            color:  #f1f1f1;\n",
              "        }#T_45a8ec8a_1548_11eb_ae7b_0242ac1c0002row1_col9,#T_45a8ec8a_1548_11eb_ae7b_0242ac1c0002row2_col8,#T_45a8ec8a_1548_11eb_ae7b_0242ac1c0002row8_col11,#T_45a8ec8a_1548_11eb_ae7b_0242ac1c0002row22_col2,#T_45a8ec8a_1548_11eb_ae7b_0242ac1c0002row25_col21{\n",
              "            background-color:  #7b9ff9;\n",
              "            color:  #000000;\n",
              "        }#T_45a8ec8a_1548_11eb_ae7b_0242ac1c0002row1_col10,#T_45a8ec8a_1548_11eb_ae7b_0242ac1c0002row2_col26,#T_45a8ec8a_1548_11eb_ae7b_0242ac1c0002row4_col13,#T_45a8ec8a_1548_11eb_ae7b_0242ac1c0002row8_col7,#T_45a8ec8a_1548_11eb_ae7b_0242ac1c0002row13_col9,#T_45a8ec8a_1548_11eb_ae7b_0242ac1c0002row15_col22,#T_45a8ec8a_1548_11eb_ae7b_0242ac1c0002row18_col6{\n",
              "            background-color:  #b5cdfa;\n",
              "            color:  #000000;\n",
              "        }#T_45a8ec8a_1548_11eb_ae7b_0242ac1c0002row1_col11,#T_45a8ec8a_1548_11eb_ae7b_0242ac1c0002row17_col14,#T_45a8ec8a_1548_11eb_ae7b_0242ac1c0002row25_col14{\n",
              "            background-color:  #a9c6fd;\n",
              "            color:  #000000;\n",
              "        }#T_45a8ec8a_1548_11eb_ae7b_0242ac1c0002row1_col12,#T_45a8ec8a_1548_11eb_ae7b_0242ac1c0002row1_col16,#T_45a8ec8a_1548_11eb_ae7b_0242ac1c0002row7_col16,#T_45a8ec8a_1548_11eb_ae7b_0242ac1c0002row8_col9,#T_45a8ec8a_1548_11eb_ae7b_0242ac1c0002row13_col11{\n",
              "            background-color:  #94b6ff;\n",
              "            color:  #000000;\n",
              "        }#T_45a8ec8a_1548_11eb_ae7b_0242ac1c0002row1_col14,#T_45a8ec8a_1548_11eb_ae7b_0242ac1c0002row11_col15,#T_45a8ec8a_1548_11eb_ae7b_0242ac1c0002row11_col22,#T_45a8ec8a_1548_11eb_ae7b_0242ac1c0002row12_col0,#T_45a8ec8a_1548_11eb_ae7b_0242ac1c0002row12_col11,#T_45a8ec8a_1548_11eb_ae7b_0242ac1c0002row15_col1{\n",
              "            background-color:  #536edd;\n",
              "            color:  #000000;\n",
              "        }#T_45a8ec8a_1548_11eb_ae7b_0242ac1c0002row1_col15,#T_45a8ec8a_1548_11eb_ae7b_0242ac1c0002row3_col9,#T_45a8ec8a_1548_11eb_ae7b_0242ac1c0002row17_col12,#T_45a8ec8a_1548_11eb_ae7b_0242ac1c0002row17_col20,#T_45a8ec8a_1548_11eb_ae7b_0242ac1c0002row23_col1,#T_45a8ec8a_1548_11eb_ae7b_0242ac1c0002row25_col1,#T_45a8ec8a_1548_11eb_ae7b_0242ac1c0002row25_col3{\n",
              "            background-color:  #6c8ff1;\n",
              "            color:  #000000;\n",
              "        }#T_45a8ec8a_1548_11eb_ae7b_0242ac1c0002row1_col17,#T_45a8ec8a_1548_11eb_ae7b_0242ac1c0002row1_col19,#T_45a8ec8a_1548_11eb_ae7b_0242ac1c0002row6_col22,#T_45a8ec8a_1548_11eb_ae7b_0242ac1c0002row8_col3,#T_45a8ec8a_1548_11eb_ae7b_0242ac1c0002row8_col17,#T_45a8ec8a_1548_11eb_ae7b_0242ac1c0002row18_col1,#T_45a8ec8a_1548_11eb_ae7b_0242ac1c0002row22_col4{\n",
              "            background-color:  #688aef;\n",
              "            color:  #000000;\n",
              "        }#T_45a8ec8a_1548_11eb_ae7b_0242ac1c0002row1_col18,#T_45a8ec8a_1548_11eb_ae7b_0242ac1c0002row1_col20,#T_45a8ec8a_1548_11eb_ae7b_0242ac1c0002row2_col20,#T_45a8ec8a_1548_11eb_ae7b_0242ac1c0002row2_col24,#T_45a8ec8a_1548_11eb_ae7b_0242ac1c0002row3_col19,#T_45a8ec8a_1548_11eb_ae7b_0242ac1c0002row4_col8,#T_45a8ec8a_1548_11eb_ae7b_0242ac1c0002row4_col17,#T_45a8ec8a_1548_11eb_ae7b_0242ac1c0002row7_col6{\n",
              "            background-color:  #9dbdff;\n",
              "            color:  #000000;\n",
              "        }#T_45a8ec8a_1548_11eb_ae7b_0242ac1c0002row1_col21,#T_45a8ec8a_1548_11eb_ae7b_0242ac1c0002row3_col15,#T_45a8ec8a_1548_11eb_ae7b_0242ac1c0002row3_col18,#T_45a8ec8a_1548_11eb_ae7b_0242ac1c0002row4_col23,#T_45a8ec8a_1548_11eb_ae7b_0242ac1c0002row17_col2,#T_45a8ec8a_1548_11eb_ae7b_0242ac1c0002row25_col9{\n",
              "            background-color:  #abc8fd;\n",
              "            color:  #000000;\n",
              "        }#T_45a8ec8a_1548_11eb_ae7b_0242ac1c0002row1_col23,#T_45a8ec8a_1548_11eb_ae7b_0242ac1c0002row18_col10,#T_45a8ec8a_1548_11eb_ae7b_0242ac1c0002row20_col24{\n",
              "            background-color:  #88abfd;\n",
              "            color:  #000000;\n",
              "        }#T_45a8ec8a_1548_11eb_ae7b_0242ac1c0002row2_col0,#T_45a8ec8a_1548_11eb_ae7b_0242ac1c0002row11_col12{\n",
              "            background-color:  #4358cb;\n",
              "            color:  #f1f1f1;\n",
              "        }#T_45a8ec8a_1548_11eb_ae7b_0242ac1c0002row2_col1{\n",
              "            background-color:  #93b5fe;\n",
              "            color:  #000000;\n",
              "        }#T_45a8ec8a_1548_11eb_ae7b_0242ac1c0002row2_col3,#T_45a8ec8a_1548_11eb_ae7b_0242ac1c0002row8_col4,#T_45a8ec8a_1548_11eb_ae7b_0242ac1c0002row13_col2,#T_45a8ec8a_1548_11eb_ae7b_0242ac1c0002row18_col2{\n",
              "            background-color:  #5f7fe8;\n",
              "            color:  #000000;\n",
              "        }#T_45a8ec8a_1548_11eb_ae7b_0242ac1c0002row2_col4{\n",
              "            background-color:  #5e7de7;\n",
              "            color:  #000000;\n",
              "        }#T_45a8ec8a_1548_11eb_ae7b_0242ac1c0002row2_col5,#T_45a8ec8a_1548_11eb_ae7b_0242ac1c0002row2_col12,#T_45a8ec8a_1548_11eb_ae7b_0242ac1c0002row16_col6,#T_45a8ec8a_1548_11eb_ae7b_0242ac1c0002row17_col23,#T_45a8ec8a_1548_11eb_ae7b_0242ac1c0002row20_col22{\n",
              "            background-color:  #9abbff;\n",
              "            color:  #000000;\n",
              "        }#T_45a8ec8a_1548_11eb_ae7b_0242ac1c0002row2_col6,#T_45a8ec8a_1548_11eb_ae7b_0242ac1c0002row10_col5,#T_45a8ec8a_1548_11eb_ae7b_0242ac1c0002row11_col13,#T_45a8ec8a_1548_11eb_ae7b_0242ac1c0002row18_col11{\n",
              "            background-color:  #8db0fe;\n",
              "            color:  #000000;\n",
              "        }#T_45a8ec8a_1548_11eb_ae7b_0242ac1c0002row2_col10,#T_45a8ec8a_1548_11eb_ae7b_0242ac1c0002row10_col16,#T_45a8ec8a_1548_11eb_ae7b_0242ac1c0002row11_col16,#T_45a8ec8a_1548_11eb_ae7b_0242ac1c0002row24_col16{\n",
              "            background-color:  #dadce0;\n",
              "            color:  #000000;\n",
              "        }#T_45a8ec8a_1548_11eb_ae7b_0242ac1c0002row2_col11,#T_45a8ec8a_1548_11eb_ae7b_0242ac1c0002row9_col23,#T_45a8ec8a_1548_11eb_ae7b_0242ac1c0002row23_col20,#T_45a8ec8a_1548_11eb_ae7b_0242ac1c0002row26_col10{\n",
              "            background-color:  #d7dce3;\n",
              "            color:  #000000;\n",
              "        }#T_45a8ec8a_1548_11eb_ae7b_0242ac1c0002row2_col15,#T_45a8ec8a_1548_11eb_ae7b_0242ac1c0002row4_col5,#T_45a8ec8a_1548_11eb_ae7b_0242ac1c0002row7_col26,#T_45a8ec8a_1548_11eb_ae7b_0242ac1c0002row9_col2,#T_45a8ec8a_1548_11eb_ae7b_0242ac1c0002row11_col2,#T_45a8ec8a_1548_11eb_ae7b_0242ac1c0002row23_col10{\n",
              "            background-color:  #97b8ff;\n",
              "            color:  #000000;\n",
              "        }#T_45a8ec8a_1548_11eb_ae7b_0242ac1c0002row2_col17{\n",
              "            background-color:  #c7d7f0;\n",
              "            color:  #000000;\n",
              "        }#T_45a8ec8a_1548_11eb_ae7b_0242ac1c0002row2_col25,#T_45a8ec8a_1548_11eb_ae7b_0242ac1c0002row4_col12,#T_45a8ec8a_1548_11eb_ae7b_0242ac1c0002row7_col5,#T_45a8ec8a_1548_11eb_ae7b_0242ac1c0002row16_col5,#T_45a8ec8a_1548_11eb_ae7b_0242ac1c0002row23_col7{\n",
              "            background-color:  #b1cbfc;\n",
              "            color:  #000000;\n",
              "        }#T_45a8ec8a_1548_11eb_ae7b_0242ac1c0002row3_col0,#T_45a8ec8a_1548_11eb_ae7b_0242ac1c0002row6_col0,#T_45a8ec8a_1548_11eb_ae7b_0242ac1c0002row25_col18,#T_45a8ec8a_1548_11eb_ae7b_0242ac1c0002row25_col23{\n",
              "            background-color:  #3f53c6;\n",
              "            color:  #f1f1f1;\n",
              "        }#T_45a8ec8a_1548_11eb_ae7b_0242ac1c0002row3_col1,#T_45a8ec8a_1548_11eb_ae7b_0242ac1c0002row10_col18,#T_45a8ec8a_1548_11eb_ae7b_0242ac1c0002row15_col16{\n",
              "            background-color:  #84a7fc;\n",
              "            color:  #000000;\n",
              "        }#T_45a8ec8a_1548_11eb_ae7b_0242ac1c0002row3_col4,#T_45a8ec8a_1548_11eb_ae7b_0242ac1c0002row16_col7{\n",
              "            background-color:  #4257c9;\n",
              "            color:  #f1f1f1;\n",
              "        }#T_45a8ec8a_1548_11eb_ae7b_0242ac1c0002row3_col5,#T_45a8ec8a_1548_11eb_ae7b_0242ac1c0002row15_col26{\n",
              "            background-color:  #86a9fc;\n",
              "            color:  #000000;\n",
              "        }#T_45a8ec8a_1548_11eb_ae7b_0242ac1c0002row3_col6,#T_45a8ec8a_1548_11eb_ae7b_0242ac1c0002row16_col15,#T_45a8ec8a_1548_11eb_ae7b_0242ac1c0002row17_col1,#T_45a8ec8a_1548_11eb_ae7b_0242ac1c0002row21_col25{\n",
              "            background-color:  #7295f4;\n",
              "            color:  #000000;\n",
              "        }#T_45a8ec8a_1548_11eb_ae7b_0242ac1c0002row3_col7,#T_45a8ec8a_1548_11eb_ae7b_0242ac1c0002row10_col22,#T_45a8ec8a_1548_11eb_ae7b_0242ac1c0002row25_col7{\n",
              "            background-color:  #3e51c5;\n",
              "            color:  #f1f1f1;\n",
              "        }#T_45a8ec8a_1548_11eb_ae7b_0242ac1c0002row3_col8,#T_45a8ec8a_1548_11eb_ae7b_0242ac1c0002row7_col9,#T_45a8ec8a_1548_11eb_ae7b_0242ac1c0002row17_col15,#T_45a8ec8a_1548_11eb_ae7b_0242ac1c0002row20_col7{\n",
              "            background-color:  #90b2fe;\n",
              "            color:  #000000;\n",
              "        }#T_45a8ec8a_1548_11eb_ae7b_0242ac1c0002row3_col11,#T_45a8ec8a_1548_11eb_ae7b_0242ac1c0002row3_col13,#T_45a8ec8a_1548_11eb_ae7b_0242ac1c0002row5_col9,#T_45a8ec8a_1548_11eb_ae7b_0242ac1c0002row7_col11{\n",
              "            background-color:  #9fbfff;\n",
              "            color:  #000000;\n",
              "        }#T_45a8ec8a_1548_11eb_ae7b_0242ac1c0002row3_col12,#T_45a8ec8a_1548_11eb_ae7b_0242ac1c0002row19_col7,#T_45a8ec8a_1548_11eb_ae7b_0242ac1c0002row22_col10,#T_45a8ec8a_1548_11eb_ae7b_0242ac1c0002row25_col22{\n",
              "            background-color:  #afcafc;\n",
              "            color:  #000000;\n",
              "        }#T_45a8ec8a_1548_11eb_ae7b_0242ac1c0002row3_col16,#T_45a8ec8a_1548_11eb_ae7b_0242ac1c0002row3_col20,#T_45a8ec8a_1548_11eb_ae7b_0242ac1c0002row4_col20,#T_45a8ec8a_1548_11eb_ae7b_0242ac1c0002row14_col7,#T_45a8ec8a_1548_11eb_ae7b_0242ac1c0002row22_col9{\n",
              "            background-color:  #b7cff9;\n",
              "            color:  #000000;\n",
              "        }#T_45a8ec8a_1548_11eb_ae7b_0242ac1c0002row3_col17,#T_45a8ec8a_1548_11eb_ae7b_0242ac1c0002row4_col22,#T_45a8ec8a_1548_11eb_ae7b_0242ac1c0002row15_col3,#T_45a8ec8a_1548_11eb_ae7b_0242ac1c0002row19_col1,#T_45a8ec8a_1548_11eb_ae7b_0242ac1c0002row25_col15{\n",
              "            background-color:  #6e90f2;\n",
              "            color:  #000000;\n",
              "        }#T_45a8ec8a_1548_11eb_ae7b_0242ac1c0002row3_col21,#T_45a8ec8a_1548_11eb_ae7b_0242ac1c0002row3_col26,#T_45a8ec8a_1548_11eb_ae7b_0242ac1c0002row9_col15,#T_45a8ec8a_1548_11eb_ae7b_0242ac1c0002row13_col7{\n",
              "            background-color:  #c3d5f4;\n",
              "            color:  #000000;\n",
              "        }#T_45a8ec8a_1548_11eb_ae7b_0242ac1c0002row3_col22,#T_45a8ec8a_1548_11eb_ae7b_0242ac1c0002row11_col21,#T_45a8ec8a_1548_11eb_ae7b_0242ac1c0002row22_col0,#T_45a8ec8a_1548_11eb_ae7b_0242ac1c0002row23_col0{\n",
              "            background-color:  #4a63d3;\n",
              "            color:  #f1f1f1;\n",
              "        }#T_45a8ec8a_1548_11eb_ae7b_0242ac1c0002row3_col23,#T_45a8ec8a_1548_11eb_ae7b_0242ac1c0002row9_col22,#T_45a8ec8a_1548_11eb_ae7b_0242ac1c0002row11_col18,#T_45a8ec8a_1548_11eb_ae7b_0242ac1c0002row26_col24{\n",
              "            background-color:  #98b9ff;\n",
              "            color:  #000000;\n",
              "        }#T_45a8ec8a_1548_11eb_ae7b_0242ac1c0002row3_col24,#T_45a8ec8a_1548_11eb_ae7b_0242ac1c0002row4_col2,#T_45a8ec8a_1548_11eb_ae7b_0242ac1c0002row6_col2,#T_45a8ec8a_1548_11eb_ae7b_0242ac1c0002row9_col12,#T_45a8ec8a_1548_11eb_ae7b_0242ac1c0002row12_col3,#T_45a8ec8a_1548_11eb_ae7b_0242ac1c0002row15_col17,#T_45a8ec8a_1548_11eb_ae7b_0242ac1c0002row17_col8,#T_45a8ec8a_1548_11eb_ae7b_0242ac1c0002row20_col3,#T_45a8ec8a_1548_11eb_ae7b_0242ac1c0002row25_col19{\n",
              "            background-color:  #6f92f3;\n",
              "            color:  #000000;\n",
              "        }#T_45a8ec8a_1548_11eb_ae7b_0242ac1c0002row3_col25{\n",
              "            background-color:  #bcd2f7;\n",
              "            color:  #000000;\n",
              "        }#T_45a8ec8a_1548_11eb_ae7b_0242ac1c0002row4_col1,#T_45a8ec8a_1548_11eb_ae7b_0242ac1c0002row8_col26,#T_45a8ec8a_1548_11eb_ae7b_0242ac1c0002row19_col10,#T_45a8ec8a_1548_11eb_ae7b_0242ac1c0002row22_col7,#T_45a8ec8a_1548_11eb_ae7b_0242ac1c0002row26_col21{\n",
              "            background-color:  #7da0f9;\n",
              "            color:  #000000;\n",
              "        }#T_45a8ec8a_1548_11eb_ae7b_0242ac1c0002row4_col6,#T_45a8ec8a_1548_11eb_ae7b_0242ac1c0002row10_col1,#T_45a8ec8a_1548_11eb_ae7b_0242ac1c0002row11_col1,#T_45a8ec8a_1548_11eb_ae7b_0242ac1c0002row24_col2{\n",
              "            background-color:  #82a6fb;\n",
              "            color:  #000000;\n",
              "        }#T_45a8ec8a_1548_11eb_ae7b_0242ac1c0002row4_col11,#T_45a8ec8a_1548_11eb_ae7b_0242ac1c0002row9_col5{\n",
              "            background-color:  #b2ccfb;\n",
              "            color:  #000000;\n",
              "        }#T_45a8ec8a_1548_11eb_ae7b_0242ac1c0002row4_col14,#T_45a8ec8a_1548_11eb_ae7b_0242ac1c0002row4_col24,#T_45a8ec8a_1548_11eb_ae7b_0242ac1c0002row9_col1,#T_45a8ec8a_1548_11eb_ae7b_0242ac1c0002row11_col23,#T_45a8ec8a_1548_11eb_ae7b_0242ac1c0002row11_col24,#T_45a8ec8a_1548_11eb_ae7b_0242ac1c0002row19_col22,#T_45a8ec8a_1548_11eb_ae7b_0242ac1c0002row22_col6,#T_45a8ec8a_1548_11eb_ae7b_0242ac1c0002row25_col6{\n",
              "            background-color:  #92b4fe;\n",
              "            color:  #000000;\n",
              "        }#T_45a8ec8a_1548_11eb_ae7b_0242ac1c0002row4_col15,#T_45a8ec8a_1548_11eb_ae7b_0242ac1c0002row9_col8,#T_45a8ec8a_1548_11eb_ae7b_0242ac1c0002row25_col5{\n",
              "            background-color:  #a7c5fe;\n",
              "            color:  #000000;\n",
              "        }#T_45a8ec8a_1548_11eb_ae7b_0242ac1c0002row4_col18,#T_45a8ec8a_1548_11eb_ae7b_0242ac1c0002row6_col10,#T_45a8ec8a_1548_11eb_ae7b_0242ac1c0002row15_col7,#T_45a8ec8a_1548_11eb_ae7b_0242ac1c0002row17_col5,#T_45a8ec8a_1548_11eb_ae7b_0242ac1c0002row22_col5{\n",
              "            background-color:  #bfd3f6;\n",
              "            color:  #000000;\n",
              "        }#T_45a8ec8a_1548_11eb_ae7b_0242ac1c0002row4_col21,#T_45a8ec8a_1548_11eb_ae7b_0242ac1c0002row6_col11,#T_45a8ec8a_1548_11eb_ae7b_0242ac1c0002row8_col6,#T_45a8ec8a_1548_11eb_ae7b_0242ac1c0002row20_col19{\n",
              "            background-color:  #c0d4f5;\n",
              "            color:  #000000;\n",
              "        }#T_45a8ec8a_1548_11eb_ae7b_0242ac1c0002row5_col0,#T_45a8ec8a_1548_11eb_ae7b_0242ac1c0002row20_col17,#T_45a8ec8a_1548_11eb_ae7b_0242ac1c0002row25_col0{\n",
              "            background-color:  #3c4ec2;\n",
              "            color:  #f1f1f1;\n",
              "        }#T_45a8ec8a_1548_11eb_ae7b_0242ac1c0002row5_col2,#T_45a8ec8a_1548_11eb_ae7b_0242ac1c0002row12_col25,#T_45a8ec8a_1548_11eb_ae7b_0242ac1c0002row20_col25,#T_45a8ec8a_1548_11eb_ae7b_0242ac1c0002row21_col3,#T_45a8ec8a_1548_11eb_ae7b_0242ac1c0002row21_col16{\n",
              "            background-color:  #6b8df0;\n",
              "            color:  #000000;\n",
              "        }#T_45a8ec8a_1548_11eb_ae7b_0242ac1c0002row5_col4,#T_45a8ec8a_1548_11eb_ae7b_0242ac1c0002row23_col25,#T_45a8ec8a_1548_11eb_ae7b_0242ac1c0002row23_col26,#T_45a8ec8a_1548_11eb_ae7b_0242ac1c0002row25_col2,#T_45a8ec8a_1548_11eb_ae7b_0242ac1c0002row25_col12{\n",
              "            background-color:  #5673e0;\n",
              "            color:  #000000;\n",
              "        }#T_45a8ec8a_1548_11eb_ae7b_0242ac1c0002row5_col6{\n",
              "            background-color:  #f7a688;\n",
              "            color:  #000000;\n",
              "        }#T_45a8ec8a_1548_11eb_ae7b_0242ac1c0002row5_col8,#T_45a8ec8a_1548_11eb_ae7b_0242ac1c0002row5_col21,#T_45a8ec8a_1548_11eb_ae7b_0242ac1c0002row9_col18,#T_45a8ec8a_1548_11eb_ae7b_0242ac1c0002row10_col26,#T_45a8ec8a_1548_11eb_ae7b_0242ac1c0002row13_col5{\n",
              "            background-color:  #d4dbe6;\n",
              "            color:  #000000;\n",
              "        }#T_45a8ec8a_1548_11eb_ae7b_0242ac1c0002row5_col13,#T_45a8ec8a_1548_11eb_ae7b_0242ac1c0002row6_col24,#T_45a8ec8a_1548_11eb_ae7b_0242ac1c0002row17_col9,#T_45a8ec8a_1548_11eb_ae7b_0242ac1c0002row22_col15,#T_45a8ec8a_1548_11eb_ae7b_0242ac1c0002row24_col21{\n",
              "            background-color:  #e4d9d2;\n",
              "            color:  #000000;\n",
              "        }#T_45a8ec8a_1548_11eb_ae7b_0242ac1c0002row5_col14,#T_45a8ec8a_1548_11eb_ae7b_0242ac1c0002row18_col24,#T_45a8ec8a_1548_11eb_ae7b_0242ac1c0002row21_col23,#T_45a8ec8a_1548_11eb_ae7b_0242ac1c0002row24_col6{\n",
              "            background-color:  #e6d7cf;\n",
              "            color:  #000000;\n",
              "        }#T_45a8ec8a_1548_11eb_ae7b_0242ac1c0002row5_col15,#T_45a8ec8a_1548_11eb_ae7b_0242ac1c0002row9_col24,#T_45a8ec8a_1548_11eb_ae7b_0242ac1c0002row12_col8,#T_45a8ec8a_1548_11eb_ae7b_0242ac1c0002row22_col25{\n",
              "            background-color:  #ead4c8;\n",
              "            color:  #000000;\n",
              "        }#T_45a8ec8a_1548_11eb_ae7b_0242ac1c0002row5_col16,#T_45a8ec8a_1548_11eb_ae7b_0242ac1c0002row14_col9{\n",
              "            background-color:  #cdd9ec;\n",
              "            color:  #000000;\n",
              "        }#T_45a8ec8a_1548_11eb_ae7b_0242ac1c0002row5_col17,#T_45a8ec8a_1548_11eb_ae7b_0242ac1c0002row21_col24{\n",
              "            background-color:  #b9d0f9;\n",
              "            color:  #000000;\n",
              "        }#T_45a8ec8a_1548_11eb_ae7b_0242ac1c0002row5_col18{\n",
              "            background-color:  #e3d9d3;\n",
              "            color:  #000000;\n",
              "        }#T_45a8ec8a_1548_11eb_ae7b_0242ac1c0002row5_col19,#T_45a8ec8a_1548_11eb_ae7b_0242ac1c0002row5_col26,#T_45a8ec8a_1548_11eb_ae7b_0242ac1c0002row6_col16,#T_45a8ec8a_1548_11eb_ae7b_0242ac1c0002row6_col19,#T_45a8ec8a_1548_11eb_ae7b_0242ac1c0002row14_col22,#T_45a8ec8a_1548_11eb_ae7b_0242ac1c0002row14_col26,#T_45a8ec8a_1548_11eb_ae7b_0242ac1c0002row18_col5{\n",
              "            background-color:  #c9d7f0;\n",
              "            color:  #000000;\n",
              "        }#T_45a8ec8a_1548_11eb_ae7b_0242ac1c0002row5_col20,#T_45a8ec8a_1548_11eb_ae7b_0242ac1c0002row9_col6,#T_45a8ec8a_1548_11eb_ae7b_0242ac1c0002row19_col6,#T_45a8ec8a_1548_11eb_ae7b_0242ac1c0002row24_col22{\n",
              "            background-color:  #c1d4f4;\n",
              "            color:  #000000;\n",
              "        }#T_45a8ec8a_1548_11eb_ae7b_0242ac1c0002row5_col23,#T_45a8ec8a_1548_11eb_ae7b_0242ac1c0002row9_col11,#T_45a8ec8a_1548_11eb_ae7b_0242ac1c0002row9_col13,#T_45a8ec8a_1548_11eb_ae7b_0242ac1c0002row9_col14,#T_45a8ec8a_1548_11eb_ae7b_0242ac1c0002row9_col25,#T_45a8ec8a_1548_11eb_ae7b_0242ac1c0002row22_col24{\n",
              "            background-color:  #d8dce2;\n",
              "            color:  #000000;\n",
              "        }#T_45a8ec8a_1548_11eb_ae7b_0242ac1c0002row5_col24,#T_45a8ec8a_1548_11eb_ae7b_0242ac1c0002row7_col18{\n",
              "            background-color:  #ebd3c6;\n",
              "            color:  #000000;\n",
              "        }#T_45a8ec8a_1548_11eb_ae7b_0242ac1c0002row5_col25,#T_45a8ec8a_1548_11eb_ae7b_0242ac1c0002row6_col8,#T_45a8ec8a_1548_11eb_ae7b_0242ac1c0002row6_col21,#T_45a8ec8a_1548_11eb_ae7b_0242ac1c0002row15_col6,#T_45a8ec8a_1548_11eb_ae7b_0242ac1c0002row23_col5{\n",
              "            background-color:  #cad8ef;\n",
              "            color:  #000000;\n",
              "        }#T_45a8ec8a_1548_11eb_ae7b_0242ac1c0002row6_col1,#T_45a8ec8a_1548_11eb_ae7b_0242ac1c0002row8_col2,#T_45a8ec8a_1548_11eb_ae7b_0242ac1c0002row10_col0,#T_45a8ec8a_1548_11eb_ae7b_0242ac1c0002row10_col3,#T_45a8ec8a_1548_11eb_ae7b_0242ac1c0002row11_col3,#T_45a8ec8a_1548_11eb_ae7b_0242ac1c0002row16_col4{\n",
              "            background-color:  #4c66d6;\n",
              "            color:  #000000;\n",
              "        }#T_45a8ec8a_1548_11eb_ae7b_0242ac1c0002row6_col4,#T_45a8ec8a_1548_11eb_ae7b_0242ac1c0002row14_col4,#T_45a8ec8a_1548_11eb_ae7b_0242ac1c0002row17_col0,#T_45a8ec8a_1548_11eb_ae7b_0242ac1c0002row20_col0{\n",
              "            background-color:  #516ddb;\n",
              "            color:  #000000;\n",
              "        }#T_45a8ec8a_1548_11eb_ae7b_0242ac1c0002row6_col5{\n",
              "            background-color:  #f5a081;\n",
              "            color:  #000000;\n",
              "        }#T_45a8ec8a_1548_11eb_ae7b_0242ac1c0002row6_col7,#T_45a8ec8a_1548_11eb_ae7b_0242ac1c0002row8_col22,#T_45a8ec8a_1548_11eb_ae7b_0242ac1c0002row13_col10{\n",
              "            background-color:  #89acfd;\n",
              "            color:  #000000;\n",
              "        }#T_45a8ec8a_1548_11eb_ae7b_0242ac1c0002row6_col12,#T_45a8ec8a_1548_11eb_ae7b_0242ac1c0002row21_col7,#T_45a8ec8a_1548_11eb_ae7b_0242ac1c0002row25_col24{\n",
              "            background-color:  #a5c3fe;\n",
              "            color:  #000000;\n",
              "        }#T_45a8ec8a_1548_11eb_ae7b_0242ac1c0002row6_col13,#T_45a8ec8a_1548_11eb_ae7b_0242ac1c0002row6_col15{\n",
              "            background-color:  #dfdbd9;\n",
              "            color:  #000000;\n",
              "        }#T_45a8ec8a_1548_11eb_ae7b_0242ac1c0002row6_col14,#T_45a8ec8a_1548_11eb_ae7b_0242ac1c0002row6_col18,#T_45a8ec8a_1548_11eb_ae7b_0242ac1c0002row14_col12{\n",
              "            background-color:  #dedcdb;\n",
              "            color:  #000000;\n",
              "        }#T_45a8ec8a_1548_11eb_ae7b_0242ac1c0002row6_col23,#T_45a8ec8a_1548_11eb_ae7b_0242ac1c0002row22_col20{\n",
              "            background-color:  #dcdddd;\n",
              "            color:  #000000;\n",
              "        }#T_45a8ec8a_1548_11eb_ae7b_0242ac1c0002row6_col25,#T_45a8ec8a_1548_11eb_ae7b_0242ac1c0002row23_col6{\n",
              "            background-color:  #c5d6f2;\n",
              "            color:  #000000;\n",
              "        }#T_45a8ec8a_1548_11eb_ae7b_0242ac1c0002row6_col26,#T_45a8ec8a_1548_11eb_ae7b_0242ac1c0002row7_col12,#T_45a8ec8a_1548_11eb_ae7b_0242ac1c0002row9_col10,#T_45a8ec8a_1548_11eb_ae7b_0242ac1c0002row13_col6,#T_45a8ec8a_1548_11eb_ae7b_0242ac1c0002row24_col11{\n",
              "            background-color:  #c4d5f3;\n",
              "            color:  #000000;\n",
              "        }#T_45a8ec8a_1548_11eb_ae7b_0242ac1c0002row7_col0,#T_45a8ec8a_1548_11eb_ae7b_0242ac1c0002row9_col0,#T_45a8ec8a_1548_11eb_ae7b_0242ac1c0002row19_col2,#T_45a8ec8a_1548_11eb_ae7b_0242ac1c0002row20_col11,#T_45a8ec8a_1548_11eb_ae7b_0242ac1c0002row25_col4{\n",
              "            background-color:  #4961d2;\n",
              "            color:  #f1f1f1;\n",
              "        }#T_45a8ec8a_1548_11eb_ae7b_0242ac1c0002row7_col1,#T_45a8ec8a_1548_11eb_ae7b_0242ac1c0002row21_col1{\n",
              "            background-color:  #7699f6;\n",
              "            color:  #000000;\n",
              "        }#T_45a8ec8a_1548_11eb_ae7b_0242ac1c0002row7_col4,#T_45a8ec8a_1548_11eb_ae7b_0242ac1c0002row14_col2,#T_45a8ec8a_1548_11eb_ae7b_0242ac1c0002row16_col13{\n",
              "            background-color:  #485fd1;\n",
              "            color:  #f1f1f1;\n",
              "        }#T_45a8ec8a_1548_11eb_ae7b_0242ac1c0002row7_col8,#T_45a8ec8a_1548_11eb_ae7b_0242ac1c0002row14_col16,#T_45a8ec8a_1548_11eb_ae7b_0242ac1c0002row19_col5,#T_45a8ec8a_1548_11eb_ae7b_0242ac1c0002row26_col11{\n",
              "            background-color:  #ccd9ed;\n",
              "            color:  #000000;\n",
              "        }#T_45a8ec8a_1548_11eb_ae7b_0242ac1c0002row7_col10,#T_45a8ec8a_1548_11eb_ae7b_0242ac1c0002row14_col17,#T_45a8ec8a_1548_11eb_ae7b_0242ac1c0002row19_col16,#T_45a8ec8a_1548_11eb_ae7b_0242ac1c0002row19_col26,#T_45a8ec8a_1548_11eb_ae7b_0242ac1c0002row26_col5{\n",
              "            background-color:  #a2c1ff;\n",
              "            color:  #000000;\n",
              "        }#T_45a8ec8a_1548_11eb_ae7b_0242ac1c0002row7_col13,#T_45a8ec8a_1548_11eb_ae7b_0242ac1c0002row14_col5{\n",
              "            background-color:  #e7d7ce;\n",
              "            color:  #000000;\n",
              "        }#T_45a8ec8a_1548_11eb_ae7b_0242ac1c0002row7_col14,#T_45a8ec8a_1548_11eb_ae7b_0242ac1c0002row12_col14,#T_45a8ec8a_1548_11eb_ae7b_0242ac1c0002row12_col23,#T_45a8ec8a_1548_11eb_ae7b_0242ac1c0002row19_col12,#T_45a8ec8a_1548_11eb_ae7b_0242ac1c0002row22_col18{\n",
              "            background-color:  #cfdaea;\n",
              "            color:  #000000;\n",
              "        }#T_45a8ec8a_1548_11eb_ae7b_0242ac1c0002row7_col15,#T_45a8ec8a_1548_11eb_ae7b_0242ac1c0002row7_col21,#T_45a8ec8a_1548_11eb_ae7b_0242ac1c0002row16_col10{\n",
              "            background-color:  #e1dad6;\n",
              "            color:  #000000;\n",
              "        }#T_45a8ec8a_1548_11eb_ae7b_0242ac1c0002row7_col19,#T_45a8ec8a_1548_11eb_ae7b_0242ac1c0002row19_col9{\n",
              "            background-color:  #c6d6f1;\n",
              "            color:  #000000;\n",
              "        }#T_45a8ec8a_1548_11eb_ae7b_0242ac1c0002row7_col20,#T_45a8ec8a_1548_11eb_ae7b_0242ac1c0002row14_col25{\n",
              "            background-color:  #cbd8ee;\n",
              "            color:  #000000;\n",
              "        }#T_45a8ec8a_1548_11eb_ae7b_0242ac1c0002row7_col22,#T_45a8ec8a_1548_11eb_ae7b_0242ac1c0002row23_col2,#T_45a8ec8a_1548_11eb_ae7b_0242ac1c0002row23_col22{\n",
              "            background-color:  #6788ee;\n",
              "            color:  #000000;\n",
              "        }#T_45a8ec8a_1548_11eb_ae7b_0242ac1c0002row7_col23,#T_45a8ec8a_1548_11eb_ae7b_0242ac1c0002row16_col11,#T_45a8ec8a_1548_11eb_ae7b_0242ac1c0002row19_col20{\n",
              "            background-color:  #d9dce1;\n",
              "            color:  #000000;\n",
              "        }#T_45a8ec8a_1548_11eb_ae7b_0242ac1c0002row7_col25{\n",
              "            background-color:  #96b7ff;\n",
              "            color:  #000000;\n",
              "        }#T_45a8ec8a_1548_11eb_ae7b_0242ac1c0002row8_col1,#T_45a8ec8a_1548_11eb_ae7b_0242ac1c0002row26_col12{\n",
              "            background-color:  #5a78e4;\n",
              "            color:  #000000;\n",
              "        }#T_45a8ec8a_1548_11eb_ae7b_0242ac1c0002row8_col5,#T_45a8ec8a_1548_11eb_ae7b_0242ac1c0002row11_col25{\n",
              "            background-color:  #d5dbe5;\n",
              "            color:  #000000;\n",
              "        }#T_45a8ec8a_1548_11eb_ae7b_0242ac1c0002row8_col12{\n",
              "            background-color:  #f2cab5;\n",
              "            color:  #000000;\n",
              "        }#T_45a8ec8a_1548_11eb_ae7b_0242ac1c0002row8_col13{\n",
              "            background-color:  #f49a7b;\n",
              "            color:  #000000;\n",
              "        }#T_45a8ec8a_1548_11eb_ae7b_0242ac1c0002row8_col14,#T_45a8ec8a_1548_11eb_ae7b_0242ac1c0002row14_col8{\n",
              "            background-color:  #f7ac8e;\n",
              "            color:  #000000;\n",
              "        }#T_45a8ec8a_1548_11eb_ae7b_0242ac1c0002row8_col15,#T_45a8ec8a_1548_11eb_ae7b_0242ac1c0002row21_col12{\n",
              "            background-color:  #ed8366;\n",
              "            color:  #000000;\n",
              "        }#T_45a8ec8a_1548_11eb_ae7b_0242ac1c0002row8_col16,#T_45a8ec8a_1548_11eb_ae7b_0242ac1c0002row12_col6,#T_45a8ec8a_1548_11eb_ae7b_0242ac1c0002row16_col21,#T_45a8ec8a_1548_11eb_ae7b_0242ac1c0002row19_col3,#T_45a8ec8a_1548_11eb_ae7b_0242ac1c0002row20_col6{\n",
              "            background-color:  #7a9df8;\n",
              "            color:  #000000;\n",
              "        }#T_45a8ec8a_1548_11eb_ae7b_0242ac1c0002row8_col18{\n",
              "            background-color:  #f59d7e;\n",
              "            color:  #000000;\n",
              "        }#T_45a8ec8a_1548_11eb_ae7b_0242ac1c0002row8_col19,#T_45a8ec8a_1548_11eb_ae7b_0242ac1c0002row19_col21{\n",
              "            background-color:  #f5c0a7;\n",
              "            color:  #000000;\n",
              "        }#T_45a8ec8a_1548_11eb_ae7b_0242ac1c0002row8_col20{\n",
              "            background-color:  #f5c4ac;\n",
              "            color:  #000000;\n",
              "        }#T_45a8ec8a_1548_11eb_ae7b_0242ac1c0002row8_col21,#T_45a8ec8a_1548_11eb_ae7b_0242ac1c0002row13_col8,#T_45a8ec8a_1548_11eb_ae7b_0242ac1c0002row14_col18,#T_45a8ec8a_1548_11eb_ae7b_0242ac1c0002row15_col19,#T_45a8ec8a_1548_11eb_ae7b_0242ac1c0002row19_col18{\n",
              "            background-color:  #f7a889;\n",
              "            color:  #000000;\n",
              "        }#T_45a8ec8a_1548_11eb_ae7b_0242ac1c0002row8_col23,#T_45a8ec8a_1548_11eb_ae7b_0242ac1c0002row16_col17,#T_45a8ec8a_1548_11eb_ae7b_0242ac1c0002row18_col19{\n",
              "            background-color:  #f6bea4;\n",
              "            color:  #000000;\n",
              "        }#T_45a8ec8a_1548_11eb_ae7b_0242ac1c0002row8_col24{\n",
              "            background-color:  #efcfbf;\n",
              "            color:  #000000;\n",
              "        }#T_45a8ec8a_1548_11eb_ae7b_0242ac1c0002row8_col25,#T_45a8ec8a_1548_11eb_ae7b_0242ac1c0002row13_col17,#T_45a8ec8a_1548_11eb_ae7b_0242ac1c0002row19_col17{\n",
              "            background-color:  #7ea1fa;\n",
              "            color:  #000000;\n",
              "        }#T_45a8ec8a_1548_11eb_ae7b_0242ac1c0002row9_col16,#T_45a8ec8a_1548_11eb_ae7b_0242ac1c0002row15_col5{\n",
              "            background-color:  #e0dbd8;\n",
              "            color:  #000000;\n",
              "        }#T_45a8ec8a_1548_11eb_ae7b_0242ac1c0002row9_col17,#T_45a8ec8a_1548_11eb_ae7b_0242ac1c0002row13_col12,#T_45a8ec8a_1548_11eb_ae7b_0242ac1c0002row23_col24,#T_45a8ec8a_1548_11eb_ae7b_0242ac1c0002row24_col9{\n",
              "            background-color:  #ead5c9;\n",
              "            color:  #000000;\n",
              "        }#T_45a8ec8a_1548_11eb_ae7b_0242ac1c0002row9_col19,#T_45a8ec8a_1548_11eb_ae7b_0242ac1c0002row20_col23,#T_45a8ec8a_1548_11eb_ae7b_0242ac1c0002row23_col12{\n",
              "            background-color:  #d1dae9;\n",
              "            color:  #000000;\n",
              "        }#T_45a8ec8a_1548_11eb_ae7b_0242ac1c0002row9_col26,#T_45a8ec8a_1548_11eb_ae7b_0242ac1c0002row10_col25,#T_45a8ec8a_1548_11eb_ae7b_0242ac1c0002row14_col6{\n",
              "            background-color:  #d6dce4;\n",
              "            color:  #000000;\n",
              "        }#T_45a8ec8a_1548_11eb_ae7b_0242ac1c0002row10_col4{\n",
              "            background-color:  #455cce;\n",
              "            color:  #f1f1f1;\n",
              "        }#T_45a8ec8a_1548_11eb_ae7b_0242ac1c0002row10_col7,#T_45a8ec8a_1548_11eb_ae7b_0242ac1c0002row11_col20,#T_45a8ec8a_1548_11eb_ae7b_0242ac1c0002row14_col0,#T_45a8ec8a_1548_11eb_ae7b_0242ac1c0002row16_col18,#T_45a8ec8a_1548_11eb_ae7b_0242ac1c0002row19_col0,#T_45a8ec8a_1548_11eb_ae7b_0242ac1c0002row26_col8{\n",
              "            background-color:  #445acc;\n",
              "            color:  #f1f1f1;\n",
              "        }#T_45a8ec8a_1548_11eb_ae7b_0242ac1c0002row10_col11,#T_45a8ec8a_1548_11eb_ae7b_0242ac1c0002row13_col15,#T_45a8ec8a_1548_11eb_ae7b_0242ac1c0002row20_col21{\n",
              "            background-color:  #e67259;\n",
              "            color:  #000000;\n",
              "        }#T_45a8ec8a_1548_11eb_ae7b_0242ac1c0002row10_col13,#T_45a8ec8a_1548_11eb_ae7b_0242ac1c0002row10_col24,#T_45a8ec8a_1548_11eb_ae7b_0242ac1c0002row14_col3,#T_45a8ec8a_1548_11eb_ae7b_0242ac1c0002row16_col19,#T_45a8ec8a_1548_11eb_ae7b_0242ac1c0002row18_col22,#T_45a8ec8a_1548_11eb_ae7b_0242ac1c0002row20_col26{\n",
              "            background-color:  #7396f5;\n",
              "            color:  #000000;\n",
              "        }#T_45a8ec8a_1548_11eb_ae7b_0242ac1c0002row10_col17{\n",
              "            background-color:  #f2cbb7;\n",
              "            color:  #000000;\n",
              "        }#T_45a8ec8a_1548_11eb_ae7b_0242ac1c0002row11_col0,#T_45a8ec8a_1548_11eb_ae7b_0242ac1c0002row13_col16,#T_45a8ec8a_1548_11eb_ae7b_0242ac1c0002row15_col4,#T_45a8ec8a_1548_11eb_ae7b_0242ac1c0002row18_col3,#T_45a8ec8a_1548_11eb_ae7b_0242ac1c0002row21_col4{\n",
              "            background-color:  #506bda;\n",
              "            color:  #000000;\n",
              "        }#T_45a8ec8a_1548_11eb_ae7b_0242ac1c0002row11_col4,#T_45a8ec8a_1548_11eb_ae7b_0242ac1c0002row15_col0,#T_45a8ec8a_1548_11eb_ae7b_0242ac1c0002row16_col8,#T_45a8ec8a_1548_11eb_ae7b_0242ac1c0002row17_col3,#T_45a8ec8a_1548_11eb_ae7b_0242ac1c0002row24_col0,#T_45a8ec8a_1548_11eb_ae7b_0242ac1c0002row25_col8{\n",
              "            background-color:  #4b64d5;\n",
              "            color:  #f1f1f1;\n",
              "        }#T_45a8ec8a_1548_11eb_ae7b_0242ac1c0002row11_col10,#T_45a8ec8a_1548_11eb_ae7b_0242ac1c0002row23_col18{\n",
              "            background-color:  #e46e56;\n",
              "            color:  #000000;\n",
              "        }#T_45a8ec8a_1548_11eb_ae7b_0242ac1c0002row11_col17,#T_45a8ec8a_1548_11eb_ae7b_0242ac1c0002row17_col25{\n",
              "            background-color:  #f7b79b;\n",
              "            color:  #000000;\n",
              "        }#T_45a8ec8a_1548_11eb_ae7b_0242ac1c0002row11_col26,#T_45a8ec8a_1548_11eb_ae7b_0242ac1c0002row25_col11{\n",
              "            background-color:  #d2dbe8;\n",
              "            color:  #000000;\n",
              "        }#T_45a8ec8a_1548_11eb_ae7b_0242ac1c0002row12_col13,#T_45a8ec8a_1548_11eb_ae7b_0242ac1c0002row20_col13,#T_45a8ec8a_1548_11eb_ae7b_0242ac1c0002row26_col17{\n",
              "            background-color:  #ecd3c5;\n",
              "            color:  #000000;\n",
              "        }#T_45a8ec8a_1548_11eb_ae7b_0242ac1c0002row12_col15,#T_45a8ec8a_1548_11eb_ae7b_0242ac1c0002row13_col21,#T_45a8ec8a_1548_11eb_ae7b_0242ac1c0002row18_col8,#T_45a8ec8a_1548_11eb_ae7b_0242ac1c0002row23_col19{\n",
              "            background-color:  #f7b194;\n",
              "            color:  #000000;\n",
              "        }#T_45a8ec8a_1548_11eb_ae7b_0242ac1c0002row12_col17,#T_45a8ec8a_1548_11eb_ae7b_0242ac1c0002row16_col23,#T_45a8ec8a_1548_11eb_ae7b_0242ac1c0002row20_col2,#T_45a8ec8a_1548_11eb_ae7b_0242ac1c0002row21_col0,#T_45a8ec8a_1548_11eb_ae7b_0242ac1c0002row26_col4{\n",
              "            background-color:  #465ecf;\n",
              "            color:  #f1f1f1;\n",
              "        }#T_45a8ec8a_1548_11eb_ae7b_0242ac1c0002row12_col18,#T_45a8ec8a_1548_11eb_ae7b_0242ac1c0002row20_col18,#T_45a8ec8a_1548_11eb_ae7b_0242ac1c0002row24_col8{\n",
              "            background-color:  #f2c9b4;\n",
              "            color:  #000000;\n",
              "        }#T_45a8ec8a_1548_11eb_ae7b_0242ac1c0002row12_col20,#T_45a8ec8a_1548_11eb_ae7b_0242ac1c0002row13_col18,#T_45a8ec8a_1548_11eb_ae7b_0242ac1c0002row16_col26,#T_45a8ec8a_1548_11eb_ae7b_0242ac1c0002row18_col13,#T_45a8ec8a_1548_11eb_ae7b_0242ac1c0002row20_col12,#T_45a8ec8a_1548_11eb_ae7b_0242ac1c0002row26_col16{\n",
              "            background-color:  #bd1f2d;\n",
              "            color:  #f1f1f1;\n",
              "        }#T_45a8ec8a_1548_11eb_ae7b_0242ac1c0002row12_col21{\n",
              "            background-color:  #e97a5f;\n",
              "            color:  #000000;\n",
              "        }#T_45a8ec8a_1548_11eb_ae7b_0242ac1c0002row12_col22,#T_45a8ec8a_1548_11eb_ae7b_0242ac1c0002row17_col18,#T_45a8ec8a_1548_11eb_ae7b_0242ac1c0002row21_col22,#T_45a8ec8a_1548_11eb_ae7b_0242ac1c0002row23_col11,#T_45a8ec8a_1548_11eb_ae7b_0242ac1c0002row26_col14{\n",
              "            background-color:  #a1c0ff;\n",
              "            color:  #000000;\n",
              "        }#T_45a8ec8a_1548_11eb_ae7b_0242ac1c0002row13_col1,#T_45a8ec8a_1548_11eb_ae7b_0242ac1c0002row17_col7,#T_45a8ec8a_1548_11eb_ae7b_0242ac1c0002row20_col16{\n",
              "            background-color:  #6282ea;\n",
              "            color:  #000000;\n",
              "        }#T_45a8ec8a_1548_11eb_ae7b_0242ac1c0002row13_col14{\n",
              "            background-color:  #f59f80;\n",
              "            color:  #000000;\n",
              "        }#T_45a8ec8a_1548_11eb_ae7b_0242ac1c0002row13_col19{\n",
              "            background-color:  #f6a283;\n",
              "            color:  #000000;\n",
              "        }#T_45a8ec8a_1548_11eb_ae7b_0242ac1c0002row13_col20{\n",
              "            background-color:  #edd1c2;\n",
              "            color:  #000000;\n",
              "        }#T_45a8ec8a_1548_11eb_ae7b_0242ac1c0002row13_col22{\n",
              "            background-color:  #8caffe;\n",
              "            color:  #000000;\n",
              "        }#T_45a8ec8a_1548_11eb_ae7b_0242ac1c0002row13_col23{\n",
              "            background-color:  #e26952;\n",
              "            color:  #000000;\n",
              "        }#T_45a8ec8a_1548_11eb_ae7b_0242ac1c0002row13_col24,#T_45a8ec8a_1548_11eb_ae7b_0242ac1c0002row21_col14,#T_45a8ec8a_1548_11eb_ae7b_0242ac1c0002row24_col23{\n",
              "            background-color:  #f4c6af;\n",
              "            color:  #000000;\n",
              "        }#T_45a8ec8a_1548_11eb_ae7b_0242ac1c0002row14_col10,#T_45a8ec8a_1548_11eb_ae7b_0242ac1c0002row21_col26,#T_45a8ec8a_1548_11eb_ae7b_0242ac1c0002row22_col1{\n",
              "            background-color:  #779af7;\n",
              "            color:  #000000;\n",
              "        }#T_45a8ec8a_1548_11eb_ae7b_0242ac1c0002row14_col13{\n",
              "            background-color:  #f29274;\n",
              "            color:  #000000;\n",
              "        }#T_45a8ec8a_1548_11eb_ae7b_0242ac1c0002row14_col15{\n",
              "            background-color:  #dc5d4a;\n",
              "            color:  #000000;\n",
              "        }#T_45a8ec8a_1548_11eb_ae7b_0242ac1c0002row14_col19,#T_45a8ec8a_1548_11eb_ae7b_0242ac1c0002row21_col15{\n",
              "            background-color:  #ec8165;\n",
              "            color:  #000000;\n",
              "        }#T_45a8ec8a_1548_11eb_ae7b_0242ac1c0002row14_col20,#T_45a8ec8a_1548_11eb_ae7b_0242ac1c0002row22_col14{\n",
              "            background-color:  #e5d8d1;\n",
              "            color:  #000000;\n",
              "        }#T_45a8ec8a_1548_11eb_ae7b_0242ac1c0002row14_col21,#T_45a8ec8a_1548_11eb_ae7b_0242ac1c0002row20_col15{\n",
              "            background-color:  #f7af91;\n",
              "            color:  #000000;\n",
              "        }#T_45a8ec8a_1548_11eb_ae7b_0242ac1c0002row14_col23,#T_45a8ec8a_1548_11eb_ae7b_0242ac1c0002row15_col24,#T_45a8ec8a_1548_11eb_ae7b_0242ac1c0002row21_col13{\n",
              "            background-color:  #f7ba9f;\n",
              "            color:  #000000;\n",
              "        }#T_45a8ec8a_1548_11eb_ae7b_0242ac1c0002row14_col24,#T_45a8ec8a_1548_11eb_ae7b_0242ac1c0002row19_col15{\n",
              "            background-color:  #f59c7d;\n",
              "            color:  #000000;\n",
              "        }#T_45a8ec8a_1548_11eb_ae7b_0242ac1c0002row15_col8{\n",
              "            background-color:  #f08b6e;\n",
              "            color:  #000000;\n",
              "        }#T_45a8ec8a_1548_11eb_ae7b_0242ac1c0002row15_col9,#T_45a8ec8a_1548_11eb_ae7b_0242ac1c0002row18_col9{\n",
              "            background-color:  #9ebeff;\n",
              "            color:  #000000;\n",
              "        }#T_45a8ec8a_1548_11eb_ae7b_0242ac1c0002row15_col10,#T_45a8ec8a_1548_11eb_ae7b_0242ac1c0002row16_col20,#T_45a8ec8a_1548_11eb_ae7b_0242ac1c0002row22_col3{\n",
              "            background-color:  #5d7ce6;\n",
              "            color:  #000000;\n",
              "        }#T_45a8ec8a_1548_11eb_ae7b_0242ac1c0002row15_col12,#T_45a8ec8a_1548_11eb_ae7b_0242ac1c0002row24_col13{\n",
              "            background-color:  #f7b093;\n",
              "            color:  #000000;\n",
              "        }#T_45a8ec8a_1548_11eb_ae7b_0242ac1c0002row15_col13{\n",
              "            background-color:  #e57058;\n",
              "            color:  #000000;\n",
              "        }#T_45a8ec8a_1548_11eb_ae7b_0242ac1c0002row15_col14{\n",
              "            background-color:  #df634e;\n",
              "            color:  #000000;\n",
              "        }#T_45a8ec8a_1548_11eb_ae7b_0242ac1c0002row15_col18{\n",
              "            background-color:  #ea7b60;\n",
              "            color:  #000000;\n",
              "        }#T_45a8ec8a_1548_11eb_ae7b_0242ac1c0002row15_col20,#T_45a8ec8a_1548_11eb_ae7b_0242ac1c0002row15_col23,#T_45a8ec8a_1548_11eb_ae7b_0242ac1c0002row24_col15{\n",
              "            background-color:  #f7a98b;\n",
              "            color:  #000000;\n",
              "        }#T_45a8ec8a_1548_11eb_ae7b_0242ac1c0002row15_col21{\n",
              "            background-color:  #e9785d;\n",
              "            color:  #000000;\n",
              "        }#T_45a8ec8a_1548_11eb_ae7b_0242ac1c0002row16_col1,#T_45a8ec8a_1548_11eb_ae7b_0242ac1c0002row16_col3,#T_45a8ec8a_1548_11eb_ae7b_0242ac1c0002row21_col9,#T_45a8ec8a_1548_11eb_ae7b_0242ac1c0002row26_col15,#T_45a8ec8a_1548_11eb_ae7b_0242ac1c0002row26_col19{\n",
              "            background-color:  #6a8bef;\n",
              "            color:  #000000;\n",
              "        }#T_45a8ec8a_1548_11eb_ae7b_0242ac1c0002row16_col2,#T_45a8ec8a_1548_11eb_ae7b_0242ac1c0002row25_col20{\n",
              "            background-color:  #6180e9;\n",
              "            color:  #000000;\n",
              "        }#T_45a8ec8a_1548_11eb_ae7b_0242ac1c0002row16_col25,#T_45a8ec8a_1548_11eb_ae7b_0242ac1c0002row25_col16{\n",
              "            background-color:  #ba162b;\n",
              "            color:  #f1f1f1;\n",
              "        }#T_45a8ec8a_1548_11eb_ae7b_0242ac1c0002row17_col4,#T_45a8ec8a_1548_11eb_ae7b_0242ac1c0002row18_col17,#T_45a8ec8a_1548_11eb_ae7b_0242ac1c0002row24_col4{\n",
              "            background-color:  #6687ed;\n",
              "            color:  #000000;\n",
              "        }#T_45a8ec8a_1548_11eb_ae7b_0242ac1c0002row17_col10,#T_45a8ec8a_1548_11eb_ae7b_0242ac1c0002row18_col21{\n",
              "            background-color:  #f7b396;\n",
              "            color:  #000000;\n",
              "        }#T_45a8ec8a_1548_11eb_ae7b_0242ac1c0002row17_col11{\n",
              "            background-color:  #f6a385;\n",
              "            color:  #000000;\n",
              "        }#T_45a8ec8a_1548_11eb_ae7b_0242ac1c0002row17_col16,#T_45a8ec8a_1548_11eb_ae7b_0242ac1c0002row23_col15{\n",
              "            background-color:  #f7aa8c;\n",
              "            color:  #000000;\n",
              "        }#T_45a8ec8a_1548_11eb_ae7b_0242ac1c0002row17_col22{\n",
              "            background-color:  #f3c7b1;\n",
              "            color:  #000000;\n",
              "        }#T_45a8ec8a_1548_11eb_ae7b_0242ac1c0002row17_col24{\n",
              "            background-color:  #dddcdc;\n",
              "            color:  #000000;\n",
              "        }#T_45a8ec8a_1548_11eb_ae7b_0242ac1c0002row17_col26,#T_45a8ec8a_1548_11eb_ae7b_0242ac1c0002row18_col14{\n",
              "            background-color:  #f6bda2;\n",
              "            color:  #000000;\n",
              "        }#T_45a8ec8a_1548_11eb_ae7b_0242ac1c0002row18_col12,#T_45a8ec8a_1548_11eb_ae7b_0242ac1c0002row20_col8,#T_45a8ec8a_1548_11eb_ae7b_0242ac1c0002row22_col16{\n",
              "            background-color:  #edd2c3;\n",
              "            color:  #000000;\n",
              "        }#T_45a8ec8a_1548_11eb_ae7b_0242ac1c0002row18_col15{\n",
              "            background-color:  #ee8468;\n",
              "            color:  #000000;\n",
              "        }#T_45a8ec8a_1548_11eb_ae7b_0242ac1c0002row18_col20{\n",
              "            background-color:  #f0cdbb;\n",
              "            color:  #000000;\n",
              "        }#T_45a8ec8a_1548_11eb_ae7b_0242ac1c0002row18_col23,#T_45a8ec8a_1548_11eb_ae7b_0242ac1c0002row21_col20{\n",
              "            background-color:  #e8765c;\n",
              "            color:  #000000;\n",
              "        }#T_45a8ec8a_1548_11eb_ae7b_0242ac1c0002row19_col8,#T_45a8ec8a_1548_11eb_ae7b_0242ac1c0002row21_col8,#T_45a8ec8a_1548_11eb_ae7b_0242ac1c0002row24_col18{\n",
              "            background-color:  #f6bfa6;\n",
              "            color:  #000000;\n",
              "        }#T_45a8ec8a_1548_11eb_ae7b_0242ac1c0002row19_col13{\n",
              "            background-color:  #f39475;\n",
              "            color:  #000000;\n",
              "        }#T_45a8ec8a_1548_11eb_ae7b_0242ac1c0002row19_col14{\n",
              "            background-color:  #ec7f63;\n",
              "            color:  #000000;\n",
              "        }#T_45a8ec8a_1548_11eb_ae7b_0242ac1c0002row19_col23{\n",
              "            background-color:  #f6a586;\n",
              "            color:  #000000;\n",
              "        }#T_45a8ec8a_1548_11eb_ae7b_0242ac1c0002row19_col24,#T_45a8ec8a_1548_11eb_ae7b_0242ac1c0002row24_col5{\n",
              "            background-color:  #f1cdba;\n",
              "            color:  #000000;\n",
              "        }#T_45a8ec8a_1548_11eb_ae7b_0242ac1c0002row20_col14,#T_45a8ec8a_1548_11eb_ae7b_0242ac1c0002row22_col13,#T_45a8ec8a_1548_11eb_ae7b_0242ac1c0002row24_col25{\n",
              "            background-color:  #d3dbe7;\n",
              "            color:  #000000;\n",
              "        }#T_45a8ec8a_1548_11eb_ae7b_0242ac1c0002row21_col18,#T_45a8ec8a_1548_11eb_ae7b_0242ac1c0002row22_col17{\n",
              "            background-color:  #f7b497;\n",
              "            color:  #000000;\n",
              "        }#T_45a8ec8a_1548_11eb_ae7b_0242ac1c0002row21_col19,#T_45a8ec8a_1548_11eb_ae7b_0242ac1c0002row22_col26{\n",
              "            background-color:  #e9d5cb;\n",
              "            color:  #000000;\n",
              "        }#T_45a8ec8a_1548_11eb_ae7b_0242ac1c0002row22_col12,#T_45a8ec8a_1548_11eb_ae7b_0242ac1c0002row25_col10{\n",
              "            background-color:  #dbdcde;\n",
              "            color:  #000000;\n",
              "        }#T_45a8ec8a_1548_11eb_ae7b_0242ac1c0002row22_col21{\n",
              "            background-color:  #e8d6cc;\n",
              "            color:  #000000;\n",
              "        }#T_45a8ec8a_1548_11eb_ae7b_0242ac1c0002row23_col3,#T_45a8ec8a_1548_11eb_ae7b_0242ac1c0002row26_col2{\n",
              "            background-color:  #5572df;\n",
              "            color:  #000000;\n",
              "        }#T_45a8ec8a_1548_11eb_ae7b_0242ac1c0002row23_col8,#T_45a8ec8a_1548_11eb_ae7b_0242ac1c0002row24_col19{\n",
              "            background-color:  #f3c8b2;\n",
              "            color:  #000000;\n",
              "        }#T_45a8ec8a_1548_11eb_ae7b_0242ac1c0002row23_col13{\n",
              "            background-color:  #e16751;\n",
              "            color:  #000000;\n",
              "        }#T_45a8ec8a_1548_11eb_ae7b_0242ac1c0002row23_col14{\n",
              "            background-color:  #f4c5ad;\n",
              "            color:  #000000;\n",
              "        }#T_45a8ec8a_1548_11eb_ae7b_0242ac1c0002row23_col21{\n",
              "            background-color:  #efcebd;\n",
              "            color:  #000000;\n",
              "        }#T_45a8ec8a_1548_11eb_ae7b_0242ac1c0002row24_col14{\n",
              "            background-color:  #f39577;\n",
              "            color:  #000000;\n",
              "        }#T_45a8ec8a_1548_11eb_ae7b_0242ac1c0002row24_col17{\n",
              "            background-color:  #e2dad5;\n",
              "            color:  #000000;\n",
              "        }#T_45a8ec8a_1548_11eb_ae7b_0242ac1c0002row24_col26{\n",
              "            background-color:  #cedaeb;\n",
              "            color:  #000000;\n",
              "        }#T_45a8ec8a_1548_11eb_ae7b_0242ac1c0002row25_col13{\n",
              "            background-color:  #4055c8;\n",
              "            color:  #f1f1f1;\n",
              "        }#T_45a8ec8a_1548_11eb_ae7b_0242ac1c0002row25_col17{\n",
              "            background-color:  #f1ccb8;\n",
              "            color:  #000000;\n",
              "        }#T_45a8ec8a_1548_11eb_ae7b_0242ac1c0002row25_col26,#T_45a8ec8a_1548_11eb_ae7b_0242ac1c0002row26_col25{\n",
              "            background-color:  #bb1b2c;\n",
              "            color:  #f1f1f1;\n",
              "        }</style><table id=\"T_45a8ec8a_1548_11eb_ae7b_0242ac1c0002\" ><thead>    <tr>        <th class=\"blank level0\" ></th>        <th class=\"col_heading level0 col0\" >nationality</th>        <th class=\"col_heading level0 col1\" >club</th>        <th class=\"col_heading level0 col2\" >position</th>        <th class=\"col_heading level0 col3\" >preferred_foot</th>        <th class=\"col_heading level0 col4\" >work_rate</th>        <th class=\"col_heading level0 col5\" >wage_eur</th>        <th class=\"col_heading level0 col6\" >international_reputation</th>        <th class=\"col_heading level0 col7\" >weak_foot</th>        <th class=\"col_heading level0 col8\" >skill_moves</th>        <th class=\"col_heading level0 col9\" >age</th>        <th class=\"col_heading level0 col10\" >height_cm</th>        <th class=\"col_heading level0 col11\" >weight_kg</th>        <th class=\"col_heading level0 col12\" >pace</th>        <th class=\"col_heading level0 col13\" >shooting</th>        <th class=\"col_heading level0 col14\" >passing</th>        <th class=\"col_heading level0 col15\" >dribbling</th>        <th class=\"col_heading level0 col16\" >defending</th>        <th class=\"col_heading level0 col17\" >physic</th>        <th class=\"col_heading level0 col18\" >finishing</th>        <th class=\"col_heading level0 col19\" >fk_accuracy</th>        <th class=\"col_heading level0 col20\" >acceleration</th>        <th class=\"col_heading level0 col21\" >agility</th>        <th class=\"col_heading level0 col22\" >stamina</th>        <th class=\"col_heading level0 col23\" >penalties</th>        <th class=\"col_heading level0 col24\" >composure</th>        <th class=\"col_heading level0 col25\" >standing_tackle</th>        <th class=\"col_heading level0 col26\" >sliding_tackle</th>    </tr></thead><tbody>\n",
              "                <tr>\n",
              "                        <th id=\"T_45a8ec8a_1548_11eb_ae7b_0242ac1c0002level0_row0\" class=\"row_heading level0 row0\" >nationality</th>\n",
              "                        <td id=\"T_45a8ec8a_1548_11eb_ae7b_0242ac1c0002row0_col0\" class=\"data row0 col0\" >1.000000</td>\n",
              "                        <td id=\"T_45a8ec8a_1548_11eb_ae7b_0242ac1c0002row0_col1\" class=\"data row0 col1\" >0.077313</td>\n",
              "                        <td id=\"T_45a8ec8a_1548_11eb_ae7b_0242ac1c0002row0_col2\" class=\"data row0 col2\" >-0.003997</td>\n",
              "                        <td id=\"T_45a8ec8a_1548_11eb_ae7b_0242ac1c0002row0_col3\" class=\"data row0 col3\" >-0.014683</td>\n",
              "                        <td id=\"T_45a8ec8a_1548_11eb_ae7b_0242ac1c0002row0_col4\" class=\"data row0 col4\" >0.032484</td>\n",
              "                        <td id=\"T_45a8ec8a_1548_11eb_ae7b_0242ac1c0002row0_col5\" class=\"data row0 col5\" >-0.027357</td>\n",
              "                        <td id=\"T_45a8ec8a_1548_11eb_ae7b_0242ac1c0002row0_col6\" class=\"data row0 col6\" >-0.016410</td>\n",
              "                        <td id=\"T_45a8ec8a_1548_11eb_ae7b_0242ac1c0002row0_col7\" class=\"data row0 col7\" >0.015763</td>\n",
              "                        <td id=\"T_45a8ec8a_1548_11eb_ae7b_0242ac1c0002row0_col8\" class=\"data row0 col8\" >0.035486</td>\n",
              "                        <td id=\"T_45a8ec8a_1548_11eb_ae7b_0242ac1c0002row0_col9\" class=\"data row0 col9\" >0.018460</td>\n",
              "                        <td id=\"T_45a8ec8a_1548_11eb_ae7b_0242ac1c0002row0_col10\" class=\"data row0 col10\" >0.028326</td>\n",
              "                        <td id=\"T_45a8ec8a_1548_11eb_ae7b_0242ac1c0002row0_col11\" class=\"data row0 col11\" >0.042835</td>\n",
              "                        <td id=\"T_45a8ec8a_1548_11eb_ae7b_0242ac1c0002row0_col12\" class=\"data row0 col12\" >0.050261</td>\n",
              "                        <td id=\"T_45a8ec8a_1548_11eb_ae7b_0242ac1c0002row0_col13\" class=\"data row0 col13\" >0.036098</td>\n",
              "                        <td id=\"T_45a8ec8a_1548_11eb_ae7b_0242ac1c0002row0_col14\" class=\"data row0 col14\" >0.001359</td>\n",
              "                        <td id=\"T_45a8ec8a_1548_11eb_ae7b_0242ac1c0002row0_col15\" class=\"data row0 col15\" >0.025006</td>\n",
              "                        <td id=\"T_45a8ec8a_1548_11eb_ae7b_0242ac1c0002row0_col16\" class=\"data row0 col16\" >-0.032241</td>\n",
              "                        <td id=\"T_45a8ec8a_1548_11eb_ae7b_0242ac1c0002row0_col17\" class=\"data row0 col17\" >0.046236</td>\n",
              "                        <td id=\"T_45a8ec8a_1548_11eb_ae7b_0242ac1c0002row0_col18\" class=\"data row0 col18\" >0.031719</td>\n",
              "                        <td id=\"T_45a8ec8a_1548_11eb_ae7b_0242ac1c0002row0_col19\" class=\"data row0 col19\" >0.001099</td>\n",
              "                        <td id=\"T_45a8ec8a_1548_11eb_ae7b_0242ac1c0002row0_col20\" class=\"data row0 col20\" >0.046662</td>\n",
              "                        <td id=\"T_45a8ec8a_1548_11eb_ae7b_0242ac1c0002row0_col21\" class=\"data row0 col21\" >0.007397</td>\n",
              "                        <td id=\"T_45a8ec8a_1548_11eb_ae7b_0242ac1c0002row0_col22\" class=\"data row0 col22\" >0.019153</td>\n",
              "                        <td id=\"T_45a8ec8a_1548_11eb_ae7b_0242ac1c0002row0_col23\" class=\"data row0 col23\" >0.019057</td>\n",
              "                        <td id=\"T_45a8ec8a_1548_11eb_ae7b_0242ac1c0002row0_col24\" class=\"data row0 col24\" >0.023121</td>\n",
              "                        <td id=\"T_45a8ec8a_1548_11eb_ae7b_0242ac1c0002row0_col25\" class=\"data row0 col25\" >-0.028907</td>\n",
              "                        <td id=\"T_45a8ec8a_1548_11eb_ae7b_0242ac1c0002row0_col26\" class=\"data row0 col26\" >-0.033453</td>\n",
              "            </tr>\n",
              "            <tr>\n",
              "                        <th id=\"T_45a8ec8a_1548_11eb_ae7b_0242ac1c0002level0_row1\" class=\"row_heading level0 row1\" >club</th>\n",
              "                        <td id=\"T_45a8ec8a_1548_11eb_ae7b_0242ac1c0002row1_col0\" class=\"data row1 col0\" >0.077313</td>\n",
              "                        <td id=\"T_45a8ec8a_1548_11eb_ae7b_0242ac1c0002row1_col1\" class=\"data row1 col1\" >1.000000</td>\n",
              "                        <td id=\"T_45a8ec8a_1548_11eb_ae7b_0242ac1c0002row1_col2\" class=\"data row1 col2\" >0.047479</td>\n",
              "                        <td id=\"T_45a8ec8a_1548_11eb_ae7b_0242ac1c0002row1_col3\" class=\"data row1 col3\" >-0.009861</td>\n",
              "                        <td id=\"T_45a8ec8a_1548_11eb_ae7b_0242ac1c0002row1_col4\" class=\"data row1 col4\" >-0.033600</td>\n",
              "                        <td id=\"T_45a8ec8a_1548_11eb_ae7b_0242ac1c0002row1_col5\" class=\"data row1 col5\" >-0.302577</td>\n",
              "                        <td id=\"T_45a8ec8a_1548_11eb_ae7b_0242ac1c0002row1_col6\" class=\"data row1 col6\" >-0.225054</td>\n",
              "                        <td id=\"T_45a8ec8a_1548_11eb_ae7b_0242ac1c0002row1_col7\" class=\"data row1 col7\" >-0.058508</td>\n",
              "                        <td id=\"T_45a8ec8a_1548_11eb_ae7b_0242ac1c0002row1_col8\" class=\"data row1 col8\" >-0.165582</td>\n",
              "                        <td id=\"T_45a8ec8a_1548_11eb_ae7b_0242ac1c0002row1_col9\" class=\"data row1 col9\" >0.040307</td>\n",
              "                        <td id=\"T_45a8ec8a_1548_11eb_ae7b_0242ac1c0002row1_col10\" class=\"data row1 col10\" >-0.014169</td>\n",
              "                        <td id=\"T_45a8ec8a_1548_11eb_ae7b_0242ac1c0002row1_col11\" class=\"data row1 col11\" >-0.012970</td>\n",
              "                        <td id=\"T_45a8ec8a_1548_11eb_ae7b_0242ac1c0002row1_col12\" class=\"data row1 col12\" >-0.050188</td>\n",
              "                        <td id=\"T_45a8ec8a_1548_11eb_ae7b_0242ac1c0002row1_col13\" class=\"data row1 col13\" >-0.136641</td>\n",
              "                        <td id=\"T_45a8ec8a_1548_11eb_ae7b_0242ac1c0002row1_col14\" class=\"data row1 col14\" >-0.192507</td>\n",
              "                        <td id=\"T_45a8ec8a_1548_11eb_ae7b_0242ac1c0002row1_col15\" class=\"data row1 col15\" >-0.198585</td>\n",
              "                        <td id=\"T_45a8ec8a_1548_11eb_ae7b_0242ac1c0002row1_col16\" class=\"data row1 col16\" >-0.107832</td>\n",
              "                        <td id=\"T_45a8ec8a_1548_11eb_ae7b_0242ac1c0002row1_col17\" class=\"data row1 col17\" >-0.076624</td>\n",
              "                        <td id=\"T_45a8ec8a_1548_11eb_ae7b_0242ac1c0002row1_col18\" class=\"data row1 col18\" >-0.112177</td>\n",
              "                        <td id=\"T_45a8ec8a_1548_11eb_ae7b_0242ac1c0002row1_col19\" class=\"data row1 col19\" >-0.090912</td>\n",
              "                        <td id=\"T_45a8ec8a_1548_11eb_ae7b_0242ac1c0002row1_col20\" class=\"data row1 col20\" >-0.051492</td>\n",
              "                        <td id=\"T_45a8ec8a_1548_11eb_ae7b_0242ac1c0002row1_col21\" class=\"data row1 col21\" >-0.062508</td>\n",
              "                        <td id=\"T_45a8ec8a_1548_11eb_ae7b_0242ac1c0002row1_col22\" class=\"data row1 col22\" >-0.053403</td>\n",
              "                        <td id=\"T_45a8ec8a_1548_11eb_ae7b_0242ac1c0002row1_col23\" class=\"data row1 col23\" >-0.094059</td>\n",
              "                        <td id=\"T_45a8ec8a_1548_11eb_ae7b_0242ac1c0002row1_col24\" class=\"data row1 col24\" >-0.211127</td>\n",
              "                        <td id=\"T_45a8ec8a_1548_11eb_ae7b_0242ac1c0002row1_col25\" class=\"data row1 col25\" >-0.094197</td>\n",
              "                        <td id=\"T_45a8ec8a_1548_11eb_ae7b_0242ac1c0002row1_col26\" class=\"data row1 col26\" >-0.079058</td>\n",
              "            </tr>\n",
              "            <tr>\n",
              "                        <th id=\"T_45a8ec8a_1548_11eb_ae7b_0242ac1c0002level0_row2\" class=\"row_heading level0 row2\" >position</th>\n",
              "                        <td id=\"T_45a8ec8a_1548_11eb_ae7b_0242ac1c0002row2_col0\" class=\"data row2 col0\" >-0.003997</td>\n",
              "                        <td id=\"T_45a8ec8a_1548_11eb_ae7b_0242ac1c0002row2_col1\" class=\"data row2 col1\" >0.047479</td>\n",
              "                        <td id=\"T_45a8ec8a_1548_11eb_ae7b_0242ac1c0002row2_col2\" class=\"data row2 col2\" >1.000000</td>\n",
              "                        <td id=\"T_45a8ec8a_1548_11eb_ae7b_0242ac1c0002row2_col3\" class=\"data row2 col3\" >0.010910</td>\n",
              "                        <td id=\"T_45a8ec8a_1548_11eb_ae7b_0242ac1c0002row2_col4\" class=\"data row2 col4\" >0.085552</td>\n",
              "                        <td id=\"T_45a8ec8a_1548_11eb_ae7b_0242ac1c0002row2_col5\" class=\"data row2 col5\" >0.071862</td>\n",
              "                        <td id=\"T_45a8ec8a_1548_11eb_ae7b_0242ac1c0002row2_col6\" class=\"data row2 col6\" >0.084443</td>\n",
              "                        <td id=\"T_45a8ec8a_1548_11eb_ae7b_0242ac1c0002row2_col7\" class=\"data row2 col7\" >0.010924</td>\n",
              "                        <td id=\"T_45a8ec8a_1548_11eb_ae7b_0242ac1c0002row2_col8\" class=\"data row2 col8\" >-0.032007</td>\n",
              "                        <td id=\"T_45a8ec8a_1548_11eb_ae7b_0242ac1c0002row2_col9\" class=\"data row2 col9\" >0.209375</td>\n",
              "                        <td id=\"T_45a8ec8a_1548_11eb_ae7b_0242ac1c0002row2_col10\" class=\"data row2 col10\" >0.185126</td>\n",
              "                        <td id=\"T_45a8ec8a_1548_11eb_ae7b_0242ac1c0002row2_col11\" class=\"data row2 col11\" >0.210054</td>\n",
              "                        <td id=\"T_45a8ec8a_1548_11eb_ae7b_0242ac1c0002row2_col12\" class=\"data row2 col12\" >-0.025768</td>\n",
              "                        <td id=\"T_45a8ec8a_1548_11eb_ae7b_0242ac1c0002row2_col13\" class=\"data row2 col13\" >0.035979</td>\n",
              "                        <td id=\"T_45a8ec8a_1548_11eb_ae7b_0242ac1c0002row2_col14\" class=\"data row2 col14\" >-0.048000</td>\n",
              "                        <td id=\"T_45a8ec8a_1548_11eb_ae7b_0242ac1c0002row2_col15\" class=\"data row2 col15\" >-0.024580</td>\n",
              "                        <td id=\"T_45a8ec8a_1548_11eb_ae7b_0242ac1c0002row2_col16\" class=\"data row2 col16\" >0.038423</td>\n",
              "                        <td id=\"T_45a8ec8a_1548_11eb_ae7b_0242ac1c0002row2_col17\" class=\"data row2 col17\" >0.274705</td>\n",
              "                        <td id=\"T_45a8ec8a_1548_11eb_ae7b_0242ac1c0002row2_col18\" class=\"data row2 col18\" >0.033977</td>\n",
              "                        <td id=\"T_45a8ec8a_1548_11eb_ae7b_0242ac1c0002row2_col19\" class=\"data row2 col19\" >-0.044568</td>\n",
              "                        <td id=\"T_45a8ec8a_1548_11eb_ae7b_0242ac1c0002row2_col20\" class=\"data row2 col20\" >-0.052431</td>\n",
              "                        <td id=\"T_45a8ec8a_1548_11eb_ae7b_0242ac1c0002row2_col21\" class=\"data row2 col21\" >-0.096730</td>\n",
              "                        <td id=\"T_45a8ec8a_1548_11eb_ae7b_0242ac1c0002row2_col22\" class=\"data row2 col22\" >0.124838</td>\n",
              "                        <td id=\"T_45a8ec8a_1548_11eb_ae7b_0242ac1c0002row2_col23\" class=\"data row2 col23\" >0.061721</td>\n",
              "                        <td id=\"T_45a8ec8a_1548_11eb_ae7b_0242ac1c0002row2_col24\" class=\"data row2 col24\" >0.145368</td>\n",
              "                        <td id=\"T_45a8ec8a_1548_11eb_ae7b_0242ac1c0002row2_col25\" class=\"data row2 col25\" >0.003974</td>\n",
              "                        <td id=\"T_45a8ec8a_1548_11eb_ae7b_0242ac1c0002row2_col26\" class=\"data row2 col26\" >-0.001996</td>\n",
              "            </tr>\n",
              "            <tr>\n",
              "                        <th id=\"T_45a8ec8a_1548_11eb_ae7b_0242ac1c0002level0_row3\" class=\"row_heading level0 row3\" >preferred_foot</th>\n",
              "                        <td id=\"T_45a8ec8a_1548_11eb_ae7b_0242ac1c0002row3_col0\" class=\"data row3 col0\" >-0.014683</td>\n",
              "                        <td id=\"T_45a8ec8a_1548_11eb_ae7b_0242ac1c0002row3_col1\" class=\"data row3 col1\" >-0.009861</td>\n",
              "                        <td id=\"T_45a8ec8a_1548_11eb_ae7b_0242ac1c0002row3_col2\" class=\"data row3 col2\" >0.010910</td>\n",
              "                        <td id=\"T_45a8ec8a_1548_11eb_ae7b_0242ac1c0002row3_col3\" class=\"data row3 col3\" >1.000000</td>\n",
              "                        <td id=\"T_45a8ec8a_1548_11eb_ae7b_0242ac1c0002row3_col4\" class=\"data row3 col4\" >-0.009270</td>\n",
              "                        <td id=\"T_45a8ec8a_1548_11eb_ae7b_0242ac1c0002row3_col5\" class=\"data row3 col5\" >0.000605</td>\n",
              "                        <td id=\"T_45a8ec8a_1548_11eb_ae7b_0242ac1c0002row3_col6\" class=\"data row3 col6\" >-0.010053</td>\n",
              "                        <td id=\"T_45a8ec8a_1548_11eb_ae7b_0242ac1c0002row3_col7\" class=\"data row3 col7\" >-0.121429</td>\n",
              "                        <td id=\"T_45a8ec8a_1548_11eb_ae7b_0242ac1c0002row3_col8\" class=\"data row3 col8\" >0.042884</td>\n",
              "                        <td id=\"T_45a8ec8a_1548_11eb_ae7b_0242ac1c0002row3_col9\" class=\"data row3 col9\" >-0.014232</td>\n",
              "                        <td id=\"T_45a8ec8a_1548_11eb_ae7b_0242ac1c0002row3_col10\" class=\"data row3 col10\" >-0.051804</td>\n",
              "                        <td id=\"T_45a8ec8a_1548_11eb_ae7b_0242ac1c0002row3_col11\" class=\"data row3 col11\" >-0.054780</td>\n",
              "                        <td id=\"T_45a8ec8a_1548_11eb_ae7b_0242ac1c0002row3_col12\" class=\"data row3 col12\" >0.063549</td>\n",
              "                        <td id=\"T_45a8ec8a_1548_11eb_ae7b_0242ac1c0002row3_col13\" class=\"data row3 col13\" >-0.027307</td>\n",
              "                        <td id=\"T_45a8ec8a_1548_11eb_ae7b_0242ac1c0002row3_col14\" class=\"data row3 col14\" >0.077873</td>\n",
              "                        <td id=\"T_45a8ec8a_1548_11eb_ae7b_0242ac1c0002row3_col15\" class=\"data row3 col15\" >0.058204</td>\n",
              "                        <td id=\"T_45a8ec8a_1548_11eb_ae7b_0242ac1c0002row3_col16\" class=\"data row3 col16\" >0.045725</td>\n",
              "                        <td id=\"T_45a8ec8a_1548_11eb_ae7b_0242ac1c0002row3_col17\" class=\"data row3 col17\" >-0.057209</td>\n",
              "                        <td id=\"T_45a8ec8a_1548_11eb_ae7b_0242ac1c0002row3_col18\" class=\"data row3 col18\" >-0.040410</td>\n",
              "                        <td id=\"T_45a8ec8a_1548_11eb_ae7b_0242ac1c0002row3_col19\" class=\"data row3 col19\" >0.101361</td>\n",
              "                        <td id=\"T_45a8ec8a_1548_11eb_ae7b_0242ac1c0002row3_col20\" class=\"data row3 col20\" >0.062795</td>\n",
              "                        <td id=\"T_45a8ec8a_1548_11eb_ae7b_0242ac1c0002row3_col21\" class=\"data row3 col21\" >0.050093</td>\n",
              "                        <td id=\"T_45a8ec8a_1548_11eb_ae7b_0242ac1c0002row3_col22\" class=\"data row3 col22\" >0.002726</td>\n",
              "                        <td id=\"T_45a8ec8a_1548_11eb_ae7b_0242ac1c0002row3_col23\" class=\"data row3 col23\" >-0.023506</td>\n",
              "                        <td id=\"T_45a8ec8a_1548_11eb_ae7b_0242ac1c0002row3_col24\" class=\"data row3 col24\" >-0.007873</td>\n",
              "                        <td id=\"T_45a8ec8a_1548_11eb_ae7b_0242ac1c0002row3_col25\" class=\"data row3 col25\" >0.054965</td>\n",
              "                        <td id=\"T_45a8ec8a_1548_11eb_ae7b_0242ac1c0002row3_col26\" class=\"data row3 col26\" >0.067023</td>\n",
              "            </tr>\n",
              "            <tr>\n",
              "                        <th id=\"T_45a8ec8a_1548_11eb_ae7b_0242ac1c0002level0_row4\" class=\"row_heading level0 row4\" >work_rate</th>\n",
              "                        <td id=\"T_45a8ec8a_1548_11eb_ae7b_0242ac1c0002row4_col0\" class=\"data row4 col0\" >0.032484</td>\n",
              "                        <td id=\"T_45a8ec8a_1548_11eb_ae7b_0242ac1c0002row4_col1\" class=\"data row4 col1\" >-0.033600</td>\n",
              "                        <td id=\"T_45a8ec8a_1548_11eb_ae7b_0242ac1c0002row4_col2\" class=\"data row4 col2\" >0.085552</td>\n",
              "                        <td id=\"T_45a8ec8a_1548_11eb_ae7b_0242ac1c0002row4_col3\" class=\"data row4 col3\" >-0.009270</td>\n",
              "                        <td id=\"T_45a8ec8a_1548_11eb_ae7b_0242ac1c0002row4_col4\" class=\"data row4 col4\" >1.000000</td>\n",
              "                        <td id=\"T_45a8ec8a_1548_11eb_ae7b_0242ac1c0002row4_col5\" class=\"data row4 col5\" >0.060670</td>\n",
              "                        <td id=\"T_45a8ec8a_1548_11eb_ae7b_0242ac1c0002row4_col6\" class=\"data row4 col6\" >0.043988</td>\n",
              "                        <td id=\"T_45a8ec8a_1548_11eb_ae7b_0242ac1c0002row4_col7\" class=\"data row4 col7\" >0.014031</td>\n",
              "                        <td id=\"T_45a8ec8a_1548_11eb_ae7b_0242ac1c0002row4_col8\" class=\"data row4 col8\" >0.087815</td>\n",
              "                        <td id=\"T_45a8ec8a_1548_11eb_ae7b_0242ac1c0002row4_col9\" class=\"data row4 col9\" >0.107400</td>\n",
              "                        <td id=\"T_45a8ec8a_1548_11eb_ae7b_0242ac1c0002row4_col10\" class=\"data row4 col10\" >0.005945</td>\n",
              "                        <td id=\"T_45a8ec8a_1548_11eb_ae7b_0242ac1c0002row4_col11\" class=\"data row4 col11\" >0.023118</td>\n",
              "                        <td id=\"T_45a8ec8a_1548_11eb_ae7b_0242ac1c0002row4_col12\" class=\"data row4 col12\" >0.070135</td>\n",
              "                        <td id=\"T_45a8ec8a_1548_11eb_ae7b_0242ac1c0002row4_col13\" class=\"data row4 col13\" >0.063837</td>\n",
              "                        <td id=\"T_45a8ec8a_1548_11eb_ae7b_0242ac1c0002row4_col14\" class=\"data row4 col14\" >0.044415</td>\n",
              "                        <td id=\"T_45a8ec8a_1548_11eb_ae7b_0242ac1c0002row4_col15\" class=\"data row4 col15\" >0.042476</td>\n",
              "                        <td id=\"T_45a8ec8a_1548_11eb_ae7b_0242ac1c0002row4_col16\" class=\"data row4 col16\" >0.029592</td>\n",
              "                        <td id=\"T_45a8ec8a_1548_11eb_ae7b_0242ac1c0002row4_col17\" class=\"data row4 col17\" >0.110167</td>\n",
              "                        <td id=\"T_45a8ec8a_1548_11eb_ae7b_0242ac1c0002row4_col18\" class=\"data row4 col18\" >0.052512</td>\n",
              "                        <td id=\"T_45a8ec8a_1548_11eb_ae7b_0242ac1c0002row4_col19\" class=\"data row4 col19\" >0.035615</td>\n",
              "                        <td id=\"T_45a8ec8a_1548_11eb_ae7b_0242ac1c0002row4_col20\" class=\"data row4 col20\" >0.066709</td>\n",
              "                        <td id=\"T_45a8ec8a_1548_11eb_ae7b_0242ac1c0002row4_col21\" class=\"data row4 col21\" >0.041261</td>\n",
              "                        <td id=\"T_45a8ec8a_1548_11eb_ae7b_0242ac1c0002row4_col22\" class=\"data row4 col22\" >0.119122</td>\n",
              "                        <td id=\"T_45a8ec8a_1548_11eb_ae7b_0242ac1c0002row4_col23\" class=\"data row4 col23\" >0.052527</td>\n",
              "                        <td id=\"T_45a8ec8a_1548_11eb_ae7b_0242ac1c0002row4_col24\" class=\"data row4 col24\" >0.108924</td>\n",
              "                        <td id=\"T_45a8ec8a_1548_11eb_ae7b_0242ac1c0002row4_col25\" class=\"data row4 col25\" >0.016133</td>\n",
              "                        <td id=\"T_45a8ec8a_1548_11eb_ae7b_0242ac1c0002row4_col26\" class=\"data row4 col26\" >0.009773</td>\n",
              "            </tr>\n",
              "            <tr>\n",
              "                        <th id=\"T_45a8ec8a_1548_11eb_ae7b_0242ac1c0002level0_row5\" class=\"row_heading level0 row5\" >wage_eur</th>\n",
              "                        <td id=\"T_45a8ec8a_1548_11eb_ae7b_0242ac1c0002row5_col0\" class=\"data row5 col0\" >-0.027357</td>\n",
              "                        <td id=\"T_45a8ec8a_1548_11eb_ae7b_0242ac1c0002row5_col1\" class=\"data row5 col1\" >-0.302577</td>\n",
              "                        <td id=\"T_45a8ec8a_1548_11eb_ae7b_0242ac1c0002row5_col2\" class=\"data row5 col2\" >0.071862</td>\n",
              "                        <td id=\"T_45a8ec8a_1548_11eb_ae7b_0242ac1c0002row5_col3\" class=\"data row5 col3\" >0.000605</td>\n",
              "                        <td id=\"T_45a8ec8a_1548_11eb_ae7b_0242ac1c0002row5_col4\" class=\"data row5 col4\" >0.060670</td>\n",
              "                        <td id=\"T_45a8ec8a_1548_11eb_ae7b_0242ac1c0002row5_col5\" class=\"data row5 col5\" >1.000000</td>\n",
              "                        <td id=\"T_45a8ec8a_1548_11eb_ae7b_0242ac1c0002row5_col6\" class=\"data row5 col6\" >0.653625</td>\n",
              "                        <td id=\"T_45a8ec8a_1548_11eb_ae7b_0242ac1c0002row5_col7\" class=\"data row5 col7\" >0.155463</td>\n",
              "                        <td id=\"T_45a8ec8a_1548_11eb_ae7b_0242ac1c0002row5_col8\" class=\"data row5 col8\" >0.310488</td>\n",
              "                        <td id=\"T_45a8ec8a_1548_11eb_ae7b_0242ac1c0002row5_col9\" class=\"data row5 col9\" >0.161381</td>\n",
              "                        <td id=\"T_45a8ec8a_1548_11eb_ae7b_0242ac1c0002row5_col10\" class=\"data row5 col10\" >0.027613</td>\n",
              "                        <td id=\"T_45a8ec8a_1548_11eb_ae7b_0242ac1c0002row5_col11\" class=\"data row5 col11\" >0.077597</td>\n",
              "                        <td id=\"T_45a8ec8a_1548_11eb_ae7b_0242ac1c0002row5_col12\" class=\"data row5 col12\" >0.115440</td>\n",
              "                        <td id=\"T_45a8ec8a_1548_11eb_ae7b_0242ac1c0002row5_col13\" class=\"data row5 col13\" >0.303841</td>\n",
              "                        <td id=\"T_45a8ec8a_1548_11eb_ae7b_0242ac1c0002row5_col14\" class=\"data row5 col14\" >0.401879</td>\n",
              "                        <td id=\"T_45a8ec8a_1548_11eb_ae7b_0242ac1c0002row5_col15\" class=\"data row5 col15\" >0.368603</td>\n",
              "                        <td id=\"T_45a8ec8a_1548_11eb_ae7b_0242ac1c0002row5_col16\" class=\"data row5 col16\" >0.155467</td>\n",
              "                        <td id=\"T_45a8ec8a_1548_11eb_ae7b_0242ac1c0002row5_col17\" class=\"data row5 col17\" >0.215171</td>\n",
              "                        <td id=\"T_45a8ec8a_1548_11eb_ae7b_0242ac1c0002row5_col18\" class=\"data row5 col18\" >0.255102</td>\n",
              "                        <td id=\"T_45a8ec8a_1548_11eb_ae7b_0242ac1c0002row5_col19\" class=\"data row5 col19\" >0.269250</td>\n",
              "                        <td id=\"T_45a8ec8a_1548_11eb_ae7b_0242ac1c0002row5_col20\" class=\"data row5 col20\" >0.108589</td>\n",
              "                        <td id=\"T_45a8ec8a_1548_11eb_ae7b_0242ac1c0002row5_col21\" class=\"data row5 col21\" >0.147565</td>\n",
              "                        <td id=\"T_45a8ec8a_1548_11eb_ae7b_0242ac1c0002row5_col22\" class=\"data row5 col22\" >0.214899</td>\n",
              "                        <td id=\"T_45a8ec8a_1548_11eb_ae7b_0242ac1c0002row5_col23\" class=\"data row5 col23\" >0.261954</td>\n",
              "                        <td id=\"T_45a8ec8a_1548_11eb_ae7b_0242ac1c0002row5_col24\" class=\"data row5 col24\" >0.467444</td>\n",
              "                        <td id=\"T_45a8ec8a_1548_11eb_ae7b_0242ac1c0002row5_col25\" class=\"data row5 col25\" >0.123972</td>\n",
              "                        <td id=\"T_45a8ec8a_1548_11eb_ae7b_0242ac1c0002row5_col26\" class=\"data row5 col26\" >0.100846</td>\n",
              "            </tr>\n",
              "            <tr>\n",
              "                        <th id=\"T_45a8ec8a_1548_11eb_ae7b_0242ac1c0002level0_row6\" class=\"row_heading level0 row6\" >international_reputation</th>\n",
              "                        <td id=\"T_45a8ec8a_1548_11eb_ae7b_0242ac1c0002row6_col0\" class=\"data row6 col0\" >-0.016410</td>\n",
              "                        <td id=\"T_45a8ec8a_1548_11eb_ae7b_0242ac1c0002row6_col1\" class=\"data row6 col1\" >-0.225054</td>\n",
              "                        <td id=\"T_45a8ec8a_1548_11eb_ae7b_0242ac1c0002row6_col2\" class=\"data row6 col2\" >0.084443</td>\n",
              "                        <td id=\"T_45a8ec8a_1548_11eb_ae7b_0242ac1c0002row6_col3\" class=\"data row6 col3\" >-0.010053</td>\n",
              "                        <td id=\"T_45a8ec8a_1548_11eb_ae7b_0242ac1c0002row6_col4\" class=\"data row6 col4\" >0.043988</td>\n",
              "                        <td id=\"T_45a8ec8a_1548_11eb_ae7b_0242ac1c0002row6_col5\" class=\"data row6 col5\" >0.653625</td>\n",
              "                        <td id=\"T_45a8ec8a_1548_11eb_ae7b_0242ac1c0002row6_col6\" class=\"data row6 col6\" >1.000000</td>\n",
              "                        <td id=\"T_45a8ec8a_1548_11eb_ae7b_0242ac1c0002row6_col7\" class=\"data row6 col7\" >0.135735</td>\n",
              "                        <td id=\"T_45a8ec8a_1548_11eb_ae7b_0242ac1c0002row6_col8\" class=\"data row6 col8\" >0.265813</td>\n",
              "                        <td id=\"T_45a8ec8a_1548_11eb_ae7b_0242ac1c0002row6_col9\" class=\"data row6 col9\" >0.268249</td>\n",
              "                        <td id=\"T_45a8ec8a_1548_11eb_ae7b_0242ac1c0002row6_col10\" class=\"data row6 col10\" >0.036344</td>\n",
              "                        <td id=\"T_45a8ec8a_1548_11eb_ae7b_0242ac1c0002row6_col11\" class=\"data row6 col11\" >0.089977</td>\n",
              "                        <td id=\"T_45a8ec8a_1548_11eb_ae7b_0242ac1c0002row6_col12\" class=\"data row6 col12\" >0.016419</td>\n",
              "                        <td id=\"T_45a8ec8a_1548_11eb_ae7b_0242ac1c0002row6_col13\" class=\"data row6 col13\" >0.277565</td>\n",
              "                        <td id=\"T_45a8ec8a_1548_11eb_ae7b_0242ac1c0002row6_col14\" class=\"data row6 col14\" >0.358112</td>\n",
              "                        <td id=\"T_45a8ec8a_1548_11eb_ae7b_0242ac1c0002row6_col15\" class=\"data row6 col15\" >0.302146</td>\n",
              "                        <td id=\"T_45a8ec8a_1548_11eb_ae7b_0242ac1c0002row6_col16\" class=\"data row6 col16\" >0.128629</td>\n",
              "                        <td id=\"T_45a8ec8a_1548_11eb_ae7b_0242ac1c0002row6_col17\" class=\"data row6 col17\" >0.170343</td>\n",
              "                        <td id=\"T_45a8ec8a_1548_11eb_ae7b_0242ac1c0002row6_col18\" class=\"data row6 col18\" >0.223769</td>\n",
              "                        <td id=\"T_45a8ec8a_1548_11eb_ae7b_0242ac1c0002row6_col19\" class=\"data row6 col19\" >0.271798</td>\n",
              "                        <td id=\"T_45a8ec8a_1548_11eb_ae7b_0242ac1c0002row6_col20\" class=\"data row6 col20\" >0.017299</td>\n",
              "                        <td id=\"T_45a8ec8a_1548_11eb_ae7b_0242ac1c0002row6_col21\" class=\"data row6 col21\" >0.088577</td>\n",
              "                        <td id=\"T_45a8ec8a_1548_11eb_ae7b_0242ac1c0002row6_col22\" class=\"data row6 col22\" >0.099336</td>\n",
              "                        <td id=\"T_45a8ec8a_1548_11eb_ae7b_0242ac1c0002row6_col23\" class=\"data row6 col23\" >0.282453</td>\n",
              "                        <td id=\"T_45a8ec8a_1548_11eb_ae7b_0242ac1c0002row6_col24\" class=\"data row6 col24\" >0.430742</td>\n",
              "                        <td id=\"T_45a8ec8a_1548_11eb_ae7b_0242ac1c0002row6_col25\" class=\"data row6 col25\" >0.096453</td>\n",
              "                        <td id=\"T_45a8ec8a_1548_11eb_ae7b_0242ac1c0002row6_col26\" class=\"data row6 col26\" >0.076260</td>\n",
              "            </tr>\n",
              "            <tr>\n",
              "                        <th id=\"T_45a8ec8a_1548_11eb_ae7b_0242ac1c0002level0_row7\" class=\"row_heading level0 row7\" >weak_foot</th>\n",
              "                        <td id=\"T_45a8ec8a_1548_11eb_ae7b_0242ac1c0002row7_col0\" class=\"data row7 col0\" >0.015763</td>\n",
              "                        <td id=\"T_45a8ec8a_1548_11eb_ae7b_0242ac1c0002row7_col1\" class=\"data row7 col1\" >-0.058508</td>\n",
              "                        <td id=\"T_45a8ec8a_1548_11eb_ae7b_0242ac1c0002row7_col2\" class=\"data row7 col2\" >0.010924</td>\n",
              "                        <td id=\"T_45a8ec8a_1548_11eb_ae7b_0242ac1c0002row7_col3\" class=\"data row7 col3\" >-0.121429</td>\n",
              "                        <td id=\"T_45a8ec8a_1548_11eb_ae7b_0242ac1c0002row7_col4\" class=\"data row7 col4\" >0.014031</td>\n",
              "                        <td id=\"T_45a8ec8a_1548_11eb_ae7b_0242ac1c0002row7_col5\" class=\"data row7 col5\" >0.155463</td>\n",
              "                        <td id=\"T_45a8ec8a_1548_11eb_ae7b_0242ac1c0002row7_col6\" class=\"data row7 col6\" >0.135735</td>\n",
              "                        <td id=\"T_45a8ec8a_1548_11eb_ae7b_0242ac1c0002row7_col7\" class=\"data row7 col7\" >1.000000</td>\n",
              "                        <td id=\"T_45a8ec8a_1548_11eb_ae7b_0242ac1c0002row7_col8\" class=\"data row7 col8\" >0.275937</td>\n",
              "                        <td id=\"T_45a8ec8a_1548_11eb_ae7b_0242ac1c0002row7_col9\" class=\"data row7 col9\" >0.108586</td>\n",
              "                        <td id=\"T_45a8ec8a_1548_11eb_ae7b_0242ac1c0002row7_col10\" class=\"data row7 col10\" >-0.101405</td>\n",
              "                        <td id=\"T_45a8ec8a_1548_11eb_ae7b_0242ac1c0002row7_col11\" class=\"data row7 col11\" >-0.057470</td>\n",
              "                        <td id=\"T_45a8ec8a_1548_11eb_ae7b_0242ac1c0002row7_col12\" class=\"data row7 col12\" >0.153458</td>\n",
              "                        <td id=\"T_45a8ec8a_1548_11eb_ae7b_0242ac1c0002row7_col13\" class=\"data row7 col13\" >0.325084</td>\n",
              "                        <td id=\"T_45a8ec8a_1548_11eb_ae7b_0242ac1c0002row7_col14\" class=\"data row7 col14\" >0.287621</td>\n",
              "                        <td id=\"T_45a8ec8a_1548_11eb_ae7b_0242ac1c0002row7_col15\" class=\"data row7 col15\" >0.315249</td>\n",
              "                        <td id=\"T_45a8ec8a_1548_11eb_ae7b_0242ac1c0002row7_col16\" class=\"data row7 col16\" >-0.106722</td>\n",
              "                        <td id=\"T_45a8ec8a_1548_11eb_ae7b_0242ac1c0002row7_col17\" class=\"data row7 col17\" >0.006152</td>\n",
              "                        <td id=\"T_45a8ec8a_1548_11eb_ae7b_0242ac1c0002row7_col18\" class=\"data row7 col18\" >0.308058</td>\n",
              "                        <td id=\"T_45a8ec8a_1548_11eb_ae7b_0242ac1c0002row7_col19\" class=\"data row7 col19\" >0.260618</td>\n",
              "                        <td id=\"T_45a8ec8a_1548_11eb_ae7b_0242ac1c0002row7_col20\" class=\"data row7 col20\" >0.158181</td>\n",
              "                        <td id=\"T_45a8ec8a_1548_11eb_ae7b_0242ac1c0002row7_col21\" class=\"data row7 col21\" >0.225642</td>\n",
              "                        <td id=\"T_45a8ec8a_1548_11eb_ae7b_0242ac1c0002row7_col22\" class=\"data row7 col22\" >0.095195</td>\n",
              "                        <td id=\"T_45a8ec8a_1548_11eb_ae7b_0242ac1c0002row7_col23\" class=\"data row7 col23\" >0.263227</td>\n",
              "                        <td id=\"T_45a8ec8a_1548_11eb_ae7b_0242ac1c0002row7_col24\" class=\"data row7 col24\" >0.253705</td>\n",
              "                        <td id=\"T_45a8ec8a_1548_11eb_ae7b_0242ac1c0002row7_col25\" class=\"data row7 col25\" >-0.119885</td>\n",
              "                        <td id=\"T_45a8ec8a_1548_11eb_ae7b_0242ac1c0002row7_col26\" class=\"data row7 col26\" >-0.137384</td>\n",
              "            </tr>\n",
              "            <tr>\n",
              "                        <th id=\"T_45a8ec8a_1548_11eb_ae7b_0242ac1c0002level0_row8\" class=\"row_heading level0 row8\" >skill_moves</th>\n",
              "                        <td id=\"T_45a8ec8a_1548_11eb_ae7b_0242ac1c0002row8_col0\" class=\"data row8 col0\" >0.035486</td>\n",
              "                        <td id=\"T_45a8ec8a_1548_11eb_ae7b_0242ac1c0002row8_col1\" class=\"data row8 col1\" >-0.165582</td>\n",
              "                        <td id=\"T_45a8ec8a_1548_11eb_ae7b_0242ac1c0002row8_col2\" class=\"data row8 col2\" >-0.032007</td>\n",
              "                        <td id=\"T_45a8ec8a_1548_11eb_ae7b_0242ac1c0002row8_col3\" class=\"data row8 col3\" >0.042884</td>\n",
              "                        <td id=\"T_45a8ec8a_1548_11eb_ae7b_0242ac1c0002row8_col4\" class=\"data row8 col4\" >0.087815</td>\n",
              "                        <td id=\"T_45a8ec8a_1548_11eb_ae7b_0242ac1c0002row8_col5\" class=\"data row8 col5\" >0.310488</td>\n",
              "                        <td id=\"T_45a8ec8a_1548_11eb_ae7b_0242ac1c0002row8_col6\" class=\"data row8 col6\" >0.265813</td>\n",
              "                        <td id=\"T_45a8ec8a_1548_11eb_ae7b_0242ac1c0002row8_col7\" class=\"data row8 col7\" >0.275937</td>\n",
              "                        <td id=\"T_45a8ec8a_1548_11eb_ae7b_0242ac1c0002row8_col8\" class=\"data row8 col8\" >1.000000</td>\n",
              "                        <td id=\"T_45a8ec8a_1548_11eb_ae7b_0242ac1c0002row8_col9\" class=\"data row8 col9\" >0.126164</td>\n",
              "                        <td id=\"T_45a8ec8a_1548_11eb_ae7b_0242ac1c0002row8_col10\" class=\"data row8 col10\" >-0.294333</td>\n",
              "                        <td id=\"T_45a8ec8a_1548_11eb_ae7b_0242ac1c0002row8_col11\" class=\"data row8 col11\" >-0.210788</td>\n",
              "                        <td id=\"T_45a8ec8a_1548_11eb_ae7b_0242ac1c0002row8_col12\" class=\"data row8 col12\" >0.428312</td>\n",
              "                        <td id=\"T_45a8ec8a_1548_11eb_ae7b_0242ac1c0002row8_col13\" class=\"data row8 col13\" >0.627276</td>\n",
              "                        <td id=\"T_45a8ec8a_1548_11eb_ae7b_0242ac1c0002row8_col14\" class=\"data row8 col14\" >0.612978</td>\n",
              "                        <td id=\"T_45a8ec8a_1548_11eb_ae7b_0242ac1c0002row8_col15\" class=\"data row8 col15\" >0.717093</td>\n",
              "                        <td id=\"T_45a8ec8a_1548_11eb_ae7b_0242ac1c0002row8_col16\" class=\"data row8 col16\" >-0.218986</td>\n",
              "                        <td id=\"T_45a8ec8a_1548_11eb_ae7b_0242ac1c0002row8_col17\" class=\"data row8 col17\" >-0.078751</td>\n",
              "                        <td id=\"T_45a8ec8a_1548_11eb_ae7b_0242ac1c0002row8_col18\" class=\"data row8 col18\" >0.593474</td>\n",
              "                        <td id=\"T_45a8ec8a_1548_11eb_ae7b_0242ac1c0002row8_col19\" class=\"data row8 col19\" >0.537306</td>\n",
              "                        <td id=\"T_45a8ec8a_1548_11eb_ae7b_0242ac1c0002row8_col20\" class=\"data row8 col20\" >0.440234</td>\n",
              "                        <td id=\"T_45a8ec8a_1548_11eb_ae7b_0242ac1c0002row8_col21\" class=\"data row8 col21\" >0.537496</td>\n",
              "                        <td id=\"T_45a8ec8a_1548_11eb_ae7b_0242ac1c0002row8_col22\" class=\"data row8 col22\" >0.199459</td>\n",
              "                        <td id=\"T_45a8ec8a_1548_11eb_ae7b_0242ac1c0002row8_col23\" class=\"data row8 col23\" >0.494841</td>\n",
              "                        <td id=\"T_45a8ec8a_1548_11eb_ae7b_0242ac1c0002row8_col24\" class=\"data row8 col24\" >0.489644</td>\n",
              "                        <td id=\"T_45a8ec8a_1548_11eb_ae7b_0242ac1c0002row8_col25\" class=\"data row8 col25\" >-0.221787</td>\n",
              "                        <td id=\"T_45a8ec8a_1548_11eb_ae7b_0242ac1c0002row8_col26\" class=\"data row8 col26\" >-0.249358</td>\n",
              "            </tr>\n",
              "            <tr>\n",
              "                        <th id=\"T_45a8ec8a_1548_11eb_ae7b_0242ac1c0002level0_row9\" class=\"row_heading level0 row9\" >age</th>\n",
              "                        <td id=\"T_45a8ec8a_1548_11eb_ae7b_0242ac1c0002row9_col0\" class=\"data row9 col0\" >0.018460</td>\n",
              "                        <td id=\"T_45a8ec8a_1548_11eb_ae7b_0242ac1c0002row9_col1\" class=\"data row9 col1\" >0.040307</td>\n",
              "                        <td id=\"T_45a8ec8a_1548_11eb_ae7b_0242ac1c0002row9_col2\" class=\"data row9 col2\" >0.209375</td>\n",
              "                        <td id=\"T_45a8ec8a_1548_11eb_ae7b_0242ac1c0002row9_col3\" class=\"data row9 col3\" >-0.014232</td>\n",
              "                        <td id=\"T_45a8ec8a_1548_11eb_ae7b_0242ac1c0002row9_col4\" class=\"data row9 col4\" >0.107400</td>\n",
              "                        <td id=\"T_45a8ec8a_1548_11eb_ae7b_0242ac1c0002row9_col5\" class=\"data row9 col5\" >0.161381</td>\n",
              "                        <td id=\"T_45a8ec8a_1548_11eb_ae7b_0242ac1c0002row9_col6\" class=\"data row9 col6\" >0.268249</td>\n",
              "                        <td id=\"T_45a8ec8a_1548_11eb_ae7b_0242ac1c0002row9_col7\" class=\"data row9 col7\" >0.108586</td>\n",
              "                        <td id=\"T_45a8ec8a_1548_11eb_ae7b_0242ac1c0002row9_col8\" class=\"data row9 col8\" >0.126164</td>\n",
              "                        <td id=\"T_45a8ec8a_1548_11eb_ae7b_0242ac1c0002row9_col9\" class=\"data row9 col9\" >1.000000</td>\n",
              "                        <td id=\"T_45a8ec8a_1548_11eb_ae7b_0242ac1c0002row9_col10\" class=\"data row9 col10\" >0.059601</td>\n",
              "                        <td id=\"T_45a8ec8a_1548_11eb_ae7b_0242ac1c0002row9_col11\" class=\"data row9 col11\" >0.215588</td>\n",
              "                        <td id=\"T_45a8ec8a_1548_11eb_ae7b_0242ac1c0002row9_col12\" class=\"data row9 col12\" >-0.202236</td>\n",
              "                        <td id=\"T_45a8ec8a_1548_11eb_ae7b_0242ac1c0002row9_col13\" class=\"data row9 col13\" >0.238264</td>\n",
              "                        <td id=\"T_45a8ec8a_1548_11eb_ae7b_0242ac1c0002row9_col14\" class=\"data row9 col14\" >0.329996</td>\n",
              "                        <td id=\"T_45a8ec8a_1548_11eb_ae7b_0242ac1c0002row9_col15\" class=\"data row9 col15\" >0.155876</td>\n",
              "                        <td id=\"T_45a8ec8a_1548_11eb_ae7b_0242ac1c0002row9_col16\" class=\"data row9 col16\" >0.260232</td>\n",
              "                        <td id=\"T_45a8ec8a_1548_11eb_ae7b_0242ac1c0002row9_col17\" class=\"data row9 col17\" >0.434152</td>\n",
              "                        <td id=\"T_45a8ec8a_1548_11eb_ae7b_0242ac1c0002row9_col18\" class=\"data row9 col18\" >0.158518</td>\n",
              "                        <td id=\"T_45a8ec8a_1548_11eb_ae7b_0242ac1c0002row9_col19\" class=\"data row9 col19\" >0.303907</td>\n",
              "                        <td id=\"T_45a8ec8a_1548_11eb_ae7b_0242ac1c0002row9_col20\" class=\"data row9 col20\" >-0.201756</td>\n",
              "                        <td id=\"T_45a8ec8a_1548_11eb_ae7b_0242ac1c0002row9_col21\" class=\"data row9 col21\" >-0.019880</td>\n",
              "                        <td id=\"T_45a8ec8a_1548_11eb_ae7b_0242ac1c0002row9_col22\" class=\"data row9 col22\" >0.244088</td>\n",
              "                        <td id=\"T_45a8ec8a_1548_11eb_ae7b_0242ac1c0002row9_col23\" class=\"data row9 col23\" >0.254772</td>\n",
              "                        <td id=\"T_45a8ec8a_1548_11eb_ae7b_0242ac1c0002row9_col24\" class=\"data row9 col24\" >0.461608</td>\n",
              "                        <td id=\"T_45a8ec8a_1548_11eb_ae7b_0242ac1c0002row9_col25\" class=\"data row9 col25\" >0.202553</td>\n",
              "                        <td id=\"T_45a8ec8a_1548_11eb_ae7b_0242ac1c0002row9_col26\" class=\"data row9 col26\" >0.175703</td>\n",
              "            </tr>\n",
              "            <tr>\n",
              "                        <th id=\"T_45a8ec8a_1548_11eb_ae7b_0242ac1c0002level0_row10\" class=\"row_heading level0 row10\" >height_cm</th>\n",
              "                        <td id=\"T_45a8ec8a_1548_11eb_ae7b_0242ac1c0002row10_col0\" class=\"data row10 col0\" >0.028326</td>\n",
              "                        <td id=\"T_45a8ec8a_1548_11eb_ae7b_0242ac1c0002row10_col1\" class=\"data row10 col1\" >-0.014169</td>\n",
              "                        <td id=\"T_45a8ec8a_1548_11eb_ae7b_0242ac1c0002row10_col2\" class=\"data row10 col2\" >0.185126</td>\n",
              "                        <td id=\"T_45a8ec8a_1548_11eb_ae7b_0242ac1c0002row10_col3\" class=\"data row10 col3\" >-0.051804</td>\n",
              "                        <td id=\"T_45a8ec8a_1548_11eb_ae7b_0242ac1c0002row10_col4\" class=\"data row10 col4\" >0.005945</td>\n",
              "                        <td id=\"T_45a8ec8a_1548_11eb_ae7b_0242ac1c0002row10_col5\" class=\"data row10 col5\" >0.027613</td>\n",
              "                        <td id=\"T_45a8ec8a_1548_11eb_ae7b_0242ac1c0002row10_col6\" class=\"data row10 col6\" >0.036344</td>\n",
              "                        <td id=\"T_45a8ec8a_1548_11eb_ae7b_0242ac1c0002row10_col7\" class=\"data row10 col7\" >-0.101405</td>\n",
              "                        <td id=\"T_45a8ec8a_1548_11eb_ae7b_0242ac1c0002row10_col8\" class=\"data row10 col8\" >-0.294333</td>\n",
              "                        <td id=\"T_45a8ec8a_1548_11eb_ae7b_0242ac1c0002row10_col9\" class=\"data row10 col9\" >0.059601</td>\n",
              "                        <td id=\"T_45a8ec8a_1548_11eb_ae7b_0242ac1c0002row10_col10\" class=\"data row10 col10\" >1.000000</td>\n",
              "                        <td id=\"T_45a8ec8a_1548_11eb_ae7b_0242ac1c0002row10_col11\" class=\"data row10 col11\" >0.753335</td>\n",
              "                        <td id=\"T_45a8ec8a_1548_11eb_ae7b_0242ac1c0002row10_col12\" class=\"data row10 col12\" >-0.439510</td>\n",
              "                        <td id=\"T_45a8ec8a_1548_11eb_ae7b_0242ac1c0002row10_col13\" class=\"data row10 col13\" >-0.214231</td>\n",
              "                        <td id=\"T_45a8ec8a_1548_11eb_ae7b_0242ac1c0002row10_col14\" class=\"data row10 col14\" >-0.297529</td>\n",
              "                        <td id=\"T_45a8ec8a_1548_11eb_ae7b_0242ac1c0002row10_col15\" class=\"data row10 col15\" >-0.423798</td>\n",
              "                        <td id=\"T_45a8ec8a_1548_11eb_ae7b_0242ac1c0002row10_col16\" class=\"data row10 col16\" >0.225278</td>\n",
              "                        <td id=\"T_45a8ec8a_1548_11eb_ae7b_0242ac1c0002row10_col17\" class=\"data row10 col17\" >0.492981</td>\n",
              "                        <td id=\"T_45a8ec8a_1548_11eb_ae7b_0242ac1c0002row10_col18\" class=\"data row10 col18\" >-0.221072</td>\n",
              "                        <td id=\"T_45a8ec8a_1548_11eb_ae7b_0242ac1c0002row10_col19\" class=\"data row10 col19\" >-0.275331</td>\n",
              "                        <td id=\"T_45a8ec8a_1548_11eb_ae7b_0242ac1c0002row10_col20\" class=\"data row10 col20\" >-0.493021</td>\n",
              "                        <td id=\"T_45a8ec8a_1548_11eb_ae7b_0242ac1c0002row10_col21\" class=\"data row10 col21\" >-0.600928</td>\n",
              "                        <td id=\"T_45a8ec8a_1548_11eb_ae7b_0242ac1c0002row10_col22\" class=\"data row10 col22\" >-0.038534</td>\n",
              "                        <td id=\"T_45a8ec8a_1548_11eb_ae7b_0242ac1c0002row10_col23\" class=\"data row10 col23\" >-0.151528</td>\n",
              "                        <td id=\"T_45a8ec8a_1548_11eb_ae7b_0242ac1c0002row10_col24\" class=\"data row10 col24\" >0.005896</td>\n",
              "                        <td id=\"T_45a8ec8a_1548_11eb_ae7b_0242ac1c0002row10_col25\" class=\"data row10 col25\" >0.191213</td>\n",
              "                        <td id=\"T_45a8ec8a_1548_11eb_ae7b_0242ac1c0002row10_col26\" class=\"data row10 col26\" >0.162531</td>\n",
              "            </tr>\n",
              "            <tr>\n",
              "                        <th id=\"T_45a8ec8a_1548_11eb_ae7b_0242ac1c0002level0_row11\" class=\"row_heading level0 row11\" >weight_kg</th>\n",
              "                        <td id=\"T_45a8ec8a_1548_11eb_ae7b_0242ac1c0002row11_col0\" class=\"data row11 col0\" >0.042835</td>\n",
              "                        <td id=\"T_45a8ec8a_1548_11eb_ae7b_0242ac1c0002row11_col1\" class=\"data row11 col1\" >-0.012970</td>\n",
              "                        <td id=\"T_45a8ec8a_1548_11eb_ae7b_0242ac1c0002row11_col2\" class=\"data row11 col2\" >0.210054</td>\n",
              "                        <td id=\"T_45a8ec8a_1548_11eb_ae7b_0242ac1c0002row11_col3\" class=\"data row11 col3\" >-0.054780</td>\n",
              "                        <td id=\"T_45a8ec8a_1548_11eb_ae7b_0242ac1c0002row11_col4\" class=\"data row11 col4\" >0.023118</td>\n",
              "                        <td id=\"T_45a8ec8a_1548_11eb_ae7b_0242ac1c0002row11_col5\" class=\"data row11 col5\" >0.077597</td>\n",
              "                        <td id=\"T_45a8ec8a_1548_11eb_ae7b_0242ac1c0002row11_col6\" class=\"data row11 col6\" >0.089977</td>\n",
              "                        <td id=\"T_45a8ec8a_1548_11eb_ae7b_0242ac1c0002row11_col7\" class=\"data row11 col7\" >-0.057470</td>\n",
              "                        <td id=\"T_45a8ec8a_1548_11eb_ae7b_0242ac1c0002row11_col8\" class=\"data row11 col8\" >-0.210788</td>\n",
              "                        <td id=\"T_45a8ec8a_1548_11eb_ae7b_0242ac1c0002row11_col9\" class=\"data row11 col9\" >0.215588</td>\n",
              "                        <td id=\"T_45a8ec8a_1548_11eb_ae7b_0242ac1c0002row11_col10\" class=\"data row11 col10\" >0.753335</td>\n",
              "                        <td id=\"T_45a8ec8a_1548_11eb_ae7b_0242ac1c0002row11_col11\" class=\"data row11 col11\" >1.000000</td>\n",
              "                        <td id=\"T_45a8ec8a_1548_11eb_ae7b_0242ac1c0002row11_col12\" class=\"data row11 col12\" >-0.396156</td>\n",
              "                        <td id=\"T_45a8ec8a_1548_11eb_ae7b_0242ac1c0002row11_col13\" class=\"data row11 col13\" >-0.102765</td>\n",
              "                        <td id=\"T_45a8ec8a_1548_11eb_ae7b_0242ac1c0002row11_col14\" class=\"data row11 col14\" >-0.187555</td>\n",
              "                        <td id=\"T_45a8ec8a_1548_11eb_ae7b_0242ac1c0002row11_col15\" class=\"data row11 col15\" >-0.309025</td>\n",
              "                        <td id=\"T_45a8ec8a_1548_11eb_ae7b_0242ac1c0002row11_col16\" class=\"data row11 col16\" >0.222757</td>\n",
              "                        <td id=\"T_45a8ec8a_1548_11eb_ae7b_0242ac1c0002row11_col17\" class=\"data row11 col17\" >0.583596</td>\n",
              "                        <td id=\"T_45a8ec8a_1548_11eb_ae7b_0242ac1c0002row11_col18\" class=\"data row11 col18\" >-0.131233</td>\n",
              "                        <td id=\"T_45a8ec8a_1548_11eb_ae7b_0242ac1c0002row11_col19\" class=\"data row11 col19\" >-0.168362</td>\n",
              "                        <td id=\"T_45a8ec8a_1548_11eb_ae7b_0242ac1c0002row11_col20\" class=\"data row11 col20\" >-0.444265</td>\n",
              "                        <td id=\"T_45a8ec8a_1548_11eb_ae7b_0242ac1c0002row11_col21\" class=\"data row11 col21\" >-0.515685</td>\n",
              "                        <td id=\"T_45a8ec8a_1548_11eb_ae7b_0242ac1c0002row11_col22\" class=\"data row11 col22\" >0.032184</td>\n",
              "                        <td id=\"T_45a8ec8a_1548_11eb_ae7b_0242ac1c0002row11_col23\" class=\"data row11 col23\" >-0.053680</td>\n",
              "                        <td id=\"T_45a8ec8a_1548_11eb_ae7b_0242ac1c0002row11_col24\" class=\"data row11 col24\" >0.109151</td>\n",
              "                        <td id=\"T_45a8ec8a_1548_11eb_ae7b_0242ac1c0002row11_col25\" class=\"data row11 col25\" >0.181739</td>\n",
              "                        <td id=\"T_45a8ec8a_1548_11eb_ae7b_0242ac1c0002row11_col26\" class=\"data row11 col26\" >0.150624</td>\n",
              "            </tr>\n",
              "            <tr>\n",
              "                        <th id=\"T_45a8ec8a_1548_11eb_ae7b_0242ac1c0002level0_row12\" class=\"row_heading level0 row12\" >pace</th>\n",
              "                        <td id=\"T_45a8ec8a_1548_11eb_ae7b_0242ac1c0002row12_col0\" class=\"data row12 col0\" >0.050261</td>\n",
              "                        <td id=\"T_45a8ec8a_1548_11eb_ae7b_0242ac1c0002row12_col1\" class=\"data row12 col1\" >-0.050188</td>\n",
              "                        <td id=\"T_45a8ec8a_1548_11eb_ae7b_0242ac1c0002row12_col2\" class=\"data row12 col2\" >-0.025768</td>\n",
              "                        <td id=\"T_45a8ec8a_1548_11eb_ae7b_0242ac1c0002row12_col3\" class=\"data row12 col3\" >0.063549</td>\n",
              "                        <td id=\"T_45a8ec8a_1548_11eb_ae7b_0242ac1c0002row12_col4\" class=\"data row12 col4\" >0.070135</td>\n",
              "                        <td id=\"T_45a8ec8a_1548_11eb_ae7b_0242ac1c0002row12_col5\" class=\"data row12 col5\" >0.115440</td>\n",
              "                        <td id=\"T_45a8ec8a_1548_11eb_ae7b_0242ac1c0002row12_col6\" class=\"data row12 col6\" >0.016419</td>\n",
              "                        <td id=\"T_45a8ec8a_1548_11eb_ae7b_0242ac1c0002row12_col7\" class=\"data row12 col7\" >0.153458</td>\n",
              "                        <td id=\"T_45a8ec8a_1548_11eb_ae7b_0242ac1c0002row12_col8\" class=\"data row12 col8\" >0.428312</td>\n",
              "                        <td id=\"T_45a8ec8a_1548_11eb_ae7b_0242ac1c0002row12_col9\" class=\"data row12 col9\" >-0.202236</td>\n",
              "                        <td id=\"T_45a8ec8a_1548_11eb_ae7b_0242ac1c0002row12_col10\" class=\"data row12 col10\" >-0.439510</td>\n",
              "                        <td id=\"T_45a8ec8a_1548_11eb_ae7b_0242ac1c0002row12_col11\" class=\"data row12 col11\" >-0.396156</td>\n",
              "                        <td id=\"T_45a8ec8a_1548_11eb_ae7b_0242ac1c0002row12_col12\" class=\"data row12 col12\" >1.000000</td>\n",
              "                        <td id=\"T_45a8ec8a_1548_11eb_ae7b_0242ac1c0002row12_col13\" class=\"data row12 col13\" >0.356996</td>\n",
              "                        <td id=\"T_45a8ec8a_1548_11eb_ae7b_0242ac1c0002row12_col14\" class=\"data row12 col14\" >0.288838</td>\n",
              "                        <td id=\"T_45a8ec8a_1548_11eb_ae7b_0242ac1c0002row12_col15\" class=\"data row12 col15\" >0.553187</td>\n",
              "                        <td id=\"T_45a8ec8a_1548_11eb_ae7b_0242ac1c0002row12_col16\" class=\"data row12 col16\" >-0.319919</td>\n",
              "                        <td id=\"T_45a8ec8a_1548_11eb_ae7b_0242ac1c0002row12_col17\" class=\"data row12 col17\" >-0.210422</td>\n",
              "                        <td id=\"T_45a8ec8a_1548_11eb_ae7b_0242ac1c0002row12_col18\" class=\"data row12 col18\" >0.379864</td>\n",
              "                        <td id=\"T_45a8ec8a_1548_11eb_ae7b_0242ac1c0002row12_col19\" class=\"data row12 col19\" >0.211086</td>\n",
              "                        <td id=\"T_45a8ec8a_1548_11eb_ae7b_0242ac1c0002row12_col20\" class=\"data row12 col20\" >0.962836</td>\n",
              "                        <td id=\"T_45a8ec8a_1548_11eb_ae7b_0242ac1c0002row12_col21\" class=\"data row12 col21\" >0.718201</td>\n",
              "                        <td id=\"T_45a8ec8a_1548_11eb_ae7b_0242ac1c0002row12_col22\" class=\"data row12 col22\" >0.270170</td>\n",
              "                        <td id=\"T_45a8ec8a_1548_11eb_ae7b_0242ac1c0002row12_col23\" class=\"data row12 col23\" >0.212926</td>\n",
              "                        <td id=\"T_45a8ec8a_1548_11eb_ae7b_0242ac1c0002row12_col24\" class=\"data row12 col24\" >0.082792</td>\n",
              "                        <td id=\"T_45a8ec8a_1548_11eb_ae7b_0242ac1c0002row12_col25\" class=\"data row12 col25\" >-0.305076</td>\n",
              "                        <td id=\"T_45a8ec8a_1548_11eb_ae7b_0242ac1c0002row12_col26\" class=\"data row12 col26\" >-0.289500</td>\n",
              "            </tr>\n",
              "            <tr>\n",
              "                        <th id=\"T_45a8ec8a_1548_11eb_ae7b_0242ac1c0002level0_row13\" class=\"row_heading level0 row13\" >shooting</th>\n",
              "                        <td id=\"T_45a8ec8a_1548_11eb_ae7b_0242ac1c0002row13_col0\" class=\"data row13 col0\" >0.036098</td>\n",
              "                        <td id=\"T_45a8ec8a_1548_11eb_ae7b_0242ac1c0002row13_col1\" class=\"data row13 col1\" >-0.136641</td>\n",
              "                        <td id=\"T_45a8ec8a_1548_11eb_ae7b_0242ac1c0002row13_col2\" class=\"data row13 col2\" >0.035979</td>\n",
              "                        <td id=\"T_45a8ec8a_1548_11eb_ae7b_0242ac1c0002row13_col3\" class=\"data row13 col3\" >-0.027307</td>\n",
              "                        <td id=\"T_45a8ec8a_1548_11eb_ae7b_0242ac1c0002row13_col4\" class=\"data row13 col4\" >0.063837</td>\n",
              "                        <td id=\"T_45a8ec8a_1548_11eb_ae7b_0242ac1c0002row13_col5\" class=\"data row13 col5\" >0.303841</td>\n",
              "                        <td id=\"T_45a8ec8a_1548_11eb_ae7b_0242ac1c0002row13_col6\" class=\"data row13 col6\" >0.277565</td>\n",
              "                        <td id=\"T_45a8ec8a_1548_11eb_ae7b_0242ac1c0002row13_col7\" class=\"data row13 col7\" >0.325084</td>\n",
              "                        <td id=\"T_45a8ec8a_1548_11eb_ae7b_0242ac1c0002row13_col8\" class=\"data row13 col8\" >0.627276</td>\n",
              "                        <td id=\"T_45a8ec8a_1548_11eb_ae7b_0242ac1c0002row13_col9\" class=\"data row13 col9\" >0.238264</td>\n",
              "                        <td id=\"T_45a8ec8a_1548_11eb_ae7b_0242ac1c0002row13_col10\" class=\"data row13 col10\" >-0.214231</td>\n",
              "                        <td id=\"T_45a8ec8a_1548_11eb_ae7b_0242ac1c0002row13_col11\" class=\"data row13 col11\" >-0.102765</td>\n",
              "                        <td id=\"T_45a8ec8a_1548_11eb_ae7b_0242ac1c0002row13_col12\" class=\"data row13 col12\" >0.356996</td>\n",
              "                        <td id=\"T_45a8ec8a_1548_11eb_ae7b_0242ac1c0002row13_col13\" class=\"data row13 col13\" >1.000000</td>\n",
              "                        <td id=\"T_45a8ec8a_1548_11eb_ae7b_0242ac1c0002row13_col14\" class=\"data row13 col14\" >0.658804</td>\n",
              "                        <td id=\"T_45a8ec8a_1548_11eb_ae7b_0242ac1c0002row13_col15\" class=\"data row13 col15\" >0.769360</td>\n",
              "                        <td id=\"T_45a8ec8a_1548_11eb_ae7b_0242ac1c0002row13_col16\" class=\"data row13 col16\" >-0.409972</td>\n",
              "                        <td id=\"T_45a8ec8a_1548_11eb_ae7b_0242ac1c0002row13_col17\" class=\"data row13 col17\" >0.001276</td>\n",
              "                        <td id=\"T_45a8ec8a_1548_11eb_ae7b_0242ac1c0002row13_col18\" class=\"data row13 col18\" >0.963048</td>\n",
              "                        <td id=\"T_45a8ec8a_1548_11eb_ae7b_0242ac1c0002row13_col19\" class=\"data row13 col19\" >0.652351</td>\n",
              "                        <td id=\"T_45a8ec8a_1548_11eb_ae7b_0242ac1c0002row13_col20\" class=\"data row13 col20\" >0.359317</td>\n",
              "                        <td id=\"T_45a8ec8a_1548_11eb_ae7b_0242ac1c0002row13_col21\" class=\"data row13 col21\" >0.496044</td>\n",
              "                        <td id=\"T_45a8ec8a_1548_11eb_ae7b_0242ac1c0002row13_col22\" class=\"data row13 col22\" >0.205849</td>\n",
              "                        <td id=\"T_45a8ec8a_1548_11eb_ae7b_0242ac1c0002row13_col23\" class=\"data row13 col23\" >0.797208</td>\n",
              "                        <td id=\"T_45a8ec8a_1548_11eb_ae7b_0242ac1c0002row13_col24\" class=\"data row13 col24\" >0.539994</td>\n",
              "                        <td id=\"T_45a8ec8a_1548_11eb_ae7b_0242ac1c0002row13_col25\" class=\"data row13 col25\" >-0.440382</td>\n",
              "                        <td id=\"T_45a8ec8a_1548_11eb_ae7b_0242ac1c0002row13_col26\" class=\"data row13 col26\" >-0.474043</td>\n",
              "            </tr>\n",
              "            <tr>\n",
              "                        <th id=\"T_45a8ec8a_1548_11eb_ae7b_0242ac1c0002level0_row14\" class=\"row_heading level0 row14\" >passing</th>\n",
              "                        <td id=\"T_45a8ec8a_1548_11eb_ae7b_0242ac1c0002row14_col0\" class=\"data row14 col0\" >0.001359</td>\n",
              "                        <td id=\"T_45a8ec8a_1548_11eb_ae7b_0242ac1c0002row14_col1\" class=\"data row14 col1\" >-0.192507</td>\n",
              "                        <td id=\"T_45a8ec8a_1548_11eb_ae7b_0242ac1c0002row14_col2\" class=\"data row14 col2\" >-0.048000</td>\n",
              "                        <td id=\"T_45a8ec8a_1548_11eb_ae7b_0242ac1c0002row14_col3\" class=\"data row14 col3\" >0.077873</td>\n",
              "                        <td id=\"T_45a8ec8a_1548_11eb_ae7b_0242ac1c0002row14_col4\" class=\"data row14 col4\" >0.044415</td>\n",
              "                        <td id=\"T_45a8ec8a_1548_11eb_ae7b_0242ac1c0002row14_col5\" class=\"data row14 col5\" >0.401879</td>\n",
              "                        <td id=\"T_45a8ec8a_1548_11eb_ae7b_0242ac1c0002row14_col6\" class=\"data row14 col6\" >0.358112</td>\n",
              "                        <td id=\"T_45a8ec8a_1548_11eb_ae7b_0242ac1c0002row14_col7\" class=\"data row14 col7\" >0.287621</td>\n",
              "                        <td id=\"T_45a8ec8a_1548_11eb_ae7b_0242ac1c0002row14_col8\" class=\"data row14 col8\" >0.612978</td>\n",
              "                        <td id=\"T_45a8ec8a_1548_11eb_ae7b_0242ac1c0002row14_col9\" class=\"data row14 col9\" >0.329996</td>\n",
              "                        <td id=\"T_45a8ec8a_1548_11eb_ae7b_0242ac1c0002row14_col10\" class=\"data row14 col10\" >-0.297529</td>\n",
              "                        <td id=\"T_45a8ec8a_1548_11eb_ae7b_0242ac1c0002row14_col11\" class=\"data row14 col11\" >-0.187555</td>\n",
              "                        <td id=\"T_45a8ec8a_1548_11eb_ae7b_0242ac1c0002row14_col12\" class=\"data row14 col12\" >0.288838</td>\n",
              "                        <td id=\"T_45a8ec8a_1548_11eb_ae7b_0242ac1c0002row14_col13\" class=\"data row14 col13\" >0.658804</td>\n",
              "                        <td id=\"T_45a8ec8a_1548_11eb_ae7b_0242ac1c0002row14_col14\" class=\"data row14 col14\" >1.000000</td>\n",
              "                        <td id=\"T_45a8ec8a_1548_11eb_ae7b_0242ac1c0002row14_col15\" class=\"data row14 col15\" >0.828509</td>\n",
              "                        <td id=\"T_45a8ec8a_1548_11eb_ae7b_0242ac1c0002row14_col16\" class=\"data row14 col16\" >0.148928</td>\n",
              "                        <td id=\"T_45a8ec8a_1548_11eb_ae7b_0242ac1c0002row14_col17\" class=\"data row14 col17\" >0.130474</td>\n",
              "                        <td id=\"T_45a8ec8a_1548_11eb_ae7b_0242ac1c0002row14_col18\" class=\"data row14 col18\" >0.545523</td>\n",
              "                        <td id=\"T_45a8ec8a_1548_11eb_ae7b_0242ac1c0002row14_col19\" class=\"data row14 col19\" >0.751836</td>\n",
              "                        <td id=\"T_45a8ec8a_1548_11eb_ae7b_0242ac1c0002row14_col20\" class=\"data row14 col20\" >0.304815</td>\n",
              "                        <td id=\"T_45a8ec8a_1548_11eb_ae7b_0242ac1c0002row14_col21\" class=\"data row14 col21\" >0.506514</td>\n",
              "                        <td id=\"T_45a8ec8a_1548_11eb_ae7b_0242ac1c0002row14_col22\" class=\"data row14 col22\" >0.395675</td>\n",
              "                        <td id=\"T_45a8ec8a_1548_11eb_ae7b_0242ac1c0002row14_col23\" class=\"data row14 col23\" >0.511452</td>\n",
              "                        <td id=\"T_45a8ec8a_1548_11eb_ae7b_0242ac1c0002row14_col24\" class=\"data row14 col24\" >0.688056</td>\n",
              "                        <td id=\"T_45a8ec8a_1548_11eb_ae7b_0242ac1c0002row14_col25\" class=\"data row14 col25\" >0.128271</td>\n",
              "                        <td id=\"T_45a8ec8a_1548_11eb_ae7b_0242ac1c0002row14_col26\" class=\"data row14 col26\" >0.101310</td>\n",
              "            </tr>\n",
              "            <tr>\n",
              "                        <th id=\"T_45a8ec8a_1548_11eb_ae7b_0242ac1c0002level0_row15\" class=\"row_heading level0 row15\" >dribbling</th>\n",
              "                        <td id=\"T_45a8ec8a_1548_11eb_ae7b_0242ac1c0002row15_col0\" class=\"data row15 col0\" >0.025006</td>\n",
              "                        <td id=\"T_45a8ec8a_1548_11eb_ae7b_0242ac1c0002row15_col1\" class=\"data row15 col1\" >-0.198585</td>\n",
              "                        <td id=\"T_45a8ec8a_1548_11eb_ae7b_0242ac1c0002row15_col2\" class=\"data row15 col2\" >-0.024580</td>\n",
              "                        <td id=\"T_45a8ec8a_1548_11eb_ae7b_0242ac1c0002row15_col3\" class=\"data row15 col3\" >0.058204</td>\n",
              "                        <td id=\"T_45a8ec8a_1548_11eb_ae7b_0242ac1c0002row15_col4\" class=\"data row15 col4\" >0.042476</td>\n",
              "                        <td id=\"T_45a8ec8a_1548_11eb_ae7b_0242ac1c0002row15_col5\" class=\"data row15 col5\" >0.368603</td>\n",
              "                        <td id=\"T_45a8ec8a_1548_11eb_ae7b_0242ac1c0002row15_col6\" class=\"data row15 col6\" >0.302146</td>\n",
              "                        <td id=\"T_45a8ec8a_1548_11eb_ae7b_0242ac1c0002row15_col7\" class=\"data row15 col7\" >0.315249</td>\n",
              "                        <td id=\"T_45a8ec8a_1548_11eb_ae7b_0242ac1c0002row15_col8\" class=\"data row15 col8\" >0.717093</td>\n",
              "                        <td id=\"T_45a8ec8a_1548_11eb_ae7b_0242ac1c0002row15_col9\" class=\"data row15 col9\" >0.155876</td>\n",
              "                        <td id=\"T_45a8ec8a_1548_11eb_ae7b_0242ac1c0002row15_col10\" class=\"data row15 col10\" >-0.423798</td>\n",
              "                        <td id=\"T_45a8ec8a_1548_11eb_ae7b_0242ac1c0002row15_col11\" class=\"data row15 col11\" >-0.309025</td>\n",
              "                        <td id=\"T_45a8ec8a_1548_11eb_ae7b_0242ac1c0002row15_col12\" class=\"data row15 col12\" >0.553187</td>\n",
              "                        <td id=\"T_45a8ec8a_1548_11eb_ae7b_0242ac1c0002row15_col13\" class=\"data row15 col13\" >0.769360</td>\n",
              "                        <td id=\"T_45a8ec8a_1548_11eb_ae7b_0242ac1c0002row15_col14\" class=\"data row15 col14\" >0.828509</td>\n",
              "                        <td id=\"T_45a8ec8a_1548_11eb_ae7b_0242ac1c0002row15_col15\" class=\"data row15 col15\" >1.000000</td>\n",
              "                        <td id=\"T_45a8ec8a_1548_11eb_ae7b_0242ac1c0002row15_col16\" class=\"data row15 col16\" >-0.177263</td>\n",
              "                        <td id=\"T_45a8ec8a_1548_11eb_ae7b_0242ac1c0002row15_col17\" class=\"data row15 col17\" >-0.052508</td>\n",
              "                        <td id=\"T_45a8ec8a_1548_11eb_ae7b_0242ac1c0002row15_col18\" class=\"data row15 col18\" >0.713931</td>\n",
              "                        <td id=\"T_45a8ec8a_1548_11eb_ae7b_0242ac1c0002row15_col19\" class=\"data row15 col19\" >0.633500</td>\n",
              "                        <td id=\"T_45a8ec8a_1548_11eb_ae7b_0242ac1c0002row15_col20\" class=\"data row15 col20\" >0.566135</td>\n",
              "                        <td id=\"T_45a8ec8a_1548_11eb_ae7b_0242ac1c0002row15_col21\" class=\"data row15 col21\" >0.724472</td>\n",
              "                        <td id=\"T_45a8ec8a_1548_11eb_ae7b_0242ac1c0002row15_col22\" class=\"data row15 col22\" >0.331908</td>\n",
              "                        <td id=\"T_45a8ec8a_1548_11eb_ae7b_0242ac1c0002row15_col23\" class=\"data row15 col23\" >0.582424</td>\n",
              "                        <td id=\"T_45a8ec8a_1548_11eb_ae7b_0242ac1c0002row15_col24\" class=\"data row15 col24\" >0.586714</td>\n",
              "                        <td id=\"T_45a8ec8a_1548_11eb_ae7b_0242ac1c0002row15_col25\" class=\"data row15 col25\" >-0.192309</td>\n",
              "                        <td id=\"T_45a8ec8a_1548_11eb_ae7b_0242ac1c0002row15_col26\" class=\"data row15 col26\" >-0.210383</td>\n",
              "            </tr>\n",
              "            <tr>\n",
              "                        <th id=\"T_45a8ec8a_1548_11eb_ae7b_0242ac1c0002level0_row16\" class=\"row_heading level0 row16\" >defending</th>\n",
              "                        <td id=\"T_45a8ec8a_1548_11eb_ae7b_0242ac1c0002row16_col0\" class=\"data row16 col0\" >-0.032241</td>\n",
              "                        <td id=\"T_45a8ec8a_1548_11eb_ae7b_0242ac1c0002row16_col1\" class=\"data row16 col1\" >-0.107832</td>\n",
              "                        <td id=\"T_45a8ec8a_1548_11eb_ae7b_0242ac1c0002row16_col2\" class=\"data row16 col2\" >0.038423</td>\n",
              "                        <td id=\"T_45a8ec8a_1548_11eb_ae7b_0242ac1c0002row16_col3\" class=\"data row16 col3\" >0.045725</td>\n",
              "                        <td id=\"T_45a8ec8a_1548_11eb_ae7b_0242ac1c0002row16_col4\" class=\"data row16 col4\" >0.029592</td>\n",
              "                        <td id=\"T_45a8ec8a_1548_11eb_ae7b_0242ac1c0002row16_col5\" class=\"data row16 col5\" >0.155467</td>\n",
              "                        <td id=\"T_45a8ec8a_1548_11eb_ae7b_0242ac1c0002row16_col6\" class=\"data row16 col6\" >0.128629</td>\n",
              "                        <td id=\"T_45a8ec8a_1548_11eb_ae7b_0242ac1c0002row16_col7\" class=\"data row16 col7\" >-0.106722</td>\n",
              "                        <td id=\"T_45a8ec8a_1548_11eb_ae7b_0242ac1c0002row16_col8\" class=\"data row16 col8\" >-0.218986</td>\n",
              "                        <td id=\"T_45a8ec8a_1548_11eb_ae7b_0242ac1c0002row16_col9\" class=\"data row16 col9\" >0.260232</td>\n",
              "                        <td id=\"T_45a8ec8a_1548_11eb_ae7b_0242ac1c0002row16_col10\" class=\"data row16 col10\" >0.225278</td>\n",
              "                        <td id=\"T_45a8ec8a_1548_11eb_ae7b_0242ac1c0002row16_col11\" class=\"data row16 col11\" >0.222757</td>\n",
              "                        <td id=\"T_45a8ec8a_1548_11eb_ae7b_0242ac1c0002row16_col12\" class=\"data row16 col12\" >-0.319919</td>\n",
              "                        <td id=\"T_45a8ec8a_1548_11eb_ae7b_0242ac1c0002row16_col13\" class=\"data row16 col13\" >-0.409972</td>\n",
              "                        <td id=\"T_45a8ec8a_1548_11eb_ae7b_0242ac1c0002row16_col14\" class=\"data row16 col14\" >0.148928</td>\n",
              "                        <td id=\"T_45a8ec8a_1548_11eb_ae7b_0242ac1c0002row16_col15\" class=\"data row16 col15\" >-0.177263</td>\n",
              "                        <td id=\"T_45a8ec8a_1548_11eb_ae7b_0242ac1c0002row16_col16\" class=\"data row16 col16\" >1.000000</td>\n",
              "                        <td id=\"T_45a8ec8a_1548_11eb_ae7b_0242ac1c0002row16_col17\" class=\"data row16 col17\" >0.554204</td>\n",
              "                        <td id=\"T_45a8ec8a_1548_11eb_ae7b_0242ac1c0002row16_col18\" class=\"data row16 col18\" >-0.519922</td>\n",
              "                        <td id=\"T_45a8ec8a_1548_11eb_ae7b_0242ac1c0002row16_col19\" class=\"data row16 col19\" >-0.050804</td>\n",
              "                        <td id=\"T_45a8ec8a_1548_11eb_ae7b_0242ac1c0002row16_col20\" class=\"data row16 col20\" >-0.325981</td>\n",
              "                        <td id=\"T_45a8ec8a_1548_11eb_ae7b_0242ac1c0002row16_col21\" class=\"data row16 col21\" >-0.286174</td>\n",
              "                        <td id=\"T_45a8ec8a_1548_11eb_ae7b_0242ac1c0002row16_col22\" class=\"data row16 col22\" >0.345853</td>\n",
              "                        <td id=\"T_45a8ec8a_1548_11eb_ae7b_0242ac1c0002row16_col23\" class=\"data row16 col23\" >-0.369878</td>\n",
              "                        <td id=\"T_45a8ec8a_1548_11eb_ae7b_0242ac1c0002row16_col24\" class=\"data row16 col24\" >0.227414</td>\n",
              "                        <td id=\"T_45a8ec8a_1548_11eb_ae7b_0242ac1c0002row16_col25\" class=\"data row16 col25\" >0.975105</td>\n",
              "                        <td id=\"T_45a8ec8a_1548_11eb_ae7b_0242ac1c0002row16_col26\" class=\"data row16 col26\" >0.958774</td>\n",
              "            </tr>\n",
              "            <tr>\n",
              "                        <th id=\"T_45a8ec8a_1548_11eb_ae7b_0242ac1c0002level0_row17\" class=\"row_heading level0 row17\" >physic</th>\n",
              "                        <td id=\"T_45a8ec8a_1548_11eb_ae7b_0242ac1c0002row17_col0\" class=\"data row17 col0\" >0.046236</td>\n",
              "                        <td id=\"T_45a8ec8a_1548_11eb_ae7b_0242ac1c0002row17_col1\" class=\"data row17 col1\" >-0.076624</td>\n",
              "                        <td id=\"T_45a8ec8a_1548_11eb_ae7b_0242ac1c0002row17_col2\" class=\"data row17 col2\" >0.274705</td>\n",
              "                        <td id=\"T_45a8ec8a_1548_11eb_ae7b_0242ac1c0002row17_col3\" class=\"data row17 col3\" >-0.057209</td>\n",
              "                        <td id=\"T_45a8ec8a_1548_11eb_ae7b_0242ac1c0002row17_col4\" class=\"data row17 col4\" >0.110167</td>\n",
              "                        <td id=\"T_45a8ec8a_1548_11eb_ae7b_0242ac1c0002row17_col5\" class=\"data row17 col5\" >0.215171</td>\n",
              "                        <td id=\"T_45a8ec8a_1548_11eb_ae7b_0242ac1c0002row17_col6\" class=\"data row17 col6\" >0.170343</td>\n",
              "                        <td id=\"T_45a8ec8a_1548_11eb_ae7b_0242ac1c0002row17_col7\" class=\"data row17 col7\" >0.006152</td>\n",
              "                        <td id=\"T_45a8ec8a_1548_11eb_ae7b_0242ac1c0002row17_col8\" class=\"data row17 col8\" >-0.078751</td>\n",
              "                        <td id=\"T_45a8ec8a_1548_11eb_ae7b_0242ac1c0002row17_col9\" class=\"data row17 col9\" >0.434152</td>\n",
              "                        <td id=\"T_45a8ec8a_1548_11eb_ae7b_0242ac1c0002row17_col10\" class=\"data row17 col10\" >0.492981</td>\n",
              "                        <td id=\"T_45a8ec8a_1548_11eb_ae7b_0242ac1c0002row17_col11\" class=\"data row17 col11\" >0.583596</td>\n",
              "                        <td id=\"T_45a8ec8a_1548_11eb_ae7b_0242ac1c0002row17_col12\" class=\"data row17 col12\" >-0.210422</td>\n",
              "                        <td id=\"T_45a8ec8a_1548_11eb_ae7b_0242ac1c0002row17_col13\" class=\"data row17 col13\" >0.001276</td>\n",
              "                        <td id=\"T_45a8ec8a_1548_11eb_ae7b_0242ac1c0002row17_col14\" class=\"data row17 col14\" >0.130474</td>\n",
              "                        <td id=\"T_45a8ec8a_1548_11eb_ae7b_0242ac1c0002row17_col15\" class=\"data row17 col15\" >-0.052508</td>\n",
              "                        <td id=\"T_45a8ec8a_1548_11eb_ae7b_0242ac1c0002row17_col16\" class=\"data row17 col16\" >0.554204</td>\n",
              "                        <td id=\"T_45a8ec8a_1548_11eb_ae7b_0242ac1c0002row17_col17\" class=\"data row17 col17\" >1.000000</td>\n",
              "                        <td id=\"T_45a8ec8a_1548_11eb_ae7b_0242ac1c0002row17_col18\" class=\"data row17 col18\" >-0.089609</td>\n",
              "                        <td id=\"T_45a8ec8a_1548_11eb_ae7b_0242ac1c0002row17_col19\" class=\"data row17 col19\" >0.001371</td>\n",
              "                        <td id=\"T_45a8ec8a_1548_11eb_ae7b_0242ac1c0002row17_col20\" class=\"data row17 col20\" >-0.257490</td>\n",
              "                        <td id=\"T_45a8ec8a_1548_11eb_ae7b_0242ac1c0002row17_col21\" class=\"data row17 col21\" >-0.263050</td>\n",
              "                        <td id=\"T_45a8ec8a_1548_11eb_ae7b_0242ac1c0002row17_col22\" class=\"data row17 col22\" >0.594522</td>\n",
              "                        <td id=\"T_45a8ec8a_1548_11eb_ae7b_0242ac1c0002row17_col23\" class=\"data row17 col23\" >-0.016433</td>\n",
              "                        <td id=\"T_45a8ec8a_1548_11eb_ae7b_0242ac1c0002row17_col24\" class=\"data row17 col24\" >0.394820</td>\n",
              "                        <td id=\"T_45a8ec8a_1548_11eb_ae7b_0242ac1c0002row17_col25\" class=\"data row17 col25\" >0.491512</td>\n",
              "                        <td id=\"T_45a8ec8a_1548_11eb_ae7b_0242ac1c0002row17_col26\" class=\"data row17 col26\" >0.450726</td>\n",
              "            </tr>\n",
              "            <tr>\n",
              "                        <th id=\"T_45a8ec8a_1548_11eb_ae7b_0242ac1c0002level0_row18\" class=\"row_heading level0 row18\" >finishing</th>\n",
              "                        <td id=\"T_45a8ec8a_1548_11eb_ae7b_0242ac1c0002row18_col0\" class=\"data row18 col0\" >0.031719</td>\n",
              "                        <td id=\"T_45a8ec8a_1548_11eb_ae7b_0242ac1c0002row18_col1\" class=\"data row18 col1\" >-0.112177</td>\n",
              "                        <td id=\"T_45a8ec8a_1548_11eb_ae7b_0242ac1c0002row18_col2\" class=\"data row18 col2\" >0.033977</td>\n",
              "                        <td id=\"T_45a8ec8a_1548_11eb_ae7b_0242ac1c0002row18_col3\" class=\"data row18 col3\" >-0.040410</td>\n",
              "                        <td id=\"T_45a8ec8a_1548_11eb_ae7b_0242ac1c0002row18_col4\" class=\"data row18 col4\" >0.052512</td>\n",
              "                        <td id=\"T_45a8ec8a_1548_11eb_ae7b_0242ac1c0002row18_col5\" class=\"data row18 col5\" >0.255102</td>\n",
              "                        <td id=\"T_45a8ec8a_1548_11eb_ae7b_0242ac1c0002row18_col6\" class=\"data row18 col6\" >0.223769</td>\n",
              "                        <td id=\"T_45a8ec8a_1548_11eb_ae7b_0242ac1c0002row18_col7\" class=\"data row18 col7\" >0.308058</td>\n",
              "                        <td id=\"T_45a8ec8a_1548_11eb_ae7b_0242ac1c0002row18_col8\" class=\"data row18 col8\" >0.593474</td>\n",
              "                        <td id=\"T_45a8ec8a_1548_11eb_ae7b_0242ac1c0002row18_col9\" class=\"data row18 col9\" >0.158518</td>\n",
              "                        <td id=\"T_45a8ec8a_1548_11eb_ae7b_0242ac1c0002row18_col10\" class=\"data row18 col10\" >-0.221072</td>\n",
              "                        <td id=\"T_45a8ec8a_1548_11eb_ae7b_0242ac1c0002row18_col11\" class=\"data row18 col11\" >-0.131233</td>\n",
              "                        <td id=\"T_45a8ec8a_1548_11eb_ae7b_0242ac1c0002row18_col12\" class=\"data row18 col12\" >0.379864</td>\n",
              "                        <td id=\"T_45a8ec8a_1548_11eb_ae7b_0242ac1c0002row18_col13\" class=\"data row18 col13\" >0.963048</td>\n",
              "                        <td id=\"T_45a8ec8a_1548_11eb_ae7b_0242ac1c0002row18_col14\" class=\"data row18 col14\" >0.545523</td>\n",
              "                        <td id=\"T_45a8ec8a_1548_11eb_ae7b_0242ac1c0002row18_col15\" class=\"data row18 col15\" >0.713931</td>\n",
              "                        <td id=\"T_45a8ec8a_1548_11eb_ae7b_0242ac1c0002row18_col16\" class=\"data row18 col16\" >-0.519922</td>\n",
              "                        <td id=\"T_45a8ec8a_1548_11eb_ae7b_0242ac1c0002row18_col17\" class=\"data row18 col17\" >-0.089609</td>\n",
              "                        <td id=\"T_45a8ec8a_1548_11eb_ae7b_0242ac1c0002row18_col18\" class=\"data row18 col18\" >1.000000</td>\n",
              "                        <td id=\"T_45a8ec8a_1548_11eb_ae7b_0242ac1c0002row18_col19\" class=\"data row18 col19\" >0.548869</td>\n",
              "                        <td id=\"T_45a8ec8a_1548_11eb_ae7b_0242ac1c0002row18_col20\" class=\"data row18 col20\" >0.381950</td>\n",
              "                        <td id=\"T_45a8ec8a_1548_11eb_ae7b_0242ac1c0002row18_col21\" class=\"data row18 col21\" >0.489705</td>\n",
              "                        <td id=\"T_45a8ec8a_1548_11eb_ae7b_0242ac1c0002row18_col22\" class=\"data row18 col22\" >0.133323</td>\n",
              "                        <td id=\"T_45a8ec8a_1548_11eb_ae7b_0242ac1c0002row18_col23\" class=\"data row18 col23\" >0.755959</td>\n",
              "                        <td id=\"T_45a8ec8a_1548_11eb_ae7b_0242ac1c0002row18_col24\" class=\"data row18 col24\" >0.439169</td>\n",
              "                        <td id=\"T_45a8ec8a_1548_11eb_ae7b_0242ac1c0002row18_col25\" class=\"data row18 col25\" >-0.544180</td>\n",
              "                        <td id=\"T_45a8ec8a_1548_11eb_ae7b_0242ac1c0002row18_col26\" class=\"data row18 col26\" >-0.573951</td>\n",
              "            </tr>\n",
              "            <tr>\n",
              "                        <th id=\"T_45a8ec8a_1548_11eb_ae7b_0242ac1c0002level0_row19\" class=\"row_heading level0 row19\" >fk_accuracy</th>\n",
              "                        <td id=\"T_45a8ec8a_1548_11eb_ae7b_0242ac1c0002row19_col0\" class=\"data row19 col0\" >0.001099</td>\n",
              "                        <td id=\"T_45a8ec8a_1548_11eb_ae7b_0242ac1c0002row19_col1\" class=\"data row19 col1\" >-0.090912</td>\n",
              "                        <td id=\"T_45a8ec8a_1548_11eb_ae7b_0242ac1c0002row19_col2\" class=\"data row19 col2\" >-0.044568</td>\n",
              "                        <td id=\"T_45a8ec8a_1548_11eb_ae7b_0242ac1c0002row19_col3\" class=\"data row19 col3\" >0.101361</td>\n",
              "                        <td id=\"T_45a8ec8a_1548_11eb_ae7b_0242ac1c0002row19_col4\" class=\"data row19 col4\" >0.035615</td>\n",
              "                        <td id=\"T_45a8ec8a_1548_11eb_ae7b_0242ac1c0002row19_col5\" class=\"data row19 col5\" >0.269250</td>\n",
              "                        <td id=\"T_45a8ec8a_1548_11eb_ae7b_0242ac1c0002row19_col6\" class=\"data row19 col6\" >0.271798</td>\n",
              "                        <td id=\"T_45a8ec8a_1548_11eb_ae7b_0242ac1c0002row19_col7\" class=\"data row19 col7\" >0.260618</td>\n",
              "                        <td id=\"T_45a8ec8a_1548_11eb_ae7b_0242ac1c0002row19_col8\" class=\"data row19 col8\" >0.537306</td>\n",
              "                        <td id=\"T_45a8ec8a_1548_11eb_ae7b_0242ac1c0002row19_col9\" class=\"data row19 col9\" >0.303907</td>\n",
              "                        <td id=\"T_45a8ec8a_1548_11eb_ae7b_0242ac1c0002row19_col10\" class=\"data row19 col10\" >-0.275331</td>\n",
              "                        <td id=\"T_45a8ec8a_1548_11eb_ae7b_0242ac1c0002row19_col11\" class=\"data row19 col11\" >-0.168362</td>\n",
              "                        <td id=\"T_45a8ec8a_1548_11eb_ae7b_0242ac1c0002row19_col12\" class=\"data row19 col12\" >0.211086</td>\n",
              "                        <td id=\"T_45a8ec8a_1548_11eb_ae7b_0242ac1c0002row19_col13\" class=\"data row19 col13\" >0.652351</td>\n",
              "                        <td id=\"T_45a8ec8a_1548_11eb_ae7b_0242ac1c0002row19_col14\" class=\"data row19 col14\" >0.751836</td>\n",
              "                        <td id=\"T_45a8ec8a_1548_11eb_ae7b_0242ac1c0002row19_col15\" class=\"data row19 col15\" >0.633500</td>\n",
              "                        <td id=\"T_45a8ec8a_1548_11eb_ae7b_0242ac1c0002row19_col16\" class=\"data row19 col16\" >-0.050804</td>\n",
              "                        <td id=\"T_45a8ec8a_1548_11eb_ae7b_0242ac1c0002row19_col17\" class=\"data row19 col17\" >0.001371</td>\n",
              "                        <td id=\"T_45a8ec8a_1548_11eb_ae7b_0242ac1c0002row19_col18\" class=\"data row19 col18\" >0.548869</td>\n",
              "                        <td id=\"T_45a8ec8a_1548_11eb_ae7b_0242ac1c0002row19_col19\" class=\"data row19 col19\" >1.000000</td>\n",
              "                        <td id=\"T_45a8ec8a_1548_11eb_ae7b_0242ac1c0002row19_col20\" class=\"data row19 col20\" >0.233073</td>\n",
              "                        <td id=\"T_45a8ec8a_1548_11eb_ae7b_0242ac1c0002row19_col21\" class=\"data row19 col21\" >0.423369</td>\n",
              "                        <td id=\"T_45a8ec8a_1548_11eb_ae7b_0242ac1c0002row19_col22\" class=\"data row19 col22\" >0.223067</td>\n",
              "                        <td id=\"T_45a8ec8a_1548_11eb_ae7b_0242ac1c0002row19_col23\" class=\"data row19 col23\" >0.599249</td>\n",
              "                        <td id=\"T_45a8ec8a_1548_11eb_ae7b_0242ac1c0002row19_col24\" class=\"data row19 col24\" >0.505239</td>\n",
              "                        <td id=\"T_45a8ec8a_1548_11eb_ae7b_0242ac1c0002row19_col25\" class=\"data row19 col25\" >-0.061488</td>\n",
              "                        <td id=\"T_45a8ec8a_1548_11eb_ae7b_0242ac1c0002row19_col26\" class=\"data row19 col26\" >-0.085357</td>\n",
              "            </tr>\n",
              "            <tr>\n",
              "                        <th id=\"T_45a8ec8a_1548_11eb_ae7b_0242ac1c0002level0_row20\" class=\"row_heading level0 row20\" >acceleration</th>\n",
              "                        <td id=\"T_45a8ec8a_1548_11eb_ae7b_0242ac1c0002row20_col0\" class=\"data row20 col0\" >0.046662</td>\n",
              "                        <td id=\"T_45a8ec8a_1548_11eb_ae7b_0242ac1c0002row20_col1\" class=\"data row20 col1\" >-0.051492</td>\n",
              "                        <td id=\"T_45a8ec8a_1548_11eb_ae7b_0242ac1c0002row20_col2\" class=\"data row20 col2\" >-0.052431</td>\n",
              "                        <td id=\"T_45a8ec8a_1548_11eb_ae7b_0242ac1c0002row20_col3\" class=\"data row20 col3\" >0.062795</td>\n",
              "                        <td id=\"T_45a8ec8a_1548_11eb_ae7b_0242ac1c0002row20_col4\" class=\"data row20 col4\" >0.066709</td>\n",
              "                        <td id=\"T_45a8ec8a_1548_11eb_ae7b_0242ac1c0002row20_col5\" class=\"data row20 col5\" >0.108589</td>\n",
              "                        <td id=\"T_45a8ec8a_1548_11eb_ae7b_0242ac1c0002row20_col6\" class=\"data row20 col6\" >0.017299</td>\n",
              "                        <td id=\"T_45a8ec8a_1548_11eb_ae7b_0242ac1c0002row20_col7\" class=\"data row20 col7\" >0.158181</td>\n",
              "                        <td id=\"T_45a8ec8a_1548_11eb_ae7b_0242ac1c0002row20_col8\" class=\"data row20 col8\" >0.440234</td>\n",
              "                        <td id=\"T_45a8ec8a_1548_11eb_ae7b_0242ac1c0002row20_col9\" class=\"data row20 col9\" >-0.201756</td>\n",
              "                        <td id=\"T_45a8ec8a_1548_11eb_ae7b_0242ac1c0002row20_col10\" class=\"data row20 col10\" >-0.493021</td>\n",
              "                        <td id=\"T_45a8ec8a_1548_11eb_ae7b_0242ac1c0002row20_col11\" class=\"data row20 col11\" >-0.444265</td>\n",
              "                        <td id=\"T_45a8ec8a_1548_11eb_ae7b_0242ac1c0002row20_col12\" class=\"data row20 col12\" >0.962836</td>\n",
              "                        <td id=\"T_45a8ec8a_1548_11eb_ae7b_0242ac1c0002row20_col13\" class=\"data row20 col13\" >0.359317</td>\n",
              "                        <td id=\"T_45a8ec8a_1548_11eb_ae7b_0242ac1c0002row20_col14\" class=\"data row20 col14\" >0.304815</td>\n",
              "                        <td id=\"T_45a8ec8a_1548_11eb_ae7b_0242ac1c0002row20_col15\" class=\"data row20 col15\" >0.566135</td>\n",
              "                        <td id=\"T_45a8ec8a_1548_11eb_ae7b_0242ac1c0002row20_col16\" class=\"data row20 col16\" >-0.325981</td>\n",
              "                        <td id=\"T_45a8ec8a_1548_11eb_ae7b_0242ac1c0002row20_col17\" class=\"data row20 col17\" >-0.257490</td>\n",
              "                        <td id=\"T_45a8ec8a_1548_11eb_ae7b_0242ac1c0002row20_col18\" class=\"data row20 col18\" >0.381950</td>\n",
              "                        <td id=\"T_45a8ec8a_1548_11eb_ae7b_0242ac1c0002row20_col19\" class=\"data row20 col19\" >0.233073</td>\n",
              "                        <td id=\"T_45a8ec8a_1548_11eb_ae7b_0242ac1c0002row20_col20\" class=\"data row20 col20\" >1.000000</td>\n",
              "                        <td id=\"T_45a8ec8a_1548_11eb_ae7b_0242ac1c0002row20_col21\" class=\"data row20 col21\" >0.743493</td>\n",
              "                        <td id=\"T_45a8ec8a_1548_11eb_ae7b_0242ac1c0002row20_col22\" class=\"data row20 col22\" >0.249218</td>\n",
              "                        <td id=\"T_45a8ec8a_1548_11eb_ae7b_0242ac1c0002row20_col23\" class=\"data row20 col23\" >0.220394</td>\n",
              "                        <td id=\"T_45a8ec8a_1548_11eb_ae7b_0242ac1c0002row20_col24\" class=\"data row20 col24\" >0.077443</td>\n",
              "                        <td id=\"T_45a8ec8a_1548_11eb_ae7b_0242ac1c0002row20_col25\" class=\"data row20 col25\" >-0.308715</td>\n",
              "                        <td id=\"T_45a8ec8a_1548_11eb_ae7b_0242ac1c0002row20_col26\" class=\"data row20 col26\" >-0.292023</td>\n",
              "            </tr>\n",
              "            <tr>\n",
              "                        <th id=\"T_45a8ec8a_1548_11eb_ae7b_0242ac1c0002level0_row21\" class=\"row_heading level0 row21\" >agility</th>\n",
              "                        <td id=\"T_45a8ec8a_1548_11eb_ae7b_0242ac1c0002row21_col0\" class=\"data row21 col0\" >0.007397</td>\n",
              "                        <td id=\"T_45a8ec8a_1548_11eb_ae7b_0242ac1c0002row21_col1\" class=\"data row21 col1\" >-0.062508</td>\n",
              "                        <td id=\"T_45a8ec8a_1548_11eb_ae7b_0242ac1c0002row21_col2\" class=\"data row21 col2\" >-0.096730</td>\n",
              "                        <td id=\"T_45a8ec8a_1548_11eb_ae7b_0242ac1c0002row21_col3\" class=\"data row21 col3\" >0.050093</td>\n",
              "                        <td id=\"T_45a8ec8a_1548_11eb_ae7b_0242ac1c0002row21_col4\" class=\"data row21 col4\" >0.041261</td>\n",
              "                        <td id=\"T_45a8ec8a_1548_11eb_ae7b_0242ac1c0002row21_col5\" class=\"data row21 col5\" >0.147565</td>\n",
              "                        <td id=\"T_45a8ec8a_1548_11eb_ae7b_0242ac1c0002row21_col6\" class=\"data row21 col6\" >0.088577</td>\n",
              "                        <td id=\"T_45a8ec8a_1548_11eb_ae7b_0242ac1c0002row21_col7\" class=\"data row21 col7\" >0.225642</td>\n",
              "                        <td id=\"T_45a8ec8a_1548_11eb_ae7b_0242ac1c0002row21_col8\" class=\"data row21 col8\" >0.537496</td>\n",
              "                        <td id=\"T_45a8ec8a_1548_11eb_ae7b_0242ac1c0002row21_col9\" class=\"data row21 col9\" >-0.019880</td>\n",
              "                        <td id=\"T_45a8ec8a_1548_11eb_ae7b_0242ac1c0002row21_col10\" class=\"data row21 col10\" >-0.600928</td>\n",
              "                        <td id=\"T_45a8ec8a_1548_11eb_ae7b_0242ac1c0002row21_col11\" class=\"data row21 col11\" >-0.515685</td>\n",
              "                        <td id=\"T_45a8ec8a_1548_11eb_ae7b_0242ac1c0002row21_col12\" class=\"data row21 col12\" >0.718201</td>\n",
              "                        <td id=\"T_45a8ec8a_1548_11eb_ae7b_0242ac1c0002row21_col13\" class=\"data row21 col13\" >0.496044</td>\n",
              "                        <td id=\"T_45a8ec8a_1548_11eb_ae7b_0242ac1c0002row21_col14\" class=\"data row21 col14\" >0.506514</td>\n",
              "                        <td id=\"T_45a8ec8a_1548_11eb_ae7b_0242ac1c0002row21_col15\" class=\"data row21 col15\" >0.724472</td>\n",
              "                        <td id=\"T_45a8ec8a_1548_11eb_ae7b_0242ac1c0002row21_col16\" class=\"data row21 col16\" >-0.286174</td>\n",
              "                        <td id=\"T_45a8ec8a_1548_11eb_ae7b_0242ac1c0002row21_col17\" class=\"data row21 col17\" >-0.263050</td>\n",
              "                        <td id=\"T_45a8ec8a_1548_11eb_ae7b_0242ac1c0002row21_col18\" class=\"data row21 col18\" >0.489705</td>\n",
              "                        <td id=\"T_45a8ec8a_1548_11eb_ae7b_0242ac1c0002row21_col19\" class=\"data row21 col19\" >0.423369</td>\n",
              "                        <td id=\"T_45a8ec8a_1548_11eb_ae7b_0242ac1c0002row21_col20\" class=\"data row21 col20\" >0.743493</td>\n",
              "                        <td id=\"T_45a8ec8a_1548_11eb_ae7b_0242ac1c0002row21_col21\" class=\"data row21 col21\" >1.000000</td>\n",
              "                        <td id=\"T_45a8ec8a_1548_11eb_ae7b_0242ac1c0002row21_col22\" class=\"data row21 col22\" >0.269410</td>\n",
              "                        <td id=\"T_45a8ec8a_1548_11eb_ae7b_0242ac1c0002row21_col23\" class=\"data row21 col23\" >0.336513</td>\n",
              "                        <td id=\"T_45a8ec8a_1548_11eb_ae7b_0242ac1c0002row21_col24\" class=\"data row21 col24\" >0.244540</td>\n",
              "                        <td id=\"T_45a8ec8a_1548_11eb_ae7b_0242ac1c0002row21_col25\" class=\"data row21 col25\" >-0.277971</td>\n",
              "                        <td id=\"T_45a8ec8a_1548_11eb_ae7b_0242ac1c0002row21_col26\" class=\"data row21 col26\" >-0.273267</td>\n",
              "            </tr>\n",
              "            <tr>\n",
              "                        <th id=\"T_45a8ec8a_1548_11eb_ae7b_0242ac1c0002level0_row22\" class=\"row_heading level0 row22\" >stamina</th>\n",
              "                        <td id=\"T_45a8ec8a_1548_11eb_ae7b_0242ac1c0002row22_col0\" class=\"data row22 col0\" >0.019153</td>\n",
              "                        <td id=\"T_45a8ec8a_1548_11eb_ae7b_0242ac1c0002row22_col1\" class=\"data row22 col1\" >-0.053403</td>\n",
              "                        <td id=\"T_45a8ec8a_1548_11eb_ae7b_0242ac1c0002row22_col2\" class=\"data row22 col2\" >0.124838</td>\n",
              "                        <td id=\"T_45a8ec8a_1548_11eb_ae7b_0242ac1c0002row22_col3\" class=\"data row22 col3\" >0.002726</td>\n",
              "                        <td id=\"T_45a8ec8a_1548_11eb_ae7b_0242ac1c0002row22_col4\" class=\"data row22 col4\" >0.119122</td>\n",
              "                        <td id=\"T_45a8ec8a_1548_11eb_ae7b_0242ac1c0002row22_col5\" class=\"data row22 col5\" >0.214899</td>\n",
              "                        <td id=\"T_45a8ec8a_1548_11eb_ae7b_0242ac1c0002row22_col6\" class=\"data row22 col6\" >0.099336</td>\n",
              "                        <td id=\"T_45a8ec8a_1548_11eb_ae7b_0242ac1c0002row22_col7\" class=\"data row22 col7\" >0.095195</td>\n",
              "                        <td id=\"T_45a8ec8a_1548_11eb_ae7b_0242ac1c0002row22_col8\" class=\"data row22 col8\" >0.199459</td>\n",
              "                        <td id=\"T_45a8ec8a_1548_11eb_ae7b_0242ac1c0002row22_col9\" class=\"data row22 col9\" >0.244088</td>\n",
              "                        <td id=\"T_45a8ec8a_1548_11eb_ae7b_0242ac1c0002row22_col10\" class=\"data row22 col10\" >-0.038534</td>\n",
              "                        <td id=\"T_45a8ec8a_1548_11eb_ae7b_0242ac1c0002row22_col11\" class=\"data row22 col11\" >0.032184</td>\n",
              "                        <td id=\"T_45a8ec8a_1548_11eb_ae7b_0242ac1c0002row22_col12\" class=\"data row22 col12\" >0.270170</td>\n",
              "                        <td id=\"T_45a8ec8a_1548_11eb_ae7b_0242ac1c0002row22_col13\" class=\"data row22 col13\" >0.205849</td>\n",
              "                        <td id=\"T_45a8ec8a_1548_11eb_ae7b_0242ac1c0002row22_col14\" class=\"data row22 col14\" >0.395675</td>\n",
              "                        <td id=\"T_45a8ec8a_1548_11eb_ae7b_0242ac1c0002row22_col15\" class=\"data row22 col15\" >0.331908</td>\n",
              "                        <td id=\"T_45a8ec8a_1548_11eb_ae7b_0242ac1c0002row22_col16\" class=\"data row22 col16\" >0.345853</td>\n",
              "                        <td id=\"T_45a8ec8a_1548_11eb_ae7b_0242ac1c0002row22_col17\" class=\"data row22 col17\" >0.594522</td>\n",
              "                        <td id=\"T_45a8ec8a_1548_11eb_ae7b_0242ac1c0002row22_col18\" class=\"data row22 col18\" >0.133323</td>\n",
              "                        <td id=\"T_45a8ec8a_1548_11eb_ae7b_0242ac1c0002row22_col19\" class=\"data row22 col19\" >0.223067</td>\n",
              "                        <td id=\"T_45a8ec8a_1548_11eb_ae7b_0242ac1c0002row22_col20\" class=\"data row22 col20\" >0.249218</td>\n",
              "                        <td id=\"T_45a8ec8a_1548_11eb_ae7b_0242ac1c0002row22_col21\" class=\"data row22 col21\" >0.269410</td>\n",
              "                        <td id=\"T_45a8ec8a_1548_11eb_ae7b_0242ac1c0002row22_col22\" class=\"data row22 col22\" >1.000000</td>\n",
              "                        <td id=\"T_45a8ec8a_1548_11eb_ae7b_0242ac1c0002row22_col23\" class=\"data row22 col23\" >0.097221</td>\n",
              "                        <td id=\"T_45a8ec8a_1548_11eb_ae7b_0242ac1c0002row22_col24\" class=\"data row22 col24\" >0.373434</td>\n",
              "                        <td id=\"T_45a8ec8a_1548_11eb_ae7b_0242ac1c0002row22_col25\" class=\"data row22 col25\" >0.312927</td>\n",
              "                        <td id=\"T_45a8ec8a_1548_11eb_ae7b_0242ac1c0002row22_col26\" class=\"data row22 col26\" >0.287429</td>\n",
              "            </tr>\n",
              "            <tr>\n",
              "                        <th id=\"T_45a8ec8a_1548_11eb_ae7b_0242ac1c0002level0_row23\" class=\"row_heading level0 row23\" >penalties</th>\n",
              "                        <td id=\"T_45a8ec8a_1548_11eb_ae7b_0242ac1c0002row23_col0\" class=\"data row23 col0\" >0.019057</td>\n",
              "                        <td id=\"T_45a8ec8a_1548_11eb_ae7b_0242ac1c0002row23_col1\" class=\"data row23 col1\" >-0.094059</td>\n",
              "                        <td id=\"T_45a8ec8a_1548_11eb_ae7b_0242ac1c0002row23_col2\" class=\"data row23 col2\" >0.061721</td>\n",
              "                        <td id=\"T_45a8ec8a_1548_11eb_ae7b_0242ac1c0002row23_col3\" class=\"data row23 col3\" >-0.023506</td>\n",
              "                        <td id=\"T_45a8ec8a_1548_11eb_ae7b_0242ac1c0002row23_col4\" class=\"data row23 col4\" >0.052527</td>\n",
              "                        <td id=\"T_45a8ec8a_1548_11eb_ae7b_0242ac1c0002row23_col5\" class=\"data row23 col5\" >0.261954</td>\n",
              "                        <td id=\"T_45a8ec8a_1548_11eb_ae7b_0242ac1c0002row23_col6\" class=\"data row23 col6\" >0.282453</td>\n",
              "                        <td id=\"T_45a8ec8a_1548_11eb_ae7b_0242ac1c0002row23_col7\" class=\"data row23 col7\" >0.263227</td>\n",
              "                        <td id=\"T_45a8ec8a_1548_11eb_ae7b_0242ac1c0002row23_col8\" class=\"data row23 col8\" >0.494841</td>\n",
              "                        <td id=\"T_45a8ec8a_1548_11eb_ae7b_0242ac1c0002row23_col9\" class=\"data row23 col9\" >0.254772</td>\n",
              "                        <td id=\"T_45a8ec8a_1548_11eb_ae7b_0242ac1c0002row23_col10\" class=\"data row23 col10\" >-0.151528</td>\n",
              "                        <td id=\"T_45a8ec8a_1548_11eb_ae7b_0242ac1c0002row23_col11\" class=\"data row23 col11\" >-0.053680</td>\n",
              "                        <td id=\"T_45a8ec8a_1548_11eb_ae7b_0242ac1c0002row23_col12\" class=\"data row23 col12\" >0.212926</td>\n",
              "                        <td id=\"T_45a8ec8a_1548_11eb_ae7b_0242ac1c0002row23_col13\" class=\"data row23 col13\" >0.797208</td>\n",
              "                        <td id=\"T_45a8ec8a_1548_11eb_ae7b_0242ac1c0002row23_col14\" class=\"data row23 col14\" >0.511452</td>\n",
              "                        <td id=\"T_45a8ec8a_1548_11eb_ae7b_0242ac1c0002row23_col15\" class=\"data row23 col15\" >0.582424</td>\n",
              "                        <td id=\"T_45a8ec8a_1548_11eb_ae7b_0242ac1c0002row23_col16\" class=\"data row23 col16\" >-0.369878</td>\n",
              "                        <td id=\"T_45a8ec8a_1548_11eb_ae7b_0242ac1c0002row23_col17\" class=\"data row23 col17\" >-0.016433</td>\n",
              "                        <td id=\"T_45a8ec8a_1548_11eb_ae7b_0242ac1c0002row23_col18\" class=\"data row23 col18\" >0.755959</td>\n",
              "                        <td id=\"T_45a8ec8a_1548_11eb_ae7b_0242ac1c0002row23_col19\" class=\"data row23 col19\" >0.599249</td>\n",
              "                        <td id=\"T_45a8ec8a_1548_11eb_ae7b_0242ac1c0002row23_col20\" class=\"data row23 col20\" >0.220394</td>\n",
              "                        <td id=\"T_45a8ec8a_1548_11eb_ae7b_0242ac1c0002row23_col21\" class=\"data row23 col21\" >0.336513</td>\n",
              "                        <td id=\"T_45a8ec8a_1548_11eb_ae7b_0242ac1c0002row23_col22\" class=\"data row23 col22\" >0.097221</td>\n",
              "                        <td id=\"T_45a8ec8a_1548_11eb_ae7b_0242ac1c0002row23_col23\" class=\"data row23 col23\" >1.000000</td>\n",
              "                        <td id=\"T_45a8ec8a_1548_11eb_ae7b_0242ac1c0002row23_col24\" class=\"data row23 col24\" >0.457639</td>\n",
              "                        <td id=\"T_45a8ec8a_1548_11eb_ae7b_0242ac1c0002row23_col25\" class=\"data row23 col25\" >-0.402437</td>\n",
              "                        <td id=\"T_45a8ec8a_1548_11eb_ae7b_0242ac1c0002row23_col26\" class=\"data row23 col26\" >-0.429278</td>\n",
              "            </tr>\n",
              "            <tr>\n",
              "                        <th id=\"T_45a8ec8a_1548_11eb_ae7b_0242ac1c0002level0_row24\" class=\"row_heading level0 row24\" >composure</th>\n",
              "                        <td id=\"T_45a8ec8a_1548_11eb_ae7b_0242ac1c0002row24_col0\" class=\"data row24 col0\" >0.023121</td>\n",
              "                        <td id=\"T_45a8ec8a_1548_11eb_ae7b_0242ac1c0002row24_col1\" class=\"data row24 col1\" >-0.211127</td>\n",
              "                        <td id=\"T_45a8ec8a_1548_11eb_ae7b_0242ac1c0002row24_col2\" class=\"data row24 col2\" >0.145368</td>\n",
              "                        <td id=\"T_45a8ec8a_1548_11eb_ae7b_0242ac1c0002row24_col3\" class=\"data row24 col3\" >-0.007873</td>\n",
              "                        <td id=\"T_45a8ec8a_1548_11eb_ae7b_0242ac1c0002row24_col4\" class=\"data row24 col4\" >0.108924</td>\n",
              "                        <td id=\"T_45a8ec8a_1548_11eb_ae7b_0242ac1c0002row24_col5\" class=\"data row24 col5\" >0.467444</td>\n",
              "                        <td id=\"T_45a8ec8a_1548_11eb_ae7b_0242ac1c0002row24_col6\" class=\"data row24 col6\" >0.430742</td>\n",
              "                        <td id=\"T_45a8ec8a_1548_11eb_ae7b_0242ac1c0002row24_col7\" class=\"data row24 col7\" >0.253705</td>\n",
              "                        <td id=\"T_45a8ec8a_1548_11eb_ae7b_0242ac1c0002row24_col8\" class=\"data row24 col8\" >0.489644</td>\n",
              "                        <td id=\"T_45a8ec8a_1548_11eb_ae7b_0242ac1c0002row24_col9\" class=\"data row24 col9\" >0.461608</td>\n",
              "                        <td id=\"T_45a8ec8a_1548_11eb_ae7b_0242ac1c0002row24_col10\" class=\"data row24 col10\" >0.005896</td>\n",
              "                        <td id=\"T_45a8ec8a_1548_11eb_ae7b_0242ac1c0002row24_col11\" class=\"data row24 col11\" >0.109151</td>\n",
              "                        <td id=\"T_45a8ec8a_1548_11eb_ae7b_0242ac1c0002row24_col12\" class=\"data row24 col12\" >0.082792</td>\n",
              "                        <td id=\"T_45a8ec8a_1548_11eb_ae7b_0242ac1c0002row24_col13\" class=\"data row24 col13\" >0.539994</td>\n",
              "                        <td id=\"T_45a8ec8a_1548_11eb_ae7b_0242ac1c0002row24_col14\" class=\"data row24 col14\" >0.688056</td>\n",
              "                        <td id=\"T_45a8ec8a_1548_11eb_ae7b_0242ac1c0002row24_col15\" class=\"data row24 col15\" >0.586714</td>\n",
              "                        <td id=\"T_45a8ec8a_1548_11eb_ae7b_0242ac1c0002row24_col16\" class=\"data row24 col16\" >0.227414</td>\n",
              "                        <td id=\"T_45a8ec8a_1548_11eb_ae7b_0242ac1c0002row24_col17\" class=\"data row24 col17\" >0.394820</td>\n",
              "                        <td id=\"T_45a8ec8a_1548_11eb_ae7b_0242ac1c0002row24_col18\" class=\"data row24 col18\" >0.439169</td>\n",
              "                        <td id=\"T_45a8ec8a_1548_11eb_ae7b_0242ac1c0002row24_col19\" class=\"data row24 col19\" >0.505239</td>\n",
              "                        <td id=\"T_45a8ec8a_1548_11eb_ae7b_0242ac1c0002row24_col20\" class=\"data row24 col20\" >0.077443</td>\n",
              "                        <td id=\"T_45a8ec8a_1548_11eb_ae7b_0242ac1c0002row24_col21\" class=\"data row24 col21\" >0.244540</td>\n",
              "                        <td id=\"T_45a8ec8a_1548_11eb_ae7b_0242ac1c0002row24_col22\" class=\"data row24 col22\" >0.373434</td>\n",
              "                        <td id=\"T_45a8ec8a_1548_11eb_ae7b_0242ac1c0002row24_col23\" class=\"data row24 col23\" >0.457639</td>\n",
              "                        <td id=\"T_45a8ec8a_1548_11eb_ae7b_0242ac1c0002row24_col24\" class=\"data row24 col24\" >1.000000</td>\n",
              "                        <td id=\"T_45a8ec8a_1548_11eb_ae7b_0242ac1c0002row24_col25\" class=\"data row24 col25\" >0.172164</td>\n",
              "                        <td id=\"T_45a8ec8a_1548_11eb_ae7b_0242ac1c0002row24_col26\" class=\"data row24 col26\" >0.131642</td>\n",
              "            </tr>\n",
              "            <tr>\n",
              "                        <th id=\"T_45a8ec8a_1548_11eb_ae7b_0242ac1c0002level0_row25\" class=\"row_heading level0 row25\" >standing_tackle</th>\n",
              "                        <td id=\"T_45a8ec8a_1548_11eb_ae7b_0242ac1c0002row25_col0\" class=\"data row25 col0\" >-0.028907</td>\n",
              "                        <td id=\"T_45a8ec8a_1548_11eb_ae7b_0242ac1c0002row25_col1\" class=\"data row25 col1\" >-0.094197</td>\n",
              "                        <td id=\"T_45a8ec8a_1548_11eb_ae7b_0242ac1c0002row25_col2\" class=\"data row25 col2\" >0.003974</td>\n",
              "                        <td id=\"T_45a8ec8a_1548_11eb_ae7b_0242ac1c0002row25_col3\" class=\"data row25 col3\" >0.054965</td>\n",
              "                        <td id=\"T_45a8ec8a_1548_11eb_ae7b_0242ac1c0002row25_col4\" class=\"data row25 col4\" >0.016133</td>\n",
              "                        <td id=\"T_45a8ec8a_1548_11eb_ae7b_0242ac1c0002row25_col5\" class=\"data row25 col5\" >0.123972</td>\n",
              "                        <td id=\"T_45a8ec8a_1548_11eb_ae7b_0242ac1c0002row25_col6\" class=\"data row25 col6\" >0.096453</td>\n",
              "                        <td id=\"T_45a8ec8a_1548_11eb_ae7b_0242ac1c0002row25_col7\" class=\"data row25 col7\" >-0.119885</td>\n",
              "                        <td id=\"T_45a8ec8a_1548_11eb_ae7b_0242ac1c0002row25_col8\" class=\"data row25 col8\" >-0.221787</td>\n",
              "                        <td id=\"T_45a8ec8a_1548_11eb_ae7b_0242ac1c0002row25_col9\" class=\"data row25 col9\" >0.202553</td>\n",
              "                        <td id=\"T_45a8ec8a_1548_11eb_ae7b_0242ac1c0002row25_col10\" class=\"data row25 col10\" >0.191213</td>\n",
              "                        <td id=\"T_45a8ec8a_1548_11eb_ae7b_0242ac1c0002row25_col11\" class=\"data row25 col11\" >0.181739</td>\n",
              "                        <td id=\"T_45a8ec8a_1548_11eb_ae7b_0242ac1c0002row25_col12\" class=\"data row25 col12\" >-0.305076</td>\n",
              "                        <td id=\"T_45a8ec8a_1548_11eb_ae7b_0242ac1c0002row25_col13\" class=\"data row25 col13\" >-0.440382</td>\n",
              "                        <td id=\"T_45a8ec8a_1548_11eb_ae7b_0242ac1c0002row25_col14\" class=\"data row25 col14\" >0.128271</td>\n",
              "                        <td id=\"T_45a8ec8a_1548_11eb_ae7b_0242ac1c0002row25_col15\" class=\"data row25 col15\" >-0.192309</td>\n",
              "                        <td id=\"T_45a8ec8a_1548_11eb_ae7b_0242ac1c0002row25_col16\" class=\"data row25 col16\" >0.975105</td>\n",
              "                        <td id=\"T_45a8ec8a_1548_11eb_ae7b_0242ac1c0002row25_col17\" class=\"data row25 col17\" >0.491512</td>\n",
              "                        <td id=\"T_45a8ec8a_1548_11eb_ae7b_0242ac1c0002row25_col18\" class=\"data row25 col18\" >-0.544180</td>\n",
              "                        <td id=\"T_45a8ec8a_1548_11eb_ae7b_0242ac1c0002row25_col19\" class=\"data row25 col19\" >-0.061488</td>\n",
              "                        <td id=\"T_45a8ec8a_1548_11eb_ae7b_0242ac1c0002row25_col20\" class=\"data row25 col20\" >-0.308715</td>\n",
              "                        <td id=\"T_45a8ec8a_1548_11eb_ae7b_0242ac1c0002row25_col21\" class=\"data row25 col21\" >-0.277971</td>\n",
              "                        <td id=\"T_45a8ec8a_1548_11eb_ae7b_0242ac1c0002row25_col22\" class=\"data row25 col22\" >0.312927</td>\n",
              "                        <td id=\"T_45a8ec8a_1548_11eb_ae7b_0242ac1c0002row25_col23\" class=\"data row25 col23\" >-0.402437</td>\n",
              "                        <td id=\"T_45a8ec8a_1548_11eb_ae7b_0242ac1c0002row25_col24\" class=\"data row25 col24\" >0.172164</td>\n",
              "                        <td id=\"T_45a8ec8a_1548_11eb_ae7b_0242ac1c0002row25_col25\" class=\"data row25 col25\" >1.000000</td>\n",
              "                        <td id=\"T_45a8ec8a_1548_11eb_ae7b_0242ac1c0002row25_col26\" class=\"data row25 col26\" >0.967743</td>\n",
              "            </tr>\n",
              "            <tr>\n",
              "                        <th id=\"T_45a8ec8a_1548_11eb_ae7b_0242ac1c0002level0_row26\" class=\"row_heading level0 row26\" >sliding_tackle</th>\n",
              "                        <td id=\"T_45a8ec8a_1548_11eb_ae7b_0242ac1c0002row26_col0\" class=\"data row26 col0\" >-0.033453</td>\n",
              "                        <td id=\"T_45a8ec8a_1548_11eb_ae7b_0242ac1c0002row26_col1\" class=\"data row26 col1\" >-0.079058</td>\n",
              "                        <td id=\"T_45a8ec8a_1548_11eb_ae7b_0242ac1c0002row26_col2\" class=\"data row26 col2\" >-0.001996</td>\n",
              "                        <td id=\"T_45a8ec8a_1548_11eb_ae7b_0242ac1c0002row26_col3\" class=\"data row26 col3\" >0.067023</td>\n",
              "                        <td id=\"T_45a8ec8a_1548_11eb_ae7b_0242ac1c0002row26_col4\" class=\"data row26 col4\" >0.009773</td>\n",
              "                        <td id=\"T_45a8ec8a_1548_11eb_ae7b_0242ac1c0002row26_col5\" class=\"data row26 col5\" >0.100846</td>\n",
              "                        <td id=\"T_45a8ec8a_1548_11eb_ae7b_0242ac1c0002row26_col6\" class=\"data row26 col6\" >0.076260</td>\n",
              "                        <td id=\"T_45a8ec8a_1548_11eb_ae7b_0242ac1c0002row26_col7\" class=\"data row26 col7\" >-0.137384</td>\n",
              "                        <td id=\"T_45a8ec8a_1548_11eb_ae7b_0242ac1c0002row26_col8\" class=\"data row26 col8\" >-0.249358</td>\n",
              "                        <td id=\"T_45a8ec8a_1548_11eb_ae7b_0242ac1c0002row26_col9\" class=\"data row26 col9\" >0.175703</td>\n",
              "                        <td id=\"T_45a8ec8a_1548_11eb_ae7b_0242ac1c0002row26_col10\" class=\"data row26 col10\" >0.162531</td>\n",
              "                        <td id=\"T_45a8ec8a_1548_11eb_ae7b_0242ac1c0002row26_col11\" class=\"data row26 col11\" >0.150624</td>\n",
              "                        <td id=\"T_45a8ec8a_1548_11eb_ae7b_0242ac1c0002row26_col12\" class=\"data row26 col12\" >-0.289500</td>\n",
              "                        <td id=\"T_45a8ec8a_1548_11eb_ae7b_0242ac1c0002row26_col13\" class=\"data row26 col13\" >-0.474043</td>\n",
              "                        <td id=\"T_45a8ec8a_1548_11eb_ae7b_0242ac1c0002row26_col14\" class=\"data row26 col14\" >0.101310</td>\n",
              "                        <td id=\"T_45a8ec8a_1548_11eb_ae7b_0242ac1c0002row26_col15\" class=\"data row26 col15\" >-0.210383</td>\n",
              "                        <td id=\"T_45a8ec8a_1548_11eb_ae7b_0242ac1c0002row26_col16\" class=\"data row26 col16\" >0.958774</td>\n",
              "                        <td id=\"T_45a8ec8a_1548_11eb_ae7b_0242ac1c0002row26_col17\" class=\"data row26 col17\" >0.450726</td>\n",
              "                        <td id=\"T_45a8ec8a_1548_11eb_ae7b_0242ac1c0002row26_col18\" class=\"data row26 col18\" >-0.573951</td>\n",
              "                        <td id=\"T_45a8ec8a_1548_11eb_ae7b_0242ac1c0002row26_col19\" class=\"data row26 col19\" >-0.085357</td>\n",
              "                        <td id=\"T_45a8ec8a_1548_11eb_ae7b_0242ac1c0002row26_col20\" class=\"data row26 col20\" >-0.292023</td>\n",
              "                        <td id=\"T_45a8ec8a_1548_11eb_ae7b_0242ac1c0002row26_col21\" class=\"data row26 col21\" >-0.273267</td>\n",
              "                        <td id=\"T_45a8ec8a_1548_11eb_ae7b_0242ac1c0002row26_col22\" class=\"data row26 col22\" >0.287429</td>\n",
              "                        <td id=\"T_45a8ec8a_1548_11eb_ae7b_0242ac1c0002row26_col23\" class=\"data row26 col23\" >-0.429278</td>\n",
              "                        <td id=\"T_45a8ec8a_1548_11eb_ae7b_0242ac1c0002row26_col24\" class=\"data row26 col24\" >0.131642</td>\n",
              "                        <td id=\"T_45a8ec8a_1548_11eb_ae7b_0242ac1c0002row26_col25\" class=\"data row26 col25\" >0.967743</td>\n",
              "                        <td id=\"T_45a8ec8a_1548_11eb_ae7b_0242ac1c0002row26_col26\" class=\"data row26 col26\" >1.000000</td>\n",
              "            </tr>\n",
              "    </tbody></table>"
            ],
            "text/plain": [
              "<pandas.io.formats.style.Styler at 0x7f49360d1748>"
            ]
          },
          "metadata": {
            "tags": []
          },
          "execution_count": 15
        }
      ]
    },
    {
      "cell_type": "code",
      "metadata": {
        "id": "3G_B4Xr_NcpS",
        "outputId": "7705f680-29fc-4cbf-ea97-78f504a9e787",
        "colab": {
          "base_uri": "https://localhost:8080/",
          "height": 314
        }
      },
      "source": [
        "import seaborn as sns \n",
        "sns.heatmap(corr_matrix,xticklabels=corr_matrix.columns.values,yticklabels=corr_matrix.columns.values)\n",
        "plt.tight_layout()\n",
        "plt.show"
      ],
      "execution_count": null,
      "outputs": [
        {
          "output_type": "execute_result",
          "data": {
            "text/plain": [
              "<function matplotlib.pyplot.show>"
            ]
          },
          "metadata": {
            "tags": []
          },
          "execution_count": 16
        },
        {
          "output_type": "display_data",
          "data": {
            "image/png": "[encoded data removed]",
            "text/plain": [
              "<Figure size 432x288 with 2 Axes>"
            ]
          },
          "metadata": {
            "tags": [],
            "needs_background": "light"
          }
        }
      ]
    },
    {
      "cell_type": "code",
      "metadata": {
        "id": "IBS4zycKvPts",
        "outputId": "7da6b2ba-04d9-44ab-a4fa-55b2e15f13b7",
        "colab": {
          "base_uri": "https://localhost:8080/",
          "height": 327
        }
      },
      "source": [
        "Xp = np.array(Xtrain_pre)\n",
        "Xtrain_pre.shape\n",
        "C = Xp.T.dot(Xp)\n",
        "K = Xp.dot(Xp.T)\n",
        "print(C.shape, K.shape)\n",
        "valC, vecC = np.linalg.eig(C)\n",
        "print(valC.shape, vecC.shape)\n",
        "\n",
        "\n",
        "plt.stem(valC)\n",
        "plt.show "
      ],
      "execution_count": null,
      "outputs": [
        {
          "output_type": "stream",
          "text": [
            "(27, 27) (11229, 11229)\n",
            "(27,) (27, 27)\n"
          ],
          "name": "stdout"
        },
        {
          "output_type": "execute_result",
          "data": {
            "text/plain": [
              "<function matplotlib.pyplot.show>"
            ]
          },
          "metadata": {
            "tags": []
          },
          "execution_count": 17
        },
        {
          "output_type": "display_data",
          "data": {
            "image/png": "[encoded data removed]",
            "text/plain": [
              "<Figure size 432x288 with 1 Axes>"
            ]
          },
          "metadata": {
            "tags": [],
            "needs_background": "light"
          }
        }
      ]
    },
    {
      "cell_type": "code",
      "metadata": {
        "id": "dUSTxa9AxvP0",
        "outputId": "20b7aefe-e8a9-4910-d7cc-192c3b8e8d12",
        "colab": {
          "base_uri": "https://localhost:8080/",
          "height": 310
        }
      },
      "source": [
        "from scipy.sparse.linalg import eigs \n",
        "\n",
        "valK, vecK= eigs(K, k=50)\n",
        "print(valK.shape, vecK.shape)\n",
        "\n",
        "plt.stem(valK)\n",
        "plt.show "
      ],
      "execution_count": null,
      "outputs": [
        {
          "output_type": "stream",
          "text": [
            "(50,) (11229, 50)\n"
          ],
          "name": "stdout"
        },
        {
          "output_type": "execute_result",
          "data": {
            "text/plain": [
              "<function matplotlib.pyplot.show>"
            ]
          },
          "metadata": {
            "tags": []
          },
          "execution_count": 18
        },
        {
          "output_type": "display_data",
          "data": {
            "image/png": "[encoded data removed]",
            "text/plain": [
              "<Figure size 432x288 with 1 Axes>"
            ]
          },
          "metadata": {
            "tags": [],
            "needs_background": "light"
          }
        }
      ]
    },
    {
      "cell_type": "code",
      "metadata": {
        "id": "Dx2Uf3NJP1bF",
        "outputId": "4e20a27b-a94f-4e16-d001-b265d2f521fa",
        "colab": {
          "base_uri": "https://localhost:8080/",
          "height": 510
        }
      },
      "source": [
        "Xtrain_pre2 = Xtrain_pre.copy()\n",
        "Xtrain_pre2['Overall'] = ytrain\n",
        "corr_matrix = abs(Xtrain_pre2.corr()) #Correlación salida \n",
        "corr_matrix['Overall'].sort_values(ascending= False)\n",
        "\n"
      ],
      "execution_count": null,
      "outputs": [
        {
          "output_type": "execute_result",
          "data": {
            "text/plain": [
              "Overall                     1.000000\n",
              "composure                   0.811934\n",
              "passing                     0.682811\n",
              "dribbling                   0.597232\n",
              "wage_eur                    0.576317\n",
              "physic                      0.514165\n",
              "shooting                    0.500485\n",
              "skill_moves                 0.491155\n",
              "international_reputation    0.480948\n",
              "stamina                     0.473501\n",
              "age                         0.465046\n",
              "fk_accuracy                 0.453968\n",
              "penalties                   0.412209\n",
              "finishing                   0.398440\n",
              "defending                   0.329761\n",
              "club                        0.296305\n",
              "standing_tackle             0.261777\n",
              "weak_foot                   0.233887\n",
              "agility                     0.228982\n",
              "sliding_tackle              0.220094\n",
              "position                    0.213186\n",
              "weight_kg                   0.177132\n",
              "pace                        0.151581\n",
              "work_rate                   0.138769\n",
              "acceleration                0.135634\n",
              "height_cm                   0.062210\n",
              "nationality                 0.023599\n",
              "preferred_foot              0.012524\n",
              "Name: Overall, dtype: float64"
            ]
          },
          "metadata": {
            "tags": []
          },
          "execution_count": 19
        }
      ]
    },
    {
      "cell_type": "code",
      "metadata": {
        "id": "ELUbn-vFSE5N",
        "outputId": "63c2670d-6584-4d66-e58d-672463404536",
        "colab": {
          "base_uri": "https://localhost:8080/",
          "height": 282
        }
      },
      "source": [
        "\n",
        "plt.scatter(Xtrain_pre['composure'],ytrain)   #Composure tiene la mayor correlación con la salida \n",
        "                                              # Siguen una tendencia más o menos lineal, aún teniendo mucha \n",
        "                                              # dispersión \n",
        "\n",
        "                            "
      ],
      "execution_count": null,
      "outputs": [
        {
          "output_type": "execute_result",
          "data": {
            "text/plain": [
              "<matplotlib.collections.PathCollection at 0x7f49300d82b0>"
            ]
          },
          "metadata": {
            "tags": []
          },
          "execution_count": 20
        },
        {
          "output_type": "display_data",
          "data": {
            "image/png": "[encoded data removed]",
            "text/plain": [
              "<Figure size 432x288 with 1 Axes>"
            ]
          },
          "metadata": {
            "tags": [],
            "needs_background": "light"
          }
        }
      ]
    },
    {
      "cell_type": "markdown",
      "metadata": {
        "id": "qv0o12PwALPH"
      },
      "source": [
        "##Modelo de Regresión "
      ]
    },
    {
      "cell_type": "code",
      "metadata": {
        "id": "PaAcwcEZAOlV",
        "outputId": "7890f406-06a9-4762-a56e-9384bdb45db4",
        "colab": {
          "base_uri": "https://localhost:8080/",
          "height": 527
        }
      },
      "source": [
        "from sklearn.pipeline import Pipeline              #Se hace el ejemplo con la Regresión Lineal \n",
        "from sklearn.linear_model import LinearRegression \n",
        "\n",
        "steps = [('preproceso',dummy_fifa20(col_euro=col_euro,col_stats=col_stats,cat_usr = cat_usr)),\n",
        "         ('regresion', LinearRegression())]\n",
        "\n",
        "metodo_full = Pipeline(steps = steps) \n",
        "metodo_full \n",
        "\n",
        "metodo_full.fit(Xtrain, ytrain)  #Entrena todos los pasos "
      ],
      "execution_count": null,
      "outputs": [
        {
          "output_type": "execute_result",
          "data": {
            "text/plain": [
              "Pipeline(memory=None,\n",
              "         steps=[('preproceso',\n",
              "                 dummy_fifa20(cat_usr={'club': ['1. FC Union Berlin',\n",
              "                                                'FC Barcelona',\n",
              "                                                'West Ham United',\n",
              "                                                '1. FSV Mainz 05',\n",
              "                                                'FC Augsburg', 'Sampdoria',\n",
              "                                                'Atlético Madrid',\n",
              "                                                'Hellas Verona',\n",
              "                                                'Wolverhampton Wanderers',\n",
              "                                                'Hertha BSC',\n",
              "                                                'Borussia Mönchengladbach',\n",
              "                                                'Paris Saint-Germain',\n",
              "                                                'FC Nantes', 'Leicester City',\n",
              "                                                'Manchester United',\n",
              "                                                'Crystal Palace', 'Arsenal',\n",
              "                                                'R...\n",
              "                              col_stats=['international_reputation',\n",
              "                                         'weak_foot', 'skill_moves', 'age',\n",
              "                                         'height_cm', 'weight_kg', 'pace',\n",
              "                                         'shooting', 'passing', 'dribbling',\n",
              "                                         'defending', 'physic', 'finishing',\n",
              "                                         'fk_accuracy', 'acceleration',\n",
              "                                         'agility', 'stamina', 'penalties',\n",
              "                                         'composure', 'standing_tackle',\n",
              "                                         'sliding_tackle'])),\n",
              "                ('regresion',\n",
              "                 LinearRegression(copy_X=True, fit_intercept=True, n_jobs=None,\n",
              "                                  normalize=False))],\n",
              "         verbose=False)"
            ]
          },
          "metadata": {
            "tags": []
          },
          "execution_count": 21
        }
      ]
    },
    {
      "cell_type": "code",
      "metadata": {
        "id": "1-tkDyFjAUlV",
        "outputId": "250a0bba-3b61-46f4-f882-82cad620fa1a",
        "colab": {
          "base_uri": "https://localhost:8080/",
          "height": 51
        }
      },
      "source": [
        "ytest_e = metodo_full.predict(Xtest)\n",
        "ytest_e"
      ],
      "execution_count": null,
      "outputs": [
        {
          "output_type": "execute_result",
          "data": {
            "text/plain": [
              "array([67.40268169, 54.59363565, 65.12264446, ..., 58.5123522 ,\n",
              "       65.38964772, 68.58731142])"
            ]
          },
          "metadata": {
            "tags": []
          },
          "execution_count": 22
        }
      ]
    },
    {
      "cell_type": "code",
      "metadata": {
        "id": "CgPslOvMAZB_",
        "outputId": "974c653f-18bd-4441-c4cb-264027c59c4f",
        "colab": {
          "base_uri": "https://localhost:8080/",
          "height": 282
        }
      },
      "source": [
        "plt.plot(ytest, label = 'Original')\n",
        "plt.plot(ytest_e, 'r', label = 'Estimado')\n",
        "plt.legend()"
      ],
      "execution_count": null,
      "outputs": [
        {
          "output_type": "execute_result",
          "data": {
            "text/plain": [
              "<matplotlib.legend.Legend at 0x7f4934b88a58>"
            ]
          },
          "metadata": {
            "tags": []
          },
          "execution_count": 23
        },
        {
          "output_type": "display_data",
          "data": {
            "image/png": "[encoded data removed]",
            "text/plain": [
              "<Figure size 432x288 with 1 Axes>"
            ]
          },
          "metadata": {
            "tags": [],
            "needs_background": "light"
          }
        }
      ]
    },
    {
      "cell_type": "code",
      "metadata": {
        "id": "2GrRopuXAec5",
        "outputId": "86e16f21-c987-4b23-b19e-bad4479b8e66",
        "colab": {
          "base_uri": "https://localhost:8080/",
          "height": 282
        }
      },
      "source": [
        "plt.scatter(ytest,ytest_e)"
      ],
      "execution_count": null,
      "outputs": [
        {
          "output_type": "execute_result",
          "data": {
            "text/plain": [
              "<matplotlib.collections.PathCollection at 0x7f492ff3e5c0>"
            ]
          },
          "metadata": {
            "tags": []
          },
          "execution_count": 24
        },
        {
          "output_type": "display_data",
          "data": {
            "image/png": "[encoded data removed]",
            "text/plain": [
              "<Figure size 432x288 with 1 Axes>"
            ]
          },
          "metadata": {
            "tags": [],
            "needs_background": "light"
          }
        }
      ]
    },
    {
      "cell_type": "markdown",
      "metadata": {
        "id": "OdrTCRN4Y36m"
      },
      "source": [
        "# Predicción variable de interés desde datos preprocesados"
      ]
    },
    {
      "cell_type": "code",
      "metadata": {
        "id": "uB6ztDmxbGq-",
        "outputId": "fb4683e3-b4c2-41aa-a16b-8b4e9077bbbd",
        "colab": {
          "base_uri": "https://localhost:8080/",
          "height": 969
        }
      },
      "source": [
        "print(Xtrain_pre.var(axis=0) )          #Al calcular mediana y varianza de los datos, observamos que la diferencia  \n",
        "print(Xtrain_pre.mean(axis=0))          # de los valores es demasiado alta."
      ],
      "execution_count": null,
      "outputs": [
        {
          "output_type": "stream",
          "text": [
            "nationality                 4.181829e+02\n",
            "club                        3.554624e+04\n",
            "position                    3.168286e-01\n",
            "preferred_foot              1.877725e-01\n",
            "work_rate                   3.550967e-01\n",
            "wage_eur                    5.139597e+08\n",
            "international_reputation    1.486552e-01\n",
            "weak_foot                   4.110184e-01\n",
            "skill_moves                 3.981231e-01\n",
            "age                         2.040481e+01\n",
            "height_cm                   4.179051e+01\n",
            "weight_kg                   4.470002e+01\n",
            "pace                        1.283675e+02\n",
            "shooting                    1.977973e+02\n",
            "passing                     1.076449e+02\n",
            "dribbling                   1.057714e+02\n",
            "defending                   2.683041e+02\n",
            "physic                      9.539900e+01\n",
            "finishing                   2.690128e+02\n",
            "fk_accuracy                 2.259391e+02\n",
            "acceleration                1.396200e+02\n",
            "agility                     1.517376e+02\n",
            "stamina                     1.290764e+02\n",
            "penalties                   1.559982e+02\n",
            "composure                   1.041155e+02\n",
            "standing_tackle             3.608316e+02\n",
            "sliding_tackle              3.606418e+02\n",
            "dtype: float64\n",
            "nationality                    17.021640\n",
            "club                          306.302164\n",
            "position                        0.281949\n",
            "preferred_foot                  0.250512\n",
            "work_rate                       0.413394\n",
            "wage_eur                    10055.214178\n",
            "international_reputation        1.105887\n",
            "weak_foot                       3.002761\n",
            "skill_moves                     2.539051\n",
            "age                            25.135720\n",
            "height_cm                     180.541544\n",
            "weight_kg                      74.511176\n",
            "pace                           67.723039\n",
            "shooting                       52.262178\n",
            "passing                        57.264494\n",
            "dribbling                      62.535578\n",
            "defending                      51.726601\n",
            "physic                         64.983525\n",
            "finishing                      49.782705\n",
            "fk_accuracy                    46.290854\n",
            "acceleration                   67.635943\n",
            "agility                        66.489091\n",
            "stamina                        67.056639\n",
            "penalties                      51.939353\n",
            "composure                      60.497996\n",
            "standing_tackle                52.053344\n",
            "sliding_tackle                 49.791077\n",
            "dtype: float64\n"
          ],
          "name": "stdout"
        }
      ]
    },
    {
      "cell_type": "code",
      "metadata": {
        "id": "Fa0P8qTiZAXK"
      },
      "source": [
        "from sklearn.decomposition import PCA \n",
        "from sklearn.preprocessing import StandardScaler         #Se estandariza para que los rangos de los valores  \n",
        "sca = StandardScaler()                                   #sean comparables. Se hace que cada atributo esté centrado\n",
        "Xtrain_pre_z = sca.fit_transform(Xtrain_pre)             # en 0 y tenga varianza 1"
      ],
      "execution_count": null,
      "outputs": []
    },
    {
      "cell_type": "code",
      "metadata": {
        "id": "43eOd55dZyPL",
        "outputId": "8a3b830d-61f8-4aea-a941-e971b4c59e8d",
        "colab": {
          "base_uri": "https://localhost:8080/",
          "height": 170
        }
      },
      "source": [
        "print(Xtrain_pre_z.var(axis=0) )              # Con los datos estandarizados, se observa efectivamente la varianza igual 1\n",
        "print(Xtrain_pre_z.mean(axis=0))              # Y la mediana prácticamente  0"
      ],
      "execution_count": null,
      "outputs": [
        {
          "output_type": "stream",
          "text": [
            "[1. 1. 1. 1. 1. 1. 1. 1. 1. 1. 1. 1. 1. 1. 1. 1. 1. 1. 1. 1. 1. 1. 1. 1.\n",
            " 1. 1. 1.]\n",
            "[-2.02487911e-17  9.42834336e-17 -1.03775054e-16  4.49270053e-17\n",
            "  7.27690931e-17  3.79664833e-18 -5.94808239e-17 -1.39210439e-17\n",
            " -4.96728157e-17 -4.04975822e-17 -1.81986010e-15  3.68274888e-16\n",
            " -5.97655725e-16  1.39210439e-17  3.40749188e-16 -1.08837252e-16\n",
            "  7.71985161e-17  6.55871000e-16  8.32098760e-17 -6.96052195e-17\n",
            " -1.58826455e-16  2.13877856e-16  2.75573392e-16 -4.30286811e-17\n",
            " -2.27482513e-16 -6.32774722e-19  3.67009339e-17]\n"
          ],
          "name": "stdout"
        }
      ]
    },
    {
      "cell_type": "code",
      "metadata": {
        "id": "PPFgoJB6dfVp"
      },
      "source": [
        "red = PCA()\n",
        "zz = red.fit_transform(Xtrain_pre_z)   #Permite reducir la dimesión para visualizar (2D)\n"
      ],
      "execution_count": null,
      "outputs": []
    },
    {
      "cell_type": "code",
      "metadata": {
        "id": "yZ-ZqIGxeYji",
        "outputId": "94843f66-2d1c-4a03-deb1-222846f2de06",
        "colab": {
          "base_uri": "https://localhost:8080/",
          "height": 265
        }
      },
      "source": [
        "plt.scatter(zz[:,0],zz[:,1],c=ytrain,s = 100*Xtrain_pre['composure']/(Xtrain_pre['composure'].max()),label='train')  \n",
        "plt.colorbar()   \n",
        "plt.legend()                      #Para que quede de 0 a 100,*100 y /máx \n",
        "plt.show()                        # Proyectar datos de entrenamiento\n"
      ],
      "execution_count": null,
      "outputs": [
        {
          "output_type": "display_data",
          "data": {
            "image/png": "[encoded data removed]",
            "text/plain": [
              "<Figure size 432x288 with 2 Axes>"
            ]
          },
          "metadata": {
            "tags": [],
            "needs_background": "light"
          }
        }
      ]
    },
    {
      "cell_type": "code",
      "metadata": {
        "id": "11K1OCnJhpyF"
      },
      "source": [
        "# Proceso con test\n",
        "Xtest_pre = dummy.transform(Xtest) #-> Dummy preprocesa los datos,\n",
        "                                   # en este punto todo el data debe estar completo y preprocesado"
      ],
      "execution_count": null,
      "outputs": []
    },
    {
      "cell_type": "code",
      "metadata": {
        "id": "WiONhFcsjzFA"
      },
      "source": [
        "Xtest_pre_z = sca.transform(Xtest_pre)  #Estandarización \n",
        "zztest = red.transform(Xtest_pre_z)    #Permite reducir la dimesión para visualizar (2D)"
      ],
      "execution_count": null,
      "outputs": []
    },
    {
      "cell_type": "code",
      "metadata": {
        "id": "D3LKEwQro-Y-",
        "outputId": "add595f9-a7fc-46e9-e874-1216ff59c454",
        "colab": {
          "base_uri": "https://localhost:8080/",
          "height": 265
        }
      },
      "source": [
        "plt.scatter(zztest[:,0],zztest[:,1],c=ytest,s=100*Xtest_pre['composure']/Xtest_pre['composure'].max(),label='test')\n",
        "plt.legend()\n",
        "plt.show()"
      ],
      "execution_count": null,
      "outputs": [
        {
          "output_type": "display_data",
          "data": {
            "image/png": "[encoded data removed]",
            "text/plain": [
              "<Figure size 432x288 with 1 Axes>"
            ]
          },
          "metadata": {
            "tags": [],
            "needs_background": "light"
          }
        }
      ]
    },
    {
      "cell_type": "code",
      "metadata": {
        "id": "VOz61YAKovDu",
        "outputId": "9d2bdc02-d7ce-4505-a72e-9e64c9a889b4",
        "colab": {
          "base_uri": "https://localhost:8080/",
          "height": 265
        }
      },
      "source": [
        "plt.scatter(zz[:,0],zz[:,1],c=ytrain,s = 100*Xtrain_pre['composure']/(Xtrain_pre['composure'].max()),label='train')\n",
        "plt.colorbar()\n",
        "plt.scatter(zztest[:,0],zztest[:,1],c=ytest,s=100*Xtest_pre['composure']/Xtest_pre['composure'].max(),marker='d',label='test')\n",
        "plt.legend()\n",
        "plt.show()\n",
        "# Comparación entre Test y Train "
      ],
      "execution_count": null,
      "outputs": [
        {
          "output_type": "display_data",
          "data": {
            "image/png": "[encoded data removed]",
            "text/plain": [
              "<Figure size 432x288 with 2 Axes>"
            ]
          },
          "metadata": {
            "tags": [],
            "needs_background": "light"
          }
        }
      ]
    },
    {
      "cell_type": "markdown",
      "metadata": {
        "id": "L3cbhKzHqe20"
      },
      "source": [
        "## Definir Modelos de Predicción "
      ]
    },
    {
      "cell_type": "code",
      "metadata": {
        "id": "wC-bYyi_qjmA"
      },
      "source": [
        "from sklearn.linear_model import LinearRegression, ElasticNet, Lasso, Ridge\n",
        "from sklearn.kernel_ridge import KernelRidge\n",
        "\n",
        "steps = [\n",
        "         [('scaler', StandardScaler()), \n",
        "          ('reg', LinearRegression())],\n",
        "         \n",
        "         [('scaler',StandardScaler()),        #1 / (2 * n_samples) * ||y - Xw||^2_2 + alpha * l1_ratio * ||w||_1\n",
        "          ('reg',ElasticNet())],              # + 0.5 * alpha * (1 - l1_ratio) * ||w||^2_2\n",
        "         \n",
        "         [('scaler', StandardScaler()), \n",
        "          ('reg',  KernelRidge(kernel='rbf'))], \n",
        "         \n",
        "         [('scaler', StandardScaler()),     #(1 / (2 * n_samples)) * ||y - Xw||^2_2 + alpha * ||w||_1\n",
        "          ('reg',Lasso())],\n",
        "         \n",
        "         [('scaler', StandardScaler()),     #||y - Xw||^2_2 + alpha * ||w||^2_2\n",
        "          ('reg', Ridge())]\n",
        "         ]        \n",
        "\n",
        "#parametros a buscar por busqueda por grilla\n",
        "\n",
        "parameters =[ \n",
        "             {\n",
        "                 'reg__fit_intercept':[True, False]             \n",
        "             },\n",
        "             {\n",
        "                 'reg__alpha': [0, 1e-3, 1e-1,1], \n",
        "                 'reg__l1_ratio':[0,0.5,0.75,1 ],\n",
        "                 'reg__fit_intercept':[True, False]\n",
        "             },\n",
        "             {\n",
        "                 'reg__alpha': [0, 1e-3, 1e-1,1],\n",
        "                 'reg__gamma': [0, 0.02, 0.2, 0.5] \n",
        "             },\n",
        "             {\n",
        "                 'reg__alpha': [0, 1e-3, 1e-1,1],\n",
        "                 'reg__fit_intercept': [True, False]\n",
        "             },\n",
        "             {\n",
        "                 'reg__alpha': [0, 1e-3, 1e-1,1],\n",
        "                 'reg__fit_intercept': [True, False]\n",
        "             }\n",
        "              ]\n",
        "\n",
        "label_model = ['Nor+RegLin','Nor+ElasticNet', 'Nor+KernelRidge', 'Nor+Lasso', 'Nor+Ridge']"
      ],
      "execution_count": null,
      "outputs": []
    },
    {
      "cell_type": "code",
      "metadata": {
        "id": "OQw7J1uJ6SE9",
        "outputId": "cce51681-83ad-4311-de84-3f172f517ae8",
        "colab": {
          "base_uri": "https://localhost:8080/",
          "height": 306
        }
      },
      "source": [
        "steps #Lista con los modelos \n"
      ],
      "execution_count": null,
      "outputs": [
        {
          "output_type": "execute_result",
          "data": {
            "text/plain": [
              "[[('scaler', StandardScaler(copy=True, with_mean=True, with_std=True)),\n",
              "  ('reg',\n",
              "   LinearRegression(copy_X=True, fit_intercept=True, n_jobs=None, normalize=False))],\n",
              " [('scaler', StandardScaler(copy=True, with_mean=True, with_std=True)),\n",
              "  ('reg', ElasticNet(alpha=1.0, copy_X=True, fit_intercept=True, l1_ratio=0.5,\n",
              "              max_iter=1000, normalize=False, positive=False, precompute=False,\n",
              "              random_state=None, selection='cyclic', tol=0.0001, warm_start=False))],\n",
              " [('scaler', StandardScaler(copy=True, with_mean=True, with_std=True)),\n",
              "  ('reg', KernelRidge(alpha=1, coef0=1, degree=3, gamma=None, kernel='rbf',\n",
              "               kernel_params=None))],\n",
              " [('scaler', StandardScaler(copy=True, with_mean=True, with_std=True)),\n",
              "  ('reg', Lasso(alpha=1.0, copy_X=True, fit_intercept=True, max_iter=1000,\n",
              "         normalize=False, positive=False, precompute=False, random_state=None,\n",
              "         selection='cyclic', tol=0.0001, warm_start=False))],\n",
              " [('scaler', StandardScaler(copy=True, with_mean=True, with_std=True)),\n",
              "  ('reg', Ridge(alpha=1.0, copy_X=True, fit_intercept=True, max_iter=None,\n",
              "         normalize=False, random_state=None, solver='auto', tol=0.001))]]"
            ]
          },
          "metadata": {
            "tags": []
          },
          "execution_count": 39
        }
      ]
    },
    {
      "cell_type": "code",
      "metadata": {
        "id": "wGPnkqoc6hMe",
        "outputId": "6f3aea15-a9e8-45ac-82fc-5e98f630914c",
        "colab": {
          "base_uri": "https://localhost:8080/",
          "height": 136
        }
      },
      "source": [
        "parameters #Diccionario de parámetros "
      ],
      "execution_count": null,
      "outputs": [
        {
          "output_type": "execute_result",
          "data": {
            "text/plain": [
              "[{'reg__fit_intercept': [True, False]},\n",
              " {'reg__alpha': [0, 0.001, 0.1, 1],\n",
              "  'reg__fit_intercept': [True, False],\n",
              "  'reg__l1_ratio': [0, 0.5, 0.75, 1]},\n",
              " {'reg__alpha': [0, 0.001, 0.1, 1], 'reg__gamma': [0, 0.02, 0.2, 0.5]},\n",
              " {'reg__alpha': [0, 0.001, 0.1, 1], 'reg__fit_intercept': [True, False]},\n",
              " {'reg__alpha': [0, 0.001, 0.1, 1], 'reg__fit_intercept': [True, False]}]"
            ]
          },
          "metadata": {
            "tags": []
          },
          "execution_count": 40
        }
      ]
    },
    {
      "cell_type": "code",
      "metadata": {
        "id": "tdskTxmM-G7F",
        "outputId": "695ae1c5-affb-4b13-a8df-a19a5eabc3db",
        "colab": {
          "base_uri": "https://localhost:8080/",
          "height": 34
        }
      },
      "source": [
        "#Crear carpeta con Resultados \n",
        "import os\n",
        "pathpre = 'datospre'\n",
        "\n",
        "try:\n",
        "  os.mkdir(pathpre)\n",
        "except:\n",
        "  print(\"Carpeta results ya existe\")\n"
      ],
      "execution_count": null,
      "outputs": [
        {
          "output_type": "stream",
          "text": [
            "Carpeta results ya existe\n"
          ],
          "name": "stdout"
        }
      ]
    },
    {
      "cell_type": "code",
      "metadata": {
        "id": "olnTdWAT6tlU",
        "outputId": "a0aca864-e882-41b0-c07f-e48a681b3dc2",
        "colab": {
          "base_uri": "https://localhost:8080/",
          "height": 1000
        }
      },
      "source": [
        "#valildacion cruzada anidada\n",
        "from joblib import dump, load\n",
        "from sklearn.metrics import mean_absolute_error as msa \n",
        "Niter = 5 #numero particiones outter loop nested cross-validation\n",
        "msev =np.zeros((Niter,len(steps)))#arreglo para guardar acierto/error\n",
        "Nmod = len(steps) #numero de modelos a probar\n",
        "best_estimators = Niter*[None]#mejor metodo por iteracion\n",
        "###clave del funcionamiento\n",
        "best_hyperpar = Niter*[None]#mejor metodo por iteracion \n",
        "\n",
        "\n",
        "for j in range(Niter): #outter loop \n",
        "      #print('it %d/%d'%(j+1,Niter))\n",
        "      #particiono datos outter loop\n",
        "      X_trainj, X_testj, y_trainj, y_testj = train_test_split(Xtrain_pre,ytrain,test_size=0.3) # xtrain 60, xtest 26\n",
        "      list_est = [] #lista lazo interno para guardar mejor estimador por modelo para iteracion j\n",
        "      list_hyper = [] #lista lazo interno para guardar mejores hyperparametros por modelo para iteracion j\n",
        "      for r in range(Nmod): #recorro todos los posibles modelos a probar en iteracion j del outter loop\n",
        "          grid_search = GridSearchCV(Pipeline(steps[r],memory=pathpre), parameters[r],cv=5,verbose=5,scoring='neg_mean_absolute_error',n_jobs=-1) #cv inner loop\n",
        "          #xtrain gridsearchcv xtrain split en 12 / cv, 60/5 = 12, xtrain 48 datos validar 12\n",
        "          # cv = N -> leave one out N <30\n",
        "          #generar mejor modelo\n",
        "          grid_search.fit(X_trainj,y_trainj)\n",
        "          #estimar salida conjunto de test\n",
        "          y_pred = grid_search.best_estimator_.predict(X_testj)\n",
        "          #guardar mejor modelo\n",
        "          list_est.append(grid_search.best_estimator_)\n",
        "          list_hyper.append(grid_search.best_params_)\n",
        "          #guardar acierto\n",
        "          msev[j,r] = msa(y_testj,y_pred)\n",
        "          print('it %d/%d-Modelo %d/%d'%(j+1,Niter,r+1,len(steps)))\n",
        "          print('best hyper', grid_search.best_params_)\n",
        "          print('msa:',msev[j,r])\n",
        "          \n",
        "      best_estimators[j] = list_est #guardar mejores modelos \n",
        "      best_hyperpar[j] = list_hyper #mejores hyperparametros\n",
        "          \n",
        "          \n",
        "      savedata = {\n",
        "          'acc':msev,\n",
        "          'best_models':best_estimators,\n",
        "          'best_parameters':best_hyperpar,\n",
        "            } \n",
        "      dump(savedata,'FIFA20.joblib')"
      ],
      "execution_count": null,
      "outputs": [
        {
          "output_type": "stream",
          "text": [
            "Fitting 5 folds for each of 2 candidates, totalling 10 fits\n"
          ],
          "name": "stdout"
        },
        {
          "output_type": "stream",
          "text": [
            "[Parallel(n_jobs=-1)]: Using backend LokyBackend with 2 concurrent workers.\n",
            "[Parallel(n_jobs=-1)]: Done  10 out of  10 | elapsed:    1.3s remaining:    0.0s\n",
            "[Parallel(n_jobs=-1)]: Done  10 out of  10 | elapsed:    1.3s finished\n",
            "[Parallel(n_jobs=-1)]: Using backend LokyBackend with 2 concurrent workers.\n"
          ],
          "name": "stderr"
        },
        {
          "output_type": "stream",
          "text": [
            "it 1/5-Modelo 1/5\n",
            "best hyper {'reg__fit_intercept': True}\n",
            "msa: 2.1822453730483233\n",
            "Fitting 5 folds for each of 32 candidates, totalling 160 fits\n"
          ],
          "name": "stdout"
        },
        {
          "output_type": "stream",
          "text": [
            "[Parallel(n_jobs=-1)]: Done  14 tasks      | elapsed:    2.4s\n",
            "[Parallel(n_jobs=-1)]: Done  68 tasks      | elapsed:    9.3s\n",
            "[Parallel(n_jobs=-1)]: Done 160 out of 160 | elapsed:   13.7s finished\n"
          ],
          "name": "stderr"
        },
        {
          "output_type": "stream",
          "text": [
            "it 1/5-Modelo 2/5\n",
            "best hyper {'reg__alpha': 0.001, 'reg__fit_intercept': True, 'reg__l1_ratio': 0}\n",
            "msa: 2.1821614489451493\n",
            "Fitting 5 folds for each of 16 candidates, totalling 80 fits\n"
          ],
          "name": "stdout"
        },
        {
          "output_type": "stream",
          "text": [
            "[Parallel(n_jobs=-1)]: Using backend LokyBackend with 2 concurrent workers.\n",
            "[Parallel(n_jobs=-1)]: Done  14 tasks      | elapsed:  7.1min\n",
            "[Parallel(n_jobs=-1)]: Done  68 tasks      | elapsed: 12.1min\n",
            "[Parallel(n_jobs=-1)]: Done  80 out of  80 | elapsed: 13.1min finished\n"
          ],
          "name": "stderr"
        },
        {
          "output_type": "stream",
          "text": [
            "it 1/5-Modelo 3/5\n",
            "best hyper {'reg__alpha': 0.001, 'reg__gamma': 0.02}\n",
            "msa: 1.178319936188944\n",
            "Fitting 5 folds for each of 8 candidates, totalling 40 fits\n"
          ],
          "name": "stdout"
        },
        {
          "output_type": "stream",
          "text": [
            "[Parallel(n_jobs=-1)]: Using backend LokyBackend with 2 concurrent workers.\n",
            "[Parallel(n_jobs=-1)]: Done  14 tasks      | elapsed:    1.7s\n",
            "[Parallel(n_jobs=-1)]: Done  40 out of  40 | elapsed:    2.2s finished\n"
          ],
          "name": "stderr"
        },
        {
          "output_type": "stream",
          "text": [
            "it 1/5-Modelo 4/5\n",
            "best hyper {'reg__alpha': 0, 'reg__fit_intercept': True}\n",
            "msa: 2.1822453730483207\n",
            "Fitting 5 folds for each of 8 candidates, totalling 40 fits\n"
          ],
          "name": "stdout"
        },
        {
          "output_type": "stream",
          "text": [
            "[Parallel(n_jobs=-1)]: Using backend LokyBackend with 2 concurrent workers.\n",
            "[Parallel(n_jobs=-1)]: Done  30 tasks      | elapsed:    0.4s\n",
            "[Parallel(n_jobs=-1)]: Done  40 out of  40 | elapsed:    0.5s finished\n"
          ],
          "name": "stderr"
        },
        {
          "output_type": "stream",
          "text": [
            "it 1/5-Modelo 5/5\n",
            "best hyper {'reg__alpha': 1, 'reg__fit_intercept': True}\n",
            "msa: 2.1822147488724393\n",
            "Fitting 5 folds for each of 2 candidates, totalling 10 fits\n"
          ],
          "name": "stdout"
        },
        {
          "output_type": "stream",
          "text": [
            "[Parallel(n_jobs=-1)]: Using backend LokyBackend with 2 concurrent workers.\n",
            "[Parallel(n_jobs=-1)]: Done   7 out of  10 | elapsed:    0.3s remaining:    0.1s\n",
            "[Parallel(n_jobs=-1)]: Done  10 out of  10 | elapsed:    0.3s remaining:    0.0s\n",
            "[Parallel(n_jobs=-1)]: Done  10 out of  10 | elapsed:    0.4s finished\n",
            "[Parallel(n_jobs=-1)]: Using backend LokyBackend with 2 concurrent workers.\n"
          ],
          "name": "stderr"
        },
        {
          "output_type": "stream",
          "text": [
            "it 2/5-Modelo 1/5\n",
            "best hyper {'reg__fit_intercept': True}\n",
            "msa: 2.203675422354064\n",
            "Fitting 5 folds for each of 32 candidates, totalling 160 fits\n"
          ],
          "name": "stdout"
        },
        {
          "output_type": "stream",
          "text": [
            "[Parallel(n_jobs=-1)]: Done  14 tasks      | elapsed:    2.2s\n",
            "[Parallel(n_jobs=-1)]: Done  74 tasks      | elapsed:    9.2s\n",
            "[Parallel(n_jobs=-1)]: Done 160 out of 160 | elapsed:   13.4s finished\n"
          ],
          "name": "stderr"
        },
        {
          "output_type": "stream",
          "text": [
            "it 2/5-Modelo 2/5\n",
            "best hyper {'reg__alpha': 0.001, 'reg__fit_intercept': True, 'reg__l1_ratio': 0}\n",
            "msa: 2.203759530466827\n",
            "Fitting 5 folds for each of 16 candidates, totalling 80 fits\n"
          ],
          "name": "stdout"
        },
        {
          "output_type": "stream",
          "text": [
            "[Parallel(n_jobs=-1)]: Using backend LokyBackend with 2 concurrent workers.\n",
            "[Parallel(n_jobs=-1)]: Done  14 tasks      | elapsed:  7.2min\n",
            "[Parallel(n_jobs=-1)]: Done  68 tasks      | elapsed: 12.3min\n",
            "[Parallel(n_jobs=-1)]: Done  80 out of  80 | elapsed: 13.4min finished\n"
          ],
          "name": "stderr"
        },
        {
          "output_type": "stream",
          "text": [
            "it 2/5-Modelo 3/5\n",
            "best hyper {'reg__alpha': 0.001, 'reg__gamma': 0.02}\n",
            "msa: 1.1894767631149918\n",
            "Fitting 5 folds for each of 8 candidates, totalling 40 fits\n"
          ],
          "name": "stdout"
        },
        {
          "output_type": "stream",
          "text": [
            "[Parallel(n_jobs=-1)]: Using backend LokyBackend with 2 concurrent workers.\n",
            "[Parallel(n_jobs=-1)]: Done  14 tasks      | elapsed:    1.8s\n",
            "[Parallel(n_jobs=-1)]: Done  40 out of  40 | elapsed:    2.3s finished\n"
          ],
          "name": "stderr"
        },
        {
          "output_type": "stream",
          "text": [
            "it 2/5-Modelo 4/5\n",
            "best hyper {'reg__alpha': 0, 'reg__fit_intercept': True}\n",
            "msa: 2.203675422354064\n",
            "Fitting 5 folds for each of 8 candidates, totalling 40 fits\n"
          ],
          "name": "stdout"
        },
        {
          "output_type": "stream",
          "text": [
            "[Parallel(n_jobs=-1)]: Using backend LokyBackend with 2 concurrent workers.\n",
            "[Parallel(n_jobs=-1)]: Done  30 tasks      | elapsed:    0.4s\n",
            "[Parallel(n_jobs=-1)]: Done  40 out of  40 | elapsed:    0.5s finished\n"
          ],
          "name": "stderr"
        },
        {
          "output_type": "stream",
          "text": [
            "it 2/5-Modelo 5/5\n",
            "best hyper {'reg__alpha': 1, 'reg__fit_intercept': True}\n",
            "msa: 2.2036755953412004\n",
            "Fitting 5 folds for each of 2 candidates, totalling 10 fits\n"
          ],
          "name": "stdout"
        },
        {
          "output_type": "stream",
          "text": [
            "[Parallel(n_jobs=-1)]: Using backend LokyBackend with 2 concurrent workers.\n",
            "[Parallel(n_jobs=-1)]: Done   7 out of  10 | elapsed:    0.3s remaining:    0.1s\n",
            "[Parallel(n_jobs=-1)]: Done  10 out of  10 | elapsed:    0.4s remaining:    0.0s\n",
            "[Parallel(n_jobs=-1)]: Done  10 out of  10 | elapsed:    0.4s finished\n"
          ],
          "name": "stderr"
        },
        {
          "output_type": "stream",
          "text": [
            "it 3/5-Modelo 1/5\n",
            "best hyper {'reg__fit_intercept': True}\n",
            "msa: 2.1476975121912725\n",
            "Fitting 5 folds for each of 32 candidates, totalling 160 fits\n"
          ],
          "name": "stdout"
        },
        {
          "output_type": "stream",
          "text": [
            "[Parallel(n_jobs=-1)]: Using backend LokyBackend with 2 concurrent workers.\n",
            "[Parallel(n_jobs=-1)]: Done  14 tasks      | elapsed:    2.4s\n",
            "[Parallel(n_jobs=-1)]: Done  72 tasks      | elapsed:    9.6s\n",
            "[Parallel(n_jobs=-1)]: Done 160 out of 160 | elapsed:   14.3s finished\n"
          ],
          "name": "stderr"
        },
        {
          "output_type": "stream",
          "text": [
            "it 3/5-Modelo 2/5\n",
            "best hyper {'reg__alpha': 0, 'reg__fit_intercept': True, 'reg__l1_ratio': 0}\n",
            "msa: 2.14769751219127\n",
            "Fitting 5 folds for each of 16 candidates, totalling 80 fits\n"
          ],
          "name": "stdout"
        },
        {
          "output_type": "stream",
          "text": [
            "[Parallel(n_jobs=-1)]: Using backend LokyBackend with 2 concurrent workers.\n",
            "[Parallel(n_jobs=-1)]: Done  14 tasks      | elapsed:  7.1min\n",
            "[Parallel(n_jobs=-1)]: Done  68 tasks      | elapsed: 12.2min\n",
            "[Parallel(n_jobs=-1)]: Done  80 out of  80 | elapsed: 13.3min finished\n"
          ],
          "name": "stderr"
        },
        {
          "output_type": "stream",
          "text": [
            "it 3/5-Modelo 3/5\n",
            "best hyper {'reg__alpha': 0.001, 'reg__gamma': 0.02}\n",
            "msa: 1.171348816436983\n",
            "Fitting 5 folds for each of 8 candidates, totalling 40 fits\n"
          ],
          "name": "stdout"
        },
        {
          "output_type": "stream",
          "text": [
            "[Parallel(n_jobs=-1)]: Using backend LokyBackend with 2 concurrent workers.\n",
            "[Parallel(n_jobs=-1)]: Done  14 tasks      | elapsed:    1.9s\n",
            "[Parallel(n_jobs=-1)]: Done  40 out of  40 | elapsed:    2.4s finished\n"
          ],
          "name": "stderr"
        },
        {
          "output_type": "stream",
          "text": [
            "it 3/5-Modelo 4/5\n",
            "best hyper {'reg__alpha': 0, 'reg__fit_intercept': True}\n",
            "msa: 2.14769751219127\n",
            "Fitting 5 folds for each of 8 candidates, totalling 40 fits\n"
          ],
          "name": "stdout"
        },
        {
          "output_type": "stream",
          "text": [
            "[Parallel(n_jobs=-1)]: Using backend LokyBackend with 2 concurrent workers.\n",
            "[Parallel(n_jobs=-1)]: Done  30 tasks      | elapsed:    0.4s\n",
            "[Parallel(n_jobs=-1)]: Done  40 out of  40 | elapsed:    0.5s finished\n"
          ],
          "name": "stderr"
        },
        {
          "output_type": "stream",
          "text": [
            "it 3/5-Modelo 5/5\n",
            "best hyper {'reg__alpha': 0, 'reg__fit_intercept': True}\n",
            "msa: 2.147697512191272\n",
            "Fitting 5 folds for each of 2 candidates, totalling 10 fits\n"
          ],
          "name": "stdout"
        },
        {
          "output_type": "stream",
          "text": [
            "[Parallel(n_jobs=-1)]: Using backend LokyBackend with 2 concurrent workers.\n",
            "[Parallel(n_jobs=-1)]: Done   7 out of  10 | elapsed:    0.3s remaining:    0.1s\n",
            "[Parallel(n_jobs=-1)]: Done  10 out of  10 | elapsed:    0.3s remaining:    0.0s\n",
            "[Parallel(n_jobs=-1)]: Done  10 out of  10 | elapsed:    0.3s finished\n",
            "[Parallel(n_jobs=-1)]: Using backend LokyBackend with 2 concurrent workers.\n"
          ],
          "name": "stderr"
        },
        {
          "output_type": "stream",
          "text": [
            "it 4/5-Modelo 1/5\n",
            "best hyper {'reg__fit_intercept': True}\n",
            "msa: 2.1892742328976045\n",
            "Fitting 5 folds for each of 32 candidates, totalling 160 fits\n"
          ],
          "name": "stdout"
        },
        {
          "output_type": "stream",
          "text": [
            "[Parallel(n_jobs=-1)]: Done  14 tasks      | elapsed:    2.3s\n",
            "[Parallel(n_jobs=-1)]: Done  72 tasks      | elapsed:    9.1s\n",
            "[Parallel(n_jobs=-1)]: Done 160 out of 160 | elapsed:   13.7s finished\n"
          ],
          "name": "stderr"
        },
        {
          "output_type": "stream",
          "text": [
            "it 4/5-Modelo 2/5\n",
            "best hyper {'reg__alpha': 0.001, 'reg__fit_intercept': True, 'reg__l1_ratio': 0}\n",
            "msa: 2.1897597713904524\n",
            "Fitting 5 folds for each of 16 candidates, totalling 80 fits\n"
          ],
          "name": "stdout"
        },
        {
          "output_type": "stream",
          "text": [
            "[Parallel(n_jobs=-1)]: Using backend LokyBackend with 2 concurrent workers.\n",
            "[Parallel(n_jobs=-1)]: Done  14 tasks      | elapsed:  7.2min\n",
            "[Parallel(n_jobs=-1)]: Done  68 tasks      | elapsed: 12.3min\n",
            "[Parallel(n_jobs=-1)]: Done  80 out of  80 | elapsed: 13.4min finished\n"
          ],
          "name": "stderr"
        },
        {
          "output_type": "stream",
          "text": [
            "it 4/5-Modelo 3/5\n",
            "best hyper {'reg__alpha': 0.001, 'reg__gamma': 0.02}\n",
            "msa: 1.168310947645331\n",
            "Fitting 5 folds for each of 8 candidates, totalling 40 fits\n"
          ],
          "name": "stdout"
        },
        {
          "output_type": "stream",
          "text": [
            "[Parallel(n_jobs=-1)]: Using backend LokyBackend with 2 concurrent workers.\n",
            "[Parallel(n_jobs=-1)]: Done  14 tasks      | elapsed:    1.9s\n",
            "[Parallel(n_jobs=-1)]: Done  40 out of  40 | elapsed:    2.4s finished\n",
            "[Parallel(n_jobs=-1)]: Using backend LokyBackend with 2 concurrent workers.\n"
          ],
          "name": "stderr"
        },
        {
          "output_type": "stream",
          "text": [
            "it 4/5-Modelo 4/5\n",
            "best hyper {'reg__alpha': 0.001, 'reg__fit_intercept': True}\n",
            "msa: 2.189339019776754\n",
            "Fitting 5 folds for each of 8 candidates, totalling 40 fits\n"
          ],
          "name": "stdout"
        },
        {
          "output_type": "stream",
          "text": [
            "[Parallel(n_jobs=-1)]: Done  30 tasks      | elapsed:    0.4s\n",
            "[Parallel(n_jobs=-1)]: Done  40 out of  40 | elapsed:    0.5s finished\n"
          ],
          "name": "stderr"
        },
        {
          "output_type": "stream",
          "text": [
            "it 4/5-Modelo 5/5\n",
            "best hyper {'reg__alpha': 1, 'reg__fit_intercept': True}\n",
            "msa: 2.189330083689437\n",
            "Fitting 5 folds for each of 2 candidates, totalling 10 fits\n"
          ],
          "name": "stdout"
        },
        {
          "output_type": "stream",
          "text": [
            "[Parallel(n_jobs=-1)]: Using backend LokyBackend with 2 concurrent workers.\n",
            "[Parallel(n_jobs=-1)]: Done   7 out of  10 | elapsed:    0.3s remaining:    0.1s\n",
            "[Parallel(n_jobs=-1)]: Done  10 out of  10 | elapsed:    0.4s remaining:    0.0s\n",
            "[Parallel(n_jobs=-1)]: Done  10 out of  10 | elapsed:    0.4s finished\n"
          ],
          "name": "stderr"
        },
        {
          "output_type": "stream",
          "text": [
            "it 5/5-Modelo 1/5\n",
            "best hyper {'reg__fit_intercept': True}\n",
            "msa: 2.1620506979882177\n",
            "Fitting 5 folds for each of 32 candidates, totalling 160 fits\n"
          ],
          "name": "stdout"
        },
        {
          "output_type": "stream",
          "text": [
            "[Parallel(n_jobs=-1)]: Using backend LokyBackend with 2 concurrent workers.\n",
            "[Parallel(n_jobs=-1)]: Done  14 tasks      | elapsed:    2.3s\n",
            "[Parallel(n_jobs=-1)]: Done  68 tasks      | elapsed:    9.1s\n",
            "[Parallel(n_jobs=-1)]: Done 160 out of 160 | elapsed:   13.6s finished\n"
          ],
          "name": "stderr"
        },
        {
          "output_type": "stream",
          "text": [
            "it 5/5-Modelo 2/5\n",
            "best hyper {'reg__alpha': 0.001, 'reg__fit_intercept': True, 'reg__l1_ratio': 0}\n",
            "msa: 2.1626274073681246\n",
            "Fitting 5 folds for each of 16 candidates, totalling 80 fits\n"
          ],
          "name": "stdout"
        },
        {
          "output_type": "stream",
          "text": [
            "[Parallel(n_jobs=-1)]: Using backend LokyBackend with 2 concurrent workers.\n",
            "[Parallel(n_jobs=-1)]: Done  14 tasks      | elapsed:  7.2min\n",
            "[Parallel(n_jobs=-1)]: Done  68 tasks      | elapsed: 12.5min\n",
            "[Parallel(n_jobs=-1)]: Done  80 out of  80 | elapsed: 13.6min finished\n"
          ],
          "name": "stderr"
        },
        {
          "output_type": "stream",
          "text": [
            "it 5/5-Modelo 3/5\n",
            "best hyper {'reg__alpha': 0.001, 'reg__gamma': 0.02}\n",
            "msa: 1.1635401002189396\n",
            "Fitting 5 folds for each of 8 candidates, totalling 40 fits\n"
          ],
          "name": "stdout"
        },
        {
          "output_type": "stream",
          "text": [
            "[Parallel(n_jobs=-1)]: Using backend LokyBackend with 2 concurrent workers.\n",
            "[Parallel(n_jobs=-1)]: Done  14 tasks      | elapsed:    1.8s\n",
            "[Parallel(n_jobs=-1)]: Done  40 out of  40 | elapsed:    2.4s finished\n",
            "[Parallel(n_jobs=-1)]: Using backend LokyBackend with 2 concurrent workers.\n"
          ],
          "name": "stderr"
        },
        {
          "output_type": "stream",
          "text": [
            "it 5/5-Modelo 4/5\n",
            "best hyper {'reg__alpha': 0.001, 'reg__fit_intercept': True}\n",
            "msa: 2.1624309256955065\n",
            "Fitting 5 folds for each of 8 candidates, totalling 40 fits\n"
          ],
          "name": "stdout"
        },
        {
          "output_type": "stream",
          "text": [
            "[Parallel(n_jobs=-1)]: Done  30 tasks      | elapsed:    0.4s\n",
            "[Parallel(n_jobs=-1)]: Done  40 out of  40 | elapsed:    0.5s finished\n"
          ],
          "name": "stderr"
        },
        {
          "output_type": "stream",
          "text": [
            "it 5/5-Modelo 5/5\n",
            "best hyper {'reg__alpha': 1, 'reg__fit_intercept': True}\n",
            "msa: 2.1621160869137723\n"
          ],
          "name": "stdout"
        }
      ]
    },
    {
      "cell_type": "code",
      "metadata": {
        "id": "70EwLGWaIQkV",
        "outputId": "f5e35ccc-b753-4df1-d4d3-7bba56fa1984",
        "colab": {
          "base_uri": "https://localhost:8080/",
          "height": 299
        }
      },
      "source": [
        "from scipy.stats import mode\n",
        "from datetime import date\n",
        "\n",
        "r =2  #hyperparameters model 1\n",
        "nh = len(best_hyperpar[0][r])\n",
        "hyperpar_r = np.zeros((Niter,nh)) \n",
        "for i in range(Niter):\n",
        "  for j in range(nh):\n",
        "    hyperpar_r[i,j] = best_hyperpar[i][r].get(list(best_hyperpar[i][r].keys())[j])\n",
        "    \n",
        "    \n",
        "#revisar numero entero para realizar casting\n",
        "aa = list(best_hyperpar[0][r].keys())\n",
        "c = -1\n",
        "for i in range(len(aa)):\n",
        "    if aa[i].find('n_neighbors') > -1:\n",
        "      c = i\n",
        "\n",
        "plt.boxplot(hyperpar_r)\n",
        "plt.xticks(ticks=np.arange(nh)+1,labels=list(best_hyperpar[0][r].keys()))\n",
        "plt.title('Best_hyperparameters '+label_model[r])\n",
        "plt.grid()\n",
        "plt.show()\n",
        "\n",
        "mode_hyper = mode(hyperpar_r,axis=0)[0][0]\n",
        "print(\"Modes= \", mode_hyper)"
      ],
      "execution_count": 74,
      "outputs": [
        {
          "output_type": "display_data",
          "data": {
            "image/png": "[encoded data removed]",
            "text/plain": [
              "<Figure size 432x288 with 1 Axes>"
            ]
          },
          "metadata": {
            "tags": [],
            "needs_background": "light"
          }
        },
        {
          "output_type": "stream",
          "text": [
            "Modes=  [0.001 0.02 ]\n"
          ],
          "name": "stdout"
        }
      ]
    },
    {
      "cell_type": "markdown",
      "metadata": {
        "id": "Do0aiutHIV-Y"
      },
      "source": [
        "# Modelo Definitivo \n",
        "\n",
        "Con los mejores hiperparámetros se entrena sobre Xtrain completo el modelo final. Al consultar las gráficas arrojadas por los modelos y los cálculos del error, se aprecia que el modelo que más se adapta a esta base de datos es el modelo de **KernelRidge**"
      ]
    },
    {
      "cell_type": "code",
      "metadata": {
        "id": "Yy3Hph3JIVR3",
        "outputId": "92a89df4-a95c-4c91-df04-d746e2172046",
        "colab": {
          "base_uri": "https://localhost:8080/",
          "height": 136
        }
      },
      "source": [
        "#r = 0 # Reg Lineal\n",
        "#r = 1 # Eslastic Net\n",
        "r = 2 # KernelRidge\n",
        "#r = 3 # Lasso\n",
        "#r = 4 # Ridge\n",
        "steps_final_0 = [('scaler',StandardScaler()),\n",
        "                ('reg',LinearRegression(fit_intercept= True))]  \n",
        "\n",
        "steps_final_1 = [('scaler',StandardScaler()),        \n",
        "                ('reg',ElasticNet( alpha=0.01,fit_intercept = True, l1_ratio=0))] \n",
        "\n",
        "steps_final_2 = [('scaler', StandardScaler()), \n",
        "                ('reg',  KernelRidge(kernel='rbf', alpha=0.001, gamma=0.02))]\n",
        "         \n",
        "steps_final_3 =  [('scaler', StandardScaler()),     \n",
        "                 ('reg',Lasso(alpha=0, fit_intercept= True))]     \n",
        "\n",
        "steps_final_4=   [('scaler', StandardScaler()),     \n",
        "                 ('reg', Ridge(alpha=1, fit_intercept= True))]  \n",
        "\n",
        "modelo_final = Pipeline(steps_final_2)\n",
        "modelo_final.fit(Xtrain_pre,ytrain)"
      ],
      "execution_count": 75,
      "outputs": [
        {
          "output_type": "execute_result",
          "data": {
            "text/plain": [
              "Pipeline(memory=None,\n",
              "         steps=[('scaler',\n",
              "                 StandardScaler(copy=True, with_mean=True, with_std=True)),\n",
              "                ('reg',\n",
              "                 KernelRidge(alpha=0.001, coef0=1, degree=3, gamma=0.02,\n",
              "                             kernel='rbf', kernel_params=None))],\n",
              "         verbose=False)"
            ]
          },
          "metadata": {
            "tags": []
          },
          "execution_count": 75
        }
      ]
    },
    {
      "cell_type": "markdown",
      "metadata": {
        "id": "ExphNePzOTI3"
      },
      "source": [
        "#Caso Real - Evaluación de datos nuevos"
      ]
    },
    {
      "cell_type": "code",
      "metadata": {
        "id": "84eaaPNAOZu1"
      },
      "source": [
        "ytest_e = modelo_final.predict(dummy.transform(Xtest)) #simular casos nuevos"
      ],
      "execution_count": 76,
      "outputs": []
    },
    {
      "cell_type": "code",
      "metadata": {
        "id": "7hxkqs1oOgf-",
        "outputId": "b46f194a-3d22-4291-8fdc-3dea26456aa1",
        "colab": {
          "base_uri": "https://localhost:8080/",
          "height": 34
        }
      },
      "source": [
        "print('MAE_test=', msa(ytest,ytest_e))"
      ],
      "execution_count": 77,
      "outputs": [
        {
          "output_type": "stream",
          "text": [
            "MAE_test= 1.1055432971139971\n"
          ],
          "name": "stdout"
        }
      ]
    },
    {
      "cell_type": "code",
      "metadata": {
        "id": "wfi7L2TmOivt",
        "outputId": "4fae9b73-3d79-470c-dfcc-99411048ba0b",
        "colab": {
          "base_uri": "https://localhost:8080/",
          "height": 34
        }
      },
      "source": [
        "pathpre = 'resultados'\n",
        "\n",
        "try:\n",
        "  os.mkdir(pathpre)\n",
        "except:\n",
        "  print(\"Carpeta results ya existe\")"
      ],
      "execution_count": 78,
      "outputs": [
        {
          "output_type": "stream",
          "text": [
            "Carpeta results ya existe\n"
          ],
          "name": "stdout"
        }
      ]
    },
    {
      "cell_type": "code",
      "metadata": {
        "id": "BdBy6K9FOk1Q",
        "outputId": "3d9e8262-69ab-44ae-971d-1711eadd8cb7",
        "colab": {
          "base_uri": "https://localhost:8080/",
          "height": 17
        }
      },
      "source": [
        "import shutil\n",
        "from joblib import dump, load\n",
        "from datetime import date, datetime\n",
        "from google.colab import files\n",
        "\n",
        "modelo_final = {'modelo':modelo_final,\n",
        "          'pasos':label_model[1],\n",
        "          'mae_test':msa(ytest,ytest_e),\n",
        "            } \n",
        "\n",
        "dump(modelo_final,'resultados/modelo_final.joblib')\n",
        "namefile = str(datetime.now().strftime(\"%Y_%m_%d_%H_%M_%d\"))+'__modelo'\n",
        "shutil.make_archive(namefile, 'zip', 'resultados')\n",
        "files.download(namefile+'.zip')"
      ],
      "execution_count": 79,
      "outputs": [
        {
          "output_type": "display_data",
          "data": {
            "application/javascript": [
              "\n",
              "    async function download(id, filename, size) {\n",
              "      if (!google.colab.kernel.accessAllowed) {\n",
              "        return;\n",
              "      }\n",
              "      const div = document.createElement('div');\n",
              "      const label = document.createElement('label');\n",
              "      label.textContent = `Downloading \"${filename}\": `;\n",
              "      div.appendChild(label);\n",
              "      const progress = document.createElement('progress');\n",
              "      progress.max = size;\n",
              "      div.appendChild(progress);\n",
              "      document.body.appendChild(div);\n",
              "\n",
              "      const buffers = [];\n",
              "      let downloaded = 0;\n",
              "\n",
              "      const channel = await google.colab.kernel.comms.open(id);\n",
              "      // Send a message to notify the kernel that we're ready.\n",
              "      channel.send({})\n",
              "\n",
              "      for await (const message of channel.messages) {\n",
              "        // Send a message to notify the kernel that we're ready.\n",
              "        channel.send({})\n",
              "        if (message.buffers) {\n",
              "          for (const buffer of message.buffers) {\n",
              "            buffers.push(buffer);\n",
              "            downloaded += buffer.byteLength;\n",
              "            progress.value = downloaded;\n",
              "          }\n",
              "        }\n",
              "      }\n",
              "      const blob = new Blob(buffers, {type: 'application/binary'});\n",
              "      const a = document.createElement('a');\n",
              "      a.href = window.URL.createObjectURL(blob);\n",
              "      a.download = filename;\n",
              "      div.appendChild(a);\n",
              "      a.click();\n",
              "      div.remove();\n",
              "    }\n",
              "  "
            ],
            "text/plain": [
              "<IPython.core.display.Javascript object>"
            ]
          },
          "metadata": {
            "tags": []
          }
        },
        {
          "output_type": "display_data",
          "data": {
            "application/javascript": [
              "download(\"download_63a9985d-983d-4bc4-a110-e8a9771532dc\", \"2020_10_23_18_51_23__modelo.zip\", 413153)"
            ],
            "text/plain": [
              "<IPython.core.display.Javascript object>"
            ]
          },
          "metadata": {
            "tags": []
          }
        }
      ]
    }
  ]
}