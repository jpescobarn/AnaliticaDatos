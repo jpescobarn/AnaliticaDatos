{
  "nbformat": 4,
  "nbformat_minor": 0,
  "metadata": {
    "accelerator": "GPU",
    "colab": {
      "name": "ANALÍTICA DE DATOS - EJERCICIO FINAL 2.ipynb",
      "provenance": [],
      "collapsed_sections": [],
      "include_colab_link": true
    },
    "kernelspec": {
      "display_name": "Python 3",
      "name": "python3"
    }
  },
  "cells": [
    {
      "cell_type": "markdown",
      "metadata": {
        "id": "view-in-github",
        "colab_type": "text"
      },
      "source": [
        "<a href=\"https://colab.research.google.com/github/jpescobarn/AnaliticaDatos/blob/master/ANAL%C3%8DTICA_DE_DATOS_EJERCICIO_FINAL_2.ipynb\" target=\"_parent\"><img src=\"https://colab.research.google.com/assets/colab-badge.svg\" alt=\"Open In Colab\"/></a>"
      ]
    },
    {
      "cell_type": "markdown",
      "metadata": {
        "id": "Grt9SS-Zv-j-"
      },
      "source": [
        "# Analítica de Datos 2020-2\n",
        "## Ejercicio 2 Final  \n",
        "### Tomás Giraldo Agudelo - Juan Pablo Escobar Naranjo\n",
        "--- "
      ]
    },
    {
      "cell_type": "markdown",
      "metadata": {
        "id": "dpLVhlUnwDN9"
      },
      "source": [
        "## Objetivo\r\n",
        "\r\n",
        "## Utilizando la base de datos de su preferencia, con al menos 4000 muestas, implemente y entrene un esquema de aprendizaje profundo y amplio. Realice un análisis completo en analítica de datos a partir del modelo diseñado y describa la información relevante encontrada y el posible conocimiento (producto, servicio) a generar en la práctica."
      ]
    },
    {
      "cell_type": "markdown",
      "metadata": {
        "id": "UGiCjz4HwHYY"
      },
      "source": [
        "# Datos de Netflix\r\n",
        "\r\n",
        "### Se selecciona una base de datos con las ofertas de películas, series, documentales y demás que posee la plataforma. El objetivo que se pretende alcanzar con este procedimiento, es clasificar el material de la plataforma según la aptitud de edad de los usuarios para el contenido. "
      ]
    },
    {
      "cell_type": "code",
      "metadata": {
        "colab": {
          "base_uri": "https://localhost:8080/"
        },
        "id": "W6GF-x9Uvukf",
        "outputId": "5e6a699c-9dc1-4d7c-9e3f-3b717646dd4f"
      },
      "source": [
        "#Datos Netflix https://drive.google.com/file/d/1-4U4feveVrw7ADpprdqPiJn5clryPoIT/view?usp=sharing\n",
        "#Deserción estudiantil UTP https://drive.google.com/file/d/1tww692CcKoEV4avIW0A9VbSw5gtiRQIs/view?usp=sharing\n",
        "FILEID = \"1-4U4feveVrw7ADpprdqPiJn5clryPoIT\"\n",
        "!wget --load-cookies /tmp/cookies.txt \"https://docs.google.com/uc?export=download&confirm=$(wget --quiet --save-cookies /tmp/cookies.txt --keep-session-cookies --no-check-certificate 'https://docs.google.com/uc?export=download&id='$FILEID -O- | sed -rn 's/.*confirm=([0-9A-Za-z_]+).*/\\1\\n/p')&id=\"$FILEID -O codigos.zip && rm -rf /tmp/cookies.txt\n",
        "!unzip codigos.zip\n",
        "!dir"
      ],
      "execution_count": null,
      "outputs": [
        {
          "output_type": "stream",
          "text": [
            "--2020-12-13 04:59:51--  https://docs.google.com/uc?export=download&confirm=&id=1-4U4feveVrw7ADpprdqPiJn5clryPoIT\n",
            "Resolving docs.google.com (docs.google.com)... 74.125.142.100, 74.125.142.102, 74.125.142.113, ...\n",
            "Connecting to docs.google.com (docs.google.com)|74.125.142.100|:443... connected.\n",
            "HTTP request sent, awaiting response... 302 Moved Temporarily\n",
            "Location: https://doc-0c-24-docs.googleusercontent.com/docs/securesc/if295im7885ncatnv9mv26gv1tbb4b7i/764k1pat45ibaobcejlmqphtmdob11kf/1607835525000/12288095800397085605/12795004373990112720Z/1-4U4feveVrw7ADpprdqPiJn5clryPoIT?e=download [following]\n",
            "--2020-12-13 04:59:52--  https://doc-0c-24-docs.googleusercontent.com/docs/securesc/if295im7885ncatnv9mv26gv1tbb4b7i/764k1pat45ibaobcejlmqphtmdob11kf/1607835525000/12288095800397085605/12795004373990112720Z/1-4U4feveVrw7ADpprdqPiJn5clryPoIT?e=download\n",
            "Resolving doc-0c-24-docs.googleusercontent.com (doc-0c-24-docs.googleusercontent.com)... 74.125.142.132, 2607:f8b0:400e:c08::84\n",
            "Connecting to doc-0c-24-docs.googleusercontent.com (doc-0c-24-docs.googleusercontent.com)|74.125.142.132|:443... connected.\n",
            "HTTP request sent, awaiting response... 302 Found\n",
            "Location: https://docs.google.com/nonceSigner?nonce=tul7kupjunv6c&continue=https://doc-0c-24-docs.googleusercontent.com/docs/securesc/if295im7885ncatnv9mv26gv1tbb4b7i/764k1pat45ibaobcejlmqphtmdob11kf/1607835525000/12288095800397085605/12795004373990112720Z/1-4U4feveVrw7ADpprdqPiJn5clryPoIT?e%3Ddownload&hash=3bj054ggd8lfqg8qu8o18o46scipc0kd [following]\n",
            "--2020-12-13 04:59:52--  https://docs.google.com/nonceSigner?nonce=tul7kupjunv6c&continue=https://doc-0c-24-docs.googleusercontent.com/docs/securesc/if295im7885ncatnv9mv26gv1tbb4b7i/764k1pat45ibaobcejlmqphtmdob11kf/1607835525000/12288095800397085605/12795004373990112720Z/1-4U4feveVrw7ADpprdqPiJn5clryPoIT?e%3Ddownload&hash=3bj054ggd8lfqg8qu8o18o46scipc0kd\n",
            "Connecting to docs.google.com (docs.google.com)|74.125.142.100|:443... connected.\n",
            "HTTP request sent, awaiting response... 302 Found\n",
            "Location: https://doc-0c-24-docs.googleusercontent.com/docs/securesc/if295im7885ncatnv9mv26gv1tbb4b7i/764k1pat45ibaobcejlmqphtmdob11kf/1607835525000/12288095800397085605/12795004373990112720Z/1-4U4feveVrw7ADpprdqPiJn5clryPoIT?e=download&nonce=tul7kupjunv6c&user=12795004373990112720Z&hash=t9hd5r9b79qujqnmh7d8lp4ndavg8qnk [following]\n",
            "--2020-12-13 04:59:52--  https://doc-0c-24-docs.googleusercontent.com/docs/securesc/if295im7885ncatnv9mv26gv1tbb4b7i/764k1pat45ibaobcejlmqphtmdob11kf/1607835525000/12288095800397085605/12795004373990112720Z/1-4U4feveVrw7ADpprdqPiJn5clryPoIT?e=download&nonce=tul7kupjunv6c&user=12795004373990112720Z&hash=t9hd5r9b79qujqnmh7d8lp4ndavg8qnk\n",
            "Connecting to doc-0c-24-docs.googleusercontent.com (doc-0c-24-docs.googleusercontent.com)|74.125.142.132|:443... connected.\n",
            "HTTP request sent, awaiting response... 200 OK\n",
            "Length: 983153 (960K) [application/zip]\n",
            "Saving to: ‘codigos.zip’\n",
            "\n",
            "codigos.zip         100%[===================>] 960.11K  --.-KB/s    in 0.007s  \n",
            "\n",
            "2020-12-13 04:59:52 (137 MB/s) - ‘codigos.zip’ saved [983153/983153]\n",
            "\n",
            "Archive:  codigos.zip\n",
            "replace netflix_titles.csv? [y]es, [n]o, [A]ll, [N]one, [r]ename: A\n",
            "  inflating: netflix_titles.csv      \n",
            "  inflating: __MACOSX/._netflix_titles.csv  \n",
            "codigos.zip  __MACOSX  netflix_titles.csv  results  sample_data\n"
          ],
          "name": "stdout"
        }
      ]
    },
    {
      "cell_type": "markdown",
      "metadata": {
        "id": "Y-grw1xR7AAj"
      },
      "source": [
        "# Se obtener los datos del archivo CSV\r\n",
        "\r\n",
        "### Se presenta el DataFrame"
      ]
    },
    {
      "cell_type": "code",
      "metadata": {
        "colab": {
          "base_uri": "https://localhost:8080/",
          "height": 510
        },
        "id": "_uRjE91m7EOM",
        "outputId": "9a63ca26-fabc-4344-f4fe-63bb577e7498"
      },
      "source": [
        "# To support both python 2 and python 3\n",
        "from __future__ import division, print_function, unicode_literals\n",
        "\n",
        "# Common imports\n",
        "import numpy as np\n",
        "import os\n",
        "\n",
        "# to make this notebook's output stable across runs\n",
        "np.random.seed(42)\n",
        "\n",
        "# To plot pretty figures\n",
        "# magic function to render figure\n",
        "%matplotlib inline \n",
        "import matplotlib as mpl\n",
        "import matplotlib.pyplot as plt\n",
        "\n",
        "#crear carpeta con resultados\n",
        "import os\n",
        "try:\n",
        "  os.mkdir('results')\n",
        "except:\n",
        "  print(\"Carpeta results ya existe\")\n",
        "\n",
        "import warnings\n",
        "warnings.filterwarnings(action=\"ignore\", message=\"^internal gelsd\")\n",
        "\n",
        "\n",
        "# Code example\n",
        "import matplotlib.pyplot as plt\n",
        "import numpy as np\n",
        "import pandas as pd\n",
        "import sklearn.linear_model\n",
        "\n",
        "# Load the data\n",
        "dataNetflix = pd.read_csv(\"netflix_titles.csv\", thousands=',')\n",
        "\n",
        "dataNetflix.head()\n"
      ],
      "execution_count": null,
      "outputs": [
        {
          "output_type": "stream",
          "text": [
            "Carpeta results ya existe\n"
          ],
          "name": "stdout"
        },
        {
          "output_type": "execute_result",
          "data": {
            "text/html": [
              "<div>\n",
              "<style scoped>\n",
              "    .dataframe tbody tr th:only-of-type {\n",
              "        vertical-align: middle;\n",
              "    }\n",
              "\n",
              "    .dataframe tbody tr th {\n",
              "        vertical-align: top;\n",
              "    }\n",
              "\n",
              "    .dataframe thead th {\n",
              "        text-align: right;\n",
              "    }\n",
              "</style>\n",
              "<table border=\"1\" class=\"dataframe\">\n",
              "  <thead>\n",
              "    <tr style=\"text-align: right;\">\n",
              "      <th></th>\n",
              "      <th>show_id</th>\n",
              "      <th>type</th>\n",
              "      <th>title</th>\n",
              "      <th>director</th>\n",
              "      <th>cast</th>\n",
              "      <th>country</th>\n",
              "      <th>date_added</th>\n",
              "      <th>release_year</th>\n",
              "      <th>rating</th>\n",
              "      <th>duration</th>\n",
              "      <th>listed_in</th>\n",
              "      <th>description</th>\n",
              "    </tr>\n",
              "  </thead>\n",
              "  <tbody>\n",
              "    <tr>\n",
              "      <th>0</th>\n",
              "      <td>81145628</td>\n",
              "      <td>Movie</td>\n",
              "      <td>Norm of the North: King Sized Adventure</td>\n",
              "      <td>Richard Finn, Tim Maltby</td>\n",
              "      <td>Alan Marriott, Andrew Toth, Brian Dobson, Cole...</td>\n",
              "      <td>United States, India, South Korea, China</td>\n",
              "      <td>September 9, 2019</td>\n",
              "      <td>2019</td>\n",
              "      <td>TV-PG</td>\n",
              "      <td>90 min</td>\n",
              "      <td>Children &amp; Family Movies, Comedies</td>\n",
              "      <td>Before planning an awesome wedding for his gra...</td>\n",
              "    </tr>\n",
              "    <tr>\n",
              "      <th>1</th>\n",
              "      <td>80117401</td>\n",
              "      <td>Movie</td>\n",
              "      <td>Jandino: Whatever it Takes</td>\n",
              "      <td>NaN</td>\n",
              "      <td>Jandino Asporaat</td>\n",
              "      <td>United Kingdom</td>\n",
              "      <td>September 9, 2016</td>\n",
              "      <td>2016</td>\n",
              "      <td>TV-MA</td>\n",
              "      <td>94 min</td>\n",
              "      <td>Stand-Up Comedy</td>\n",
              "      <td>Jandino Asporaat riffs on the challenges of ra...</td>\n",
              "    </tr>\n",
              "    <tr>\n",
              "      <th>2</th>\n",
              "      <td>70234439</td>\n",
              "      <td>TV Show</td>\n",
              "      <td>Transformers Prime</td>\n",
              "      <td>NaN</td>\n",
              "      <td>Peter Cullen, Sumalee Montano, Frank Welker, J...</td>\n",
              "      <td>United States</td>\n",
              "      <td>September 8, 2018</td>\n",
              "      <td>2013</td>\n",
              "      <td>TV-Y7-FV</td>\n",
              "      <td>1 Season</td>\n",
              "      <td>Kids' TV</td>\n",
              "      <td>With the help of three human allies, the Autob...</td>\n",
              "    </tr>\n",
              "    <tr>\n",
              "      <th>3</th>\n",
              "      <td>80058654</td>\n",
              "      <td>TV Show</td>\n",
              "      <td>Transformers: Robots in Disguise</td>\n",
              "      <td>NaN</td>\n",
              "      <td>Will Friedle, Darren Criss, Constance Zimmer, ...</td>\n",
              "      <td>United States</td>\n",
              "      <td>September 8, 2018</td>\n",
              "      <td>2016</td>\n",
              "      <td>TV-Y7</td>\n",
              "      <td>1 Season</td>\n",
              "      <td>Kids' TV</td>\n",
              "      <td>When a prison ship crash unleashes hundreds of...</td>\n",
              "    </tr>\n",
              "    <tr>\n",
              "      <th>4</th>\n",
              "      <td>80125979</td>\n",
              "      <td>Movie</td>\n",
              "      <td>#realityhigh</td>\n",
              "      <td>Fernando Lebrija</td>\n",
              "      <td>Nesta Cooper, Kate Walsh, John Michael Higgins...</td>\n",
              "      <td>United States</td>\n",
              "      <td>September 8, 2017</td>\n",
              "      <td>2017</td>\n",
              "      <td>TV-14</td>\n",
              "      <td>99 min</td>\n",
              "      <td>Comedies</td>\n",
              "      <td>When nerdy high schooler Dani finally attracts...</td>\n",
              "    </tr>\n",
              "  </tbody>\n",
              "</table>\n",
              "</div>"
            ],
            "text/plain": [
              "    show_id  ...                                        description\n",
              "0  81145628  ...  Before planning an awesome wedding for his gra...\n",
              "1  80117401  ...  Jandino Asporaat riffs on the challenges of ra...\n",
              "2  70234439  ...  With the help of three human allies, the Autob...\n",
              "3  80058654  ...  When a prison ship crash unleashes hundreds of...\n",
              "4  80125979  ...  When nerdy high schooler Dani finally attracts...\n",
              "\n",
              "[5 rows x 12 columns]"
            ]
          },
          "metadata": {
            "tags": []
          },
          "execution_count": 21
        }
      ]
    },
    {
      "cell_type": "markdown",
      "metadata": {
        "id": "z_TB-Exb9M-F"
      },
      "source": [
        "## Se realiza un revisión sobre como estan compuestos los datos para tener una perspectiva general de los datos y enfocar en un análisis adecuado"
      ]
    },
    {
      "cell_type": "code",
      "metadata": {
        "colab": {
          "base_uri": "https://localhost:8080/"
        },
        "id": "Hp3apYcN-dIb",
        "outputId": "8cd5baf2-abd7-40ce-fa35-1b97804084fe"
      },
      "source": [
        "print(dataNetflix['rating'].value_counts())\n",
        "print(\"-----------------------------------\")\n",
        "print(dataNetflix['listed_in'].value_counts())\n",
        "print(\"-----------------------------------\")\n",
        "print(dataNetflix['country'].value_counts())\n",
        "print(\"-----------------------------------\")\n",
        "print(dataNetflix.info())\n"
      ],
      "execution_count": null,
      "outputs": [
        {
          "output_type": "stream",
          "text": [
            "TV-MA       2027\n",
            "TV-14       1698\n",
            "TV-PG        701\n",
            "R            508\n",
            "PG-13        286\n",
            "NR           218\n",
            "PG           184\n",
            "TV-Y7        169\n",
            "TV-G         149\n",
            "TV-Y         143\n",
            "TV-Y7-FV      95\n",
            "G             37\n",
            "UR             7\n",
            "NC-17          2\n",
            "Name: rating, dtype: int64\n",
            "-----------------------------------\n",
            "Documentaries                                              299\n",
            "Stand-Up Comedy                                            273\n",
            "Dramas, International Movies                               248\n",
            "Dramas, Independent Movies, International Movies           186\n",
            "Comedies, Dramas, International Movies                     174\n",
            "                                                          ... \n",
            "Action & Adventure, Comedies, Music & Musicals               1\n",
            "International TV Shows, TV Mysteries, TV Thrillers           1\n",
            "International Movies, Romantic Movies, Sci-Fi & Fantasy      1\n",
            "Crime TV Shows, TV Dramas, TV Horror                         1\n",
            "Kids' TV, Spanish-Language TV Shows, Teen TV Shows           1\n",
            "Name: listed_in, Length: 461, dtype: int64\n",
            "-----------------------------------\n",
            "United States                 2032\n",
            "India                          777\n",
            "United Kingdom                 348\n",
            "Japan                          176\n",
            "Canada                         141\n",
            "                              ... \n",
            "Uruguay, Spain, Mexico           1\n",
            "Brazil, United States            1\n",
            "Ireland, United Kingdom          1\n",
            "United Kingdom, Pakistan         1\n",
            "Australia, France, Ireland       1\n",
            "Name: country, Length: 554, dtype: int64\n",
            "-----------------------------------\n",
            "<class 'pandas.core.frame.DataFrame'>\n",
            "RangeIndex: 6234 entries, 0 to 6233\n",
            "Data columns (total 12 columns):\n",
            " #   Column        Non-Null Count  Dtype \n",
            "---  ------        --------------  ----- \n",
            " 0   show_id       6234 non-null   int64 \n",
            " 1   type          6234 non-null   object\n",
            " 2   title         6234 non-null   object\n",
            " 3   director      4265 non-null   object\n",
            " 4   cast          5664 non-null   object\n",
            " 5   country       5758 non-null   object\n",
            " 6   date_added    6223 non-null   object\n",
            " 7   release_year  6234 non-null   int64 \n",
            " 8   rating        6224 non-null   object\n",
            " 9   duration      6234 non-null   object\n",
            " 10  listed_in     6234 non-null   object\n",
            " 11  description   6234 non-null   object\n",
            "dtypes: int64(2), object(10)\n",
            "memory usage: 584.6+ KB\n",
            "None\n"
          ],
          "name": "stdout"
        }
      ]
    },
    {
      "cell_type": "markdown",
      "metadata": {
        "id": "pcnKq7E59AR5"
      },
      "source": [
        "# Pre proceso de los datos\n",
        "##Se crea la clase que permite pre procesar todos los datos\n"
      ]
    },
    {
      "cell_type": "markdown",
      "metadata": {
        "id": "bZlMqlZWuMkm"
      },
      "source": [
        "Para analizar la base de datos, se requiere que en el preproceso se completen los datos faltantes en las columnas de interés, Por ello, lo primero que se hace es recorrer la base de datos para encontrar en que atributos faltan instancias. Los datos nulos se llenan mediante un imputador simple, usando la estrategia de \"más frecuente\", Además, se deben convertir todos las instancias a un mismo formato para poder efectuar el procedimiento."
      ]
    },
    {
      "cell_type": "markdown",
      "metadata": {
        "id": "nOZu-03H9tF4"
      },
      "source": [
        "## Se obtiene el diccionario para trabajar las categorias"
      ]
    },
    {
      "cell_type": "code",
      "metadata": {
        "colab": {
          "base_uri": "https://localhost:8080/"
        },
        "id": "2uXj_B6N9zGT",
        "outputId": "05ef2a65-653d-4a69-ed6c-05238e2aa3a9"
      },
      "source": [
        "cat_ordinal = ['type','director','country','duration','title','cast','listed_in','description','rating']\n",
        "items = [] \n",
        "for i in cat_ordinal:\n",
        "    items += [list(dataNetflix[i].value_counts().index)]\n",
        "categorias_datos = dict(zip(cat_ordinal, items))\n",
        "\n",
        "categorias_datos['type']\n"
      ],
      "execution_count": null,
      "outputs": [
        {
          "output_type": "execute_result",
          "data": {
            "text/plain": [
              "['Movie', 'TV Show']"
            ]
          },
          "metadata": {
            "tags": []
          },
          "execution_count": 23
        }
      ]
    },
    {
      "cell_type": "code",
      "metadata": {
        "id": "oU89JxjJ8_-o"
      },
      "source": [
        "#FUNCIONES TRAIDAS DESDE EL ARCHIVO\n",
        "#%% dummy transformer\n",
        "from sklearn.base import BaseEstimator, TransformerMixin\n",
        "from sklearn.impute import SimpleImputer\n",
        "from sklearn.preprocessing import OrdinalEncoder, OneHotEncoder\n",
        "\n",
        "class preprocesoNetflix(BaseEstimator,TransformerMixin):\n",
        "    #inicializacion de clase y varaibles\n",
        "    def __init__(self, categorias_datos):\n",
        "        self.categorias_datos = categorias_datos \n",
        "\n",
        "    def fit(self,X, *_):\n",
        "\n",
        "        Xi = X.copy() #copiar dataset para no reemplazar original\n",
        "        self.imputer_num = SimpleImputer(strategy=\"most_frequent\") # Se crea el imputador simple con la estrategia de la moda.\n",
        "        self.a = Xi.columns[np.sum(Xi.isna())> 0] # Se buscan las columnas con datos faltantes \n",
        "        self.imputer_num.fit(Xi[self.a]) # Ajustar el imputador simple\n",
        "        Xi[self.a] = self.imputer_num.transform(Xi[self.a]) #Evaluar datos del imputador \n",
        "        \n",
        "        #VAMOS A REALIZAR EL PROCEDIMIENTO PARA CODIFICAR LAS VARIABLES TIPO OBJECT \n",
        "        cat = []\n",
        "        for i in self.categorias_datos.keys():\n",
        "            cat = cat + [[*self.categorias_datos.get(i)]]\n",
        "        self.col_categorias_datos = OrdinalEncoder(categories=cat)\n",
        "        Xi[[*self.categorias_datos.keys()]] =self.col_categorias_datos.fit_transform(Xi[[*self.categorias_datos.keys()]])\n",
        "\n",
        "        #self.col_cat = Xi.columns[Xi.dtypes=='O']\n",
        "        #self.cod = OrdinalEncoder()\n",
        "        #self.cod.fit(Xi[self.col_cat])\n",
        "        \n",
        "        return self    \n",
        "\n",
        "    def transform(self, X, *_):\n",
        "\n",
        "        Xi = X.copy()\n",
        "        Xi[self.a] = self.imputer_num.transform(Xi[self.a])\n",
        "\n",
        "        \n",
        "        Xi[[*self.categorias_datos.keys()]] =self.col_categorias_datos.transform(Xi[[*self.categorias_datos.keys()]])\n",
        "        #Xi[self.col_cat]= self.cod.transform(Xi[self.col_cat])\n",
        "        \n",
        "        return Xi\n",
        "    \n",
        "    def fit_transform(self,X,*_):\n",
        "        self.fit(X)\n",
        "        return self.transform(X)"
      ],
      "execution_count": null,
      "outputs": []
    },
    {
      "cell_type": "markdown",
      "metadata": {
        "id": "qPVkLU1Y-9Fo"
      },
      "source": [
        "## Se hace la partición en datos de entrenamiento y validación, además se selecciona como variable de salida **rating**, que indica la clasificación adecuada de edades para los usuarios según el tipo de contenido del material. Se suprimen además, los datos que no ofrecen información útil para el proceso."
      ]
    },
    {
      "cell_type": "code",
      "metadata": {
        "id": "rTPnTRF--80Q"
      },
      "source": [
        "#Importamos Sklearn\n",
        "from sklearn.model_selection import  train_test_split\n",
        "\n",
        "#Paso 2: Particion entrenamiento y validación\n",
        "Xtrain, Xtest = train_test_split(dataNetflix,test_size=0.3)"
      ],
      "execution_count": null,
      "outputs": []
    },
    {
      "cell_type": "markdown",
      "metadata": {
        "id": "0xvcubZxS3_r"
      },
      "source": [
        "### Se verifica a que columnas les hace falta información"
      ]
    },
    {
      "cell_type": "code",
      "metadata": {
        "colab": {
          "base_uri": "https://localhost:8080/",
          "height": 640
        },
        "id": "7a3wIPtQuM9_",
        "outputId": "306a36d8-165a-44e4-b8af-1d18fe472674"
      },
      "source": [
        "a = Xtrain.columns[np.sum(Xtrain.isna())> 0] # Buscar columnas con datos faltantes\r\n",
        "Xtrain.isna() \r\n",
        "print(np.sum(Xtrain.isna()))\r\n",
        "Xtrain.isna() "
      ],
      "execution_count": null,
      "outputs": [
        {
          "output_type": "stream",
          "text": [
            "show_id            0\n",
            "type               0\n",
            "title              0\n",
            "director        1355\n",
            "cast             400\n",
            "country          311\n",
            "date_added         8\n",
            "release_year       0\n",
            "rating             3\n",
            "duration           0\n",
            "listed_in          0\n",
            "description        0\n",
            "dtype: int64\n"
          ],
          "name": "stdout"
        },
        {
          "output_type": "execute_result",
          "data": {
            "text/html": [
              "<div>\n",
              "<style scoped>\n",
              "    .dataframe tbody tr th:only-of-type {\n",
              "        vertical-align: middle;\n",
              "    }\n",
              "\n",
              "    .dataframe tbody tr th {\n",
              "        vertical-align: top;\n",
              "    }\n",
              "\n",
              "    .dataframe thead th {\n",
              "        text-align: right;\n",
              "    }\n",
              "</style>\n",
              "<table border=\"1\" class=\"dataframe\">\n",
              "  <thead>\n",
              "    <tr style=\"text-align: right;\">\n",
              "      <th></th>\n",
              "      <th>show_id</th>\n",
              "      <th>type</th>\n",
              "      <th>title</th>\n",
              "      <th>director</th>\n",
              "      <th>cast</th>\n",
              "      <th>country</th>\n",
              "      <th>date_added</th>\n",
              "      <th>release_year</th>\n",
              "      <th>rating</th>\n",
              "      <th>duration</th>\n",
              "      <th>listed_in</th>\n",
              "      <th>description</th>\n",
              "    </tr>\n",
              "  </thead>\n",
              "  <tbody>\n",
              "    <tr>\n",
              "      <th>1034</th>\n",
              "      <td>False</td>\n",
              "      <td>False</td>\n",
              "      <td>False</td>\n",
              "      <td>False</td>\n",
              "      <td>False</td>\n",
              "      <td>True</td>\n",
              "      <td>False</td>\n",
              "      <td>False</td>\n",
              "      <td>False</td>\n",
              "      <td>False</td>\n",
              "      <td>False</td>\n",
              "      <td>False</td>\n",
              "    </tr>\n",
              "    <tr>\n",
              "      <th>2960</th>\n",
              "      <td>False</td>\n",
              "      <td>False</td>\n",
              "      <td>False</td>\n",
              "      <td>False</td>\n",
              "      <td>False</td>\n",
              "      <td>False</td>\n",
              "      <td>False</td>\n",
              "      <td>False</td>\n",
              "      <td>False</td>\n",
              "      <td>False</td>\n",
              "      <td>False</td>\n",
              "      <td>False</td>\n",
              "    </tr>\n",
              "    <tr>\n",
              "      <th>2873</th>\n",
              "      <td>False</td>\n",
              "      <td>False</td>\n",
              "      <td>False</td>\n",
              "      <td>False</td>\n",
              "      <td>False</td>\n",
              "      <td>False</td>\n",
              "      <td>False</td>\n",
              "      <td>False</td>\n",
              "      <td>False</td>\n",
              "      <td>False</td>\n",
              "      <td>False</td>\n",
              "      <td>False</td>\n",
              "    </tr>\n",
              "    <tr>\n",
              "      <th>3270</th>\n",
              "      <td>False</td>\n",
              "      <td>False</td>\n",
              "      <td>False</td>\n",
              "      <td>False</td>\n",
              "      <td>False</td>\n",
              "      <td>False</td>\n",
              "      <td>False</td>\n",
              "      <td>False</td>\n",
              "      <td>False</td>\n",
              "      <td>False</td>\n",
              "      <td>False</td>\n",
              "      <td>False</td>\n",
              "    </tr>\n",
              "    <tr>\n",
              "      <th>6160</th>\n",
              "      <td>False</td>\n",
              "      <td>False</td>\n",
              "      <td>False</td>\n",
              "      <td>True</td>\n",
              "      <td>False</td>\n",
              "      <td>False</td>\n",
              "      <td>False</td>\n",
              "      <td>False</td>\n",
              "      <td>False</td>\n",
              "      <td>False</td>\n",
              "      <td>False</td>\n",
              "      <td>False</td>\n",
              "    </tr>\n",
              "    <tr>\n",
              "      <th>...</th>\n",
              "      <td>...</td>\n",
              "      <td>...</td>\n",
              "      <td>...</td>\n",
              "      <td>...</td>\n",
              "      <td>...</td>\n",
              "      <td>...</td>\n",
              "      <td>...</td>\n",
              "      <td>...</td>\n",
              "      <td>...</td>\n",
              "      <td>...</td>\n",
              "      <td>...</td>\n",
              "      <td>...</td>\n",
              "    </tr>\n",
              "    <tr>\n",
              "      <th>3772</th>\n",
              "      <td>False</td>\n",
              "      <td>False</td>\n",
              "      <td>False</td>\n",
              "      <td>False</td>\n",
              "      <td>False</td>\n",
              "      <td>False</td>\n",
              "      <td>False</td>\n",
              "      <td>False</td>\n",
              "      <td>False</td>\n",
              "      <td>False</td>\n",
              "      <td>False</td>\n",
              "      <td>False</td>\n",
              "    </tr>\n",
              "    <tr>\n",
              "      <th>5191</th>\n",
              "      <td>False</td>\n",
              "      <td>False</td>\n",
              "      <td>False</td>\n",
              "      <td>False</td>\n",
              "      <td>True</td>\n",
              "      <td>False</td>\n",
              "      <td>False</td>\n",
              "      <td>False</td>\n",
              "      <td>False</td>\n",
              "      <td>False</td>\n",
              "      <td>False</td>\n",
              "      <td>False</td>\n",
              "    </tr>\n",
              "    <tr>\n",
              "      <th>5226</th>\n",
              "      <td>False</td>\n",
              "      <td>False</td>\n",
              "      <td>False</td>\n",
              "      <td>False</td>\n",
              "      <td>False</td>\n",
              "      <td>False</td>\n",
              "      <td>False</td>\n",
              "      <td>False</td>\n",
              "      <td>False</td>\n",
              "      <td>False</td>\n",
              "      <td>False</td>\n",
              "      <td>False</td>\n",
              "    </tr>\n",
              "    <tr>\n",
              "      <th>5390</th>\n",
              "      <td>False</td>\n",
              "      <td>False</td>\n",
              "      <td>False</td>\n",
              "      <td>False</td>\n",
              "      <td>False</td>\n",
              "      <td>False</td>\n",
              "      <td>False</td>\n",
              "      <td>False</td>\n",
              "      <td>False</td>\n",
              "      <td>False</td>\n",
              "      <td>False</td>\n",
              "      <td>False</td>\n",
              "    </tr>\n",
              "    <tr>\n",
              "      <th>860</th>\n",
              "      <td>False</td>\n",
              "      <td>False</td>\n",
              "      <td>False</td>\n",
              "      <td>True</td>\n",
              "      <td>False</td>\n",
              "      <td>True</td>\n",
              "      <td>False</td>\n",
              "      <td>False</td>\n",
              "      <td>False</td>\n",
              "      <td>False</td>\n",
              "      <td>False</td>\n",
              "      <td>False</td>\n",
              "    </tr>\n",
              "  </tbody>\n",
              "</table>\n",
              "<p>4363 rows × 12 columns</p>\n",
              "</div>"
            ],
            "text/plain": [
              "      show_id   type  title  director  ...  rating  duration  listed_in  description\n",
              "1034    False  False  False     False  ...   False     False      False        False\n",
              "2960    False  False  False     False  ...   False     False      False        False\n",
              "2873    False  False  False     False  ...   False     False      False        False\n",
              "3270    False  False  False     False  ...   False     False      False        False\n",
              "6160    False  False  False      True  ...   False     False      False        False\n",
              "...       ...    ...    ...       ...  ...     ...       ...        ...          ...\n",
              "3772    False  False  False     False  ...   False     False      False        False\n",
              "5191    False  False  False     False  ...   False     False      False        False\n",
              "5226    False  False  False     False  ...   False     False      False        False\n",
              "5390    False  False  False     False  ...   False     False      False        False\n",
              "860     False  False  False      True  ...   False     False      False        False\n",
              "\n",
              "[4363 rows x 12 columns]"
            ]
          },
          "metadata": {
            "tags": []
          },
          "execution_count": 26
        }
      ]
    },
    {
      "cell_type": "markdown",
      "metadata": {
        "id": "Xz_KdcscW4Lp"
      },
      "source": [
        "## Se realiza el preproceso indicado para los datos de entrenamiento y test"
      ]
    },
    {
      "cell_type": "code",
      "metadata": {
        "colab": {
          "base_uri": "https://localhost:8080/",
          "height": 204
        },
        "id": "xO7PMX3gWhRv",
        "outputId": "8c364090-73a2-4ae3-9235-6867b9c30a0c"
      },
      "source": [
        "dummy = preprocesoNetflix(categorias_datos=categorias_datos)\r\n",
        "xtrainPre = dummy.fit_transform(Xtrain)\r\n",
        "XtestPre = dummy.transform(Xtest)\r\n",
        "\r\n",
        "col_eliminar = [\"date_added\",\"release_year\"]\r\n",
        "col_sal = ['rating']\r\n",
        "ytrain = xtrainPre[col_sal]\r\n",
        "ytest = XtestPre[col_sal]\r\n",
        "xtrainPre.drop(columns = col_eliminar, inplace = True)\r\n",
        "XtestPre.drop(columns = col_eliminar, inplace = True)\r\n",
        "xtrainPre.head()"
      ],
      "execution_count": null,
      "outputs": [
        {
          "output_type": "execute_result",
          "data": {
            "text/html": [
              "<div>\n",
              "<style scoped>\n",
              "    .dataframe tbody tr th:only-of-type {\n",
              "        vertical-align: middle;\n",
              "    }\n",
              "\n",
              "    .dataframe tbody tr th {\n",
              "        vertical-align: top;\n",
              "    }\n",
              "\n",
              "    .dataframe thead th {\n",
              "        text-align: right;\n",
              "    }\n",
              "</style>\n",
              "<table border=\"1\" class=\"dataframe\">\n",
              "  <thead>\n",
              "    <tr style=\"text-align: right;\">\n",
              "      <th></th>\n",
              "      <th>show_id</th>\n",
              "      <th>type</th>\n",
              "      <th>title</th>\n",
              "      <th>director</th>\n",
              "      <th>cast</th>\n",
              "      <th>country</th>\n",
              "      <th>rating</th>\n",
              "      <th>duration</th>\n",
              "      <th>listed_in</th>\n",
              "      <th>description</th>\n",
              "    </tr>\n",
              "  </thead>\n",
              "  <tbody>\n",
              "    <tr>\n",
              "      <th>1034</th>\n",
              "      <td>81209203</td>\n",
              "      <td>0.0</td>\n",
              "      <td>236.0</td>\n",
              "      <td>531.0</td>\n",
              "      <td>2169.0</td>\n",
              "      <td>0.0</td>\n",
              "      <td>8.0</td>\n",
              "      <td>21.0</td>\n",
              "      <td>7.0</td>\n",
              "      <td>3020.0</td>\n",
              "    </tr>\n",
              "    <tr>\n",
              "      <th>2960</th>\n",
              "      <td>80095718</td>\n",
              "      <td>0.0</td>\n",
              "      <td>1261.0</td>\n",
              "      <td>2373.0</td>\n",
              "      <td>3961.0</td>\n",
              "      <td>0.0</td>\n",
              "      <td>6.0</td>\n",
              "      <td>10.0</td>\n",
              "      <td>47.0</td>\n",
              "      <td>5300.0</td>\n",
              "    </tr>\n",
              "    <tr>\n",
              "      <th>2873</th>\n",
              "      <td>70298116</td>\n",
              "      <td>0.0</td>\n",
              "      <td>5763.0</td>\n",
              "      <td>3088.0</td>\n",
              "      <td>2485.0</td>\n",
              "      <td>0.0</td>\n",
              "      <td>1.0</td>\n",
              "      <td>21.0</td>\n",
              "      <td>41.0</td>\n",
              "      <td>2303.0</td>\n",
              "    </tr>\n",
              "    <tr>\n",
              "      <th>3270</th>\n",
              "      <td>81047899</td>\n",
              "      <td>0.0</td>\n",
              "      <td>2813.0</td>\n",
              "      <td>2657.0</td>\n",
              "      <td>941.0</td>\n",
              "      <td>18.0</td>\n",
              "      <td>1.0</td>\n",
              "      <td>43.0</td>\n",
              "      <td>112.0</td>\n",
              "      <td>1507.0</td>\n",
              "    </tr>\n",
              "    <tr>\n",
              "      <th>6160</th>\n",
              "      <td>70143836</td>\n",
              "      <td>1.0</td>\n",
              "      <td>557.0</td>\n",
              "      <td>0.0</td>\n",
              "      <td>2437.0</td>\n",
              "      <td>0.0</td>\n",
              "      <td>0.0</td>\n",
              "      <td>35.0</td>\n",
              "      <td>160.0</td>\n",
              "      <td>1396.0</td>\n",
              "    </tr>\n",
              "  </tbody>\n",
              "</table>\n",
              "</div>"
            ],
            "text/plain": [
              "       show_id  type   title  ...  duration  listed_in  description\n",
              "1034  81209203   0.0   236.0  ...      21.0        7.0       3020.0\n",
              "2960  80095718   0.0  1261.0  ...      10.0       47.0       5300.0\n",
              "2873  70298116   0.0  5763.0  ...      21.0       41.0       2303.0\n",
              "3270  81047899   0.0  2813.0  ...      43.0      112.0       1507.0\n",
              "6160  70143836   1.0   557.0  ...      35.0      160.0       1396.0\n",
              "\n",
              "[5 rows x 10 columns]"
            ]
          },
          "metadata": {
            "tags": []
          },
          "execution_count": 27
        }
      ]
    },
    {
      "cell_type": "markdown",
      "metadata": {
        "id": "4frf06_c5Ggn"
      },
      "source": [
        "##Verificamos que tanto los datos de entrenamiento hayan sido preprocesados correctamente"
      ]
    },
    {
      "cell_type": "code",
      "metadata": {
        "colab": {
          "base_uri": "https://localhost:8080/"
        },
        "id": "ledQqEpf5KzU",
        "outputId": "0d1f02fd-7241-4a7e-b76c-7e35acebfc58"
      },
      "source": [
        "xtrainPre.info()"
      ],
      "execution_count": null,
      "outputs": [
        {
          "output_type": "stream",
          "text": [
            "<class 'pandas.core.frame.DataFrame'>\n",
            "Int64Index: 4363 entries, 1034 to 860\n",
            "Data columns (total 10 columns):\n",
            " #   Column       Non-Null Count  Dtype  \n",
            "---  ------       --------------  -----  \n",
            " 0   show_id      4363 non-null   int64  \n",
            " 1   type         4363 non-null   float64\n",
            " 2   title        4363 non-null   float64\n",
            " 3   director     4363 non-null   float64\n",
            " 4   cast         4363 non-null   float64\n",
            " 5   country      4363 non-null   float64\n",
            " 6   rating       4363 non-null   float64\n",
            " 7   duration     4363 non-null   float64\n",
            " 8   listed_in    4363 non-null   float64\n",
            " 9   description  4363 non-null   float64\n",
            "dtypes: float64(9), int64(1)\n",
            "memory usage: 374.9 KB\n"
          ],
          "name": "stdout"
        }
      ]
    },
    {
      "cell_type": "markdown",
      "metadata": {
        "id": "XGucZ_aC7cvH"
      },
      "source": [
        "## Se presenta la matriz de correlación de los datos de entrenamiento preprocesados\r\n"
      ]
    },
    {
      "cell_type": "code",
      "metadata": {
        "colab": {
          "base_uri": "https://localhost:8080/",
          "height": 250
        },
        "id": "dQRgP6d551GO",
        "outputId": "a7082c5e-f45b-4660-ebf1-ba03b55804ee"
      },
      "source": [
        "corr_matrix = xtrainPre.corr() #Correlación del Xtrain preprocesado \r\n",
        "corr_matrix.style.background_gradient(cmap='coolwarm')"
      ],
      "execution_count": null,
      "outputs": [
        {
          "output_type": "execute_result",
          "data": {
            "text/html": [
              "<style  type=\"text/css\" >\n",
              "#T_1260374a_3d00_11eb_9897_0242ac1c0002row0_col0,#T_1260374a_3d00_11eb_9897_0242ac1c0002row1_col1,#T_1260374a_3d00_11eb_9897_0242ac1c0002row2_col2,#T_1260374a_3d00_11eb_9897_0242ac1c0002row3_col3,#T_1260374a_3d00_11eb_9897_0242ac1c0002row4_col4,#T_1260374a_3d00_11eb_9897_0242ac1c0002row5_col5,#T_1260374a_3d00_11eb_9897_0242ac1c0002row6_col6,#T_1260374a_3d00_11eb_9897_0242ac1c0002row7_col7,#T_1260374a_3d00_11eb_9897_0242ac1c0002row8_col8,#T_1260374a_3d00_11eb_9897_0242ac1c0002row9_col9{\n",
              "            background-color:  #b40426;\n",
              "            color:  #f1f1f1;\n",
              "        }#T_1260374a_3d00_11eb_9897_0242ac1c0002row0_col1{\n",
              "            background-color:  #ccd9ed;\n",
              "            color:  #000000;\n",
              "        }#T_1260374a_3d00_11eb_9897_0242ac1c0002row0_col2,#T_1260374a_3d00_11eb_9897_0242ac1c0002row4_col2{\n",
              "            background-color:  #3e51c5;\n",
              "            color:  #f1f1f1;\n",
              "        }#T_1260374a_3d00_11eb_9897_0242ac1c0002row0_col3,#T_1260374a_3d00_11eb_9897_0242ac1c0002row6_col3{\n",
              "            background-color:  #a9c6fd;\n",
              "            color:  #000000;\n",
              "        }#T_1260374a_3d00_11eb_9897_0242ac1c0002row0_col4,#T_1260374a_3d00_11eb_9897_0242ac1c0002row0_col6,#T_1260374a_3d00_11eb_9897_0242ac1c0002row0_col8,#T_1260374a_3d00_11eb_9897_0242ac1c0002row0_col9,#T_1260374a_3d00_11eb_9897_0242ac1c0002row1_col3,#T_1260374a_3d00_11eb_9897_0242ac1c0002row1_col5,#T_1260374a_3d00_11eb_9897_0242ac1c0002row1_col7,#T_1260374a_3d00_11eb_9897_0242ac1c0002row3_col1,#T_1260374a_3d00_11eb_9897_0242ac1c0002row5_col9,#T_1260374a_3d00_11eb_9897_0242ac1c0002row6_col0,#T_1260374a_3d00_11eb_9897_0242ac1c0002row7_col4,#T_1260374a_3d00_11eb_9897_0242ac1c0002row8_col2{\n",
              "            background-color:  #3b4cc0;\n",
              "            color:  #f1f1f1;\n",
              "        }#T_1260374a_3d00_11eb_9897_0242ac1c0002row0_col5,#T_1260374a_3d00_11eb_9897_0242ac1c0002row2_col8,#T_1260374a_3d00_11eb_9897_0242ac1c0002row4_col0{\n",
              "            background-color:  #5977e3;\n",
              "            color:  #000000;\n",
              "        }#T_1260374a_3d00_11eb_9897_0242ac1c0002row0_col7{\n",
              "            background-color:  #85a8fc;\n",
              "            color:  #000000;\n",
              "        }#T_1260374a_3d00_11eb_9897_0242ac1c0002row1_col0{\n",
              "            background-color:  #9abbff;\n",
              "            color:  #000000;\n",
              "        }#T_1260374a_3d00_11eb_9897_0242ac1c0002row1_col2,#T_1260374a_3d00_11eb_9897_0242ac1c0002row2_col9,#T_1260374a_3d00_11eb_9897_0242ac1c0002row3_col9{\n",
              "            background-color:  #4961d2;\n",
              "            color:  #f1f1f1;\n",
              "        }#T_1260374a_3d00_11eb_9897_0242ac1c0002row1_col4,#T_1260374a_3d00_11eb_9897_0242ac1c0002row4_col5{\n",
              "            background-color:  #536edd;\n",
              "            color:  #000000;\n",
              "        }#T_1260374a_3d00_11eb_9897_0242ac1c0002row1_col6,#T_1260374a_3d00_11eb_9897_0242ac1c0002row2_col0{\n",
              "            background-color:  #6a8bef;\n",
              "            color:  #000000;\n",
              "        }#T_1260374a_3d00_11eb_9897_0242ac1c0002row1_col8{\n",
              "            background-color:  #9ebeff;\n",
              "            color:  #000000;\n",
              "        }#T_1260374a_3d00_11eb_9897_0242ac1c0002row1_col9,#T_1260374a_3d00_11eb_9897_0242ac1c0002row6_col9{\n",
              "            background-color:  #445acc;\n",
              "            color:  #f1f1f1;\n",
              "        }#T_1260374a_3d00_11eb_9897_0242ac1c0002row2_col1{\n",
              "            background-color:  #b2ccfb;\n",
              "            color:  #000000;\n",
              "        }#T_1260374a_3d00_11eb_9897_0242ac1c0002row2_col3,#T_1260374a_3d00_11eb_9897_0242ac1c0002row6_col1{\n",
              "            background-color:  #aac7fd;\n",
              "            color:  #000000;\n",
              "        }#T_1260374a_3d00_11eb_9897_0242ac1c0002row2_col4,#T_1260374a_3d00_11eb_9897_0242ac1c0002row9_col5{\n",
              "            background-color:  #4b64d5;\n",
              "            color:  #f1f1f1;\n",
              "        }#T_1260374a_3d00_11eb_9897_0242ac1c0002row2_col5{\n",
              "            background-color:  #5572df;\n",
              "            color:  #000000;\n",
              "        }#T_1260374a_3d00_11eb_9897_0242ac1c0002row2_col6,#T_1260374a_3d00_11eb_9897_0242ac1c0002row8_col6{\n",
              "            background-color:  #6b8df0;\n",
              "            color:  #000000;\n",
              "        }#T_1260374a_3d00_11eb_9897_0242ac1c0002row2_col7{\n",
              "            background-color:  #a7c5fe;\n",
              "            color:  #000000;\n",
              "        }#T_1260374a_3d00_11eb_9897_0242ac1c0002row3_col0,#T_1260374a_3d00_11eb_9897_0242ac1c0002row6_col5{\n",
              "            background-color:  #688aef;\n",
              "            color:  #000000;\n",
              "        }#T_1260374a_3d00_11eb_9897_0242ac1c0002row3_col2,#T_1260374a_3d00_11eb_9897_0242ac1c0002row6_col2{\n",
              "            background-color:  #3f53c6;\n",
              "            color:  #f1f1f1;\n",
              "        }#T_1260374a_3d00_11eb_9897_0242ac1c0002row3_col4,#T_1260374a_3d00_11eb_9897_0242ac1c0002row5_col4,#T_1260374a_3d00_11eb_9897_0242ac1c0002row7_col5{\n",
              "            background-color:  #4c66d6;\n",
              "            color:  #000000;\n",
              "        }#T_1260374a_3d00_11eb_9897_0242ac1c0002row3_col5{\n",
              "            background-color:  #6e90f2;\n",
              "            color:  #000000;\n",
              "        }#T_1260374a_3d00_11eb_9897_0242ac1c0002row3_col6{\n",
              "            background-color:  #6788ee;\n",
              "            color:  #000000;\n",
              "        }#T_1260374a_3d00_11eb_9897_0242ac1c0002row3_col7{\n",
              "            background-color:  #c6d6f1;\n",
              "            color:  #000000;\n",
              "        }#T_1260374a_3d00_11eb_9897_0242ac1c0002row3_col8,#T_1260374a_3d00_11eb_9897_0242ac1c0002row8_col0{\n",
              "            background-color:  #465ecf;\n",
              "            color:  #f1f1f1;\n",
              "        }#T_1260374a_3d00_11eb_9897_0242ac1c0002row4_col1,#T_1260374a_3d00_11eb_9897_0242ac1c0002row9_col3{\n",
              "            background-color:  #afcafc;\n",
              "            color:  #000000;\n",
              "        }#T_1260374a_3d00_11eb_9897_0242ac1c0002row4_col3{\n",
              "            background-color:  #abc8fd;\n",
              "            color:  #000000;\n",
              "        }#T_1260374a_3d00_11eb_9897_0242ac1c0002row4_col6,#T_1260374a_3d00_11eb_9897_0242ac1c0002row9_col6{\n",
              "            background-color:  #6c8ff1;\n",
              "            color:  #000000;\n",
              "        }#T_1260374a_3d00_11eb_9897_0242ac1c0002row4_col7{\n",
              "            background-color:  #94b6ff;\n",
              "            color:  #000000;\n",
              "        }#T_1260374a_3d00_11eb_9897_0242ac1c0002row4_col8{\n",
              "            background-color:  #7396f5;\n",
              "            color:  #000000;\n",
              "        }#T_1260374a_3d00_11eb_9897_0242ac1c0002row4_col9,#T_1260374a_3d00_11eb_9897_0242ac1c0002row5_col2,#T_1260374a_3d00_11eb_9897_0242ac1c0002row7_col1,#T_1260374a_3d00_11eb_9897_0242ac1c0002row7_col2{\n",
              "            background-color:  #4358cb;\n",
              "            color:  #f1f1f1;\n",
              "        }#T_1260374a_3d00_11eb_9897_0242ac1c0002row5_col0{\n",
              "            background-color:  #7093f3;\n",
              "            color:  #000000;\n",
              "        }#T_1260374a_3d00_11eb_9897_0242ac1c0002row5_col1,#T_1260374a_3d00_11eb_9897_0242ac1c0002row8_col3{\n",
              "            background-color:  #97b8ff;\n",
              "            color:  #000000;\n",
              "        }#T_1260374a_3d00_11eb_9897_0242ac1c0002row5_col3{\n",
              "            background-color:  #bfd3f6;\n",
              "            color:  #000000;\n",
              "        }#T_1260374a_3d00_11eb_9897_0242ac1c0002row5_col6{\n",
              "            background-color:  #81a4fb;\n",
              "            color:  #000000;\n",
              "        }#T_1260374a_3d00_11eb_9897_0242ac1c0002row5_col7{\n",
              "            background-color:  #9fbfff;\n",
              "            color:  #000000;\n",
              "        }#T_1260374a_3d00_11eb_9897_0242ac1c0002row5_col8{\n",
              "            background-color:  #5470de;\n",
              "            color:  #000000;\n",
              "        }#T_1260374a_3d00_11eb_9897_0242ac1c0002row6_col4,#T_1260374a_3d00_11eb_9897_0242ac1c0002row9_col4{\n",
              "            background-color:  #4e68d8;\n",
              "            color:  #000000;\n",
              "        }#T_1260374a_3d00_11eb_9897_0242ac1c0002row6_col7,#T_1260374a_3d00_11eb_9897_0242ac1c0002row9_col1{\n",
              "            background-color:  #adc9fd;\n",
              "            color:  #000000;\n",
              "        }#T_1260374a_3d00_11eb_9897_0242ac1c0002row6_col8,#T_1260374a_3d00_11eb_9897_0242ac1c0002row9_col8{\n",
              "            background-color:  #5e7de7;\n",
              "            color:  #000000;\n",
              "        }#T_1260374a_3d00_11eb_9897_0242ac1c0002row7_col0,#T_1260374a_3d00_11eb_9897_0242ac1c0002row8_col5{\n",
              "            background-color:  #485fd1;\n",
              "            color:  #f1f1f1;\n",
              "        }#T_1260374a_3d00_11eb_9897_0242ac1c0002row7_col3{\n",
              "            background-color:  #cbd8ee;\n",
              "            color:  #000000;\n",
              "        }#T_1260374a_3d00_11eb_9897_0242ac1c0002row7_col6{\n",
              "            background-color:  #7699f6;\n",
              "            color:  #000000;\n",
              "        }#T_1260374a_3d00_11eb_9897_0242ac1c0002row7_col8,#T_1260374a_3d00_11eb_9897_0242ac1c0002row7_col9{\n",
              "            background-color:  #4055c8;\n",
              "            color:  #f1f1f1;\n",
              "        }#T_1260374a_3d00_11eb_9897_0242ac1c0002row8_col1{\n",
              "            background-color:  #d6dce4;\n",
              "            color:  #000000;\n",
              "        }#T_1260374a_3d00_11eb_9897_0242ac1c0002row8_col4{\n",
              "            background-color:  #6282ea;\n",
              "            color:  #000000;\n",
              "        }#T_1260374a_3d00_11eb_9897_0242ac1c0002row8_col7{\n",
              "            background-color:  #89acfd;\n",
              "            color:  #000000;\n",
              "        }#T_1260374a_3d00_11eb_9897_0242ac1c0002row8_col9{\n",
              "            background-color:  #4257c9;\n",
              "            color:  #f1f1f1;\n",
              "        }#T_1260374a_3d00_11eb_9897_0242ac1c0002row9_col0{\n",
              "            background-color:  #6384eb;\n",
              "            color:  #000000;\n",
              "        }#T_1260374a_3d00_11eb_9897_0242ac1c0002row9_col2{\n",
              "            background-color:  #455cce;\n",
              "            color:  #f1f1f1;\n",
              "        }#T_1260374a_3d00_11eb_9897_0242ac1c0002row9_col7{\n",
              "            background-color:  #a2c1ff;\n",
              "            color:  #000000;\n",
              "        }</style><table id=\"T_1260374a_3d00_11eb_9897_0242ac1c0002\" ><thead>    <tr>        <th class=\"blank level0\" ></th>        <th class=\"col_heading level0 col0\" >show_id</th>        <th class=\"col_heading level0 col1\" >type</th>        <th class=\"col_heading level0 col2\" >title</th>        <th class=\"col_heading level0 col3\" >director</th>        <th class=\"col_heading level0 col4\" >cast</th>        <th class=\"col_heading level0 col5\" >country</th>        <th class=\"col_heading level0 col6\" >rating</th>        <th class=\"col_heading level0 col7\" >duration</th>        <th class=\"col_heading level0 col8\" >listed_in</th>        <th class=\"col_heading level0 col9\" >description</th>    </tr></thead><tbody>\n",
              "                <tr>\n",
              "                        <th id=\"T_1260374a_3d00_11eb_9897_0242ac1c0002level0_row0\" class=\"row_heading level0 row0\" >show_id</th>\n",
              "                        <td id=\"T_1260374a_3d00_11eb_9897_0242ac1c0002row0_col0\" class=\"data row0 col0\" >1.000000</td>\n",
              "                        <td id=\"T_1260374a_3d00_11eb_9897_0242ac1c0002row0_col1\" class=\"data row0 col1\" >0.151083</td>\n",
              "                        <td id=\"T_1260374a_3d00_11eb_9897_0242ac1c0002row0_col2\" class=\"data row0 col2\" >-0.009618</td>\n",
              "                        <td id=\"T_1260374a_3d00_11eb_9897_0242ac1c0002row0_col3\" class=\"data row0 col3\" >-0.013498</td>\n",
              "                        <td id=\"T_1260374a_3d00_11eb_9897_0242ac1c0002row0_col4\" class=\"data row0 col4\" >-0.071604</td>\n",
              "                        <td id=\"T_1260374a_3d00_11eb_9897_0242ac1c0002row0_col5\" class=\"data row0 col5\" >0.015543</td>\n",
              "                        <td id=\"T_1260374a_3d00_11eb_9897_0242ac1c0002row0_col6\" class=\"data row0 col6\" >-0.188775</td>\n",
              "                        <td id=\"T_1260374a_3d00_11eb_9897_0242ac1c0002row0_col7\" class=\"data row0 col7\" >-0.136231</td>\n",
              "                        <td id=\"T_1260374a_3d00_11eb_9897_0242ac1c0002row0_col8\" class=\"data row0 col8\" >-0.137941</td>\n",
              "                        <td id=\"T_1260374a_3d00_11eb_9897_0242ac1c0002row0_col9\" class=\"data row0 col9\" >-0.033640</td>\n",
              "            </tr>\n",
              "            <tr>\n",
              "                        <th id=\"T_1260374a_3d00_11eb_9897_0242ac1c0002level0_row1\" class=\"row_heading level0 row1\" >type</th>\n",
              "                        <td id=\"T_1260374a_3d00_11eb_9897_0242ac1c0002row1_col0\" class=\"data row1 col0\" >0.151083</td>\n",
              "                        <td id=\"T_1260374a_3d00_11eb_9897_0242ac1c0002row1_col1\" class=\"data row1 col1\" >1.000000</td>\n",
              "                        <td id=\"T_1260374a_3d00_11eb_9897_0242ac1c0002row1_col2\" class=\"data row1 col2\" >0.024919</td>\n",
              "                        <td id=\"T_1260374a_3d00_11eb_9897_0242ac1c0002row1_col3\" class=\"data row1 col3\" >-0.516980</td>\n",
              "                        <td id=\"T_1260374a_3d00_11eb_9897_0242ac1c0002row1_col4\" class=\"data row1 col4\" >0.013812</td>\n",
              "                        <td id=\"T_1260374a_3d00_11eb_9897_0242ac1c0002row1_col5\" class=\"data row1 col5\" >-0.092207</td>\n",
              "                        <td id=\"T_1260374a_3d00_11eb_9897_0242ac1c0002row1_col6\" class=\"data row1 col6\" >-0.008409</td>\n",
              "                        <td id=\"T_1260374a_3d00_11eb_9897_0242ac1c0002row1_col7\" class=\"data row1 col7\" >-0.471180</td>\n",
              "                        <td id=\"T_1260374a_3d00_11eb_9897_0242ac1c0002row1_col8\" class=\"data row1 col8\" >0.200465</td>\n",
              "                        <td id=\"T_1260374a_3d00_11eb_9897_0242ac1c0002row1_col9\" class=\"data row1 col9\" >-0.001091</td>\n",
              "            </tr>\n",
              "            <tr>\n",
              "                        <th id=\"T_1260374a_3d00_11eb_9897_0242ac1c0002level0_row2\" class=\"row_heading level0 row2\" >title</th>\n",
              "                        <td id=\"T_1260374a_3d00_11eb_9897_0242ac1c0002row2_col0\" class=\"data row2 col0\" >-0.009618</td>\n",
              "                        <td id=\"T_1260374a_3d00_11eb_9897_0242ac1c0002row2_col1\" class=\"data row2 col1\" >0.024919</td>\n",
              "                        <td id=\"T_1260374a_3d00_11eb_9897_0242ac1c0002row2_col2\" class=\"data row2 col2\" >1.000000</td>\n",
              "                        <td id=\"T_1260374a_3d00_11eb_9897_0242ac1c0002row2_col3\" class=\"data row2 col3\" >-0.007721</td>\n",
              "                        <td id=\"T_1260374a_3d00_11eb_9897_0242ac1c0002row2_col4\" class=\"data row2 col4\" >-0.009918</td>\n",
              "                        <td id=\"T_1260374a_3d00_11eb_9897_0242ac1c0002row2_col5\" class=\"data row2 col5\" >0.005178</td>\n",
              "                        <td id=\"T_1260374a_3d00_11eb_9897_0242ac1c0002row2_col6\" class=\"data row2 col6\" >-0.006396</td>\n",
              "                        <td id=\"T_1260374a_3d00_11eb_9897_0242ac1c0002row2_col7\" class=\"data row2 col7\" >0.006512</td>\n",
              "                        <td id=\"T_1260374a_3d00_11eb_9897_0242ac1c0002row2_col8\" class=\"data row2 col8\" >-0.024939</td>\n",
              "                        <td id=\"T_1260374a_3d00_11eb_9897_0242ac1c0002row2_col9\" class=\"data row2 col9\" >0.014820</td>\n",
              "            </tr>\n",
              "            <tr>\n",
              "                        <th id=\"T_1260374a_3d00_11eb_9897_0242ac1c0002level0_row3\" class=\"row_heading level0 row3\" >director</th>\n",
              "                        <td id=\"T_1260374a_3d00_11eb_9897_0242ac1c0002row3_col0\" class=\"data row3 col0\" >-0.013498</td>\n",
              "                        <td id=\"T_1260374a_3d00_11eb_9897_0242ac1c0002row3_col1\" class=\"data row3 col1\" >-0.516980</td>\n",
              "                        <td id=\"T_1260374a_3d00_11eb_9897_0242ac1c0002row3_col2\" class=\"data row3 col2\" >-0.007721</td>\n",
              "                        <td id=\"T_1260374a_3d00_11eb_9897_0242ac1c0002row3_col3\" class=\"data row3 col3\" >1.000000</td>\n",
              "                        <td id=\"T_1260374a_3d00_11eb_9897_0242ac1c0002row3_col4\" class=\"data row3 col4\" >-0.005748</td>\n",
              "                        <td id=\"T_1260374a_3d00_11eb_9897_0242ac1c0002row3_col5\" class=\"data row3 col5\" >0.086254</td>\n",
              "                        <td id=\"T_1260374a_3d00_11eb_9897_0242ac1c0002row3_col6\" class=\"data row3 col6\" >-0.018506</td>\n",
              "                        <td id=\"T_1260374a_3d00_11eb_9897_0242ac1c0002row3_col7\" class=\"data row3 col7\" >0.146017</td>\n",
              "                        <td id=\"T_1260374a_3d00_11eb_9897_0242ac1c0002row3_col8\" class=\"data row3 col8\" >-0.092421</td>\n",
              "                        <td id=\"T_1260374a_3d00_11eb_9897_0242ac1c0002row3_col9\" class=\"data row3 col9\" >0.015737</td>\n",
              "            </tr>\n",
              "            <tr>\n",
              "                        <th id=\"T_1260374a_3d00_11eb_9897_0242ac1c0002level0_row4\" class=\"row_heading level0 row4\" >cast</th>\n",
              "                        <td id=\"T_1260374a_3d00_11eb_9897_0242ac1c0002row4_col0\" class=\"data row4 col0\" >-0.071604</td>\n",
              "                        <td id=\"T_1260374a_3d00_11eb_9897_0242ac1c0002row4_col1\" class=\"data row4 col1\" >0.013812</td>\n",
              "                        <td id=\"T_1260374a_3d00_11eb_9897_0242ac1c0002row4_col2\" class=\"data row4 col2\" >-0.009918</td>\n",
              "                        <td id=\"T_1260374a_3d00_11eb_9897_0242ac1c0002row4_col3\" class=\"data row4 col3\" >-0.005748</td>\n",
              "                        <td id=\"T_1260374a_3d00_11eb_9897_0242ac1c0002row4_col4\" class=\"data row4 col4\" >1.000000</td>\n",
              "                        <td id=\"T_1260374a_3d00_11eb_9897_0242ac1c0002row4_col5\" class=\"data row4 col5\" >-0.006821</td>\n",
              "                        <td id=\"T_1260374a_3d00_11eb_9897_0242ac1c0002row4_col6\" class=\"data row4 col6\" >-0.001720</td>\n",
              "                        <td id=\"T_1260374a_3d00_11eb_9897_0242ac1c0002row4_col7\" class=\"data row4 col7\" >-0.072408</td>\n",
              "                        <td id=\"T_1260374a_3d00_11eb_9897_0242ac1c0002row4_col8\" class=\"data row4 col8\" >0.063411</td>\n",
              "                        <td id=\"T_1260374a_3d00_11eb_9897_0242ac1c0002row4_col9\" class=\"data row4 col9\" >-0.005102</td>\n",
              "            </tr>\n",
              "            <tr>\n",
              "                        <th id=\"T_1260374a_3d00_11eb_9897_0242ac1c0002level0_row5\" class=\"row_heading level0 row5\" >country</th>\n",
              "                        <td id=\"T_1260374a_3d00_11eb_9897_0242ac1c0002row5_col0\" class=\"data row5 col0\" >0.015543</td>\n",
              "                        <td id=\"T_1260374a_3d00_11eb_9897_0242ac1c0002row5_col1\" class=\"data row5 col1\" >-0.092207</td>\n",
              "                        <td id=\"T_1260374a_3d00_11eb_9897_0242ac1c0002row5_col2\" class=\"data row5 col2\" >0.005178</td>\n",
              "                        <td id=\"T_1260374a_3d00_11eb_9897_0242ac1c0002row5_col3\" class=\"data row5 col3\" >0.086254</td>\n",
              "                        <td id=\"T_1260374a_3d00_11eb_9897_0242ac1c0002row5_col4\" class=\"data row5 col4\" >-0.006821</td>\n",
              "                        <td id=\"T_1260374a_3d00_11eb_9897_0242ac1c0002row5_col5\" class=\"data row5 col5\" >1.000000</td>\n",
              "                        <td id=\"T_1260374a_3d00_11eb_9897_0242ac1c0002row5_col6\" class=\"data row5 col6\" >0.067508</td>\n",
              "                        <td id=\"T_1260374a_3d00_11eb_9897_0242ac1c0002row5_col7\" class=\"data row5 col7\" >-0.027507</td>\n",
              "                        <td id=\"T_1260374a_3d00_11eb_9897_0242ac1c0002row5_col8\" class=\"data row5 col8\" >-0.041639</td>\n",
              "                        <td id=\"T_1260374a_3d00_11eb_9897_0242ac1c0002row5_col9\" class=\"data row5 col9\" >-0.029944</td>\n",
              "            </tr>\n",
              "            <tr>\n",
              "                        <th id=\"T_1260374a_3d00_11eb_9897_0242ac1c0002level0_row6\" class=\"row_heading level0 row6\" >rating</th>\n",
              "                        <td id=\"T_1260374a_3d00_11eb_9897_0242ac1c0002row6_col0\" class=\"data row6 col0\" >-0.188775</td>\n",
              "                        <td id=\"T_1260374a_3d00_11eb_9897_0242ac1c0002row6_col1\" class=\"data row6 col1\" >-0.008409</td>\n",
              "                        <td id=\"T_1260374a_3d00_11eb_9897_0242ac1c0002row6_col2\" class=\"data row6 col2\" >-0.006396</td>\n",
              "                        <td id=\"T_1260374a_3d00_11eb_9897_0242ac1c0002row6_col3\" class=\"data row6 col3\" >-0.018506</td>\n",
              "                        <td id=\"T_1260374a_3d00_11eb_9897_0242ac1c0002row6_col4\" class=\"data row6 col4\" >-0.001720</td>\n",
              "                        <td id=\"T_1260374a_3d00_11eb_9897_0242ac1c0002row6_col5\" class=\"data row6 col5\" >0.067508</td>\n",
              "                        <td id=\"T_1260374a_3d00_11eb_9897_0242ac1c0002row6_col6\" class=\"data row6 col6\" >1.000000</td>\n",
              "                        <td id=\"T_1260374a_3d00_11eb_9897_0242ac1c0002row6_col7\" class=\"data row6 col7\" >0.032319</td>\n",
              "                        <td id=\"T_1260374a_3d00_11eb_9897_0242ac1c0002row6_col8\" class=\"data row6 col8\" >-0.005359</td>\n",
              "                        <td id=\"T_1260374a_3d00_11eb_9897_0242ac1c0002row6_col9\" class=\"data row6 col9\" >0.001615</td>\n",
              "            </tr>\n",
              "            <tr>\n",
              "                        <th id=\"T_1260374a_3d00_11eb_9897_0242ac1c0002level0_row7\" class=\"row_heading level0 row7\" >duration</th>\n",
              "                        <td id=\"T_1260374a_3d00_11eb_9897_0242ac1c0002row7_col0\" class=\"data row7 col0\" >-0.136231</td>\n",
              "                        <td id=\"T_1260374a_3d00_11eb_9897_0242ac1c0002row7_col1\" class=\"data row7 col1\" >-0.471180</td>\n",
              "                        <td id=\"T_1260374a_3d00_11eb_9897_0242ac1c0002row7_col2\" class=\"data row7 col2\" >0.006512</td>\n",
              "                        <td id=\"T_1260374a_3d00_11eb_9897_0242ac1c0002row7_col3\" class=\"data row7 col3\" >0.146017</td>\n",
              "                        <td id=\"T_1260374a_3d00_11eb_9897_0242ac1c0002row7_col4\" class=\"data row7 col4\" >-0.072408</td>\n",
              "                        <td id=\"T_1260374a_3d00_11eb_9897_0242ac1c0002row7_col5\" class=\"data row7 col5\" >-0.027507</td>\n",
              "                        <td id=\"T_1260374a_3d00_11eb_9897_0242ac1c0002row7_col6\" class=\"data row7 col6\" >0.032319</td>\n",
              "                        <td id=\"T_1260374a_3d00_11eb_9897_0242ac1c0002row7_col7\" class=\"data row7 col7\" >1.000000</td>\n",
              "                        <td id=\"T_1260374a_3d00_11eb_9897_0242ac1c0002row7_col8\" class=\"data row7 col8\" >-0.115633</td>\n",
              "                        <td id=\"T_1260374a_3d00_11eb_9897_0242ac1c0002row7_col9\" class=\"data row7 col9\" >-0.012993</td>\n",
              "            </tr>\n",
              "            <tr>\n",
              "                        <th id=\"T_1260374a_3d00_11eb_9897_0242ac1c0002level0_row8\" class=\"row_heading level0 row8\" >listed_in</th>\n",
              "                        <td id=\"T_1260374a_3d00_11eb_9897_0242ac1c0002row8_col0\" class=\"data row8 col0\" >-0.137941</td>\n",
              "                        <td id=\"T_1260374a_3d00_11eb_9897_0242ac1c0002row8_col1\" class=\"data row8 col1\" >0.200465</td>\n",
              "                        <td id=\"T_1260374a_3d00_11eb_9897_0242ac1c0002row8_col2\" class=\"data row8 col2\" >-0.024939</td>\n",
              "                        <td id=\"T_1260374a_3d00_11eb_9897_0242ac1c0002row8_col3\" class=\"data row8 col3\" >-0.092421</td>\n",
              "                        <td id=\"T_1260374a_3d00_11eb_9897_0242ac1c0002row8_col4\" class=\"data row8 col4\" >0.063411</td>\n",
              "                        <td id=\"T_1260374a_3d00_11eb_9897_0242ac1c0002row8_col5\" class=\"data row8 col5\" >-0.041639</td>\n",
              "                        <td id=\"T_1260374a_3d00_11eb_9897_0242ac1c0002row8_col6\" class=\"data row8 col6\" >-0.005359</td>\n",
              "                        <td id=\"T_1260374a_3d00_11eb_9897_0242ac1c0002row8_col7\" class=\"data row8 col7\" >-0.115633</td>\n",
              "                        <td id=\"T_1260374a_3d00_11eb_9897_0242ac1c0002row8_col8\" class=\"data row8 col8\" >1.000000</td>\n",
              "                        <td id=\"T_1260374a_3d00_11eb_9897_0242ac1c0002row8_col9\" class=\"data row8 col9\" >-0.007498</td>\n",
              "            </tr>\n",
              "            <tr>\n",
              "                        <th id=\"T_1260374a_3d00_11eb_9897_0242ac1c0002level0_row9\" class=\"row_heading level0 row9\" >description</th>\n",
              "                        <td id=\"T_1260374a_3d00_11eb_9897_0242ac1c0002row9_col0\" class=\"data row9 col0\" >-0.033640</td>\n",
              "                        <td id=\"T_1260374a_3d00_11eb_9897_0242ac1c0002row9_col1\" class=\"data row9 col1\" >-0.001091</td>\n",
              "                        <td id=\"T_1260374a_3d00_11eb_9897_0242ac1c0002row9_col2\" class=\"data row9 col2\" >0.014820</td>\n",
              "                        <td id=\"T_1260374a_3d00_11eb_9897_0242ac1c0002row9_col3\" class=\"data row9 col3\" >0.015737</td>\n",
              "                        <td id=\"T_1260374a_3d00_11eb_9897_0242ac1c0002row9_col4\" class=\"data row9 col4\" >-0.005102</td>\n",
              "                        <td id=\"T_1260374a_3d00_11eb_9897_0242ac1c0002row9_col5\" class=\"data row9 col5\" >-0.029944</td>\n",
              "                        <td id=\"T_1260374a_3d00_11eb_9897_0242ac1c0002row9_col6\" class=\"data row9 col6\" >0.001615</td>\n",
              "                        <td id=\"T_1260374a_3d00_11eb_9897_0242ac1c0002row9_col7\" class=\"data row9 col7\" >-0.012993</td>\n",
              "                        <td id=\"T_1260374a_3d00_11eb_9897_0242ac1c0002row9_col8\" class=\"data row9 col8\" >-0.007498</td>\n",
              "                        <td id=\"T_1260374a_3d00_11eb_9897_0242ac1c0002row9_col9\" class=\"data row9 col9\" >1.000000</td>\n",
              "            </tr>\n",
              "    </tbody></table>"
            ],
            "text/plain": [
              "<pandas.io.formats.style.Styler at 0x7fb2014b5a58>"
            ]
          },
          "metadata": {
            "tags": []
          },
          "execution_count": 29
        }
      ]
    },
    {
      "cell_type": "code",
      "metadata": {
        "colab": {
          "base_uri": "https://localhost:8080/",
          "height": 314
        },
        "id": "RY4fPmc57PoQ",
        "outputId": "cb7fe2de-8cc6-46d0-ca09-0c7ce4c0c78f"
      },
      "source": [
        "import seaborn as sns \r\n",
        "sns.heatmap(corr_matrix,xticklabels=corr_matrix.columns.values,yticklabels=corr_matrix.columns.values)\r\n",
        "plt.tight_layout()\r\n",
        "plt.show"
      ],
      "execution_count": null,
      "outputs": [
        {
          "output_type": "execute_result",
          "data": {
            "text/plain": [
              "<function matplotlib.pyplot.show>"
            ]
          },
          "metadata": {
            "tags": []
          },
          "execution_count": 30
        },
        {
          "output_type": "display_data",
          "data": {
            "image/png": "[encoded data removed]",
            "text/plain": [
              "<Figure size 432x288 with 2 Axes>"
            ]
          },
          "metadata": {
            "tags": [],
            "needs_background": "light"
          }
        }
      ]
    },
    {
      "cell_type": "code",
      "metadata": {
        "colab": {
          "base_uri": "https://localhost:8080/"
        },
        "id": "Jitf_Q078BK7",
        "outputId": "38751ae8-ed7c-4884-8064-19ce9307f379"
      },
      "source": [
        "xtrainPre2 = xtrainPre.copy()\r\n",
        "xtrainPre2['rating'] = ytrain\r\n",
        "corr_matrix = abs(xtrainPre2.corr()) #Correlación salida \r\n",
        "corr_matrix['rating'].sort_values(ascending= False)"
      ],
      "execution_count": null,
      "outputs": [
        {
          "output_type": "execute_result",
          "data": {
            "text/plain": [
              "rating         1.000000\n",
              "show_id        0.188775\n",
              "country        0.067508\n",
              "duration       0.032319\n",
              "director       0.018506\n",
              "type           0.008409\n",
              "title          0.006396\n",
              "listed_in      0.005359\n",
              "cast           0.001720\n",
              "description    0.001615\n",
              "Name: rating, dtype: float64"
            ]
          },
          "metadata": {
            "tags": []
          },
          "execution_count": 31
        }
      ]
    },
    {
      "cell_type": "markdown",
      "metadata": {
        "id": "dQUXcfbInDjg"
      },
      "source": [
        "# Clasificadores"
      ]
    },
    {
      "cell_type": "markdown",
      "metadata": {
        "id": "3-LkPi_xnKwU"
      },
      "source": [
        "## Clasificador RandomForest\n",
        "\n",
        "## Se implementó un clasificador \"RandomForest\" con el cual obtuvimos un mapa con las reglas de decisión para obtener uno de los 14 tipos de ratings ofrecidos por la base de datos, se diseñaron dos modelos de randomforest el primero le agregamos (min_samples_split = 6) que para añadir un punto a una selección debe tener como mínimo 6 ejemplos para considerarse de una categoría específica. El segundo modelo, si se dejo por defecto."
      ]
    },
    {
      "cell_type": "code",
      "metadata": {
        "colab": {
          "base_uri": "https://localhost:8080/"
        },
        "id": "6klr24ECw_u5",
        "outputId": "b53f58ae-1e9e-4c02-e9ed-213bc67e838e"
      },
      "source": [
        "import matplotlib.pyplot as plt\n",
        "from sklearn.datasets import load_iris\n",
        "from sklearn.datasets import load_breast_cancer\n",
        "from sklearn.tree import DecisionTreeClassifier\n",
        "from sklearn.ensemble import RandomForestClassifier\n",
        "from sklearn.model_selection import train_test_split\n",
        "import pandas as pd\n",
        "import numpy as np\n",
        "from sklearn import tree\n",
        "from sklearn.tree import DecisionTreeClassifier\n",
        "\n",
        "tree_clf = DecisionTreeClassifier(min_samples_split=6,random_state=42)\n",
        "tree_clf2 = DecisionTreeClassifier(random_state=42)\n",
        "tree_clf.fit(xtrainPre, ytrain)\n",
        "tree_clf2.fit(xtrainPre, ytrain)"
      ],
      "execution_count": 36,
      "outputs": [
        {
          "output_type": "execute_result",
          "data": {
            "text/plain": [
              "DecisionTreeClassifier(ccp_alpha=0.0, class_weight=None, criterion='gini',\n",
              "                       max_depth=None, max_features=None, max_leaf_nodes=None,\n",
              "                       min_impurity_decrease=0.0, min_impurity_split=None,\n",
              "                       min_samples_leaf=1, min_samples_split=2,\n",
              "                       min_weight_fraction_leaf=0.0, presort='deprecated',\n",
              "                       random_state=42, splitter='best')"
            ]
          },
          "metadata": {
            "tags": []
          },
          "execution_count": 36
        }
      ]
    },
    {
      "cell_type": "code",
      "metadata": {
        "colab": {
          "base_uri": "https://localhost:8080/",
          "height": 35
        },
        "id": "-Xm1yUjjbcZW",
        "outputId": "f27ead5e-6176-479f-fb1f-6c5dbc8c2e8d"
      },
      "source": [
        "names = ['TV-MA','TV-14','TV-PG','R','PG-13','NR','PG',\n",
        "         'TV-Y7','TV-Y','TV-G','TV-Y7-FV','G','UR','NC-17']\n",
        "import graphviz \n",
        "dot_data = tree.export_graphviz(tree_clf, out_file=None) \n",
        "graph = graphviz.Source(dot_data) \n",
        "graph.render(\"netflix\") "
      ],
      "execution_count": 37,
      "outputs": [
        {
          "output_type": "execute_result",
          "data": {
            "application/vnd.google.colaboratory.intrinsic+json": {
              "type": "string"
            },
            "text/plain": [
              "'netflix.pdf'"
            ]
          },
          "metadata": {
            "tags": []
          },
          "execution_count": 37
        }
      ]
    },
    {
      "cell_type": "code",
      "metadata": {
        "id": "XVzIz58gbpeW",
        "colab": {
          "base_uri": "https://localhost:8080/",
          "height": 1000
        },
        "outputId": "7546fe00-8638-4495-9750-13dd5c8a2b51"
      },
      "source": [
        "dot_data = tree.export_graphviz(tree_clf, out_file=None, \n",
        "                       \n",
        "                      class_names=names, \n",
        "                      filled=True, rounded=True,  \n",
        "                      special_characters=True)  \n",
        "graph = graphviz.Source(dot_data)  \n",
        "graph "
      ],
      "execution_count": 38,
      "outputs": [
        {
          "output_type": "execute_result",
          "data": {
            "text/plain": [
              "<graphviz.files.Source at 0x7fb1fb080cf8>"
            ],
            "image/svg+xml": "<?xml version=\"1.0\" encoding=\"UTF-8\" standalone=\"no\"?>\n<!DOCTYPE svg PUBLIC \"-//W3C//DTD SVG 1.1//EN\"\n \"http://www.w3.org/Graphics/SVG/1.1/DTD/svg11.dtd\">\n<!-- Generated by graphviz version 2.40.1 (20161225.0304)\n -->\n<!-- Title: Tree Pages: 1 -->\n<svg width=\"2518pt\" height=\"1570pt\"\n viewBox=\"0.00 0.00 2517.50 1570.00\" xmlns=\"http://www.w3.org/2000/svg\" xmlns:xlink=\"http://www.w3.org/1999/xlink\">\n<g id=\"graph0\" class=\"graph\" transform=\"scale(1 1) rotate(0) translate(4 1566)\">\n<title>Tree</title>\n<polygon fill=\"#ffffff\" stroke=\"transparent\" points=\"-4,4 -4,-1566 2513.5,-1566 2513.5,4 -4,4\"/>\n<!-- 0 -->\n<g id=\"node1\" class=\"node\">\n<title>0</title>\n<path fill=\"#fdf6f1\" stroke=\"#000000\" d=\"M528,-1562C528,-1562 157,-1562 157,-1562 151,-1562 145,-1556 145,-1550 145,-1550 145,-1482 145,-1482 145,-1476 151,-1470 157,-1470 157,-1470 528,-1470 528,-1470 534,-1470 540,-1476 540,-1482 540,-1482 540,-1550 540,-1550 540,-1556 534,-1562 528,-1562\"/>\n<text text-anchor=\"start\" x=\"316\" y=\"-1547.8\" font-family=\"Helvetica,sans-Serif\" font-size=\"14.00\" fill=\"#000000\">X</text>\n<text text-anchor=\"start\" x=\"326\" y=\"-1547.8\" font-family=\"Helvetica,sans-Serif\" baseline-shift=\"sub\" font-size=\"14.00\" fill=\"#000000\">6</text>\n<text text-anchor=\"start\" x=\"333\" y=\"-1547.8\" font-family=\"Helvetica,sans-Serif\" font-size=\"14.00\" fill=\"#000000\"> ≤ 0.5</text>\n<text text-anchor=\"start\" x=\"304.5\" y=\"-1533.8\" font-family=\"Helvetica,sans-Serif\" font-size=\"14.00\" fill=\"#000000\">gini = 0.797</text>\n<text text-anchor=\"start\" x=\"290.5\" y=\"-1519.8\" font-family=\"Helvetica,sans-Serif\" font-size=\"14.00\" fill=\"#000000\">samples = 4363</text>\n<text text-anchor=\"start\" x=\"153\" y=\"-1505.8\" font-family=\"Helvetica,sans-Serif\" font-size=\"14.00\" fill=\"#000000\">value = [1404, 1186, 485, 361, 209, 152, 134, 118, 109, 97</text>\n<text text-anchor=\"start\" x=\"304.5\" y=\"-1491.8\" font-family=\"Helvetica,sans-Serif\" font-size=\"14.00\" fill=\"#000000\">74, 29, 4, 1]</text>\n<text text-anchor=\"start\" x=\"295.5\" y=\"-1477.8\" font-family=\"Helvetica,sans-Serif\" font-size=\"14.00\" fill=\"#000000\">class = TV&#45;MA</text>\n</g>\n<!-- 1 -->\n<g id=\"node2\" class=\"node\">\n<title>1</title>\n<path fill=\"#e58139\" stroke=\"#000000\" d=\"M301,-1422C301,-1422 12,-1422 12,-1422 6,-1422 0,-1416 0,-1410 0,-1410 0,-1366 0,-1366 0,-1360 6,-1354 12,-1354 12,-1354 301,-1354 301,-1354 307,-1354 313,-1360 313,-1366 313,-1366 313,-1410 313,-1410 313,-1416 307,-1422 301,-1422\"/>\n<text text-anchor=\"start\" x=\"127\" y=\"-1406.8\" font-family=\"Helvetica,sans-Serif\" font-size=\"14.00\" fill=\"#000000\">gini = 0.0</text>\n<text text-anchor=\"start\" x=\"104.5\" y=\"-1391.8\" font-family=\"Helvetica,sans-Serif\" font-size=\"14.00\" fill=\"#000000\">samples = 1404</text>\n<text text-anchor=\"start\" x=\"8\" y=\"-1376.8\" font-family=\"Helvetica,sans-Serif\" font-size=\"14.00\" fill=\"#000000\">value = [1404, 0, 0, 0, 0, 0, 0, 0, 0, 0, 0, 0, 0, 0]</text>\n<text text-anchor=\"start\" x=\"109.5\" y=\"-1361.8\" font-family=\"Helvetica,sans-Serif\" font-size=\"14.00\" fill=\"#000000\">class = TV&#45;MA</text>\n</g>\n<!-- 0&#45;&gt;1 -->\n<g id=\"edge1\" class=\"edge\">\n<title>0&#45;&gt;1</title>\n<path fill=\"none\" stroke=\"#000000\" d=\"M275.6125,-1469.9699C255.6533,-1456.2345 233.9479,-1441.2975 214.5998,-1427.9827\"/>\n<polygon fill=\"#000000\" stroke=\"#000000\" points=\"216.4005,-1424.9732 206.1785,-1422.1873 212.4321,-1430.7397 216.4005,-1424.9732\"/>\n<text text-anchor=\"middle\" x=\"210.7195\" y=\"-1443.0715\" font-family=\"Helvetica,sans-Serif\" font-size=\"14.00\" fill=\"#000000\">True</text>\n</g>\n<!-- 2 -->\n<g id=\"node3\" class=\"node\">\n<title>2</title>\n<path fill=\"#f8efc7\" stroke=\"#000000\" d=\"M713.5,-1434C713.5,-1434 343.5,-1434 343.5,-1434 337.5,-1434 331.5,-1428 331.5,-1422 331.5,-1422 331.5,-1354 331.5,-1354 331.5,-1348 337.5,-1342 343.5,-1342 343.5,-1342 713.5,-1342 713.5,-1342 719.5,-1342 725.5,-1348 725.5,-1354 725.5,-1354 725.5,-1422 725.5,-1422 725.5,-1428 719.5,-1434 713.5,-1434\"/>\n<text text-anchor=\"start\" x=\"502\" y=\"-1419.8\" font-family=\"Helvetica,sans-Serif\" font-size=\"14.00\" fill=\"#000000\">X</text>\n<text text-anchor=\"start\" x=\"512\" y=\"-1419.8\" font-family=\"Helvetica,sans-Serif\" baseline-shift=\"sub\" font-size=\"14.00\" fill=\"#000000\">6</text>\n<text text-anchor=\"start\" x=\"519\" y=\"-1419.8\" font-family=\"Helvetica,sans-Serif\" font-size=\"14.00\" fill=\"#000000\"> ≤ 1.5</text>\n<text text-anchor=\"start\" x=\"490.5\" y=\"-1405.8\" font-family=\"Helvetica,sans-Serif\" font-size=\"14.00\" fill=\"#000000\">gini = 0.783</text>\n<text text-anchor=\"start\" x=\"476.5\" y=\"-1391.8\" font-family=\"Helvetica,sans-Serif\" font-size=\"14.00\" fill=\"#000000\">samples = 2959</text>\n<text text-anchor=\"start\" x=\"339.5\" y=\"-1377.8\" font-family=\"Helvetica,sans-Serif\" font-size=\"14.00\" fill=\"#000000\">value = [0, 1186, 485, 361, 209, 152, 134, 118, 109, 97, 74</text>\n<text text-anchor=\"start\" x=\"502.5\" y=\"-1363.8\" font-family=\"Helvetica,sans-Serif\" font-size=\"14.00\" fill=\"#000000\">29, 4, 1]</text>\n<text text-anchor=\"start\" x=\"484\" y=\"-1349.8\" font-family=\"Helvetica,sans-Serif\" font-size=\"14.00\" fill=\"#000000\">class = TV&#45;14</text>\n</g>\n<!-- 0&#45;&gt;2 -->\n<g id=\"edge2\" class=\"edge\">\n<title>0&#45;&gt;2</title>\n<path fill=\"none\" stroke=\"#000000\" d=\"M409.3875,-1469.9699C423.5786,-1460.204 438.6525,-1449.8305 453.1342,-1439.8646\"/>\n<polygon fill=\"#000000\" stroke=\"#000000\" points=\"455.3275,-1442.604 461.5812,-1434.0516 451.3592,-1436.8375 455.3275,-1442.604\"/>\n<text text-anchor=\"middle\" x=\"457.0402\" y=\"-1454.9358\" font-family=\"Helvetica,sans-Serif\" font-size=\"14.00\" fill=\"#000000\">False</text>\n</g>\n<!-- 3 -->\n<g id=\"node4\" class=\"node\">\n<title>3</title>\n<path fill=\"#e5c839\" stroke=\"#000000\" d=\"M494,-1294C494,-1294 205,-1294 205,-1294 199,-1294 193,-1288 193,-1282 193,-1282 193,-1238 193,-1238 193,-1232 199,-1226 205,-1226 205,-1226 494,-1226 494,-1226 500,-1226 506,-1232 506,-1238 506,-1238 506,-1282 506,-1282 506,-1288 500,-1294 494,-1294\"/>\n<text text-anchor=\"start\" x=\"320\" y=\"-1278.8\" font-family=\"Helvetica,sans-Serif\" font-size=\"14.00\" fill=\"#000000\">gini = 0.0</text>\n<text text-anchor=\"start\" x=\"297.5\" y=\"-1263.8\" font-family=\"Helvetica,sans-Serif\" font-size=\"14.00\" fill=\"#000000\">samples = 1186</text>\n<text text-anchor=\"start\" x=\"201\" y=\"-1248.8\" font-family=\"Helvetica,sans-Serif\" font-size=\"14.00\" fill=\"#000000\">value = [0, 1186, 0, 0, 0, 0, 0, 0, 0, 0, 0, 0, 0, 0]</text>\n<text text-anchor=\"start\" x=\"305\" y=\"-1233.8\" font-family=\"Helvetica,sans-Serif\" font-size=\"14.00\" fill=\"#000000\">class = TV&#45;14</text>\n</g>\n<!-- 2&#45;&gt;3 -->\n<g id=\"edge3\" class=\"edge\">\n<title>2&#45;&gt;3</title>\n<path fill=\"none\" stroke=\"#000000\" d=\"M464.1298,-1341.9699C445.0079,-1328.2961 424.2205,-1313.4314 405.6639,-1300.1619\"/>\n<polygon fill=\"#000000\" stroke=\"#000000\" points=\"407.479,-1297.1571 397.3089,-1294.1873 403.4073,-1302.8511 407.479,-1297.1571\"/>\n</g>\n<!-- 4 -->\n<g id=\"node5\" class=\"node\">\n<title>4</title>\n<path fill=\"#f9fdee\" stroke=\"#000000\" d=\"M881,-1306C881,-1306 536,-1306 536,-1306 530,-1306 524,-1300 524,-1294 524,-1294 524,-1226 524,-1226 524,-1220 530,-1214 536,-1214 536,-1214 881,-1214 881,-1214 887,-1214 893,-1220 893,-1226 893,-1226 893,-1294 893,-1294 893,-1300 887,-1306 881,-1306\"/>\n<text text-anchor=\"start\" x=\"682\" y=\"-1291.8\" font-family=\"Helvetica,sans-Serif\" font-size=\"14.00\" fill=\"#000000\">X</text>\n<text text-anchor=\"start\" x=\"692\" y=\"-1291.8\" font-family=\"Helvetica,sans-Serif\" baseline-shift=\"sub\" font-size=\"14.00\" fill=\"#000000\">6</text>\n<text text-anchor=\"start\" x=\"699\" y=\"-1291.8\" font-family=\"Helvetica,sans-Serif\" font-size=\"14.00\" fill=\"#000000\"> ≤ 2.5</text>\n<text text-anchor=\"start\" x=\"670.5\" y=\"-1277.8\" font-family=\"Helvetica,sans-Serif\" font-size=\"14.00\" fill=\"#000000\">gini = 0.844</text>\n<text text-anchor=\"start\" x=\"656.5\" y=\"-1263.8\" font-family=\"Helvetica,sans-Serif\" font-size=\"14.00\" fill=\"#000000\">samples = 1773</text>\n<text text-anchor=\"start\" x=\"532\" y=\"-1249.8\" font-family=\"Helvetica,sans-Serif\" font-size=\"14.00\" fill=\"#000000\">value = [0, 0, 485, 361, 209, 152, 134, 118, 109, 97, 74</text>\n<text text-anchor=\"start\" x=\"682.5\" y=\"-1235.8\" font-family=\"Helvetica,sans-Serif\" font-size=\"14.00\" fill=\"#000000\">29, 4, 1]</text>\n<text text-anchor=\"start\" x=\"661.5\" y=\"-1221.8\" font-family=\"Helvetica,sans-Serif\" font-size=\"14.00\" fill=\"#000000\">class = TV&#45;PG</text>\n</g>\n<!-- 2&#45;&gt;4 -->\n<g id=\"edge4\" class=\"edge\">\n<title>2&#45;&gt;4</title>\n<path fill=\"none\" stroke=\"#000000\" d=\"M593.2298,-1341.9699C606.9632,-1332.204 621.5508,-1321.8305 635.5653,-1311.8646\"/>\n<polygon fill=\"#000000\" stroke=\"#000000\" points=\"637.6187,-1314.6993 643.7399,-1306.0516 633.562,-1308.9946 637.6187,-1314.6993\"/>\n</g>\n<!-- 5 -->\n<g id=\"node6\" class=\"node\">\n<title>5</title>\n<path fill=\"#b7e539\" stroke=\"#000000\" d=\"M675,-1166C675,-1166 394,-1166 394,-1166 388,-1166 382,-1160 382,-1154 382,-1154 382,-1110 382,-1110 382,-1104 388,-1098 394,-1098 394,-1098 675,-1098 675,-1098 681,-1098 687,-1104 687,-1110 687,-1110 687,-1154 687,-1154 687,-1160 681,-1166 675,-1166\"/>\n<text text-anchor=\"start\" x=\"505\" y=\"-1150.8\" font-family=\"Helvetica,sans-Serif\" font-size=\"14.00\" fill=\"#000000\">gini = 0.0</text>\n<text text-anchor=\"start\" x=\"486.5\" y=\"-1135.8\" font-family=\"Helvetica,sans-Serif\" font-size=\"14.00\" fill=\"#000000\">samples = 485</text>\n<text text-anchor=\"start\" x=\"390\" y=\"-1120.8\" font-family=\"Helvetica,sans-Serif\" font-size=\"14.00\" fill=\"#000000\">value = [0, 0, 485, 0, 0, 0, 0, 0, 0, 0, 0, 0, 0, 0]</text>\n<text text-anchor=\"start\" x=\"487.5\" y=\"-1105.8\" font-family=\"Helvetica,sans-Serif\" font-size=\"14.00\" fill=\"#000000\">class = TV&#45;PG</text>\n</g>\n<!-- 4&#45;&gt;5 -->\n<g id=\"edge5\" class=\"edge\">\n<title>4&#45;&gt;5</title>\n<path fill=\"none\" stroke=\"#000000\" d=\"M645.682,-1213.7891C627.1106,-1200.1273 606.9422,-1185.2908 588.9455,-1172.0519\"/>\n<polygon fill=\"#000000\" stroke=\"#000000\" points=\"590.9724,-1169.1979 580.8431,-1166.0915 586.8244,-1174.8365 590.9724,-1169.1979\"/>\n</g>\n<!-- 6 -->\n<g id=\"node7\" class=\"node\">\n<title>6</title>\n<path fill=\"#eafbe3\" stroke=\"#000000\" d=\"M1046,-1178C1046,-1178 717,-1178 717,-1178 711,-1178 705,-1172 705,-1166 705,-1166 705,-1098 705,-1098 705,-1092 711,-1086 717,-1086 717,-1086 1046,-1086 1046,-1086 1052,-1086 1058,-1092 1058,-1098 1058,-1098 1058,-1166 1058,-1166 1058,-1172 1052,-1178 1046,-1178\"/>\n<text text-anchor=\"start\" x=\"855\" y=\"-1163.8\" font-family=\"Helvetica,sans-Serif\" font-size=\"14.00\" fill=\"#000000\">X</text>\n<text text-anchor=\"start\" x=\"865\" y=\"-1163.8\" font-family=\"Helvetica,sans-Serif\" baseline-shift=\"sub\" font-size=\"14.00\" fill=\"#000000\">6</text>\n<text text-anchor=\"start\" x=\"872\" y=\"-1163.8\" font-family=\"Helvetica,sans-Serif\" font-size=\"14.00\" fill=\"#000000\"> ≤ 3.5</text>\n<text text-anchor=\"start\" x=\"843.5\" y=\"-1149.8\" font-family=\"Helvetica,sans-Serif\" font-size=\"14.00\" fill=\"#000000\">gini = 0.845</text>\n<text text-anchor=\"start\" x=\"829.5\" y=\"-1135.8\" font-family=\"Helvetica,sans-Serif\" font-size=\"14.00\" fill=\"#000000\">samples = 1288</text>\n<text text-anchor=\"start\" x=\"713\" y=\"-1121.8\" font-family=\"Helvetica,sans-Serif\" font-size=\"14.00\" fill=\"#000000\">value = [0, 0, 0, 361, 209, 152, 134, 118, 109, 97, 74</text>\n<text text-anchor=\"start\" x=\"855.5\" y=\"-1107.8\" font-family=\"Helvetica,sans-Serif\" font-size=\"14.00\" fill=\"#000000\">29, 4, 1]</text>\n<text text-anchor=\"start\" x=\"851\" y=\"-1093.8\" font-family=\"Helvetica,sans-Serif\" font-size=\"14.00\" fill=\"#000000\">class = R</text>\n</g>\n<!-- 4&#45;&gt;6 -->\n<g id=\"edge6\" class=\"edge\">\n<title>4&#45;&gt;6</title>\n<path fill=\"none\" stroke=\"#000000\" d=\"M770.957,-1213.7891C783.9412,-1204.1822 797.7106,-1193.9944 810.9623,-1184.1898\"/>\n<polygon fill=\"#000000\" stroke=\"#000000\" points=\"813.1776,-1186.9046 819.1347,-1178.1431 809.0141,-1181.2774 813.1776,-1186.9046\"/>\n</g>\n<!-- 7 -->\n<g id=\"node8\" class=\"node\">\n<title>7</title>\n<path fill=\"#6de539\" stroke=\"#000000\" d=\"M847,-1038C847,-1038 566,-1038 566,-1038 560,-1038 554,-1032 554,-1026 554,-1026 554,-982 554,-982 554,-976 560,-970 566,-970 566,-970 847,-970 847,-970 853,-970 859,-976 859,-982 859,-982 859,-1026 859,-1026 859,-1032 853,-1038 847,-1038\"/>\n<text text-anchor=\"start\" x=\"677\" y=\"-1022.8\" font-family=\"Helvetica,sans-Serif\" font-size=\"14.00\" fill=\"#000000\">gini = 0.0</text>\n<text text-anchor=\"start\" x=\"658.5\" y=\"-1007.8\" font-family=\"Helvetica,sans-Serif\" font-size=\"14.00\" fill=\"#000000\">samples = 361</text>\n<text text-anchor=\"start\" x=\"562\" y=\"-992.8\" font-family=\"Helvetica,sans-Serif\" font-size=\"14.00\" fill=\"#000000\">value = [0, 0, 0, 361, 0, 0, 0, 0, 0, 0, 0, 0, 0, 0]</text>\n<text text-anchor=\"start\" x=\"676\" y=\"-977.8\" font-family=\"Helvetica,sans-Serif\" font-size=\"14.00\" fill=\"#000000\">class = R</text>\n</g>\n<!-- 6&#45;&gt;7 -->\n<g id=\"edge7\" class=\"edge\">\n<title>6&#45;&gt;7</title>\n<path fill=\"none\" stroke=\"#000000\" d=\"M818.321,-1085.7891C799.6428,-1072.1273 779.3585,-1057.2908 761.2584,-1044.0519\"/>\n<polygon fill=\"#000000\" stroke=\"#000000\" points=\"763.2472,-1041.1702 753.1095,-1038.0915 759.1146,-1046.8202 763.2472,-1041.1702\"/>\n</g>\n<!-- 8 -->\n<g id=\"node9\" class=\"node\">\n<title>8</title>\n<path fill=\"#f0fdf2\" stroke=\"#000000\" d=\"M1225.5,-1050C1225.5,-1050 889.5,-1050 889.5,-1050 883.5,-1050 877.5,-1044 877.5,-1038 877.5,-1038 877.5,-970 877.5,-970 877.5,-964 883.5,-958 889.5,-958 889.5,-958 1225.5,-958 1225.5,-958 1231.5,-958 1237.5,-964 1237.5,-970 1237.5,-970 1237.5,-1038 1237.5,-1038 1237.5,-1044 1231.5,-1050 1225.5,-1050\"/>\n<text text-anchor=\"start\" x=\"1031\" y=\"-1035.8\" font-family=\"Helvetica,sans-Serif\" font-size=\"14.00\" fill=\"#000000\">X</text>\n<text text-anchor=\"start\" x=\"1041\" y=\"-1035.8\" font-family=\"Helvetica,sans-Serif\" baseline-shift=\"sub\" font-size=\"14.00\" fill=\"#000000\">6</text>\n<text text-anchor=\"start\" x=\"1048\" y=\"-1035.8\" font-family=\"Helvetica,sans-Serif\" font-size=\"14.00\" fill=\"#000000\"> ≤ 4.5</text>\n<text text-anchor=\"start\" x=\"1019.5\" y=\"-1021.8\" font-family=\"Helvetica,sans-Serif\" font-size=\"14.00\" fill=\"#000000\">gini = 0.853</text>\n<text text-anchor=\"start\" x=\"1009.5\" y=\"-1007.8\" font-family=\"Helvetica,sans-Serif\" font-size=\"14.00\" fill=\"#000000\">samples = 927</text>\n<text text-anchor=\"start\" x=\"885.5\" y=\"-993.8\" font-family=\"Helvetica,sans-Serif\" font-size=\"14.00\" fill=\"#000000\">value = [0, 0, 0, 0, 209, 152, 134, 118, 109, 97, 74, 29</text>\n<text text-anchor=\"start\" x=\"1043.5\" y=\"-979.8\" font-family=\"Helvetica,sans-Serif\" font-size=\"14.00\" fill=\"#000000\">4, 1]</text>\n<text text-anchor=\"start\" x=\"1011.5\" y=\"-965.8\" font-family=\"Helvetica,sans-Serif\" font-size=\"14.00\" fill=\"#000000\">class = PG&#45;13</text>\n</g>\n<!-- 6&#45;&gt;8 -->\n<g id=\"edge8\" class=\"edge\">\n<title>6&#45;&gt;8</title>\n<path fill=\"none\" stroke=\"#000000\" d=\"M945.04,-1085.7891C958.2495,-1076.1822 972.2576,-1065.9944 985.7391,-1056.1898\"/>\n<polygon fill=\"#000000\" stroke=\"#000000\" points=\"988.0245,-1058.8554 994.0532,-1050.1431 983.9072,-1053.1943 988.0245,-1058.8554\"/>\n</g>\n<!-- 9 -->\n<g id=\"node10\" class=\"node\">\n<title>9</title>\n<path fill=\"#39e54d\" stroke=\"#000000\" d=\"M1026,-910C1026,-910 745,-910 745,-910 739,-910 733,-904 733,-898 733,-898 733,-854 733,-854 733,-848 739,-842 745,-842 745,-842 1026,-842 1026,-842 1032,-842 1038,-848 1038,-854 1038,-854 1038,-898 1038,-898 1038,-904 1032,-910 1026,-910\"/>\n<text text-anchor=\"start\" x=\"856\" y=\"-894.8\" font-family=\"Helvetica,sans-Serif\" font-size=\"14.00\" fill=\"#000000\">gini = 0.0</text>\n<text text-anchor=\"start\" x=\"837.5\" y=\"-879.8\" font-family=\"Helvetica,sans-Serif\" font-size=\"14.00\" fill=\"#000000\">samples = 209</text>\n<text text-anchor=\"start\" x=\"741\" y=\"-864.8\" font-family=\"Helvetica,sans-Serif\" font-size=\"14.00\" fill=\"#000000\">value = [0, 0, 0, 0, 209, 0, 0, 0, 0, 0, 0, 0, 0, 0]</text>\n<text text-anchor=\"start\" x=\"839.5\" y=\"-849.8\" font-family=\"Helvetica,sans-Serif\" font-size=\"14.00\" fill=\"#000000\">class = PG&#45;13</text>\n</g>\n<!-- 8&#45;&gt;9 -->\n<g id=\"edge9\" class=\"edge\">\n<title>8&#45;&gt;9</title>\n<path fill=\"none\" stroke=\"#000000\" d=\"M995.4041,-957.7891C977.2115,-944.2504 957.4686,-929.558 939.801,-916.4101\"/>\n<polygon fill=\"#000000\" stroke=\"#000000\" points=\"941.4224,-913.2538 931.3105,-910.0915 937.2433,-918.8695 941.4224,-913.2538\"/>\n</g>\n<!-- 10 -->\n<g id=\"node11\" class=\"node\">\n<title>10</title>\n<path fill=\"#f9fefc\" stroke=\"#000000\" d=\"M1388.5,-922C1388.5,-922 1068.5,-922 1068.5,-922 1062.5,-922 1056.5,-916 1056.5,-910 1056.5,-910 1056.5,-842 1056.5,-842 1056.5,-836 1062.5,-830 1068.5,-830 1068.5,-830 1388.5,-830 1388.5,-830 1394.5,-830 1400.5,-836 1400.5,-842 1400.5,-842 1400.5,-910 1400.5,-910 1400.5,-916 1394.5,-922 1388.5,-922\"/>\n<text text-anchor=\"start\" x=\"1202\" y=\"-907.8\" font-family=\"Helvetica,sans-Serif\" font-size=\"14.00\" fill=\"#000000\">X</text>\n<text text-anchor=\"start\" x=\"1212\" y=\"-907.8\" font-family=\"Helvetica,sans-Serif\" baseline-shift=\"sub\" font-size=\"14.00\" fill=\"#000000\">6</text>\n<text text-anchor=\"start\" x=\"1219\" y=\"-907.8\" font-family=\"Helvetica,sans-Serif\" font-size=\"14.00\" fill=\"#000000\"> ≤ 5.5</text>\n<text text-anchor=\"start\" x=\"1195\" y=\"-893.8\" font-family=\"Helvetica,sans-Serif\" font-size=\"14.00\" fill=\"#000000\">gini = 0.84</text>\n<text text-anchor=\"start\" x=\"1180.5\" y=\"-879.8\" font-family=\"Helvetica,sans-Serif\" font-size=\"14.00\" fill=\"#000000\">samples = 718</text>\n<text text-anchor=\"start\" x=\"1064.5\" y=\"-865.8\" font-family=\"Helvetica,sans-Serif\" font-size=\"14.00\" fill=\"#000000\">value = [0, 0, 0, 0, 0, 152, 134, 118, 109, 97, 74, 29</text>\n<text text-anchor=\"start\" x=\"1214.5\" y=\"-851.8\" font-family=\"Helvetica,sans-Serif\" font-size=\"14.00\" fill=\"#000000\">4, 1]</text>\n<text text-anchor=\"start\" x=\"1193\" y=\"-837.8\" font-family=\"Helvetica,sans-Serif\" font-size=\"14.00\" fill=\"#000000\">class = NR</text>\n</g>\n<!-- 8&#45;&gt;10 -->\n<g id=\"edge10\" class=\"edge\">\n<title>8&#45;&gt;10</title>\n<path fill=\"none\" stroke=\"#000000\" d=\"M1119.2349,-957.7891C1132.0691,-948.1822 1145.6793,-937.9944 1158.7777,-928.1898\"/>\n<polygon fill=\"#000000\" stroke=\"#000000\" points=\"1160.9475,-930.9376 1166.8557,-922.1431 1156.7527,-925.3337 1160.9475,-930.9376\"/>\n</g>\n<!-- 11 -->\n<g id=\"node12\" class=\"node\">\n<title>11</title>\n<path fill=\"#39e598\" stroke=\"#000000\" d=\"M1198,-782C1198,-782 917,-782 917,-782 911,-782 905,-776 905,-770 905,-770 905,-726 905,-726 905,-720 911,-714 917,-714 917,-714 1198,-714 1198,-714 1204,-714 1210,-720 1210,-726 1210,-726 1210,-770 1210,-770 1210,-776 1204,-782 1198,-782\"/>\n<text text-anchor=\"start\" x=\"1028\" y=\"-766.8\" font-family=\"Helvetica,sans-Serif\" font-size=\"14.00\" fill=\"#000000\">gini = 0.0</text>\n<text text-anchor=\"start\" x=\"1009.5\" y=\"-751.8\" font-family=\"Helvetica,sans-Serif\" font-size=\"14.00\" fill=\"#000000\">samples = 152</text>\n<text text-anchor=\"start\" x=\"913\" y=\"-736.8\" font-family=\"Helvetica,sans-Serif\" font-size=\"14.00\" fill=\"#000000\">value = [0, 0, 0, 0, 0, 152, 0, 0, 0, 0, 0, 0, 0, 0]</text>\n<text text-anchor=\"start\" x=\"1022\" y=\"-721.8\" font-family=\"Helvetica,sans-Serif\" font-size=\"14.00\" fill=\"#000000\">class = NR</text>\n</g>\n<!-- 10&#45;&gt;11 -->\n<g id=\"edge11\" class=\"edge\">\n<title>10&#45;&gt;11</title>\n<path fill=\"none\" stroke=\"#000000\" d=\"M1166.7651,-829.7891C1148.6783,-816.2504 1129.0502,-801.558 1111.4853,-788.4101\"/>\n<polygon fill=\"#000000\" stroke=\"#000000\" points=\"1113.1471,-785.2821 1103.0441,-782.0915 1108.9524,-790.886 1113.1471,-785.2821\"/>\n</g>\n<!-- 12 -->\n<g id=\"node13\" class=\"node\">\n<title>12</title>\n<path fill=\"#f8fefe\" stroke=\"#000000\" d=\"M1559,-794C1559,-794 1240,-794 1240,-794 1234,-794 1228,-788 1228,-782 1228,-782 1228,-714 1228,-714 1228,-708 1234,-702 1240,-702 1240,-702 1559,-702 1559,-702 1565,-702 1571,-708 1571,-714 1571,-714 1571,-782 1571,-782 1571,-788 1565,-794 1559,-794\"/>\n<text text-anchor=\"start\" x=\"1373\" y=\"-779.8\" font-family=\"Helvetica,sans-Serif\" font-size=\"14.00\" fill=\"#000000\">X</text>\n<text text-anchor=\"start\" x=\"1383\" y=\"-779.8\" font-family=\"Helvetica,sans-Serif\" baseline-shift=\"sub\" font-size=\"14.00\" fill=\"#000000\">6</text>\n<text text-anchor=\"start\" x=\"1390\" y=\"-779.8\" font-family=\"Helvetica,sans-Serif\" font-size=\"14.00\" fill=\"#000000\"> ≤ 6.5</text>\n<text text-anchor=\"start\" x=\"1361.5\" y=\"-765.8\" font-family=\"Helvetica,sans-Serif\" font-size=\"14.00\" fill=\"#000000\">gini = 0.814</text>\n<text text-anchor=\"start\" x=\"1351.5\" y=\"-751.8\" font-family=\"Helvetica,sans-Serif\" font-size=\"14.00\" fill=\"#000000\">samples = 566</text>\n<text text-anchor=\"start\" x=\"1236\" y=\"-737.8\" font-family=\"Helvetica,sans-Serif\" font-size=\"14.00\" fill=\"#000000\">value = [0, 0, 0, 0, 0, 0, 134, 118, 109, 97, 74, 29, 4</text>\n<text text-anchor=\"start\" x=\"1393\" y=\"-723.8\" font-family=\"Helvetica,sans-Serif\" font-size=\"14.00\" fill=\"#000000\">1]</text>\n<text text-anchor=\"start\" x=\"1364\" y=\"-709.8\" font-family=\"Helvetica,sans-Serif\" font-size=\"14.00\" fill=\"#000000\">class = PG</text>\n</g>\n<!-- 10&#45;&gt;12 -->\n<g id=\"edge12\" class=\"edge\">\n<title>10&#45;&gt;12</title>\n<path fill=\"none\" stroke=\"#000000\" d=\"M1290.2349,-829.7891C1303.0691,-820.1822 1316.6793,-809.9944 1329.7777,-800.1898\"/>\n<polygon fill=\"#000000\" stroke=\"#000000\" points=\"1331.9475,-802.9376 1337.8557,-794.1431 1327.7527,-797.3337 1331.9475,-802.9376\"/>\n</g>\n<!-- 13 -->\n<g id=\"node14\" class=\"node\">\n<title>13</title>\n<path fill=\"#39e5e2\" stroke=\"#000000\" d=\"M1373,-654C1373,-654 1092,-654 1092,-654 1086,-654 1080,-648 1080,-642 1080,-642 1080,-598 1080,-598 1080,-592 1086,-586 1092,-586 1092,-586 1373,-586 1373,-586 1379,-586 1385,-592 1385,-598 1385,-598 1385,-642 1385,-642 1385,-648 1379,-654 1373,-654\"/>\n<text text-anchor=\"start\" x=\"1203\" y=\"-638.8\" font-family=\"Helvetica,sans-Serif\" font-size=\"14.00\" fill=\"#000000\">gini = 0.0</text>\n<text text-anchor=\"start\" x=\"1184.5\" y=\"-623.8\" font-family=\"Helvetica,sans-Serif\" font-size=\"14.00\" fill=\"#000000\">samples = 134</text>\n<text text-anchor=\"start\" x=\"1088\" y=\"-608.8\" font-family=\"Helvetica,sans-Serif\" font-size=\"14.00\" fill=\"#000000\">value = [0, 0, 0, 0, 0, 0, 134, 0, 0, 0, 0, 0, 0, 0]</text>\n<text text-anchor=\"start\" x=\"1197\" y=\"-593.8\" font-family=\"Helvetica,sans-Serif\" font-size=\"14.00\" fill=\"#000000\">class = PG</text>\n</g>\n<!-- 12&#45;&gt;13 -->\n<g id=\"edge13\" class=\"edge\">\n<title>12&#45;&gt;13</title>\n<path fill=\"none\" stroke=\"#000000\" d=\"M1339.2092,-701.7891C1321.5454,-688.2504 1302.3765,-673.558 1285.2225,-660.4101\"/>\n<polygon fill=\"#000000\" stroke=\"#000000\" points=\"1287.0448,-657.397 1276.9788,-654.0915 1282.7864,-662.9528 1287.0448,-657.397\"/>\n</g>\n<!-- 14 -->\n<g id=\"node15\" class=\"node\">\n<title>14</title>\n<path fill=\"#f9fcfe\" stroke=\"#000000\" d=\"M1717.5,-666C1717.5,-666 1415.5,-666 1415.5,-666 1409.5,-666 1403.5,-660 1403.5,-654 1403.5,-654 1403.5,-586 1403.5,-586 1403.5,-580 1409.5,-574 1415.5,-574 1415.5,-574 1717.5,-574 1717.5,-574 1723.5,-574 1729.5,-580 1729.5,-586 1729.5,-586 1729.5,-654 1729.5,-654 1729.5,-660 1723.5,-666 1717.5,-666\"/>\n<text text-anchor=\"start\" x=\"1540\" y=\"-651.8\" font-family=\"Helvetica,sans-Serif\" font-size=\"14.00\" fill=\"#000000\">X</text>\n<text text-anchor=\"start\" x=\"1550\" y=\"-651.8\" font-family=\"Helvetica,sans-Serif\" baseline-shift=\"sub\" font-size=\"14.00\" fill=\"#000000\">6</text>\n<text text-anchor=\"start\" x=\"1557\" y=\"-651.8\" font-family=\"Helvetica,sans-Serif\" font-size=\"14.00\" fill=\"#000000\"> ≤ 7.5</text>\n<text text-anchor=\"start\" x=\"1528.5\" y=\"-637.8\" font-family=\"Helvetica,sans-Serif\" font-size=\"14.00\" fill=\"#000000\">gini = 0.777</text>\n<text text-anchor=\"start\" x=\"1518.5\" y=\"-623.8\" font-family=\"Helvetica,sans-Serif\" font-size=\"14.00\" fill=\"#000000\">samples = 432</text>\n<text text-anchor=\"start\" x=\"1411.5\" y=\"-609.8\" font-family=\"Helvetica,sans-Serif\" font-size=\"14.00\" fill=\"#000000\">value = [0, 0, 0, 0, 0, 0, 0, 118, 109, 97, 74, 29, 4</text>\n<text text-anchor=\"start\" x=\"1560\" y=\"-595.8\" font-family=\"Helvetica,sans-Serif\" font-size=\"14.00\" fill=\"#000000\">1]</text>\n<text text-anchor=\"start\" x=\"1521\" y=\"-581.8\" font-family=\"Helvetica,sans-Serif\" font-size=\"14.00\" fill=\"#000000\">class = TV&#45;Y7</text>\n</g>\n<!-- 12&#45;&gt;14 -->\n<g id=\"edge14\" class=\"edge\">\n<title>12&#45;&gt;14</title>\n<path fill=\"none\" stroke=\"#000000\" d=\"M1459.7908,-701.7891C1472.2065,-692.2728 1485.3659,-682.1866 1498.0465,-672.4674\"/>\n<polygon fill=\"#000000\" stroke=\"#000000\" points=\"1500.49,-675.0044 1506.2977,-666.1431 1496.2316,-669.4486 1500.49,-675.0044\"/>\n</g>\n<!-- 15 -->\n<g id=\"node16\" class=\"node\">\n<title>15</title>\n<path fill=\"#399de5\" stroke=\"#000000\" d=\"M1544,-526C1544,-526 1263,-526 1263,-526 1257,-526 1251,-520 1251,-514 1251,-514 1251,-470 1251,-470 1251,-464 1257,-458 1263,-458 1263,-458 1544,-458 1544,-458 1550,-458 1556,-464 1556,-470 1556,-470 1556,-514 1556,-514 1556,-520 1550,-526 1544,-526\"/>\n<text text-anchor=\"start\" x=\"1374\" y=\"-510.8\" font-family=\"Helvetica,sans-Serif\" font-size=\"14.00\" fill=\"#000000\">gini = 0.0</text>\n<text text-anchor=\"start\" x=\"1355.5\" y=\"-495.8\" font-family=\"Helvetica,sans-Serif\" font-size=\"14.00\" fill=\"#000000\">samples = 118</text>\n<text text-anchor=\"start\" x=\"1259\" y=\"-480.8\" font-family=\"Helvetica,sans-Serif\" font-size=\"14.00\" fill=\"#000000\">value = [0, 0, 0, 0, 0, 0, 0, 118, 0, 0, 0, 0, 0, 0]</text>\n<text text-anchor=\"start\" x=\"1358\" y=\"-465.8\" font-family=\"Helvetica,sans-Serif\" font-size=\"14.00\" fill=\"#000000\">class = TV&#45;Y7</text>\n</g>\n<!-- 14&#45;&gt;15 -->\n<g id=\"edge15\" class=\"edge\">\n<title>14&#45;&gt;15</title>\n<path fill=\"none\" stroke=\"#000000\" d=\"M1507.6533,-573.7891C1490.4126,-560.2504 1471.7028,-545.558 1454.9597,-532.4101\"/>\n<polygon fill=\"#000000\" stroke=\"#000000\" points=\"1456.9399,-529.5149 1446.9134,-526.0915 1452.6166,-535.0203 1456.9399,-529.5149\"/>\n</g>\n<!-- 16 -->\n<g id=\"node17\" class=\"node\">\n<title>16</title>\n<path fill=\"#f4f6fe\" stroke=\"#000000\" d=\"M1872.5,-538C1872.5,-538 1586.5,-538 1586.5,-538 1580.5,-538 1574.5,-532 1574.5,-526 1574.5,-526 1574.5,-458 1574.5,-458 1574.5,-452 1580.5,-446 1586.5,-446 1586.5,-446 1872.5,-446 1872.5,-446 1878.5,-446 1884.5,-452 1884.5,-458 1884.5,-458 1884.5,-526 1884.5,-526 1884.5,-532 1878.5,-538 1872.5,-538\"/>\n<text text-anchor=\"start\" x=\"1703\" y=\"-523.8\" font-family=\"Helvetica,sans-Serif\" font-size=\"14.00\" fill=\"#000000\">X</text>\n<text text-anchor=\"start\" x=\"1713\" y=\"-523.8\" font-family=\"Helvetica,sans-Serif\" baseline-shift=\"sub\" font-size=\"14.00\" fill=\"#000000\">6</text>\n<text text-anchor=\"start\" x=\"1720\" y=\"-523.8\" font-family=\"Helvetica,sans-Serif\" font-size=\"14.00\" fill=\"#000000\"> ≤ 8.5</text>\n<text text-anchor=\"start\" x=\"1696\" y=\"-509.8\" font-family=\"Helvetica,sans-Serif\" font-size=\"14.00\" fill=\"#000000\">gini = 0.72</text>\n<text text-anchor=\"start\" x=\"1681.5\" y=\"-495.8\" font-family=\"Helvetica,sans-Serif\" font-size=\"14.00\" fill=\"#000000\">samples = 314</text>\n<text text-anchor=\"start\" x=\"1582.5\" y=\"-481.8\" font-family=\"Helvetica,sans-Serif\" font-size=\"14.00\" fill=\"#000000\">value = [0, 0, 0, 0, 0, 0, 0, 0, 109, 97, 74, 29, 4</text>\n<text text-anchor=\"start\" x=\"1723\" y=\"-467.8\" font-family=\"Helvetica,sans-Serif\" font-size=\"14.00\" fill=\"#000000\">1]</text>\n<text text-anchor=\"start\" x=\"1688.5\" y=\"-453.8\" font-family=\"Helvetica,sans-Serif\" font-size=\"14.00\" fill=\"#000000\">class = TV&#45;Y</text>\n</g>\n<!-- 14&#45;&gt;16 -->\n<g id=\"edge16\" class=\"edge\">\n<title>14&#45;&gt;16</title>\n<path fill=\"none\" stroke=\"#000000\" d=\"M1625.3467,-573.7891C1637.4651,-564.2728 1650.3092,-554.1866 1662.6861,-544.4674\"/>\n<polygon fill=\"#000000\" stroke=\"#000000\" points=\"1665.0364,-547.0719 1670.7396,-538.1431 1660.7131,-541.5665 1665.0364,-547.0719\"/>\n</g>\n<!-- 17 -->\n<g id=\"node18\" class=\"node\">\n<title>17</title>\n<path fill=\"#3956e5\" stroke=\"#000000\" d=\"M1707,-405C1707,-405 1426,-405 1426,-405 1420,-405 1414,-399 1414,-393 1414,-393 1414,-349 1414,-349 1414,-343 1420,-337 1426,-337 1426,-337 1707,-337 1707,-337 1713,-337 1719,-343 1719,-349 1719,-349 1719,-393 1719,-393 1719,-399 1713,-405 1707,-405\"/>\n<text text-anchor=\"start\" x=\"1537\" y=\"-389.8\" font-family=\"Helvetica,sans-Serif\" font-size=\"14.00\" fill=\"#000000\">gini = 0.0</text>\n<text text-anchor=\"start\" x=\"1518.5\" y=\"-374.8\" font-family=\"Helvetica,sans-Serif\" font-size=\"14.00\" fill=\"#000000\">samples = 109</text>\n<text text-anchor=\"start\" x=\"1422\" y=\"-359.8\" font-family=\"Helvetica,sans-Serif\" font-size=\"14.00\" fill=\"#000000\">value = [0, 0, 0, 0, 0, 0, 0, 0, 109, 0, 0, 0, 0, 0]</text>\n<text text-anchor=\"start\" x=\"1525.5\" y=\"-344.8\" font-family=\"Helvetica,sans-Serif\" font-size=\"14.00\" fill=\"#000000\">class = TV&#45;Y</text>\n</g>\n<!-- 16&#45;&gt;17 -->\n<g id=\"edge17\" class=\"edge\">\n<title>16&#45;&gt;17</title>\n<path fill=\"none\" stroke=\"#000000\" d=\"M1667.4117,-445.9099C1652.0018,-434.4707 1635.6089,-422.3017 1620.6152,-411.1714\"/>\n<polygon fill=\"#000000\" stroke=\"#000000\" points=\"1622.5601,-408.2562 1612.4444,-405.106 1618.3877,-413.8769 1622.5601,-408.2562\"/>\n</g>\n<!-- 18 -->\n<g id=\"node19\" class=\"node\">\n<title>18</title>\n<path fill=\"#e4dcfa\" stroke=\"#000000\" d=\"M2038,-410C2038,-410 1749,-410 1749,-410 1743,-410 1737,-404 1737,-398 1737,-398 1737,-344 1737,-344 1737,-338 1743,-332 1749,-332 1749,-332 2038,-332 2038,-332 2044,-332 2050,-338 2050,-344 2050,-344 2050,-398 2050,-398 2050,-404 2044,-410 2038,-410\"/>\n<text text-anchor=\"start\" x=\"1867\" y=\"-395.8\" font-family=\"Helvetica,sans-Serif\" font-size=\"14.00\" fill=\"#000000\">X</text>\n<text text-anchor=\"start\" x=\"1877\" y=\"-395.8\" font-family=\"Helvetica,sans-Serif\" baseline-shift=\"sub\" font-size=\"14.00\" fill=\"#000000\">6</text>\n<text text-anchor=\"start\" x=\"1884\" y=\"-395.8\" font-family=\"Helvetica,sans-Serif\" font-size=\"14.00\" fill=\"#000000\"> ≤ 9.5</text>\n<text text-anchor=\"start\" x=\"1855.5\" y=\"-381.8\" font-family=\"Helvetica,sans-Serif\" font-size=\"14.00\" fill=\"#000000\">gini = 0.625</text>\n<text text-anchor=\"start\" x=\"1845.5\" y=\"-367.8\" font-family=\"Helvetica,sans-Serif\" font-size=\"14.00\" fill=\"#000000\">samples = 205</text>\n<text text-anchor=\"start\" x=\"1745\" y=\"-353.8\" font-family=\"Helvetica,sans-Serif\" font-size=\"14.00\" fill=\"#000000\">value = [0, 0, 0, 0, 0, 0, 0, 0, 0, 97, 74, 29, 4, 1]</text>\n<text text-anchor=\"start\" x=\"1851.5\" y=\"-339.8\" font-family=\"Helvetica,sans-Serif\" font-size=\"14.00\" fill=\"#000000\">class = TV&#45;G</text>\n</g>\n<!-- 16&#45;&gt;18 -->\n<g id=\"edge18\" class=\"edge\">\n<title>16&#45;&gt;18</title>\n<path fill=\"none\" stroke=\"#000000\" d=\"M1791.9692,-445.9099C1805.2375,-436.1205 1819.2301,-425.7967 1832.4449,-416.0467\"/>\n<polygon fill=\"#000000\" stroke=\"#000000\" points=\"1834.5902,-418.8135 1840.5591,-410.0601 1830.4342,-413.1807 1834.5902,-418.8135\"/>\n</g>\n<!-- 19 -->\n<g id=\"node20\" class=\"node\">\n<title>19</title>\n<path fill=\"#6739e5\" stroke=\"#000000\" d=\"M1870.5,-291C1870.5,-291 1598.5,-291 1598.5,-291 1592.5,-291 1586.5,-285 1586.5,-279 1586.5,-279 1586.5,-235 1586.5,-235 1586.5,-229 1592.5,-223 1598.5,-223 1598.5,-223 1870.5,-223 1870.5,-223 1876.5,-223 1882.5,-229 1882.5,-235 1882.5,-235 1882.5,-279 1882.5,-279 1882.5,-285 1876.5,-291 1870.5,-291\"/>\n<text text-anchor=\"start\" x=\"1705\" y=\"-275.8\" font-family=\"Helvetica,sans-Serif\" font-size=\"14.00\" fill=\"#000000\">gini = 0.0</text>\n<text text-anchor=\"start\" x=\"1690.5\" y=\"-260.8\" font-family=\"Helvetica,sans-Serif\" font-size=\"14.00\" fill=\"#000000\">samples = 97</text>\n<text text-anchor=\"start\" x=\"1594.5\" y=\"-245.8\" font-family=\"Helvetica,sans-Serif\" font-size=\"14.00\" fill=\"#000000\">value = [0, 0, 0, 0, 0, 0, 0, 0, 0, 97, 0, 0, 0, 0]</text>\n<text text-anchor=\"start\" x=\"1692.5\" y=\"-230.8\" font-family=\"Helvetica,sans-Serif\" font-size=\"14.00\" fill=\"#000000\">class = TV&#45;G</text>\n</g>\n<!-- 18&#45;&gt;19 -->\n<g id=\"edge19\" class=\"edge\">\n<title>18&#45;&gt;19</title>\n<path fill=\"none\" stroke=\"#000000\" d=\"M1838.7812,-331.7677C1823.2434,-320.6274 1806.3024,-308.4809 1790.6795,-297.2797\"/>\n<polygon fill=\"#000000\" stroke=\"#000000\" points=\"1792.3195,-294.1488 1782.1531,-291.1663 1788.2406,-299.8377 1792.3195,-294.1488\"/>\n</g>\n<!-- 20 -->\n<g id=\"node21\" class=\"node\">\n<title>20</title>\n<path fill=\"#d38ef0\" stroke=\"#000000\" d=\"M2194,-296C2194,-296 1913,-296 1913,-296 1907,-296 1901,-290 1901,-284 1901,-284 1901,-230 1901,-230 1901,-224 1907,-218 1913,-218 1913,-218 2194,-218 2194,-218 2200,-218 2206,-224 2206,-230 2206,-230 2206,-284 2206,-284 2206,-290 2200,-296 2194,-296\"/>\n<text text-anchor=\"start\" x=\"2023\" y=\"-281.8\" font-family=\"Helvetica,sans-Serif\" font-size=\"14.00\" fill=\"#000000\">X</text>\n<text text-anchor=\"start\" x=\"2033\" y=\"-281.8\" font-family=\"Helvetica,sans-Serif\" baseline-shift=\"sub\" font-size=\"14.00\" fill=\"#000000\">6</text>\n<text text-anchor=\"start\" x=\"2040\" y=\"-281.8\" font-family=\"Helvetica,sans-Serif\" font-size=\"14.00\" fill=\"#000000\"> ≤ 10.5</text>\n<text text-anchor=\"start\" x=\"2015.5\" y=\"-267.8\" font-family=\"Helvetica,sans-Serif\" font-size=\"14.00\" fill=\"#000000\">gini = 0.457</text>\n<text text-anchor=\"start\" x=\"2005.5\" y=\"-253.8\" font-family=\"Helvetica,sans-Serif\" font-size=\"14.00\" fill=\"#000000\">samples = 108</text>\n<text text-anchor=\"start\" x=\"1909\" y=\"-239.8\" font-family=\"Helvetica,sans-Serif\" font-size=\"14.00\" fill=\"#000000\">value = [0, 0, 0, 0, 0, 0, 0, 0, 0, 0, 74, 29, 4, 1]</text>\n<text text-anchor=\"start\" x=\"1996.5\" y=\"-225.8\" font-family=\"Helvetica,sans-Serif\" font-size=\"14.00\" fill=\"#000000\">class = TV&#45;Y7&#45;FV</text>\n</g>\n<!-- 18&#45;&gt;20 -->\n<g id=\"edge20\" class=\"edge\">\n<title>18&#45;&gt;20</title>\n<path fill=\"none\" stroke=\"#000000\" d=\"M1948.5629,-331.7677C1961.9626,-322.2204 1976.3993,-311.9342 1990.1495,-302.1373\"/>\n<polygon fill=\"#000000\" stroke=\"#000000\" points=\"1992.4935,-304.7647 1998.6067,-296.1115 1988.4315,-299.0638 1992.4935,-304.7647\"/>\n</g>\n<!-- 21 -->\n<g id=\"node22\" class=\"node\">\n<title>21</title>\n<path fill=\"#b139e5\" stroke=\"#000000\" d=\"M2032.5,-177C2032.5,-177 1760.5,-177 1760.5,-177 1754.5,-177 1748.5,-171 1748.5,-165 1748.5,-165 1748.5,-121 1748.5,-121 1748.5,-115 1754.5,-109 1760.5,-109 1760.5,-109 2032.5,-109 2032.5,-109 2038.5,-109 2044.5,-115 2044.5,-121 2044.5,-121 2044.5,-165 2044.5,-165 2044.5,-171 2038.5,-177 2032.5,-177\"/>\n<text text-anchor=\"start\" x=\"1867\" y=\"-161.8\" font-family=\"Helvetica,sans-Serif\" font-size=\"14.00\" fill=\"#000000\">gini = 0.0</text>\n<text text-anchor=\"start\" x=\"1852.5\" y=\"-146.8\" font-family=\"Helvetica,sans-Serif\" font-size=\"14.00\" fill=\"#000000\">samples = 74</text>\n<text text-anchor=\"start\" x=\"1756.5\" y=\"-131.8\" font-family=\"Helvetica,sans-Serif\" font-size=\"14.00\" fill=\"#000000\">value = [0, 0, 0, 0, 0, 0, 0, 0, 0, 0, 74, 0, 0, 0]</text>\n<text text-anchor=\"start\" x=\"1839.5\" y=\"-116.8\" font-family=\"Helvetica,sans-Serif\" font-size=\"14.00\" fill=\"#000000\">class = TV&#45;Y7&#45;FV</text>\n</g>\n<!-- 20&#45;&gt;21 -->\n<g id=\"edge21\" class=\"edge\">\n<title>20&#45;&gt;21</title>\n<path fill=\"none\" stroke=\"#000000\" d=\"M1999.4695,-217.7677C1984.1271,-206.6274 1967.3992,-194.4809 1951.9729,-183.2797\"/>\n<polygon fill=\"#000000\" stroke=\"#000000\" points=\"1953.702,-180.2098 1943.5537,-177.1663 1949.589,-185.8741 1953.702,-180.2098\"/>\n</g>\n<!-- 22 -->\n<g id=\"node23\" class=\"node\">\n<title>22</title>\n<path fill=\"#e95ad9\" stroke=\"#000000\" d=\"M2346.5,-182C2346.5,-182 2074.5,-182 2074.5,-182 2068.5,-182 2062.5,-176 2062.5,-170 2062.5,-170 2062.5,-116 2062.5,-116 2062.5,-110 2068.5,-104 2074.5,-104 2074.5,-104 2346.5,-104 2346.5,-104 2352.5,-104 2358.5,-110 2358.5,-116 2358.5,-116 2358.5,-170 2358.5,-170 2358.5,-176 2352.5,-182 2346.5,-182\"/>\n<text text-anchor=\"start\" x=\"2180\" y=\"-167.8\" font-family=\"Helvetica,sans-Serif\" font-size=\"14.00\" fill=\"#000000\">X</text>\n<text text-anchor=\"start\" x=\"2190\" y=\"-167.8\" font-family=\"Helvetica,sans-Serif\" baseline-shift=\"sub\" font-size=\"14.00\" fill=\"#000000\">6</text>\n<text text-anchor=\"start\" x=\"2197\" y=\"-167.8\" font-family=\"Helvetica,sans-Serif\" font-size=\"14.00\" fill=\"#000000\"> ≤ 11.5</text>\n<text text-anchor=\"start\" x=\"2172.5\" y=\"-153.8\" font-family=\"Helvetica,sans-Serif\" font-size=\"14.00\" fill=\"#000000\">gini = 0.258</text>\n<text text-anchor=\"start\" x=\"2166.5\" y=\"-139.8\" font-family=\"Helvetica,sans-Serif\" font-size=\"14.00\" fill=\"#000000\">samples = 34</text>\n<text text-anchor=\"start\" x=\"2070.5\" y=\"-125.8\" font-family=\"Helvetica,sans-Serif\" font-size=\"14.00\" fill=\"#000000\">value = [0, 0, 0, 0, 0, 0, 0, 0, 0, 0, 0, 29, 4, 1]</text>\n<text text-anchor=\"start\" x=\"2180\" y=\"-111.8\" font-family=\"Helvetica,sans-Serif\" font-size=\"14.00\" fill=\"#000000\">class = G</text>\n</g>\n<!-- 20&#45;&gt;22 -->\n<g id=\"edge22\" class=\"edge\">\n<title>20&#45;&gt;22</title>\n<path fill=\"none\" stroke=\"#000000\" d=\"M2107.5305,-217.7677C2120.6789,-208.2204 2134.845,-197.9342 2148.3373,-188.1373\"/>\n<polygon fill=\"#000000\" stroke=\"#000000\" points=\"2150.6006,-190.8192 2156.636,-182.1115 2146.4877,-185.1549 2150.6006,-190.8192\"/>\n</g>\n<!-- 23 -->\n<g id=\"node24\" class=\"node\">\n<title>23</title>\n<path fill=\"#e539d1\" stroke=\"#000000\" d=\"M2191.5,-68C2191.5,-68 1919.5,-68 1919.5,-68 1913.5,-68 1907.5,-62 1907.5,-56 1907.5,-56 1907.5,-12 1907.5,-12 1907.5,-6 1913.5,0 1919.5,0 1919.5,0 2191.5,0 2191.5,0 2197.5,0 2203.5,-6 2203.5,-12 2203.5,-12 2203.5,-56 2203.5,-56 2203.5,-62 2197.5,-68 2191.5,-68\"/>\n<text text-anchor=\"start\" x=\"2026\" y=\"-52.8\" font-family=\"Helvetica,sans-Serif\" font-size=\"14.00\" fill=\"#000000\">gini = 0.0</text>\n<text text-anchor=\"start\" x=\"2011.5\" y=\"-37.8\" font-family=\"Helvetica,sans-Serif\" font-size=\"14.00\" fill=\"#000000\">samples = 29</text>\n<text text-anchor=\"start\" x=\"1915.5\" y=\"-22.8\" font-family=\"Helvetica,sans-Serif\" font-size=\"14.00\" fill=\"#000000\">value = [0, 0, 0, 0, 0, 0, 0, 0, 0, 0, 0, 29, 0, 0]</text>\n<text text-anchor=\"start\" x=\"2025\" y=\"-7.8\" font-family=\"Helvetica,sans-Serif\" font-size=\"14.00\" fill=\"#000000\">class = G</text>\n</g>\n<!-- 22&#45;&gt;23 -->\n<g id=\"edge23\" class=\"edge\">\n<title>22&#45;&gt;23</title>\n<path fill=\"none\" stroke=\"#000000\" d=\"M2154.9792,-103.9564C2141.1675,-94.2436 2126.3404,-83.8168 2112.4606,-74.0562\"/>\n<polygon fill=\"#000000\" stroke=\"#000000\" points=\"2114.1517,-70.9666 2103.9584,-68.0772 2110.125,-76.6926 2114.1517,-70.9666\"/>\n</g>\n<!-- 24 -->\n<g id=\"node25\" class=\"node\">\n<title>24</title>\n<path fill=\"#ec6aa4\" stroke=\"#000000\" d=\"M2497.5,-68C2497.5,-68 2233.5,-68 2233.5,-68 2227.5,-68 2221.5,-62 2221.5,-56 2221.5,-56 2221.5,-12 2221.5,-12 2221.5,-6 2227.5,0 2233.5,0 2233.5,0 2497.5,0 2497.5,0 2503.5,0 2509.5,-6 2509.5,-12 2509.5,-12 2509.5,-56 2509.5,-56 2509.5,-62 2503.5,-68 2497.5,-68\"/>\n<text text-anchor=\"start\" x=\"2332\" y=\"-52.8\" font-family=\"Helvetica,sans-Serif\" font-size=\"14.00\" fill=\"#000000\">gini = 0.32</text>\n<text text-anchor=\"start\" x=\"2326\" y=\"-37.8\" font-family=\"Helvetica,sans-Serif\" font-size=\"14.00\" fill=\"#000000\">samples = 5</text>\n<text text-anchor=\"start\" x=\"2229.5\" y=\"-22.8\" font-family=\"Helvetica,sans-Serif\" font-size=\"14.00\" fill=\"#000000\">value = [0, 0, 0, 0, 0, 0, 0, 0, 0, 0, 0, 0, 4, 1]</text>\n<text text-anchor=\"start\" x=\"2330\" y=\"-7.8\" font-family=\"Helvetica,sans-Serif\" font-size=\"14.00\" fill=\"#000000\">class = UR</text>\n</g>\n<!-- 22&#45;&gt;24 -->\n<g id=\"edge24\" class=\"edge\">\n<title>22&#45;&gt;24</title>\n<path fill=\"none\" stroke=\"#000000\" d=\"M2266.0208,-103.9564C2279.8325,-94.2436 2294.6596,-83.8168 2308.5394,-74.0562\"/>\n<polygon fill=\"#000000\" stroke=\"#000000\" points=\"2310.875,-76.6926 2317.0416,-68.0772 2306.8483,-70.9666 2310.875,-76.6926\"/>\n</g>\n</g>\n</svg>\n"
          },
          "metadata": {
            "tags": []
          },
          "execution_count": 38
        }
      ]
    },
    {
      "cell_type": "code",
      "metadata": {
        "id": "YdHxU8hRzyLI",
        "colab": {
          "base_uri": "https://localhost:8080/",
          "height": 80
        },
        "outputId": "4accc1f6-88c9-4754-dd6d-2385bbcb1e01"
      },
      "source": [
        "xtrainPre[:1]\n"
      ],
      "execution_count": 39,
      "outputs": [
        {
          "output_type": "execute_result",
          "data": {
            "text/html": [
              "<div>\n",
              "<style scoped>\n",
              "    .dataframe tbody tr th:only-of-type {\n",
              "        vertical-align: middle;\n",
              "    }\n",
              "\n",
              "    .dataframe tbody tr th {\n",
              "        vertical-align: top;\n",
              "    }\n",
              "\n",
              "    .dataframe thead th {\n",
              "        text-align: right;\n",
              "    }\n",
              "</style>\n",
              "<table border=\"1\" class=\"dataframe\">\n",
              "  <thead>\n",
              "    <tr style=\"text-align: right;\">\n",
              "      <th></th>\n",
              "      <th>show_id</th>\n",
              "      <th>type</th>\n",
              "      <th>title</th>\n",
              "      <th>director</th>\n",
              "      <th>cast</th>\n",
              "      <th>country</th>\n",
              "      <th>rating</th>\n",
              "      <th>duration</th>\n",
              "      <th>listed_in</th>\n",
              "      <th>description</th>\n",
              "    </tr>\n",
              "  </thead>\n",
              "  <tbody>\n",
              "    <tr>\n",
              "      <th>1034</th>\n",
              "      <td>81209203</td>\n",
              "      <td>0.0</td>\n",
              "      <td>236.0</td>\n",
              "      <td>531.0</td>\n",
              "      <td>2169.0</td>\n",
              "      <td>0.0</td>\n",
              "      <td>8.0</td>\n",
              "      <td>21.0</td>\n",
              "      <td>7.0</td>\n",
              "      <td>3020.0</td>\n",
              "    </tr>\n",
              "  </tbody>\n",
              "</table>\n",
              "</div>"
            ],
            "text/plain": [
              "       show_id  type  title  director  ...  rating  duration  listed_in  description\n",
              "1034  81209203   0.0  236.0     531.0  ...     8.0      21.0        7.0       3020.0\n",
              "\n",
              "[1 rows x 10 columns]"
            ]
          },
          "metadata": {
            "tags": []
          },
          "execution_count": 39
        }
      ]
    },
    {
      "cell_type": "code",
      "metadata": {
        "id": "mZA7zGmJwsE9",
        "colab": {
          "base_uri": "https://localhost:8080/"
        },
        "outputId": "82b70d58-e67c-4e24-9d6d-30d8b167b46f"
      },
      "source": [
        "!pip install dtreeviz\n",
        "\n"
      ],
      "execution_count": 40,
      "outputs": [
        {
          "output_type": "stream",
          "text": [
            "Collecting dtreeviz\n",
            "\u001b[?25l  Downloading https://files.pythonhosted.org/packages/31/57/37124098be67a2edf55c909c77b634d1723abecb54b8ded3e7b3b02af384/dtreeviz-1.1.3.tar.gz (49kB)\n",
            "\r\u001b[K     |██████▊                         | 10kB 22.3MB/s eta 0:00:01\r\u001b[K     |█████████████▍                  | 20kB 13.5MB/s eta 0:00:01\r\u001b[K     |████████████████████            | 30kB 12.8MB/s eta 0:00:01\r\u001b[K     |██████████████████████████▊     | 40kB 12.0MB/s eta 0:00:01\r\u001b[K     |████████████████████████████████| 51kB 4.4MB/s \n",
            "\u001b[?25hRequirement already satisfied: graphviz>=0.9 in /usr/local/lib/python3.6/dist-packages (from dtreeviz) (0.10.1)\n",
            "Requirement already satisfied: pandas in /usr/local/lib/python3.6/dist-packages (from dtreeviz) (1.1.5)\n",
            "Requirement already satisfied: numpy in /usr/local/lib/python3.6/dist-packages (from dtreeviz) (1.18.5)\n",
            "Requirement already satisfied: scikit-learn in /usr/local/lib/python3.6/dist-packages (from dtreeviz) (0.22.2.post1)\n",
            "Requirement already satisfied: matplotlib in /usr/local/lib/python3.6/dist-packages (from dtreeviz) (3.2.2)\n",
            "Collecting colour\n",
            "  Downloading https://files.pythonhosted.org/packages/74/46/e81907704ab203206769dee1385dc77e1407576ff8f50a0681d0a6b541be/colour-0.1.5-py2.py3-none-any.whl\n",
            "Requirement already satisfied: xgboost in /usr/local/lib/python3.6/dist-packages (from dtreeviz) (0.90)\n",
            "Requirement already satisfied: pytest in /usr/local/lib/python3.6/dist-packages (from dtreeviz) (3.6.4)\n",
            "Collecting pyspark\n",
            "\u001b[?25l  Downloading https://files.pythonhosted.org/packages/f0/26/198fc8c0b98580f617cb03cb298c6056587b8f0447e20fa40c5b634ced77/pyspark-3.0.1.tar.gz (204.2MB)\n",
            "\u001b[K     |████████████████████████████████| 204.2MB 78kB/s \n",
            "\u001b[?25hRequirement already satisfied: python-dateutil>=2.7.3 in /usr/local/lib/python3.6/dist-packages (from pandas->dtreeviz) (2.8.1)\n",
            "Requirement already satisfied: pytz>=2017.2 in /usr/local/lib/python3.6/dist-packages (from pandas->dtreeviz) (2018.9)\n",
            "Requirement already satisfied: scipy>=0.17.0 in /usr/local/lib/python3.6/dist-packages (from scikit-learn->dtreeviz) (1.4.1)\n",
            "Requirement already satisfied: joblib>=0.11 in /usr/local/lib/python3.6/dist-packages (from scikit-learn->dtreeviz) (0.17.0)\n",
            "Requirement already satisfied: cycler>=0.10 in /usr/local/lib/python3.6/dist-packages (from matplotlib->dtreeviz) (0.10.0)\n",
            "Requirement already satisfied: kiwisolver>=1.0.1 in /usr/local/lib/python3.6/dist-packages (from matplotlib->dtreeviz) (1.3.1)\n",
            "Requirement already satisfied: pyparsing!=2.0.4,!=2.1.2,!=2.1.6,>=2.0.1 in /usr/local/lib/python3.6/dist-packages (from matplotlib->dtreeviz) (2.4.7)\n",
            "Requirement already satisfied: py>=1.5.0 in /usr/local/lib/python3.6/dist-packages (from pytest->dtreeviz) (1.9.0)\n",
            "Requirement already satisfied: atomicwrites>=1.0 in /usr/local/lib/python3.6/dist-packages (from pytest->dtreeviz) (1.4.0)\n",
            "Requirement already satisfied: six>=1.10.0 in /usr/local/lib/python3.6/dist-packages (from pytest->dtreeviz) (1.15.0)\n",
            "Requirement already satisfied: attrs>=17.4.0 in /usr/local/lib/python3.6/dist-packages (from pytest->dtreeviz) (20.3.0)\n",
            "Requirement already satisfied: setuptools in /usr/local/lib/python3.6/dist-packages (from pytest->dtreeviz) (50.3.2)\n",
            "Requirement already satisfied: more-itertools>=4.0.0 in /usr/local/lib/python3.6/dist-packages (from pytest->dtreeviz) (8.6.0)\n",
            "Requirement already satisfied: pluggy<0.8,>=0.5 in /usr/local/lib/python3.6/dist-packages (from pytest->dtreeviz) (0.7.1)\n",
            "Collecting py4j==0.10.9\n",
            "\u001b[?25l  Downloading https://files.pythonhosted.org/packages/9e/b6/6a4fb90cd235dc8e265a6a2067f2a2c99f0d91787f06aca4bcf7c23f3f80/py4j-0.10.9-py2.py3-none-any.whl (198kB)\n",
            "\u001b[K     |████████████████████████████████| 204kB 54.1MB/s \n",
            "\u001b[?25hBuilding wheels for collected packages: dtreeviz, pyspark\n",
            "  Building wheel for dtreeviz (setup.py) ... \u001b[?25l\u001b[?25hdone\n",
            "  Created wheel for dtreeviz: filename=dtreeviz-1.1.3-cp36-none-any.whl size=52493 sha256=db3a5e8b15a8ecd393bf6496da5048fed3d922e45abadac43a0e68f0de5a9b40\n",
            "  Stored in directory: /root/.cache/pip/wheels/80/a9/1e/4751fda06e88399ee09410646e9d55c88787276f9537b8ebd0\n",
            "  Building wheel for pyspark (setup.py) ... \u001b[?25l\u001b[?25hdone\n",
            "  Created wheel for pyspark: filename=pyspark-3.0.1-py2.py3-none-any.whl size=204612243 sha256=1478ee761562f1b590842ba5259df412364117ba3779e9b8c04406177133b46e\n",
            "  Stored in directory: /root/.cache/pip/wheels/5e/bd/07/031766ca628adec8435bb40f0bd83bb676ce65ff4007f8e73f\n",
            "Successfully built dtreeviz pyspark\n",
            "Installing collected packages: colour, py4j, pyspark, dtreeviz\n",
            "Successfully installed colour-0.1.5 dtreeviz-1.1.3 py4j-0.10.9 pyspark-3.0.1\n"
          ],
          "name": "stdout"
        }
      ]
    },
    {
      "cell_type": "code",
      "metadata": {
        "id": "9s-qrddg9Vkl",
        "colab": {
          "base_uri": "https://localhost:8080/",
          "height": 248
        },
        "outputId": "18632155-9d46-4832-9ffd-6092d9cf5ed6"
      },
      "source": [
        "\n",
        "tree.plot_tree(tree_clf2);\n"
      ],
      "execution_count": 41,
      "outputs": [
        {
          "output_type": "display_data",
          "data": {
            "image/png": "[encoded data removed]",
            "text/plain": [
              "<Figure size 432x288 with 1 Axes>"
            ]
          },
          "metadata": {
            "tags": [],
            "needs_background": "light"
          }
        }
      ]
    },
    {
      "cell_type": "code",
      "metadata": {
        "id": "_4y1XhdJIZB-",
        "colab": {
          "base_uri": "https://localhost:8080/"
        },
        "outputId": "c4b521ef-4ef3-4620-c92b-9bae103e9685"
      },
      "source": [
        "result = tree_clf.predict(XtestPre)\n",
        "result"
      ],
      "execution_count": 42,
      "outputs": [
        {
          "output_type": "execute_result",
          "data": {
            "text/plain": [
              "array([2., 1., 0., ..., 0., 7., 1.])"
            ]
          },
          "metadata": {
            "tags": []
          },
          "execution_count": 42
        }
      ]
    },
    {
      "cell_type": "markdown",
      "metadata": {
        "id": "vUXzQfm5Aeac"
      },
      "source": [
        "# Clasificaciones con redes neuronales"
      ]
    },
    {
      "cell_type": "code",
      "metadata": {
        "id": "HBeIJcpPAlwD"
      },
      "source": [
        "import tensorflow as tf\n",
        "from tensorflow import keras\n",
        "\n",
        "tf.random.set_seed(42)\n",
        "np.random.seed(42)\n",
        "\n",
        "model = tf.keras.Sequential([\n",
        "  keras.layers.Dense(256,input_shape=(xtrainPre.shape[-1],),kernel_initializer=\"he_normal\",activation=\"selu\"),\n",
        "  keras.layers.BatchNormalization(),\n",
        "  keras.layers.Dropout(0.7),\n",
        "  keras.layers.Dense(16,kernel_initializer=\"he_normal\",activation=\"selu\"),\n",
        "  keras.layers.BatchNormalization(),\n",
        "  keras.layers.Dropout(0.7),\n",
        "  keras.layers.Dense(14, activation=\"softmax\")\n",
        "])"
      ],
      "execution_count": 43,
      "outputs": []
    },
    {
      "cell_type": "markdown",
      "metadata": {
        "id": "TVJHvrEaUXdL"
      },
      "source": [
        "### EL modelo de la red esta basado en capas densas para realizar la clasificación de los datos, para ayudar a disminuir la variable los utilizamos la capa de normalización. Debido a los 14 diferentes tipos de \"ratings\" que planeta la base de datos, por eso utilizamos 14 neuronas en la última capa densa con activación softmax\r\n",
        "\r\n",
        "## EL modelo de red neuronal, se mantiene estable y alcanza un 36.6% de acertividad, el resultado obtenido puede ser consecuente a la poca correlación entre las variables de la base de datos presentada, para este caso la clasificación de edades por las características presentadas no es una buena manera de operar con la base de datos.\r\n"
      ]
    },
    {
      "cell_type": "code",
      "metadata": {
        "id": "t7AbtwOsCWgD",
        "colab": {
          "base_uri": "https://localhost:8080/"
        },
        "outputId": "d3fc4e72-5884-46e5-bb38-799484235028"
      },
      "source": [
        "keras.backend.clear_session()\n",
        "\n",
        "learning_rate=0.001\n",
        "num_epoch = 100\n",
        "batch     = 256\n",
        "\n",
        "#optimizer = tf.keras.optimizers.RMSprop(lr=learning_rate)\n",
        "#optimizer = tf.keras.optimizers.Nadam(lr=learning_rate, beta_1=0.9, beta_2=0.999) \n",
        "#optimizer = tf.keras.optimizers.Adam(lr=learning_rate) \n",
        "optimizer = tf.keras.optimizers.SGD(lr=learning_rate, clipvalue=1.0)\n",
        "\n",
        "model.summary()\n",
        "model.compile(optimizer=optimizer,\n",
        "              loss=tf.keras.losses.SparseCategoricalCrossentropy(from_logits=False),\n",
        "              metrics=['accuracy'])\n",
        "\n",
        "history = model.fit(xtrainPre,ytrain,epochs=num_epoch,\n",
        "          validation_split=0.2)\n",
        "\n",
        "\n",
        "score_test = model.evaluate(XtestPre, ytest, batch_size=batch)\n"
      ],
      "execution_count": 44,
      "outputs": [
        {
          "output_type": "stream",
          "text": [
            "Model: \"sequential\"\n",
            "_________________________________________________________________\n",
            "Layer (type)                 Output Shape              Param #   \n",
            "=================================================================\n",
            "dense (Dense)                (None, 256)               2816      \n",
            "_________________________________________________________________\n",
            "batch_normalization (BatchNo (None, 256)               1024      \n",
            "_________________________________________________________________\n",
            "dropout (Dropout)            (None, 256)               0         \n",
            "_________________________________________________________________\n",
            "dense_1 (Dense)              (None, 16)                4112      \n",
            "_________________________________________________________________\n",
            "batch_normalization_1 (Batch (None, 16)                64        \n",
            "_________________________________________________________________\n",
            "dropout_1 (Dropout)          (None, 16)                0         \n",
            "_________________________________________________________________\n",
            "dense_2 (Dense)              (None, 14)                238       \n",
            "=================================================================\n",
            "Total params: 8,254\n",
            "Trainable params: 7,710\n",
            "Non-trainable params: 544\n",
            "_________________________________________________________________\n",
            "Epoch 1/100\n",
            "110/110 [==============================] - 1s 5ms/step - loss: 3.6113 - accuracy: 0.0711 - val_loss: 3.8249 - val_accuracy: 0.0057\n",
            "Epoch 2/100\n",
            "110/110 [==============================] - 0s 3ms/step - loss: 3.4707 - accuracy: 0.0665 - val_loss: 2.4346 - val_accuracy: 0.2715\n",
            "Epoch 3/100\n",
            "110/110 [==============================] - 0s 3ms/step - loss: 3.4083 - accuracy: 0.0923 - val_loss: 2.3913 - val_accuracy: 0.2532\n",
            "Epoch 4/100\n",
            "110/110 [==============================] - 0s 4ms/step - loss: 3.3224 - accuracy: 0.0931 - val_loss: 2.4093 - val_accuracy: 0.2784\n",
            "Epoch 5/100\n",
            "110/110 [==============================] - 0s 4ms/step - loss: 3.2582 - accuracy: 0.1201 - val_loss: 2.4212 - val_accuracy: 0.3505\n",
            "Epoch 6/100\n",
            "110/110 [==============================] - 0s 4ms/step - loss: 3.2301 - accuracy: 0.1195 - val_loss: 2.4174 - val_accuracy: 0.3505\n",
            "Epoch 7/100\n",
            "110/110 [==============================] - 0s 4ms/step - loss: 3.1020 - accuracy: 0.1372 - val_loss: 2.3902 - val_accuracy: 0.3505\n",
            "Epoch 8/100\n",
            "110/110 [==============================] - 0s 3ms/step - loss: 3.0675 - accuracy: 0.1487 - val_loss: 2.3732 - val_accuracy: 0.3505\n",
            "Epoch 9/100\n",
            "110/110 [==============================] - 0s 4ms/step - loss: 2.9938 - accuracy: 0.1550 - val_loss: 2.3448 - val_accuracy: 0.3505\n",
            "Epoch 10/100\n",
            "110/110 [==============================] - 0s 4ms/step - loss: 2.9420 - accuracy: 0.1791 - val_loss: 2.3292 - val_accuracy: 0.3505\n",
            "Epoch 11/100\n",
            "110/110 [==============================] - 0s 4ms/step - loss: 2.9289 - accuracy: 0.1834 - val_loss: 2.3036 - val_accuracy: 0.3505\n",
            "Epoch 12/100\n",
            "110/110 [==============================] - 0s 3ms/step - loss: 2.9190 - accuracy: 0.1951 - val_loss: 2.2902 - val_accuracy: 0.3505\n",
            "Epoch 13/100\n",
            "110/110 [==============================] - 0s 3ms/step - loss: 2.8615 - accuracy: 0.1934 - val_loss: 2.2679 - val_accuracy: 0.3505\n",
            "Epoch 14/100\n",
            "110/110 [==============================] - 0s 3ms/step - loss: 2.8326 - accuracy: 0.2046 - val_loss: 2.2477 - val_accuracy: 0.3505\n",
            "Epoch 15/100\n",
            "110/110 [==============================] - 0s 3ms/step - loss: 2.7780 - accuracy: 0.2175 - val_loss: 2.2255 - val_accuracy: 0.3505\n",
            "Epoch 16/100\n",
            "110/110 [==============================] - 0s 4ms/step - loss: 2.7250 - accuracy: 0.2212 - val_loss: 2.2009 - val_accuracy: 0.3505\n",
            "Epoch 17/100\n",
            "110/110 [==============================] - 0s 3ms/step - loss: 2.6760 - accuracy: 0.2421 - val_loss: 2.1906 - val_accuracy: 0.3505\n",
            "Epoch 18/100\n",
            "110/110 [==============================] - 0s 4ms/step - loss: 2.6879 - accuracy: 0.2421 - val_loss: 2.1820 - val_accuracy: 0.3505\n",
            "Epoch 19/100\n",
            "110/110 [==============================] - 0s 3ms/step - loss: 2.6658 - accuracy: 0.2461 - val_loss: 2.1699 - val_accuracy: 0.3505\n",
            "Epoch 20/100\n",
            "110/110 [==============================] - 0s 4ms/step - loss: 2.6061 - accuracy: 0.2510 - val_loss: 2.1573 - val_accuracy: 0.3505\n",
            "Epoch 21/100\n",
            "110/110 [==============================] - 0s 4ms/step - loss: 2.6013 - accuracy: 0.2567 - val_loss: 2.1506 - val_accuracy: 0.3505\n",
            "Epoch 22/100\n",
            "110/110 [==============================] - 0s 3ms/step - loss: 2.5407 - accuracy: 0.2599 - val_loss: 2.1365 - val_accuracy: 0.3505\n",
            "Epoch 23/100\n",
            "110/110 [==============================] - 0s 3ms/step - loss: 2.6088 - accuracy: 0.2570 - val_loss: 2.1234 - val_accuracy: 0.3505\n",
            "Epoch 24/100\n",
            "110/110 [==============================] - 0s 4ms/step - loss: 2.5233 - accuracy: 0.2693 - val_loss: 2.1083 - val_accuracy: 0.3505\n",
            "Epoch 25/100\n",
            "110/110 [==============================] - 0s 4ms/step - loss: 2.5214 - accuracy: 0.2722 - val_loss: 2.1007 - val_accuracy: 0.3505\n",
            "Epoch 26/100\n",
            "110/110 [==============================] - 0s 4ms/step - loss: 2.5238 - accuracy: 0.2719 - val_loss: 2.0894 - val_accuracy: 0.3505\n",
            "Epoch 27/100\n",
            "110/110 [==============================] - 0s 4ms/step - loss: 2.4922 - accuracy: 0.2754 - val_loss: 2.0803 - val_accuracy: 0.3505\n",
            "Epoch 28/100\n",
            "110/110 [==============================] - 0s 4ms/step - loss: 2.4756 - accuracy: 0.2728 - val_loss: 2.0728 - val_accuracy: 0.3505\n",
            "Epoch 29/100\n",
            "110/110 [==============================] - 0s 4ms/step - loss: 2.4367 - accuracy: 0.2871 - val_loss: 2.0617 - val_accuracy: 0.3505\n",
            "Epoch 30/100\n",
            "110/110 [==============================] - 0s 4ms/step - loss: 2.4593 - accuracy: 0.2768 - val_loss: 2.0586 - val_accuracy: 0.3505\n",
            "Epoch 31/100\n",
            "110/110 [==============================] - 0s 4ms/step - loss: 2.4450 - accuracy: 0.2782 - val_loss: 2.0528 - val_accuracy: 0.3505\n",
            "Epoch 32/100\n",
            "110/110 [==============================] - 0s 3ms/step - loss: 2.3865 - accuracy: 0.2762 - val_loss: 2.0404 - val_accuracy: 0.3505\n",
            "Epoch 33/100\n",
            "110/110 [==============================] - 0s 4ms/step - loss: 2.3643 - accuracy: 0.2848 - val_loss: 2.0316 - val_accuracy: 0.3505\n",
            "Epoch 34/100\n",
            "110/110 [==============================] - 0s 4ms/step - loss: 2.3685 - accuracy: 0.2883 - val_loss: 2.0275 - val_accuracy: 0.3505\n",
            "Epoch 35/100\n",
            "110/110 [==============================] - 0s 4ms/step - loss: 2.3828 - accuracy: 0.2785 - val_loss: 2.0158 - val_accuracy: 0.3505\n",
            "Epoch 36/100\n",
            "110/110 [==============================] - 0s 4ms/step - loss: 2.3498 - accuracy: 0.2819 - val_loss: 2.0121 - val_accuracy: 0.3505\n",
            "Epoch 37/100\n",
            "110/110 [==============================] - 0s 3ms/step - loss: 2.3570 - accuracy: 0.2765 - val_loss: 2.0008 - val_accuracy: 0.3505\n",
            "Epoch 38/100\n",
            "110/110 [==============================] - 0s 4ms/step - loss: 2.3256 - accuracy: 0.2968 - val_loss: 1.9969 - val_accuracy: 0.3505\n",
            "Epoch 39/100\n",
            "110/110 [==============================] - 0s 4ms/step - loss: 2.3165 - accuracy: 0.2880 - val_loss: 1.9946 - val_accuracy: 0.3505\n",
            "Epoch 40/100\n",
            "110/110 [==============================] - 0s 4ms/step - loss: 2.3369 - accuracy: 0.3020 - val_loss: 1.9909 - val_accuracy: 0.3505\n",
            "Epoch 41/100\n",
            "110/110 [==============================] - 0s 4ms/step - loss: 2.3039 - accuracy: 0.3057 - val_loss: 1.9844 - val_accuracy: 0.3505\n",
            "Epoch 42/100\n",
            "110/110 [==============================] - 0s 4ms/step - loss: 2.3138 - accuracy: 0.2874 - val_loss: 1.9787 - val_accuracy: 0.3505\n",
            "Epoch 43/100\n",
            "110/110 [==============================] - 1s 5ms/step - loss: 2.2614 - accuracy: 0.2883 - val_loss: 1.9768 - val_accuracy: 0.3505\n",
            "Epoch 44/100\n",
            "110/110 [==============================] - 0s 4ms/step - loss: 2.2817 - accuracy: 0.3011 - val_loss: 1.9729 - val_accuracy: 0.3505\n",
            "Epoch 45/100\n",
            "110/110 [==============================] - 0s 3ms/step - loss: 2.2507 - accuracy: 0.3046 - val_loss: 1.9705 - val_accuracy: 0.3505\n",
            "Epoch 46/100\n",
            "110/110 [==============================] - 0s 4ms/step - loss: 2.2605 - accuracy: 0.3077 - val_loss: 1.9642 - val_accuracy: 0.3505\n",
            "Epoch 47/100\n",
            "110/110 [==============================] - 0s 4ms/step - loss: 2.2329 - accuracy: 0.3034 - val_loss: 1.9608 - val_accuracy: 0.3505\n",
            "Epoch 48/100\n",
            "110/110 [==============================] - 0s 4ms/step - loss: 2.2170 - accuracy: 0.3086 - val_loss: 1.9560 - val_accuracy: 0.3505\n",
            "Epoch 49/100\n",
            "110/110 [==============================] - 0s 4ms/step - loss: 2.2374 - accuracy: 0.3046 - val_loss: 1.9540 - val_accuracy: 0.3505\n",
            "Epoch 50/100\n",
            "110/110 [==============================] - 0s 4ms/step - loss: 2.2307 - accuracy: 0.3072 - val_loss: 1.9499 - val_accuracy: 0.3505\n",
            "Epoch 51/100\n",
            "110/110 [==============================] - 0s 4ms/step - loss: 2.1973 - accuracy: 0.3129 - val_loss: 1.9451 - val_accuracy: 0.3505\n",
            "Epoch 52/100\n",
            "110/110 [==============================] - 0s 4ms/step - loss: 2.2017 - accuracy: 0.3063 - val_loss: 1.9415 - val_accuracy: 0.3505\n",
            "Epoch 53/100\n",
            "110/110 [==============================] - 0s 4ms/step - loss: 2.1775 - accuracy: 0.2983 - val_loss: 1.9390 - val_accuracy: 0.3505\n",
            "Epoch 54/100\n",
            "110/110 [==============================] - 0s 3ms/step - loss: 2.1864 - accuracy: 0.3132 - val_loss: 1.9338 - val_accuracy: 0.3505\n",
            "Epoch 55/100\n",
            "110/110 [==============================] - 0s 4ms/step - loss: 2.1878 - accuracy: 0.3066 - val_loss: 1.9320 - val_accuracy: 0.3505\n",
            "Epoch 56/100\n",
            "110/110 [==============================] - 0s 4ms/step - loss: 2.1908 - accuracy: 0.3054 - val_loss: 1.9282 - val_accuracy: 0.3505\n",
            "Epoch 57/100\n",
            "110/110 [==============================] - 0s 4ms/step - loss: 2.1768 - accuracy: 0.3100 - val_loss: 1.9260 - val_accuracy: 0.3505\n",
            "Epoch 58/100\n",
            "110/110 [==============================] - 0s 4ms/step - loss: 2.1682 - accuracy: 0.2994 - val_loss: 1.9217 - val_accuracy: 0.3505\n",
            "Epoch 59/100\n",
            "110/110 [==============================] - 0s 3ms/step - loss: 2.1562 - accuracy: 0.3072 - val_loss: 1.9204 - val_accuracy: 0.3505\n",
            "Epoch 60/100\n",
            "110/110 [==============================] - 0s 4ms/step - loss: 2.1402 - accuracy: 0.3129 - val_loss: 1.9184 - val_accuracy: 0.3505\n",
            "Epoch 61/100\n",
            "110/110 [==============================] - 0s 4ms/step - loss: 2.1324 - accuracy: 0.3201 - val_loss: 1.9145 - val_accuracy: 0.3505\n",
            "Epoch 62/100\n",
            "110/110 [==============================] - 0s 4ms/step - loss: 2.1247 - accuracy: 0.3140 - val_loss: 1.9113 - val_accuracy: 0.3505\n",
            "Epoch 63/100\n",
            "110/110 [==============================] - 0s 3ms/step - loss: 2.1181 - accuracy: 0.3158 - val_loss: 1.9090 - val_accuracy: 0.3505\n",
            "Epoch 64/100\n",
            "110/110 [==============================] - 0s 4ms/step - loss: 2.1244 - accuracy: 0.3077 - val_loss: 1.9069 - val_accuracy: 0.3505\n",
            "Epoch 65/100\n",
            "110/110 [==============================] - 0s 4ms/step - loss: 2.1308 - accuracy: 0.3103 - val_loss: 1.9048 - val_accuracy: 0.3528\n",
            "Epoch 66/100\n",
            "110/110 [==============================] - 0s 4ms/step - loss: 2.1066 - accuracy: 0.3112 - val_loss: 1.9036 - val_accuracy: 0.3574\n",
            "Epoch 67/100\n",
            "110/110 [==============================] - 0s 5ms/step - loss: 2.1280 - accuracy: 0.3143 - val_loss: 1.9016 - val_accuracy: 0.3620\n",
            "Epoch 68/100\n",
            "110/110 [==============================] - 0s 4ms/step - loss: 2.1058 - accuracy: 0.3192 - val_loss: 1.8989 - val_accuracy: 0.3608\n",
            "Epoch 69/100\n",
            "110/110 [==============================] - 0s 4ms/step - loss: 2.0833 - accuracy: 0.3169 - val_loss: 1.8973 - val_accuracy: 0.3608\n",
            "Epoch 70/100\n",
            "110/110 [==============================] - 0s 4ms/step - loss: 2.1137 - accuracy: 0.3201 - val_loss: 1.8961 - val_accuracy: 0.3608\n",
            "Epoch 71/100\n",
            "110/110 [==============================] - 0s 4ms/step - loss: 2.0963 - accuracy: 0.3129 - val_loss: 1.8947 - val_accuracy: 0.3608\n",
            "Epoch 72/100\n",
            "110/110 [==============================] - 0s 4ms/step - loss: 2.1101 - accuracy: 0.3189 - val_loss: 1.8915 - val_accuracy: 0.3620\n",
            "Epoch 73/100\n",
            "110/110 [==============================] - 0s 4ms/step - loss: 2.0869 - accuracy: 0.3203 - val_loss: 1.8896 - val_accuracy: 0.3620\n",
            "Epoch 74/100\n",
            "110/110 [==============================] - 0s 4ms/step - loss: 2.0825 - accuracy: 0.3238 - val_loss: 1.8890 - val_accuracy: 0.3620\n",
            "Epoch 75/100\n",
            "110/110 [==============================] - 0s 4ms/step - loss: 2.0961 - accuracy: 0.3255 - val_loss: 1.8860 - val_accuracy: 0.3620\n",
            "Epoch 76/100\n",
            "110/110 [==============================] - 0s 4ms/step - loss: 2.0717 - accuracy: 0.3284 - val_loss: 1.8853 - val_accuracy: 0.3620\n",
            "Epoch 77/100\n",
            "110/110 [==============================] - 0s 4ms/step - loss: 2.0754 - accuracy: 0.3198 - val_loss: 1.8836 - val_accuracy: 0.3620\n",
            "Epoch 78/100\n",
            "110/110 [==============================] - 0s 3ms/step - loss: 2.0643 - accuracy: 0.3209 - val_loss: 1.8827 - val_accuracy: 0.3620\n",
            "Epoch 79/100\n",
            "110/110 [==============================] - 0s 4ms/step - loss: 2.0714 - accuracy: 0.3106 - val_loss: 1.8807 - val_accuracy: 0.3620\n",
            "Epoch 80/100\n",
            "110/110 [==============================] - 0s 4ms/step - loss: 2.0596 - accuracy: 0.3223 - val_loss: 1.8801 - val_accuracy: 0.3620\n",
            "Epoch 81/100\n",
            "110/110 [==============================] - 0s 4ms/step - loss: 2.0613 - accuracy: 0.3138 - val_loss: 1.8777 - val_accuracy: 0.3620\n",
            "Epoch 82/100\n",
            "110/110 [==============================] - 0s 4ms/step - loss: 2.0547 - accuracy: 0.3252 - val_loss: 1.8767 - val_accuracy: 0.3620\n",
            "Epoch 83/100\n",
            "110/110 [==============================] - 0s 4ms/step - loss: 2.0529 - accuracy: 0.3201 - val_loss: 1.8755 - val_accuracy: 0.3620\n",
            "Epoch 84/100\n",
            "110/110 [==============================] - 0s 3ms/step - loss: 2.0620 - accuracy: 0.3181 - val_loss: 1.8751 - val_accuracy: 0.3620\n",
            "Epoch 85/100\n",
            "110/110 [==============================] - 0s 4ms/step - loss: 2.0574 - accuracy: 0.3264 - val_loss: 1.8739 - val_accuracy: 0.3620\n",
            "Epoch 86/100\n",
            "110/110 [==============================] - 0s 4ms/step - loss: 2.0576 - accuracy: 0.3201 - val_loss: 1.8728 - val_accuracy: 0.3620\n",
            "Epoch 87/100\n",
            "110/110 [==============================] - 0s 4ms/step - loss: 2.0466 - accuracy: 0.3178 - val_loss: 1.8714 - val_accuracy: 0.3620\n",
            "Epoch 88/100\n",
            "110/110 [==============================] - 0s 4ms/step - loss: 2.0407 - accuracy: 0.3258 - val_loss: 1.8700 - val_accuracy: 0.3620\n",
            "Epoch 89/100\n",
            "110/110 [==============================] - 0s 4ms/step - loss: 2.0409 - accuracy: 0.3341 - val_loss: 1.8694 - val_accuracy: 0.3620\n",
            "Epoch 90/100\n",
            "110/110 [==============================] - 0s 3ms/step - loss: 2.0520 - accuracy: 0.3269 - val_loss: 1.8676 - val_accuracy: 0.3620\n",
            "Epoch 91/100\n",
            "110/110 [==============================] - 0s 4ms/step - loss: 2.0325 - accuracy: 0.3160 - val_loss: 1.8675 - val_accuracy: 0.3620\n",
            "Epoch 92/100\n",
            "110/110 [==============================] - 0s 4ms/step - loss: 2.0422 - accuracy: 0.3261 - val_loss: 1.8670 - val_accuracy: 0.3620\n",
            "Epoch 93/100\n",
            "110/110 [==============================] - 0s 4ms/step - loss: 2.0353 - accuracy: 0.3209 - val_loss: 1.8660 - val_accuracy: 0.3620\n",
            "Epoch 94/100\n",
            "110/110 [==============================] - 0s 4ms/step - loss: 2.0233 - accuracy: 0.3266 - val_loss: 1.8652 - val_accuracy: 0.3620\n",
            "Epoch 95/100\n",
            "110/110 [==============================] - 0s 4ms/step - loss: 2.0321 - accuracy: 0.3284 - val_loss: 1.8634 - val_accuracy: 0.3620\n",
            "Epoch 96/100\n",
            "110/110 [==============================] - 0s 4ms/step - loss: 2.0151 - accuracy: 0.3298 - val_loss: 1.8629 - val_accuracy: 0.3620\n",
            "Epoch 97/100\n",
            "110/110 [==============================] - 0s 4ms/step - loss: 2.0306 - accuracy: 0.3272 - val_loss: 1.8614 - val_accuracy: 0.3620\n",
            "Epoch 98/100\n",
            "110/110 [==============================] - 0s 4ms/step - loss: 2.0285 - accuracy: 0.3198 - val_loss: 1.8615 - val_accuracy: 0.3620\n",
            "Epoch 99/100\n",
            "110/110 [==============================] - 0s 4ms/step - loss: 2.0105 - accuracy: 0.3244 - val_loss: 1.8608 - val_accuracy: 0.3620\n",
            "Epoch 100/100\n",
            "110/110 [==============================] - 0s 4ms/step - loss: 2.0274 - accuracy: 0.3235 - val_loss: 1.8596 - val_accuracy: 0.3620\n",
            "8/8 [==============================] - 0s 2ms/step - loss: 1.8619 - accuracy: 0.3677\n"
          ],
          "name": "stdout"
        }
      ]
    },
    {
      "cell_type": "code",
      "metadata": {
        "id": "LFCQjdfpSHdn",
        "colab": {
          "base_uri": "https://localhost:8080/"
        },
        "outputId": "8bd2428b-8991-4bf3-c8cf-e3b229865720"
      },
      "source": [
        "# ### Resumen de los parámetros, historial, y medidas de Loss y Accuracy\n",
        "\n",
        "print('Resumen de la ejecución:\\n')\n",
        "print('Parámetros : ',history.params)\n",
        "print('Claves que se calcularon : ',history.history.keys())\n",
        "\n",
        "print('\\nTest Loss:', score_test[0])\n",
        "print('Test Accuracy: {:.2f}%'.format(100 * score_test[1]))"
      ],
      "execution_count": 47,
      "outputs": [
        {
          "output_type": "stream",
          "text": [
            "Resumen de la ejecución:\n",
            "\n",
            "Parámetros :  {'verbose': 1, 'epochs': 100, 'steps': 110}\n",
            "Claves que se calcularon :  dict_keys(['loss', 'accuracy', 'val_loss', 'val_accuracy'])\n",
            "\n",
            "Test Loss: 1.8618892431259155\n",
            "Test Accuracy: 36.77%\n"
          ],
          "name": "stdout"
        }
      ]
    },
    {
      "cell_type": "code",
      "metadata": {
        "id": "ja9SEpKySKLZ",
        "colab": {
          "base_uri": "https://localhost:8080/",
          "height": 324
        },
        "outputId": "1a8c1c47-a31c-4fd5-aca3-0f68a4ede62c"
      },
      "source": [
        "import pandas as pd\n",
        "\n",
        "pd.DataFrame(history.history).plot(figsize=(8, 5))\n",
        "plt.grid(True)\n",
        "plt.gca().set_ylim(0, 4)\n",
        "plt.savefig('grafica_train_validation_dropout.pdf', format='pdf', dpi=300)\n",
        "#save_fig(\"keras_learning_curves_plot\")\n",
        "plt.show()"
      ],
      "execution_count": 48,
      "outputs": [
        {
          "output_type": "display_data",
          "data": {
            "image/png": "[encoded data removed]",
            "text/plain": [
              "<Figure size 576x360 with 1 Axes>"
            ]
          },
          "metadata": {
            "tags": [],
            "needs_background": "light"
          }
        }
      ]
    },
    {
      "cell_type": "markdown",
      "metadata": {
        "id": "uGoCx-zZU36H"
      },
      "source": [
        "## Basados en los resultados obtenidos por los clasificadores, la base de datos no posee suficiente información valiosa para realizar el procedimiento deseado, debido a la baja correlación entre los atributos."
      ]
    }
  ]
}